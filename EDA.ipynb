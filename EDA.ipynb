{
 "cells": [
  {
   "cell_type": "code",
   "execution_count": 2531,
   "metadata": {},
   "outputs": [],
   "source": [
    "import pandas as pd\n",
    "import numpy as np\n",
    "import matplotlib.pyplot as plt\n",
    "import seaborn as sns\n",
    "import plotly.express as ex\n",
    "import plotly.graph_objects as go\n",
    "from plotly.subplots import make_subplots\n",
    "import warnings\n",
    "warnings.filterwarnings('ignore')\n"
   ]
  },
  {
   "cell_type": "code",
   "execution_count": 2532,
   "metadata": {},
   "outputs": [
    {
     "data": {
      "text/html": [
       "<div>\n",
       "<style scoped>\n",
       "    .dataframe tbody tr th:only-of-type {\n",
       "        vertical-align: middle;\n",
       "    }\n",
       "\n",
       "    .dataframe tbody tr th {\n",
       "        vertical-align: top;\n",
       "    }\n",
       "\n",
       "    .dataframe thead th {\n",
       "        text-align: right;\n",
       "    }\n",
       "</style>\n",
       "<table border=\"1\" class=\"dataframe\">\n",
       "  <thead>\n",
       "    <tr style=\"text-align: right;\">\n",
       "      <th></th>\n",
       "      <th>team</th>\n",
       "      <th>team_code</th>\n",
       "      <th>association</th>\n",
       "      <th>rank</th>\n",
       "      <th>previous_rank</th>\n",
       "      <th>points</th>\n",
       "      <th>previous_points</th>\n",
       "    </tr>\n",
       "  </thead>\n",
       "  <tbody>\n",
       "    <tr>\n",
       "      <th>0</th>\n",
       "      <td>Brazil</td>\n",
       "      <td>BRA</td>\n",
       "      <td>CONMEBOL</td>\n",
       "      <td>1</td>\n",
       "      <td>1</td>\n",
       "      <td>1841.30</td>\n",
       "      <td>1837.56</td>\n",
       "    </tr>\n",
       "    <tr>\n",
       "      <th>1</th>\n",
       "      <td>Belgium</td>\n",
       "      <td>BEL</td>\n",
       "      <td>UEFA</td>\n",
       "      <td>2</td>\n",
       "      <td>2</td>\n",
       "      <td>1816.71</td>\n",
       "      <td>1821.92</td>\n",
       "    </tr>\n",
       "    <tr>\n",
       "      <th>2</th>\n",
       "      <td>Argentina</td>\n",
       "      <td>ARG</td>\n",
       "      <td>CONMEBOL</td>\n",
       "      <td>3</td>\n",
       "      <td>3</td>\n",
       "      <td>1773.88</td>\n",
       "      <td>1770.65</td>\n",
       "    </tr>\n",
       "    <tr>\n",
       "      <th>3</th>\n",
       "      <td>France</td>\n",
       "      <td>FRA</td>\n",
       "      <td>UEFA</td>\n",
       "      <td>4</td>\n",
       "      <td>4</td>\n",
       "      <td>1759.78</td>\n",
       "      <td>1764.85</td>\n",
       "    </tr>\n",
       "    <tr>\n",
       "      <th>4</th>\n",
       "      <td>England</td>\n",
       "      <td>ENG</td>\n",
       "      <td>UEFA</td>\n",
       "      <td>5</td>\n",
       "      <td>5</td>\n",
       "      <td>1728.47</td>\n",
       "      <td>1737.46</td>\n",
       "    </tr>\n",
       "    <tr>\n",
       "      <th>...</th>\n",
       "      <td>...</td>\n",
       "      <td>...</td>\n",
       "      <td>...</td>\n",
       "      <td>...</td>\n",
       "      <td>...</td>\n",
       "      <td>...</td>\n",
       "      <td>...</td>\n",
       "    </tr>\n",
       "    <tr>\n",
       "      <th>206</th>\n",
       "      <td>Sri Lanka</td>\n",
       "      <td>SRI</td>\n",
       "      <td>AFC</td>\n",
       "      <td>207</td>\n",
       "      <td>207</td>\n",
       "      <td>825.25</td>\n",
       "      <td>825.25</td>\n",
       "    </tr>\n",
       "    <tr>\n",
       "      <th>207</th>\n",
       "      <td>US Virgin Islands</td>\n",
       "      <td>VIR</td>\n",
       "      <td>CONCACAF</td>\n",
       "      <td>208</td>\n",
       "      <td>208</td>\n",
       "      <td>823.97</td>\n",
       "      <td>823.97</td>\n",
       "    </tr>\n",
       "    <tr>\n",
       "      <th>208</th>\n",
       "      <td>British Virgin Islands</td>\n",
       "      <td>VGB</td>\n",
       "      <td>CONCACAF</td>\n",
       "      <td>209</td>\n",
       "      <td>209</td>\n",
       "      <td>809.32</td>\n",
       "      <td>809.32</td>\n",
       "    </tr>\n",
       "    <tr>\n",
       "      <th>209</th>\n",
       "      <td>Anguilla</td>\n",
       "      <td>AIA</td>\n",
       "      <td>CONCACAF</td>\n",
       "      <td>210</td>\n",
       "      <td>210</td>\n",
       "      <td>790.74</td>\n",
       "      <td>790.74</td>\n",
       "    </tr>\n",
       "    <tr>\n",
       "      <th>210</th>\n",
       "      <td>San Marino</td>\n",
       "      <td>SMR</td>\n",
       "      <td>UEFA</td>\n",
       "      <td>211</td>\n",
       "      <td>211</td>\n",
       "      <td>762.22</td>\n",
       "      <td>763.82</td>\n",
       "    </tr>\n",
       "  </tbody>\n",
       "</table>\n",
       "<p>211 rows × 7 columns</p>\n",
       "</div>"
      ],
      "text/plain": [
       "                       team team_code association  rank  previous_rank  \\\n",
       "0                    Brazil       BRA    CONMEBOL     1              1   \n",
       "1                   Belgium       BEL        UEFA     2              2   \n",
       "2                 Argentina       ARG    CONMEBOL     3              3   \n",
       "3                    France       FRA        UEFA     4              4   \n",
       "4                   England       ENG        UEFA     5              5   \n",
       "..                      ...       ...         ...   ...            ...   \n",
       "206               Sri Lanka       SRI         AFC   207            207   \n",
       "207       US Virgin Islands       VIR    CONCACAF   208            208   \n",
       "208  British Virgin Islands       VGB    CONCACAF   209            209   \n",
       "209                Anguilla       AIA    CONCACAF   210            210   \n",
       "210              San Marino       SMR        UEFA   211            211   \n",
       "\n",
       "      points  previous_points  \n",
       "0    1841.30          1837.56  \n",
       "1    1816.71          1821.92  \n",
       "2    1773.88          1770.65  \n",
       "3    1759.78          1764.85  \n",
       "4    1728.47          1737.46  \n",
       "..       ...              ...  \n",
       "206   825.25           825.25  \n",
       "207   823.97           823.97  \n",
       "208   809.32           809.32  \n",
       "209   790.74           790.74  \n",
       "210   762.22           763.82  \n",
       "\n",
       "[211 rows x 7 columns]"
      ]
     },
     "execution_count": 2532,
     "metadata": {},
     "output_type": "execute_result"
    }
   ],
   "source": [
    "fifa_ranking = pd.read_csv('fifa_ranking_2022-10-06 - fifa_ranking_2022-10-06.csv.csv')\n",
    "fifa_ranking "
   ]
  },
  {
   "cell_type": "code",
   "execution_count": 2533,
   "metadata": {},
   "outputs": [],
   "source": [
    "matches = pd.read_csv('matches_1930_2022 - matches_1930_2022.csv.csv')"
   ]
  },
  {
   "cell_type": "code",
   "execution_count": 2534,
   "metadata": {},
   "outputs": [
    {
     "data": {
      "text/html": [
       "<div>\n",
       "<style scoped>\n",
       "    .dataframe tbody tr th:only-of-type {\n",
       "        vertical-align: middle;\n",
       "    }\n",
       "\n",
       "    .dataframe tbody tr th {\n",
       "        vertical-align: top;\n",
       "    }\n",
       "\n",
       "    .dataframe thead th {\n",
       "        text-align: right;\n",
       "    }\n",
       "</style>\n",
       "<table border=\"1\" class=\"dataframe\">\n",
       "  <thead>\n",
       "    <tr style=\"text-align: right;\">\n",
       "      <th></th>\n",
       "      <th>Year</th>\n",
       "      <th>Host</th>\n",
       "      <th>Teams</th>\n",
       "      <th>Champion</th>\n",
       "      <th>Runner-Up</th>\n",
       "      <th>TopScorrer</th>\n",
       "      <th>Attendance</th>\n",
       "      <th>AttendanceAvg</th>\n",
       "      <th>Matches</th>\n",
       "    </tr>\n",
       "  </thead>\n",
       "  <tbody>\n",
       "    <tr>\n",
       "      <th>0</th>\n",
       "      <td>2022</td>\n",
       "      <td>Qatar</td>\n",
       "      <td>32</td>\n",
       "      <td>Argentina</td>\n",
       "      <td>France</td>\n",
       "      <td>Kylian Mbappé - 8</td>\n",
       "      <td>3404252</td>\n",
       "      <td>53191</td>\n",
       "      <td>64</td>\n",
       "    </tr>\n",
       "    <tr>\n",
       "      <th>1</th>\n",
       "      <td>2018</td>\n",
       "      <td>Russia</td>\n",
       "      <td>32</td>\n",
       "      <td>France</td>\n",
       "      <td>Croatia</td>\n",
       "      <td>Harry Kane - 6</td>\n",
       "      <td>3031768</td>\n",
       "      <td>47371</td>\n",
       "      <td>64</td>\n",
       "    </tr>\n",
       "    <tr>\n",
       "      <th>2</th>\n",
       "      <td>2014</td>\n",
       "      <td>Brazil</td>\n",
       "      <td>32</td>\n",
       "      <td>Germany</td>\n",
       "      <td>Argentina</td>\n",
       "      <td>James Rodríguez - 6</td>\n",
       "      <td>3429873</td>\n",
       "      <td>53592</td>\n",
       "      <td>64</td>\n",
       "    </tr>\n",
       "    <tr>\n",
       "      <th>3</th>\n",
       "      <td>2010</td>\n",
       "      <td>South Africa</td>\n",
       "      <td>32</td>\n",
       "      <td>Spain</td>\n",
       "      <td>Netherlands</td>\n",
       "      <td>Wesley Sneijder, Thomas Müller... - 5</td>\n",
       "      <td>3178856</td>\n",
       "      <td>49670</td>\n",
       "      <td>64</td>\n",
       "    </tr>\n",
       "    <tr>\n",
       "      <th>4</th>\n",
       "      <td>2006</td>\n",
       "      <td>Germany</td>\n",
       "      <td>32</td>\n",
       "      <td>Italy</td>\n",
       "      <td>France</td>\n",
       "      <td>Miroslav Klose - 5</td>\n",
       "      <td>3352605</td>\n",
       "      <td>52384</td>\n",
       "      <td>64</td>\n",
       "    </tr>\n",
       "    <tr>\n",
       "      <th>5</th>\n",
       "      <td>2002</td>\n",
       "      <td>Korea Republic, Japan</td>\n",
       "      <td>32</td>\n",
       "      <td>Brazil</td>\n",
       "      <td>Germany</td>\n",
       "      <td>Ronaldo - 8</td>\n",
       "      <td>2705337</td>\n",
       "      <td>42271</td>\n",
       "      <td>64</td>\n",
       "    </tr>\n",
       "    <tr>\n",
       "      <th>6</th>\n",
       "      <td>1998</td>\n",
       "      <td>France</td>\n",
       "      <td>32</td>\n",
       "      <td>France</td>\n",
       "      <td>Brazil</td>\n",
       "      <td>Davor Šuker - 6</td>\n",
       "      <td>2903477</td>\n",
       "      <td>45367</td>\n",
       "      <td>64</td>\n",
       "    </tr>\n",
       "    <tr>\n",
       "      <th>7</th>\n",
       "      <td>1994</td>\n",
       "      <td>United States</td>\n",
       "      <td>24</td>\n",
       "      <td>Brazil</td>\n",
       "      <td>Italy</td>\n",
       "      <td>Hristo Stoichkov, Oleg Salenko - 6</td>\n",
       "      <td>3587538</td>\n",
       "      <td>68991</td>\n",
       "      <td>52</td>\n",
       "    </tr>\n",
       "    <tr>\n",
       "      <th>8</th>\n",
       "      <td>1990</td>\n",
       "      <td>Italy</td>\n",
       "      <td>24</td>\n",
       "      <td>West Germany</td>\n",
       "      <td>Argentina</td>\n",
       "      <td>Salvatore Schillaci - 6</td>\n",
       "      <td>2516215</td>\n",
       "      <td>48389</td>\n",
       "      <td>52</td>\n",
       "    </tr>\n",
       "    <tr>\n",
       "      <th>9</th>\n",
       "      <td>1986</td>\n",
       "      <td>Mexico</td>\n",
       "      <td>24</td>\n",
       "      <td>Argentina</td>\n",
       "      <td>West Germany</td>\n",
       "      <td>Gary Lineker - 6</td>\n",
       "      <td>2394031</td>\n",
       "      <td>46039</td>\n",
       "      <td>52</td>\n",
       "    </tr>\n",
       "    <tr>\n",
       "      <th>10</th>\n",
       "      <td>1982</td>\n",
       "      <td>Spain</td>\n",
       "      <td>24</td>\n",
       "      <td>Italy</td>\n",
       "      <td>West Germany</td>\n",
       "      <td>Paolo Rossi - 6</td>\n",
       "      <td>2109723</td>\n",
       "      <td>40572</td>\n",
       "      <td>52</td>\n",
       "    </tr>\n",
       "    <tr>\n",
       "      <th>11</th>\n",
       "      <td>1978</td>\n",
       "      <td>Argentina</td>\n",
       "      <td>16</td>\n",
       "      <td>Argentina</td>\n",
       "      <td>Netherlands</td>\n",
       "      <td>Mario Kempes - 6</td>\n",
       "      <td>1545791</td>\n",
       "      <td>40679</td>\n",
       "      <td>38</td>\n",
       "    </tr>\n",
       "    <tr>\n",
       "      <th>12</th>\n",
       "      <td>1974</td>\n",
       "      <td>Germany</td>\n",
       "      <td>16</td>\n",
       "      <td>West Germany</td>\n",
       "      <td>Netherlands</td>\n",
       "      <td>Grzegorz Lato - 7</td>\n",
       "      <td>1865753</td>\n",
       "      <td>49099</td>\n",
       "      <td>38</td>\n",
       "    </tr>\n",
       "    <tr>\n",
       "      <th>13</th>\n",
       "      <td>1970</td>\n",
       "      <td>Mexico</td>\n",
       "      <td>16</td>\n",
       "      <td>Brazil</td>\n",
       "      <td>Italy</td>\n",
       "      <td>Gerd Müller - 10</td>\n",
       "      <td>1603975</td>\n",
       "      <td>50124</td>\n",
       "      <td>32</td>\n",
       "    </tr>\n",
       "    <tr>\n",
       "      <th>14</th>\n",
       "      <td>1966</td>\n",
       "      <td>England</td>\n",
       "      <td>16</td>\n",
       "      <td>England</td>\n",
       "      <td>West Germany</td>\n",
       "      <td>Eusébio - 9</td>\n",
       "      <td>1563135</td>\n",
       "      <td>48848</td>\n",
       "      <td>32</td>\n",
       "    </tr>\n",
       "    <tr>\n",
       "      <th>15</th>\n",
       "      <td>1962</td>\n",
       "      <td>Chile</td>\n",
       "      <td>16</td>\n",
       "      <td>Brazil</td>\n",
       "      <td>Czechoslovakia</td>\n",
       "      <td>Leonel Sánchez, Flórián Albert... - 4</td>\n",
       "      <td>893172</td>\n",
       "      <td>27912</td>\n",
       "      <td>32</td>\n",
       "    </tr>\n",
       "    <tr>\n",
       "      <th>16</th>\n",
       "      <td>1958</td>\n",
       "      <td>Sweden</td>\n",
       "      <td>16</td>\n",
       "      <td>Brazil</td>\n",
       "      <td>Sweden</td>\n",
       "      <td>Just Fontaine - 13</td>\n",
       "      <td>819810</td>\n",
       "      <td>23423</td>\n",
       "      <td>35</td>\n",
       "    </tr>\n",
       "    <tr>\n",
       "      <th>17</th>\n",
       "      <td>1954</td>\n",
       "      <td>Switzerland</td>\n",
       "      <td>16</td>\n",
       "      <td>Germany</td>\n",
       "      <td>Hungary</td>\n",
       "      <td>Sándor Kocsis - 11</td>\n",
       "      <td>768607</td>\n",
       "      <td>29562</td>\n",
       "      <td>26</td>\n",
       "    </tr>\n",
       "    <tr>\n",
       "      <th>18</th>\n",
       "      <td>1950</td>\n",
       "      <td>Brazil</td>\n",
       "      <td>15</td>\n",
       "      <td>Uruguay</td>\n",
       "      <td>Brazil</td>\n",
       "      <td>Ademir - 8</td>\n",
       "      <td>1045246</td>\n",
       "      <td>47511</td>\n",
       "      <td>22</td>\n",
       "    </tr>\n",
       "    <tr>\n",
       "      <th>19</th>\n",
       "      <td>1938</td>\n",
       "      <td>France</td>\n",
       "      <td>16</td>\n",
       "      <td>Italy</td>\n",
       "      <td>Hungary</td>\n",
       "      <td>Leônidas - 7</td>\n",
       "      <td>375700</td>\n",
       "      <td>20872</td>\n",
       "      <td>18</td>\n",
       "    </tr>\n",
       "    <tr>\n",
       "      <th>20</th>\n",
       "      <td>1934</td>\n",
       "      <td>Italy</td>\n",
       "      <td>16</td>\n",
       "      <td>Italy</td>\n",
       "      <td>Czechoslovakia</td>\n",
       "      <td>Oldřich Nejedlý - 5</td>\n",
       "      <td>363000</td>\n",
       "      <td>21353</td>\n",
       "      <td>17</td>\n",
       "    </tr>\n",
       "    <tr>\n",
       "      <th>21</th>\n",
       "      <td>1930</td>\n",
       "      <td>Uruguay</td>\n",
       "      <td>13</td>\n",
       "      <td>Uruguay</td>\n",
       "      <td>Argentina</td>\n",
       "      <td>Guillermo Stábile - 8</td>\n",
       "      <td>590549</td>\n",
       "      <td>32808</td>\n",
       "      <td>18</td>\n",
       "    </tr>\n",
       "  </tbody>\n",
       "</table>\n",
       "</div>"
      ],
      "text/plain": [
       "    Year                   Host  Teams      Champion       Runner-Up  \\\n",
       "0   2022                  Qatar     32     Argentina          France   \n",
       "1   2018                 Russia     32        France         Croatia   \n",
       "2   2014                 Brazil     32       Germany       Argentina   \n",
       "3   2010           South Africa     32         Spain     Netherlands   \n",
       "4   2006                Germany     32         Italy          France   \n",
       "5   2002  Korea Republic, Japan     32        Brazil         Germany   \n",
       "6   1998                 France     32        France          Brazil   \n",
       "7   1994          United States     24        Brazil           Italy   \n",
       "8   1990                  Italy     24  West Germany       Argentina   \n",
       "9   1986                 Mexico     24     Argentina    West Germany   \n",
       "10  1982                  Spain     24         Italy    West Germany   \n",
       "11  1978              Argentina     16     Argentina     Netherlands   \n",
       "12  1974                Germany     16  West Germany     Netherlands   \n",
       "13  1970                 Mexico     16        Brazil           Italy   \n",
       "14  1966                England     16       England    West Germany   \n",
       "15  1962                  Chile     16        Brazil  Czechoslovakia   \n",
       "16  1958                 Sweden     16        Brazil          Sweden   \n",
       "17  1954            Switzerland     16       Germany         Hungary   \n",
       "18  1950                 Brazil     15       Uruguay          Brazil   \n",
       "19  1938                 France     16         Italy         Hungary   \n",
       "20  1934                  Italy     16         Italy  Czechoslovakia   \n",
       "21  1930                Uruguay     13       Uruguay       Argentina   \n",
       "\n",
       "                               TopScorrer  Attendance  AttendanceAvg  Matches  \n",
       "0                       Kylian Mbappé - 8     3404252          53191       64  \n",
       "1                          Harry Kane - 6     3031768          47371       64  \n",
       "2                     James Rodríguez - 6     3429873          53592       64  \n",
       "3   Wesley Sneijder, Thomas Müller... - 5     3178856          49670       64  \n",
       "4                      Miroslav Klose - 5     3352605          52384       64  \n",
       "5                             Ronaldo - 8     2705337          42271       64  \n",
       "6                         Davor Šuker - 6     2903477          45367       64  \n",
       "7      Hristo Stoichkov, Oleg Salenko - 6     3587538          68991       52  \n",
       "8                 Salvatore Schillaci - 6     2516215          48389       52  \n",
       "9                        Gary Lineker - 6     2394031          46039       52  \n",
       "10                        Paolo Rossi - 6     2109723          40572       52  \n",
       "11                       Mario Kempes - 6     1545791          40679       38  \n",
       "12                      Grzegorz Lato - 7     1865753          49099       38  \n",
       "13                       Gerd Müller - 10     1603975          50124       32  \n",
       "14                            Eusébio - 9     1563135          48848       32  \n",
       "15  Leonel Sánchez, Flórián Albert... - 4      893172          27912       32  \n",
       "16                     Just Fontaine - 13      819810          23423       35  \n",
       "17                     Sándor Kocsis - 11      768607          29562       26  \n",
       "18                             Ademir - 8     1045246          47511       22  \n",
       "19                           Leônidas - 7      375700          20872       18  \n",
       "20                    Oldřich Nejedlý - 5      363000          21353       17  \n",
       "21                  Guillermo Stábile - 8      590549          32808       18  "
      ]
     },
     "execution_count": 2534,
     "metadata": {},
     "output_type": "execute_result"
    }
   ],
   "source": [
    "world_cup  = pd.read_csv('world_cup - world_cup.csv.csv')\n",
    "world_cup"
   ]
  },
  {
   "cell_type": "code",
   "execution_count": 2535,
   "metadata": {},
   "outputs": [
    {
     "name": "stdout",
     "output_type": "stream",
     "text": [
      "(211, 7)\n",
      "(22, 9)\n",
      "(964, 44)\n"
     ]
    }
   ],
   "source": [
    "print(fifa_ranking.shape)\n",
    "print(world_cup.shape)\n",
    "print(matches.shape)"
   ]
  },
  {
   "cell_type": "markdown",
   "metadata": {},
   "source": [
    "#    check information of these datasets"
   ]
  },
  {
   "cell_type": "code",
   "execution_count": 2536,
   "metadata": {},
   "outputs": [
    {
     "name": "stdout",
     "output_type": "stream",
     "text": [
      "<class 'pandas.core.frame.DataFrame'>\n",
      "RangeIndex: 211 entries, 0 to 210\n",
      "Data columns (total 7 columns):\n",
      " #   Column           Non-Null Count  Dtype  \n",
      "---  ------           --------------  -----  \n",
      " 0   team             211 non-null    object \n",
      " 1   team_code        211 non-null    object \n",
      " 2   association      211 non-null    object \n",
      " 3   rank             211 non-null    int64  \n",
      " 4   previous_rank    211 non-null    int64  \n",
      " 5   points           211 non-null    float64\n",
      " 6   previous_points  211 non-null    float64\n",
      "dtypes: float64(2), int64(2), object(3)\n",
      "memory usage: 11.7+ KB\n"
     ]
    }
   ],
   "source": [
    "# 1\n",
    "fifa_ranking.info()"
   ]
  },
  {
   "cell_type": "code",
   "execution_count": 2537,
   "metadata": {},
   "outputs": [
    {
     "name": "stdout",
     "output_type": "stream",
     "text": [
      "<class 'pandas.core.frame.DataFrame'>\n",
      "RangeIndex: 22 entries, 0 to 21\n",
      "Data columns (total 9 columns):\n",
      " #   Column         Non-Null Count  Dtype \n",
      "---  ------         --------------  ----- \n",
      " 0   Year           22 non-null     int64 \n",
      " 1   Host           22 non-null     object\n",
      " 2   Teams          22 non-null     int64 \n",
      " 3   Champion       22 non-null     object\n",
      " 4   Runner-Up      22 non-null     object\n",
      " 5   TopScorrer     22 non-null     object\n",
      " 6   Attendance     22 non-null     int64 \n",
      " 7   AttendanceAvg  22 non-null     int64 \n",
      " 8   Matches        22 non-null     int64 \n",
      "dtypes: int64(5), object(4)\n",
      "memory usage: 1.7+ KB\n"
     ]
    }
   ],
   "source": [
    "# 2\n",
    "world_cup.info()"
   ]
  },
  {
   "cell_type": "code",
   "execution_count": 2538,
   "metadata": {},
   "outputs": [
    {
     "name": "stdout",
     "output_type": "stream",
     "text": [
      "<class 'pandas.core.frame.DataFrame'>\n",
      "RangeIndex: 964 entries, 0 to 963\n",
      "Data columns (total 44 columns):\n",
      " #   Column                           Non-Null Count  Dtype  \n",
      "---  ------                           --------------  -----  \n",
      " 0   home_team                        964 non-null    object \n",
      " 1   away_team                        964 non-null    object \n",
      " 2   home_score                       964 non-null    int64  \n",
      " 3   home_xg                          128 non-null    float64\n",
      " 4   home_penalty                     35 non-null     float64\n",
      " 5   away_score                       964 non-null    int64  \n",
      " 6   away_xg                          128 non-null    float64\n",
      " 7   away_penalty                     35 non-null     float64\n",
      " 8   home_manager                     964 non-null    object \n",
      " 9   home_captain                     644 non-null    object \n",
      " 10  away_manager                     964 non-null    object \n",
      " 11  away_captain                     644 non-null    object \n",
      " 12  Attendance                       964 non-null    int64  \n",
      " 13  Venue                            964 non-null    object \n",
      " 14  Officials                        709 non-null    object \n",
      " 15  Round                            964 non-null    object \n",
      " 16  Date                             964 non-null    object \n",
      " 17  Score                            964 non-null    object \n",
      " 18  Referee                          709 non-null    object \n",
      " 19  Notes                            73 non-null     object \n",
      " 20  Host                             964 non-null    object \n",
      " 21  Year                             964 non-null    int64  \n",
      " 22  home_goal                        718 non-null    object \n",
      " 23  away_goal                        571 non-null    object \n",
      " 24  home_goal_long                   718 non-null    object \n",
      " 25  away_goal_long                   571 non-null    object \n",
      " 26  home_own_goal                    39 non-null     object \n",
      " 27  away_own_goal                    17 non-null     object \n",
      " 28  home_penalty_goal                116 non-null    object \n",
      " 29  away_penalty_goal                84 non-null     object \n",
      " 30  home_penalty_miss_long           6 non-null      object \n",
      " 31  away_penalty_miss_long           9 non-null      object \n",
      " 32  home_penalty_shootout_goal_long  34 non-null     object \n",
      " 33  away_penalty_shootout_goal_long  34 non-null     object \n",
      " 34  home_penalty_shootout_miss_long  24 non-null     object \n",
      " 35  away_penalty_shootout_miss_long  30 non-null     object \n",
      " 36  home_red_card                    51 non-null     object \n",
      " 37  away_red_card                    54 non-null     object \n",
      " 38  home_yellow_red_card             23 non-null     object \n",
      " 39  away_yellow_red_card             31 non-null     object \n",
      " 40  home_yellow_card_long            621 non-null    object \n",
      " 41  away_yellow_card_long            627 non-null    object \n",
      " 42  home_substitute_in_long          740 non-null    object \n",
      " 43  away_substitute_in_long          747 non-null    object \n",
      "dtypes: float64(4), int64(4), object(36)\n",
      "memory usage: 331.5+ KB\n"
     ]
    }
   ],
   "source": [
    "# 3\n",
    "matches.info()"
   ]
  },
  {
   "cell_type": "markdown",
   "metadata": {},
   "source": [
    "# check the null values\n"
   ]
  },
  {
   "cell_type": "code",
   "execution_count": 2539,
   "metadata": {},
   "outputs": [
    {
     "data": {
      "text/plain": [
       "team               0\n",
       "team_code          0\n",
       "association        0\n",
       "rank               0\n",
       "previous_rank      0\n",
       "points             0\n",
       "previous_points    0\n",
       "dtype: int64"
      ]
     },
     "execution_count": 2539,
     "metadata": {},
     "output_type": "execute_result"
    }
   ],
   "source": [
    "# 1\n",
    "fifa_ranking.isnull().sum()"
   ]
  },
  {
   "cell_type": "code",
   "execution_count": 2540,
   "metadata": {},
   "outputs": [
    {
     "data": {
      "text/plain": [
       "Year             0\n",
       "Host             0\n",
       "Teams            0\n",
       "Champion         0\n",
       "Runner-Up        0\n",
       "TopScorrer       0\n",
       "Attendance       0\n",
       "AttendanceAvg    0\n",
       "Matches          0\n",
       "dtype: int64"
      ]
     },
     "execution_count": 2540,
     "metadata": {},
     "output_type": "execute_result"
    }
   ],
   "source": [
    "# 2 \n",
    "world_cup.isnull().sum()"
   ]
  },
  {
   "cell_type": "code",
   "execution_count": 2541,
   "metadata": {},
   "outputs": [
    {
     "data": {
      "text/plain": [
       "home_team                           0.000000\n",
       "away_team                           0.000000\n",
       "home_score                          0.000000\n",
       "home_xg                            86.721992\n",
       "home_penalty                       96.369295\n",
       "away_score                          0.000000\n",
       "away_xg                            86.721992\n",
       "away_penalty                       96.369295\n",
       "home_manager                        0.000000\n",
       "home_captain                       33.195021\n",
       "away_manager                        0.000000\n",
       "away_captain                       33.195021\n",
       "Attendance                          0.000000\n",
       "Venue                               0.000000\n",
       "Officials                          26.452282\n",
       "Round                               0.000000\n",
       "Date                                0.000000\n",
       "Score                               0.000000\n",
       "Referee                            26.452282\n",
       "Notes                              92.427386\n",
       "Host                                0.000000\n",
       "Year                                0.000000\n",
       "home_goal                          25.518672\n",
       "away_goal                          40.767635\n",
       "home_goal_long                     25.518672\n",
       "away_goal_long                     40.767635\n",
       "home_own_goal                      95.954357\n",
       "away_own_goal                      98.236515\n",
       "home_penalty_goal                  87.966805\n",
       "away_penalty_goal                  91.286307\n",
       "home_penalty_miss_long             99.377593\n",
       "away_penalty_miss_long             99.066390\n",
       "home_penalty_shootout_goal_long    96.473029\n",
       "away_penalty_shootout_goal_long    96.473029\n",
       "home_penalty_shootout_miss_long    97.510373\n",
       "away_penalty_shootout_miss_long    96.887967\n",
       "home_red_card                      94.709544\n",
       "away_red_card                      94.398340\n",
       "home_yellow_red_card               97.614108\n",
       "away_yellow_red_card               96.784232\n",
       "home_yellow_card_long              35.580913\n",
       "away_yellow_card_long              34.958506\n",
       "home_substitute_in_long            23.236515\n",
       "away_substitute_in_long            22.510373\n",
       "dtype: float64"
      ]
     },
     "execution_count": 2541,
     "metadata": {},
     "output_type": "execute_result"
    }
   ],
   "source": [
    "matches.isnull().sum()/len(matches) * 100"
   ]
  },
  {
   "cell_type": "markdown",
   "metadata": {},
   "source": [
    "# As we see that in our matches cloumn have alot of missing vales , we will see later on hows we deal with  them , for next next we check the duplicates\n"
   ]
  },
  {
   "cell_type": "code",
   "execution_count": 2542,
   "metadata": {},
   "outputs": [
    {
     "data": {
      "text/plain": [
       "0"
      ]
     },
     "execution_count": 2542,
     "metadata": {},
     "output_type": "execute_result"
    }
   ],
   "source": [
    "fifa_ranking.duplicated().sum()"
   ]
  },
  {
   "cell_type": "code",
   "execution_count": 2543,
   "metadata": {},
   "outputs": [
    {
     "data": {
      "text/plain": [
       "0"
      ]
     },
     "execution_count": 2543,
     "metadata": {},
     "output_type": "execute_result"
    }
   ],
   "source": [
    "world_cup.duplicated().sum()"
   ]
  },
  {
   "cell_type": "code",
   "execution_count": 2544,
   "metadata": {},
   "outputs": [
    {
     "data": {
      "text/plain": [
       "0"
      ]
     },
     "execution_count": 2544,
     "metadata": {},
     "output_type": "execute_result"
    }
   ],
   "source": [
    "matches.duplicated().sum()"
   ]
  },
  {
   "cell_type": "markdown",
   "metadata": {},
   "source": [
    "# we see there is no duplicated values\n"
   ]
  },
  {
   "cell_type": "code",
   "execution_count": 2545,
   "metadata": {},
   "outputs": [
    {
     "data": {
      "text/plain": [
       "Index(['home_team', 'away_team', 'home_score', 'home_xg', 'home_penalty',\n",
       "       'away_score', 'away_xg', 'away_penalty', 'home_manager', 'home_captain',\n",
       "       'away_manager', 'away_captain', 'Attendance', 'Venue', 'Officials',\n",
       "       'Round', 'Date', 'Score', 'Referee', 'Notes', 'Host', 'Year',\n",
       "       'home_goal', 'away_goal', 'home_goal_long', 'away_goal_long',\n",
       "       'home_own_goal', 'away_own_goal', 'home_penalty_goal',\n",
       "       'away_penalty_goal', 'home_penalty_miss_long', 'away_penalty_miss_long',\n",
       "       'home_penalty_shootout_goal_long', 'away_penalty_shootout_goal_long',\n",
       "       'home_penalty_shootout_miss_long', 'away_penalty_shootout_miss_long',\n",
       "       'home_red_card', 'away_red_card', 'home_yellow_red_card',\n",
       "       'away_yellow_red_card', 'home_yellow_card_long',\n",
       "       'away_yellow_card_long', 'home_substitute_in_long',\n",
       "       'away_substitute_in_long'],\n",
       "      dtype='object')"
      ]
     },
     "execution_count": 2545,
     "metadata": {},
     "output_type": "execute_result"
    }
   ],
   "source": [
    "matches.columns"
   ]
  },
  {
   "cell_type": "code",
   "execution_count": 2546,
   "metadata": {},
   "outputs": [
    {
     "data": {
      "text/html": [
       "<div>\n",
       "<style scoped>\n",
       "    .dataframe tbody tr th:only-of-type {\n",
       "        vertical-align: middle;\n",
       "    }\n",
       "\n",
       "    .dataframe tbody tr th {\n",
       "        vertical-align: top;\n",
       "    }\n",
       "\n",
       "    .dataframe thead th {\n",
       "        text-align: right;\n",
       "    }\n",
       "</style>\n",
       "<table border=\"1\" class=\"dataframe\">\n",
       "  <thead>\n",
       "    <tr style=\"text-align: right;\">\n",
       "      <th></th>\n",
       "      <th>home_team</th>\n",
       "      <th>away_team</th>\n",
       "      <th>home_score</th>\n",
       "      <th>home_xg</th>\n",
       "      <th>home_penalty</th>\n",
       "      <th>away_score</th>\n",
       "      <th>away_xg</th>\n",
       "      <th>away_penalty</th>\n",
       "      <th>home_manager</th>\n",
       "      <th>home_captain</th>\n",
       "      <th>...</th>\n",
       "      <th>home_penalty_shootout_miss_long</th>\n",
       "      <th>away_penalty_shootout_miss_long</th>\n",
       "      <th>home_red_card</th>\n",
       "      <th>away_red_card</th>\n",
       "      <th>home_yellow_red_card</th>\n",
       "      <th>away_yellow_red_card</th>\n",
       "      <th>home_yellow_card_long</th>\n",
       "      <th>away_yellow_card_long</th>\n",
       "      <th>home_substitute_in_long</th>\n",
       "      <th>away_substitute_in_long</th>\n",
       "    </tr>\n",
       "  </thead>\n",
       "  <tbody>\n",
       "    <tr>\n",
       "      <th>500</th>\n",
       "      <td>West Germany</td>\n",
       "      <td>Argentina</td>\n",
       "      <td>1</td>\n",
       "      <td>NaN</td>\n",
       "      <td>NaN</td>\n",
       "      <td>0</td>\n",
       "      <td>NaN</td>\n",
       "      <td>NaN</td>\n",
       "      <td>Franz Beckenbauer</td>\n",
       "      <td>Lothar Matthäus</td>\n",
       "      <td>...</td>\n",
       "      <td>NaN</td>\n",
       "      <td>NaN</td>\n",
       "      <td>NaN</td>\n",
       "      <td>Pedro Monzón · 65|Gustavo Dezotti · 87</td>\n",
       "      <td>NaN</td>\n",
       "      <td>NaN</td>\n",
       "      <td>['52&amp;rsquor;|0:0|Rudi Völler']</td>\n",
       "      <td>['5&amp;rsquor;|0:0|Gustavo Dezotti', '84&amp;rsquor;|...</td>\n",
       "      <td>['73&amp;rsquor;|0:0|Stefan Reuter|for Thomas Bert...</td>\n",
       "      <td>['46&amp;rsquor;|0:0|Pedro Monzón|for Oscar Rugger...</td>\n",
       "    </tr>\n",
       "    <tr>\n",
       "      <th>502</th>\n",
       "      <td>West Germany</td>\n",
       "      <td>England</td>\n",
       "      <td>1</td>\n",
       "      <td>NaN</td>\n",
       "      <td>4.0</td>\n",
       "      <td>1</td>\n",
       "      <td>NaN</td>\n",
       "      <td>3.0</td>\n",
       "      <td>Franz Beckenbauer</td>\n",
       "      <td>Lothar Matthäus</td>\n",
       "      <td>...</td>\n",
       "      <td>NaN</td>\n",
       "      <td>['7|3:3|Stuart Pearce', '9|4:3|Chris Waddle']</td>\n",
       "      <td>NaN</td>\n",
       "      <td>NaN</td>\n",
       "      <td>NaN</td>\n",
       "      <td>NaN</td>\n",
       "      <td>['110&amp;rsquor;|1:1|Andreas Brehme']</td>\n",
       "      <td>['65&amp;rsquor;|1:0|Paul Parker', '98&amp;rsquor;|1:1...</td>\n",
       "      <td>['38&amp;rsquor;|0:0|Karl-Heinz Riedle|for Rudi Vö...</td>\n",
       "      <td>['70&amp;rsquor;|1:0|Trevor Steven|for Terry Butch...</td>\n",
       "    </tr>\n",
       "    <tr>\n",
       "      <th>504</th>\n",
       "      <td>West Germany</td>\n",
       "      <td>Czechoslovakia</td>\n",
       "      <td>1</td>\n",
       "      <td>NaN</td>\n",
       "      <td>NaN</td>\n",
       "      <td>0</td>\n",
       "      <td>NaN</td>\n",
       "      <td>NaN</td>\n",
       "      <td>Franz Beckenbauer</td>\n",
       "      <td>Lothar Matthäus</td>\n",
       "      <td>...</td>\n",
       "      <td>NaN</td>\n",
       "      <td>NaN</td>\n",
       "      <td>NaN</td>\n",
       "      <td>Ľubomír Moravčík · 70</td>\n",
       "      <td>NaN</td>\n",
       "      <td>NaN</td>\n",
       "      <td>['28&amp;rsquor;|1:0|Jürgen Klinsmann']</td>\n",
       "      <td>['11&amp;rsquor;|0:0|Ľubomír Moravčík', '14&amp;rsquor...</td>\n",
       "      <td>['82&amp;rsquor;|1:0|Andreas Möller|for Uwe Bein']</td>\n",
       "      <td>['67&amp;rsquor;|1:0|Václav Němeček|for Michal Bíl...</td>\n",
       "    </tr>\n",
       "    <tr>\n",
       "      <th>513</th>\n",
       "      <td>West Germany</td>\n",
       "      <td>Netherlands</td>\n",
       "      <td>2</td>\n",
       "      <td>NaN</td>\n",
       "      <td>NaN</td>\n",
       "      <td>1</td>\n",
       "      <td>NaN</td>\n",
       "      <td>NaN</td>\n",
       "      <td>Franz Beckenbauer</td>\n",
       "      <td>Lothar Matthäus</td>\n",
       "      <td>...</td>\n",
       "      <td>NaN</td>\n",
       "      <td>NaN</td>\n",
       "      <td>Rudi Völler · 22</td>\n",
       "      <td>Frank Rijkaard · 22</td>\n",
       "      <td>NaN</td>\n",
       "      <td>NaN</td>\n",
       "      <td>['21&amp;rsquor;|0:0|Rudi Völler', '77&amp;rsquor;|1:0...</td>\n",
       "      <td>['20&amp;rsquor;|0:0|Frank Rijkaard', '32&amp;rsquor;|...</td>\n",
       "      <td>['77&amp;rsquor;|1:0|Karl-Heinz Riedle|for Jürgen ...</td>\n",
       "      <td>['66&amp;rsquor;|1:0|Wim Kieft|for Berry van Aerle...</td>\n",
       "    </tr>\n",
       "    <tr>\n",
       "      <th>522</th>\n",
       "      <td>West Germany</td>\n",
       "      <td>Colombia</td>\n",
       "      <td>1</td>\n",
       "      <td>NaN</td>\n",
       "      <td>NaN</td>\n",
       "      <td>1</td>\n",
       "      <td>NaN</td>\n",
       "      <td>NaN</td>\n",
       "      <td>Franz Beckenbauer</td>\n",
       "      <td>Lothar Matthäus</td>\n",
       "      <td>...</td>\n",
       "      <td>NaN</td>\n",
       "      <td>NaN</td>\n",
       "      <td>NaN</td>\n",
       "      <td>NaN</td>\n",
       "      <td>NaN</td>\n",
       "      <td>NaN</td>\n",
       "      <td>['63&amp;rsquor;|0:0|Thomas Berthold']</td>\n",
       "      <td>['15&amp;rsquor;|0:0|Luis Fernando Herrera', '30&amp;r...</td>\n",
       "      <td>['46&amp;rsquor;|0:0|Pierre Littbarski|for Uwe Bei...</td>\n",
       "      <td>NaN</td>\n",
       "    </tr>\n",
       "    <tr>\n",
       "      <th>535</th>\n",
       "      <td>West Germany</td>\n",
       "      <td>United Arab Emirates</td>\n",
       "      <td>5</td>\n",
       "      <td>NaN</td>\n",
       "      <td>NaN</td>\n",
       "      <td>1</td>\n",
       "      <td>NaN</td>\n",
       "      <td>NaN</td>\n",
       "      <td>Franz Beckenbauer</td>\n",
       "      <td>Lothar Matthäus</td>\n",
       "      <td>...</td>\n",
       "      <td>NaN</td>\n",
       "      <td>NaN</td>\n",
       "      <td>NaN</td>\n",
       "      <td>NaN</td>\n",
       "      <td>NaN</td>\n",
       "      <td>NaN</td>\n",
       "      <td>['30&amp;rsquor;|0:0|Andreas Brehme']</td>\n",
       "      <td>['26&amp;rsquor;|0:0|Yousuf Hussain', '30&amp;rsquor;|...</td>\n",
       "      <td>['46&amp;rsquor;|2:1|Pierre Littbarski|for Thomas ...</td>\n",
       "      <td>['82&amp;rsquor;|5:1|Hassan Mohamed|for Khalid Ism...</td>\n",
       "    </tr>\n",
       "    <tr>\n",
       "      <th>546</th>\n",
       "      <td>West Germany</td>\n",
       "      <td>Yugoslavia</td>\n",
       "      <td>4</td>\n",
       "      <td>NaN</td>\n",
       "      <td>NaN</td>\n",
       "      <td>1</td>\n",
       "      <td>NaN</td>\n",
       "      <td>NaN</td>\n",
       "      <td>Franz Beckenbauer</td>\n",
       "      <td>Lothar Matthäus</td>\n",
       "      <td>...</td>\n",
       "      <td>NaN</td>\n",
       "      <td>NaN</td>\n",
       "      <td>NaN</td>\n",
       "      <td>NaN</td>\n",
       "      <td>NaN</td>\n",
       "      <td>NaN</td>\n",
       "      <td>['6&amp;rsquor;|0:0|Andreas Brehme']</td>\n",
       "      <td>NaN</td>\n",
       "      <td>['75&amp;rsquor;|4:1|Pierre Littbarski|for Uwe Bei...</td>\n",
       "      <td>['55&amp;rsquor;|2:1|Dragoljub Brnović|for Dejan S...</td>\n",
       "    </tr>\n",
       "    <tr>\n",
       "      <th>559</th>\n",
       "      <td>West Germany</td>\n",
       "      <td>Mexico</td>\n",
       "      <td>0</td>\n",
       "      <td>NaN</td>\n",
       "      <td>4.0</td>\n",
       "      <td>0</td>\n",
       "      <td>NaN</td>\n",
       "      <td>1.0</td>\n",
       "      <td>Franz Beckenbauer</td>\n",
       "      <td>Karl-Heinz Rummenigge</td>\n",
       "      <td>...</td>\n",
       "      <td>NaN</td>\n",
       "      <td>['4|2:1|Fernando Quirarte', '6|3:1|Raúl Servín']</td>\n",
       "      <td>Thomas Berthold · 65</td>\n",
       "      <td>Javier Aguirre · 100</td>\n",
       "      <td>NaN</td>\n",
       "      <td>NaN</td>\n",
       "      <td>['27&amp;rsquor;|0:0|Klaus Allofs', '56&amp;rsquor;|0:...</td>\n",
       "      <td>['20&amp;rsquor;|0:0|Javier Aguirre', '27&amp;rsquor;|...</td>\n",
       "      <td>['58&amp;rsquor;|0:0|Dieter Hoeneß|for Karl-Heinz ...</td>\n",
       "      <td>['32&amp;rsquor;|0:0|Carlos de los Cobos|for Tomás...</td>\n",
       "    </tr>\n",
       "    <tr>\n",
       "      <th>580</th>\n",
       "      <td>West Germany</td>\n",
       "      <td>Scotland</td>\n",
       "      <td>2</td>\n",
       "      <td>NaN</td>\n",
       "      <td>NaN</td>\n",
       "      <td>1</td>\n",
       "      <td>NaN</td>\n",
       "      <td>NaN</td>\n",
       "      <td>Franz Beckenbauer</td>\n",
       "      <td>Harald Schumacher</td>\n",
       "      <td>...</td>\n",
       "      <td>NaN</td>\n",
       "      <td>NaN</td>\n",
       "      <td>NaN</td>\n",
       "      <td>NaN</td>\n",
       "      <td>NaN</td>\n",
       "      <td>NaN</td>\n",
       "      <td>NaN</td>\n",
       "      <td>['30&amp;rsquor;|1:1|Steve Archibald', '44&amp;rsquor;...</td>\n",
       "      <td>['63&amp;rsquor;|2:1|Ditmar Jakobs|for Hans-Peter ...</td>\n",
       "      <td>['60&amp;rsquor;|2:1|Frank McAvennie|for Steve Nic...</td>\n",
       "    </tr>\n",
       "    <tr>\n",
       "      <th>607</th>\n",
       "      <td>West Germany</td>\n",
       "      <td>France</td>\n",
       "      <td>3</td>\n",
       "      <td>NaN</td>\n",
       "      <td>5.0</td>\n",
       "      <td>3</td>\n",
       "      <td>NaN</td>\n",
       "      <td>4.0</td>\n",
       "      <td>Jupp Derwall</td>\n",
       "      <td>Manfred Kaltz</td>\n",
       "      <td>...</td>\n",
       "      <td>['6|2:3|Uli Stielike']</td>\n",
       "      <td>['7|2:3|Didier Six', '11|4:4|Maxime Bossis']</td>\n",
       "      <td>NaN</td>\n",
       "      <td>NaN</td>\n",
       "      <td>NaN</td>\n",
       "      <td>NaN</td>\n",
       "      <td>['46&amp;rsquor;|1:1|Bernd Förster']</td>\n",
       "      <td>['35&amp;rsquor;|1:1|Alain Giresse', '40&amp;rsquor;|1...</td>\n",
       "      <td>['73&amp;rsquor;|1:1|Horst Hrubesch|for Felix Maga...</td>\n",
       "      <td>['50&amp;rsquor;|1:1|Patrick Battiston|for Bernard...</td>\n",
       "    </tr>\n",
       "    <tr>\n",
       "      <th>613</th>\n",
       "      <td>West Germany</td>\n",
       "      <td>Spain</td>\n",
       "      <td>2</td>\n",
       "      <td>NaN</td>\n",
       "      <td>NaN</td>\n",
       "      <td>1</td>\n",
       "      <td>NaN</td>\n",
       "      <td>NaN</td>\n",
       "      <td>Jupp Derwall</td>\n",
       "      <td>Karl-Heinz Rummenigge</td>\n",
       "      <td>...</td>\n",
       "      <td>NaN</td>\n",
       "      <td>NaN</td>\n",
       "      <td>NaN</td>\n",
       "      <td>NaN</td>\n",
       "      <td>NaN</td>\n",
       "      <td>NaN</td>\n",
       "      <td>['1&amp;rsquor;|0:0|Klaus Fischer', '84&amp;rsquor;|2:...</td>\n",
       "      <td>['9&amp;rsquor;|0:0|José Ramón Alexanko', '83&amp;rsqu...</td>\n",
       "      <td>['46&amp;rsquor;|0:0|Uwe Reinders|for Karl-Heinz R...</td>\n",
       "      <td>['46&amp;rsquor;|0:0|Roberto López Ufarte|for Juan...</td>\n",
       "    </tr>\n",
       "    <tr>\n",
       "      <th>617</th>\n",
       "      <td>West Germany</td>\n",
       "      <td>England</td>\n",
       "      <td>0</td>\n",
       "      <td>NaN</td>\n",
       "      <td>NaN</td>\n",
       "      <td>0</td>\n",
       "      <td>NaN</td>\n",
       "      <td>NaN</td>\n",
       "      <td>Jupp Derwall</td>\n",
       "      <td>Karl-Heinz Rummenigge</td>\n",
       "      <td>...</td>\n",
       "      <td>NaN</td>\n",
       "      <td>NaN</td>\n",
       "      <td>NaN</td>\n",
       "      <td>NaN</td>\n",
       "      <td>NaN</td>\n",
       "      <td>NaN</td>\n",
       "      <td>['68&amp;rsquor;|0:0|Uli Stielike']</td>\n",
       "      <td>NaN</td>\n",
       "      <td>['63&amp;rsquor;|0:0|Pierre Littbarski|for Uwe Rei...</td>\n",
       "      <td>['77&amp;rsquor;|0:0|Tony Woodcock|for Trevor Fran...</td>\n",
       "    </tr>\n",
       "    <tr>\n",
       "      <th>621</th>\n",
       "      <td>West Germany</td>\n",
       "      <td>Austria</td>\n",
       "      <td>1</td>\n",
       "      <td>NaN</td>\n",
       "      <td>NaN</td>\n",
       "      <td>0</td>\n",
       "      <td>NaN</td>\n",
       "      <td>NaN</td>\n",
       "      <td>Jupp Derwall</td>\n",
       "      <td>Karl-Heinz Rummenigge</td>\n",
       "      <td>...</td>\n",
       "      <td>NaN</td>\n",
       "      <td>NaN</td>\n",
       "      <td>NaN</td>\n",
       "      <td>NaN</td>\n",
       "      <td>NaN</td>\n",
       "      <td>NaN</td>\n",
       "      <td>NaN</td>\n",
       "      <td>['32&amp;rsquor;|1:0|Walter Schachner', '32&amp;rsquor...</td>\n",
       "      <td>['66&amp;rsquor;|1:0|Lothar Matthäus|for Karl-Hein...</td>\n",
       "      <td>NaN</td>\n",
       "    </tr>\n",
       "    <tr>\n",
       "      <th>635</th>\n",
       "      <td>West Germany</td>\n",
       "      <td>Chile</td>\n",
       "      <td>4</td>\n",
       "      <td>NaN</td>\n",
       "      <td>NaN</td>\n",
       "      <td>1</td>\n",
       "      <td>NaN</td>\n",
       "      <td>NaN</td>\n",
       "      <td>Jupp Derwall</td>\n",
       "      <td>Karl-Heinz Rummenigge</td>\n",
       "      <td>...</td>\n",
       "      <td>NaN</td>\n",
       "      <td>NaN</td>\n",
       "      <td>NaN</td>\n",
       "      <td>NaN</td>\n",
       "      <td>NaN</td>\n",
       "      <td>NaN</td>\n",
       "      <td>NaN</td>\n",
       "      <td>['11&amp;rsquor;|1:0|Rodolfo Dubó', '29&amp;rsquor;|1:...</td>\n",
       "      <td>['61&amp;rsquor;|2:0|Lothar Matthäus|for Paul Brei...</td>\n",
       "      <td>['46&amp;rsquor;|1:0|Juan Carlos Letelier|for Mari...</td>\n",
       "    </tr>\n",
       "    <tr>\n",
       "      <th>648</th>\n",
       "      <td>West Germany</td>\n",
       "      <td>Algeria</td>\n",
       "      <td>1</td>\n",
       "      <td>NaN</td>\n",
       "      <td>NaN</td>\n",
       "      <td>2</td>\n",
       "      <td>NaN</td>\n",
       "      <td>NaN</td>\n",
       "      <td>Jupp Derwall</td>\n",
       "      <td>Karl-Heinz Rummenigge</td>\n",
       "      <td>...</td>\n",
       "      <td>NaN</td>\n",
       "      <td>NaN</td>\n",
       "      <td>NaN</td>\n",
       "      <td>NaN</td>\n",
       "      <td>NaN</td>\n",
       "      <td>NaN</td>\n",
       "      <td>['57&amp;rsquor;|0:1|Horst Hrubesch']</td>\n",
       "      <td>['83&amp;rsquor;|1:2|Rabah Madjer']</td>\n",
       "      <td>['83&amp;rsquor;|1:2|Klaus Fischer|for Felix Magath']</td>\n",
       "      <td>['64&amp;rsquor;|0:1|Tedj Bensaoula|for Djamel Zid...</td>\n",
       "    </tr>\n",
       "    <tr>\n",
       "      <th>663</th>\n",
       "      <td>West Germany</td>\n",
       "      <td>Netherlands</td>\n",
       "      <td>2</td>\n",
       "      <td>NaN</td>\n",
       "      <td>NaN</td>\n",
       "      <td>2</td>\n",
       "      <td>NaN</td>\n",
       "      <td>NaN</td>\n",
       "      <td>Helmut Schoen</td>\n",
       "      <td>Berti Vogts</td>\n",
       "      <td>...</td>\n",
       "      <td>NaN</td>\n",
       "      <td>NaN</td>\n",
       "      <td>NaN</td>\n",
       "      <td>Dick Nanninga · 88</td>\n",
       "      <td>NaN</td>\n",
       "      <td>NaN</td>\n",
       "      <td>['1&amp;rsquor;|0:0|Sepp Maier']</td>\n",
       "      <td>['1&amp;rsquor;|0:0|Dick Nanninga', '6&amp;rsquor;|1:0...</td>\n",
       "      <td>NaN</td>\n",
       "      <td>['79&amp;rsquor;|2:1|Dick Nanninga|for Piet Wildsc...</td>\n",
       "    </tr>\n",
       "    <tr>\n",
       "      <th>667</th>\n",
       "      <td>West Germany</td>\n",
       "      <td>Italy</td>\n",
       "      <td>0</td>\n",
       "      <td>NaN</td>\n",
       "      <td>NaN</td>\n",
       "      <td>0</td>\n",
       "      <td>NaN</td>\n",
       "      <td>NaN</td>\n",
       "      <td>Helmut Schoen</td>\n",
       "      <td>Berti Vogts</td>\n",
       "      <td>...</td>\n",
       "      <td>NaN</td>\n",
       "      <td>NaN</td>\n",
       "      <td>NaN</td>\n",
       "      <td>NaN</td>\n",
       "      <td>NaN</td>\n",
       "      <td>NaN</td>\n",
       "      <td>NaN</td>\n",
       "      <td>NaN</td>\n",
       "      <td>['53&amp;rsquor;|0:0|Harald Konopka|for Herbert Zi...</td>\n",
       "      <td>['46&amp;rsquor;|0:0|Renato Zaccarelli|for Giancar...</td>\n",
       "    </tr>\n",
       "    <tr>\n",
       "      <th>676</th>\n",
       "      <td>West Germany</td>\n",
       "      <td>Tunisia</td>\n",
       "      <td>0</td>\n",
       "      <td>NaN</td>\n",
       "      <td>NaN</td>\n",
       "      <td>0</td>\n",
       "      <td>NaN</td>\n",
       "      <td>NaN</td>\n",
       "      <td>Helmut Schoen</td>\n",
       "      <td>Berti Vogts</td>\n",
       "      <td>...</td>\n",
       "      <td>NaN</td>\n",
       "      <td>NaN</td>\n",
       "      <td>NaN</td>\n",
       "      <td>NaN</td>\n",
       "      <td>NaN</td>\n",
       "      <td>NaN</td>\n",
       "      <td>['1&amp;rsquor;|0:0|Hansi Müller']</td>\n",
       "      <td>['1&amp;rsquor;|0:0|Tarak Dhiab']</td>\n",
       "      <td>NaN</td>\n",
       "      <td>['82&amp;rsquor;|0:0|Abderraouf Ben Aziza|for Moha...</td>\n",
       "    </tr>\n",
       "    <tr>\n",
       "      <th>683</th>\n",
       "      <td>West Germany</td>\n",
       "      <td>Mexico</td>\n",
       "      <td>6</td>\n",
       "      <td>NaN</td>\n",
       "      <td>NaN</td>\n",
       "      <td>0</td>\n",
       "      <td>NaN</td>\n",
       "      <td>NaN</td>\n",
       "      <td>Helmut Schoen</td>\n",
       "      <td>Berti Vogts</td>\n",
       "      <td>...</td>\n",
       "      <td>NaN</td>\n",
       "      <td>NaN</td>\n",
       "      <td>NaN</td>\n",
       "      <td>NaN</td>\n",
       "      <td>NaN</td>\n",
       "      <td>NaN</td>\n",
       "      <td>['1&amp;rsquor;|0:0|Rainer Bonhof']</td>\n",
       "      <td>['1&amp;rsquor;|0:0|Arturo Vázquez Ayala']</td>\n",
       "      <td>NaN</td>\n",
       "      <td>['39&amp;rsquor;|3:0|Pedro Soto|for José Pilar Rey...</td>\n",
       "    </tr>\n",
       "    <tr>\n",
       "      <th>693</th>\n",
       "      <td>West Germany</td>\n",
       "      <td>Poland</td>\n",
       "      <td>0</td>\n",
       "      <td>NaN</td>\n",
       "      <td>NaN</td>\n",
       "      <td>0</td>\n",
       "      <td>NaN</td>\n",
       "      <td>NaN</td>\n",
       "      <td>Helmut Schoen</td>\n",
       "      <td>Berti Vogts</td>\n",
       "      <td>...</td>\n",
       "      <td>NaN</td>\n",
       "      <td>NaN</td>\n",
       "      <td>NaN</td>\n",
       "      <td>NaN</td>\n",
       "      <td>NaN</td>\n",
       "      <td>NaN</td>\n",
       "      <td>NaN</td>\n",
       "      <td>NaN</td>\n",
       "      <td>NaN</td>\n",
       "      <td>['79&amp;rsquor;|0:0|Zbigniew Boniek|for Włodzimie...</td>\n",
       "    </tr>\n",
       "    <tr>\n",
       "      <th>703</th>\n",
       "      <td>West Germany</td>\n",
       "      <td>Sweden</td>\n",
       "      <td>4</td>\n",
       "      <td>NaN</td>\n",
       "      <td>NaN</td>\n",
       "      <td>2</td>\n",
       "      <td>NaN</td>\n",
       "      <td>NaN</td>\n",
       "      <td>Helmut Schoen</td>\n",
       "      <td>Franz Beckenbauer</td>\n",
       "      <td>...</td>\n",
       "      <td>NaN</td>\n",
       "      <td>NaN</td>\n",
       "      <td>NaN</td>\n",
       "      <td>NaN</td>\n",
       "      <td>NaN</td>\n",
       "      <td>NaN</td>\n",
       "      <td>NaN</td>\n",
       "      <td>['1&amp;rsquor;|0:0|Ove Grahn']</td>\n",
       "      <td>['64&amp;rsquor;|2:2|Jürgen Grabowski|for Dieter H...</td>\n",
       "      <td>['32&amp;rsquor;|0:1|Inge Ejderstedt|for Bo Larsson']</td>\n",
       "    </tr>\n",
       "    <tr>\n",
       "      <th>728</th>\n",
       "      <td>West Germany</td>\n",
       "      <td>Chile</td>\n",
       "      <td>1</td>\n",
       "      <td>NaN</td>\n",
       "      <td>NaN</td>\n",
       "      <td>0</td>\n",
       "      <td>NaN</td>\n",
       "      <td>NaN</td>\n",
       "      <td>Helmut Schoen</td>\n",
       "      <td>Franz Beckenbauer</td>\n",
       "      <td>...</td>\n",
       "      <td>NaN</td>\n",
       "      <td>NaN</td>\n",
       "      <td>NaN</td>\n",
       "      <td>Carlos Caszely · 67</td>\n",
       "      <td>NaN</td>\n",
       "      <td>NaN</td>\n",
       "      <td>NaN</td>\n",
       "      <td>['1&amp;rsquor;|0:0|Rolando García', '1&amp;rsquor;|0:...</td>\n",
       "      <td>['75&amp;rsquor;|1:0|Bernd Hölzenbein|for Wolfgang...</td>\n",
       "      <td>['76&amp;rsquor;|1:0|Leonardo Véliz|for Francisco ...</td>\n",
       "    </tr>\n",
       "    <tr>\n",
       "      <th>733</th>\n",
       "      <td>West Germany</td>\n",
       "      <td>Uruguay</td>\n",
       "      <td>1</td>\n",
       "      <td>NaN</td>\n",
       "      <td>NaN</td>\n",
       "      <td>0</td>\n",
       "      <td>NaN</td>\n",
       "      <td>NaN</td>\n",
       "      <td>Helmut Schoen</td>\n",
       "      <td>Uwe Seeler</td>\n",
       "      <td>...</td>\n",
       "      <td>NaN</td>\n",
       "      <td>NaN</td>\n",
       "      <td>NaN</td>\n",
       "      <td>NaN</td>\n",
       "      <td>NaN</td>\n",
       "      <td>NaN</td>\n",
       "      <td>['1&amp;rsquor;|0:0|Max Lorenz', '1&amp;rsquor;|0:0|Ha...</td>\n",
       "      <td>['1&amp;rsquor;|0:0|Dagoberto Fontes', '1&amp;rsquor;|...</td>\n",
       "      <td>['46&amp;rsquor;|1:0|Max Lorenz', '73&amp;rsquor;|1:0|...</td>\n",
       "      <td>['46&amp;rsquor;|1:0|Víctor Espárrago|for Dagobert...</td>\n",
       "    </tr>\n",
       "    <tr>\n",
       "      <th>739</th>\n",
       "      <td>West Germany</td>\n",
       "      <td>England</td>\n",
       "      <td>3</td>\n",
       "      <td>NaN</td>\n",
       "      <td>NaN</td>\n",
       "      <td>2</td>\n",
       "      <td>NaN</td>\n",
       "      <td>NaN</td>\n",
       "      <td>Helmut Schoen</td>\n",
       "      <td>Uwe Seeler</td>\n",
       "      <td>...</td>\n",
       "      <td>NaN</td>\n",
       "      <td>NaN</td>\n",
       "      <td>NaN</td>\n",
       "      <td>NaN</td>\n",
       "      <td>NaN</td>\n",
       "      <td>NaN</td>\n",
       "      <td>['1&amp;rsquor;|0:0|Gerd Müller']</td>\n",
       "      <td>['1&amp;rsquor;|0:0|Francis Lee']</td>\n",
       "      <td>['45&amp;rsquor;|0:1|Willi Schulz|for Horst-Dieter...</td>\n",
       "      <td>['70&amp;rsquor;|1:2|Colin Bell|for Bobby Charlton...</td>\n",
       "    </tr>\n",
       "    <tr>\n",
       "      <th>744</th>\n",
       "      <td>West Germany</td>\n",
       "      <td>Peru</td>\n",
       "      <td>3</td>\n",
       "      <td>NaN</td>\n",
       "      <td>NaN</td>\n",
       "      <td>1</td>\n",
       "      <td>NaN</td>\n",
       "      <td>NaN</td>\n",
       "      <td>Helmut Schoen</td>\n",
       "      <td>Uwe Seeler</td>\n",
       "      <td>...</td>\n",
       "      <td>NaN</td>\n",
       "      <td>NaN</td>\n",
       "      <td>NaN</td>\n",
       "      <td>NaN</td>\n",
       "      <td>NaN</td>\n",
       "      <td>NaN</td>\n",
       "      <td>NaN</td>\n",
       "      <td>NaN</td>\n",
       "      <td>['46&amp;rsquor;|3:1|Bernd Patzke|for Horst-Dieter...</td>\n",
       "      <td>['56&amp;rsquor;|3:1|Oswaldo Ramírez|for Pedro Pab...</td>\n",
       "    </tr>\n",
       "    <tr>\n",
       "      <th>750</th>\n",
       "      <td>West Germany</td>\n",
       "      <td>Bulgaria</td>\n",
       "      <td>5</td>\n",
       "      <td>NaN</td>\n",
       "      <td>NaN</td>\n",
       "      <td>2</td>\n",
       "      <td>NaN</td>\n",
       "      <td>NaN</td>\n",
       "      <td>Helmut Schoen</td>\n",
       "      <td>Uwe Seeler</td>\n",
       "      <td>...</td>\n",
       "      <td>NaN</td>\n",
       "      <td>NaN</td>\n",
       "      <td>NaN</td>\n",
       "      <td>NaN</td>\n",
       "      <td>NaN</td>\n",
       "      <td>NaN</td>\n",
       "      <td>NaN</td>\n",
       "      <td>NaN</td>\n",
       "      <td>['58&amp;rsquor;|3:1|Jürgen Grabowski', '72&amp;rsquor...</td>\n",
       "      <td>['46&amp;rsquor;|2:1|Vasil Mitkov|for Dinko Dermen...</td>\n",
       "    </tr>\n",
       "    <tr>\n",
       "      <th>759</th>\n",
       "      <td>West Germany</td>\n",
       "      <td>Morocco</td>\n",
       "      <td>2</td>\n",
       "      <td>NaN</td>\n",
       "      <td>NaN</td>\n",
       "      <td>1</td>\n",
       "      <td>NaN</td>\n",
       "      <td>NaN</td>\n",
       "      <td>Helmut Schoen</td>\n",
       "      <td>Uwe Seeler</td>\n",
       "      <td>...</td>\n",
       "      <td>NaN</td>\n",
       "      <td>NaN</td>\n",
       "      <td>NaN</td>\n",
       "      <td>NaN</td>\n",
       "      <td>NaN</td>\n",
       "      <td>NaN</td>\n",
       "      <td>NaN</td>\n",
       "      <td>NaN</td>\n",
       "      <td>['45&amp;rsquor;|0:1|Jürgen Grabowski|for Helmut H...</td>\n",
       "      <td>['56&amp;rsquor;|1:1|Abdelkader El Khiati|for Maou...</td>\n",
       "    </tr>\n",
       "    <tr>\n",
       "      <th>767</th>\n",
       "      <td>West Germany</td>\n",
       "      <td>Soviet Union</td>\n",
       "      <td>2</td>\n",
       "      <td>NaN</td>\n",
       "      <td>NaN</td>\n",
       "      <td>1</td>\n",
       "      <td>NaN</td>\n",
       "      <td>NaN</td>\n",
       "      <td>Helmut Schoen</td>\n",
       "      <td>Uwe Seeler</td>\n",
       "      <td>...</td>\n",
       "      <td>NaN</td>\n",
       "      <td>NaN</td>\n",
       "      <td>NaN</td>\n",
       "      <td>Igor Chislenko · 44</td>\n",
       "      <td>NaN</td>\n",
       "      <td>NaN</td>\n",
       "      <td>['1&amp;rsquor;|0:0|Franz Beckenbauer']</td>\n",
       "      <td>['1&amp;rsquor;|0:0|Valery Voronin']</td>\n",
       "      <td>NaN</td>\n",
       "      <td>NaN</td>\n",
       "    </tr>\n",
       "    <tr>\n",
       "      <th>771</th>\n",
       "      <td>West Germany</td>\n",
       "      <td>Uruguay</td>\n",
       "      <td>4</td>\n",
       "      <td>NaN</td>\n",
       "      <td>NaN</td>\n",
       "      <td>0</td>\n",
       "      <td>NaN</td>\n",
       "      <td>NaN</td>\n",
       "      <td>Helmut Schoen</td>\n",
       "      <td>Uwe Seeler</td>\n",
       "      <td>...</td>\n",
       "      <td>NaN</td>\n",
       "      <td>NaN</td>\n",
       "      <td>NaN</td>\n",
       "      <td>Horacio Troche · 49|Héctor Silva · 54</td>\n",
       "      <td>NaN</td>\n",
       "      <td>NaN</td>\n",
       "      <td>['1&amp;rsquor;|0:0|Wolfgang Weber']</td>\n",
       "      <td>['1&amp;rsquor;|0:0|Héctor Silva']</td>\n",
       "      <td>NaN</td>\n",
       "      <td>NaN</td>\n",
       "    </tr>\n",
       "    <tr>\n",
       "      <th>774</th>\n",
       "      <td>West Germany</td>\n",
       "      <td>Spain</td>\n",
       "      <td>2</td>\n",
       "      <td>NaN</td>\n",
       "      <td>NaN</td>\n",
       "      <td>1</td>\n",
       "      <td>NaN</td>\n",
       "      <td>NaN</td>\n",
       "      <td>Helmut Schoen</td>\n",
       "      <td>Uwe Seeler</td>\n",
       "      <td>...</td>\n",
       "      <td>NaN</td>\n",
       "      <td>NaN</td>\n",
       "      <td>NaN</td>\n",
       "      <td>NaN</td>\n",
       "      <td>NaN</td>\n",
       "      <td>NaN</td>\n",
       "      <td>['1&amp;rsquor;|0:0|Wolfgang Overath']</td>\n",
       "      <td>['1&amp;rsquor;|0:0|Jesús Glaría']</td>\n",
       "      <td>NaN</td>\n",
       "      <td>NaN</td>\n",
       "    </tr>\n",
       "    <tr>\n",
       "      <th>780</th>\n",
       "      <td>West Germany</td>\n",
       "      <td>Argentina</td>\n",
       "      <td>0</td>\n",
       "      <td>NaN</td>\n",
       "      <td>NaN</td>\n",
       "      <td>0</td>\n",
       "      <td>NaN</td>\n",
       "      <td>NaN</td>\n",
       "      <td>Helmut Schoen</td>\n",
       "      <td>Uwe Seeler</td>\n",
       "      <td>...</td>\n",
       "      <td>NaN</td>\n",
       "      <td>NaN</td>\n",
       "      <td>NaN</td>\n",
       "      <td>Rafael Albrecht · 65</td>\n",
       "      <td>NaN</td>\n",
       "      <td>NaN</td>\n",
       "      <td>['1&amp;rsquor;|0:0|Franz Beckenbauer']</td>\n",
       "      <td>NaN</td>\n",
       "      <td>NaN</td>\n",
       "      <td>NaN</td>\n",
       "    </tr>\n",
       "    <tr>\n",
       "      <th>794</th>\n",
       "      <td>West Germany</td>\n",
       "      <td>Switzerland</td>\n",
       "      <td>5</td>\n",
       "      <td>NaN</td>\n",
       "      <td>NaN</td>\n",
       "      <td>0</td>\n",
       "      <td>NaN</td>\n",
       "      <td>NaN</td>\n",
       "      <td>Helmut Schoen</td>\n",
       "      <td>Uwe Seeler</td>\n",
       "      <td>...</td>\n",
       "      <td>NaN</td>\n",
       "      <td>NaN</td>\n",
       "      <td>NaN</td>\n",
       "      <td>NaN</td>\n",
       "      <td>NaN</td>\n",
       "      <td>NaN</td>\n",
       "      <td>NaN</td>\n",
       "      <td>NaN</td>\n",
       "      <td>NaN</td>\n",
       "      <td>NaN</td>\n",
       "    </tr>\n",
       "    <tr>\n",
       "      <th>808</th>\n",
       "      <td>West Germany</td>\n",
       "      <td>Chile</td>\n",
       "      <td>2</td>\n",
       "      <td>NaN</td>\n",
       "      <td>NaN</td>\n",
       "      <td>0</td>\n",
       "      <td>NaN</td>\n",
       "      <td>NaN</td>\n",
       "      <td>Sepp Herberger</td>\n",
       "      <td>Hans Schäfer</td>\n",
       "      <td>...</td>\n",
       "      <td>NaN</td>\n",
       "      <td>NaN</td>\n",
       "      <td>NaN</td>\n",
       "      <td>NaN</td>\n",
       "      <td>NaN</td>\n",
       "      <td>NaN</td>\n",
       "      <td>NaN</td>\n",
       "      <td>NaN</td>\n",
       "      <td>NaN</td>\n",
       "      <td>NaN</td>\n",
       "    </tr>\n",
       "    <tr>\n",
       "      <th>815</th>\n",
       "      <td>West Germany</td>\n",
       "      <td>Switzerland</td>\n",
       "      <td>2</td>\n",
       "      <td>NaN</td>\n",
       "      <td>NaN</td>\n",
       "      <td>1</td>\n",
       "      <td>NaN</td>\n",
       "      <td>NaN</td>\n",
       "      <td>Sepp Herberger</td>\n",
       "      <td>Hans Schäfer</td>\n",
       "      <td>...</td>\n",
       "      <td>NaN</td>\n",
       "      <td>NaN</td>\n",
       "      <td>NaN</td>\n",
       "      <td>NaN</td>\n",
       "      <td>NaN</td>\n",
       "      <td>NaN</td>\n",
       "      <td>NaN</td>\n",
       "      <td>NaN</td>\n",
       "      <td>NaN</td>\n",
       "      <td>NaN</td>\n",
       "    </tr>\n",
       "    <tr>\n",
       "      <th>820</th>\n",
       "      <td>West Germany</td>\n",
       "      <td>Italy</td>\n",
       "      <td>0</td>\n",
       "      <td>NaN</td>\n",
       "      <td>NaN</td>\n",
       "      <td>0</td>\n",
       "      <td>NaN</td>\n",
       "      <td>NaN</td>\n",
       "      <td>Sepp Herberger</td>\n",
       "      <td>Hans Schäfer</td>\n",
       "      <td>...</td>\n",
       "      <td>NaN</td>\n",
       "      <td>NaN</td>\n",
       "      <td>NaN</td>\n",
       "      <td>NaN</td>\n",
       "      <td>NaN</td>\n",
       "      <td>NaN</td>\n",
       "      <td>NaN</td>\n",
       "      <td>NaN</td>\n",
       "      <td>NaN</td>\n",
       "      <td>NaN</td>\n",
       "    </tr>\n",
       "    <tr>\n",
       "      <th>833</th>\n",
       "      <td>West Germany</td>\n",
       "      <td>Yugoslavia</td>\n",
       "      <td>1</td>\n",
       "      <td>NaN</td>\n",
       "      <td>NaN</td>\n",
       "      <td>0</td>\n",
       "      <td>NaN</td>\n",
       "      <td>NaN</td>\n",
       "      <td>Sepp Herberger</td>\n",
       "      <td>Hans Schäfer</td>\n",
       "      <td>...</td>\n",
       "      <td>NaN</td>\n",
       "      <td>NaN</td>\n",
       "      <td>NaN</td>\n",
       "      <td>NaN</td>\n",
       "      <td>NaN</td>\n",
       "      <td>NaN</td>\n",
       "      <td>NaN</td>\n",
       "      <td>NaN</td>\n",
       "      <td>NaN</td>\n",
       "      <td>NaN</td>\n",
       "    </tr>\n",
       "    <tr>\n",
       "      <th>841</th>\n",
       "      <td>West Germany</td>\n",
       "      <td>Northern Ireland</td>\n",
       "      <td>2</td>\n",
       "      <td>NaN</td>\n",
       "      <td>NaN</td>\n",
       "      <td>2</td>\n",
       "      <td>NaN</td>\n",
       "      <td>NaN</td>\n",
       "      <td>Sepp Herberger</td>\n",
       "      <td>Hans Schäfer</td>\n",
       "      <td>...</td>\n",
       "      <td>NaN</td>\n",
       "      <td>NaN</td>\n",
       "      <td>NaN</td>\n",
       "      <td>NaN</td>\n",
       "      <td>NaN</td>\n",
       "      <td>NaN</td>\n",
       "      <td>NaN</td>\n",
       "      <td>NaN</td>\n",
       "      <td>NaN</td>\n",
       "      <td>NaN</td>\n",
       "    </tr>\n",
       "    <tr>\n",
       "      <th>849</th>\n",
       "      <td>West Germany</td>\n",
       "      <td>Czechoslovakia</td>\n",
       "      <td>2</td>\n",
       "      <td>NaN</td>\n",
       "      <td>NaN</td>\n",
       "      <td>2</td>\n",
       "      <td>NaN</td>\n",
       "      <td>NaN</td>\n",
       "      <td>Sepp Herberger</td>\n",
       "      <td>Hans Schäfer</td>\n",
       "      <td>...</td>\n",
       "      <td>NaN</td>\n",
       "      <td>NaN</td>\n",
       "      <td>NaN</td>\n",
       "      <td>NaN</td>\n",
       "      <td>NaN</td>\n",
       "      <td>NaN</td>\n",
       "      <td>NaN</td>\n",
       "      <td>NaN</td>\n",
       "      <td>NaN</td>\n",
       "      <td>NaN</td>\n",
       "    </tr>\n",
       "  </tbody>\n",
       "</table>\n",
       "<p>38 rows × 44 columns</p>\n",
       "</div>"
      ],
      "text/plain": [
       "        home_team             away_team  home_score  home_xg  home_penalty  \\\n",
       "500  West Germany             Argentina           1      NaN           NaN   \n",
       "502  West Germany               England           1      NaN           4.0   \n",
       "504  West Germany        Czechoslovakia           1      NaN           NaN   \n",
       "513  West Germany           Netherlands           2      NaN           NaN   \n",
       "522  West Germany              Colombia           1      NaN           NaN   \n",
       "535  West Germany  United Arab Emirates           5      NaN           NaN   \n",
       "546  West Germany            Yugoslavia           4      NaN           NaN   \n",
       "559  West Germany                Mexico           0      NaN           4.0   \n",
       "580  West Germany              Scotland           2      NaN           NaN   \n",
       "607  West Germany                France           3      NaN           5.0   \n",
       "613  West Germany                 Spain           2      NaN           NaN   \n",
       "617  West Germany               England           0      NaN           NaN   \n",
       "621  West Germany               Austria           1      NaN           NaN   \n",
       "635  West Germany                 Chile           4      NaN           NaN   \n",
       "648  West Germany               Algeria           1      NaN           NaN   \n",
       "663  West Germany           Netherlands           2      NaN           NaN   \n",
       "667  West Germany                 Italy           0      NaN           NaN   \n",
       "676  West Germany               Tunisia           0      NaN           NaN   \n",
       "683  West Germany                Mexico           6      NaN           NaN   \n",
       "693  West Germany                Poland           0      NaN           NaN   \n",
       "703  West Germany                Sweden           4      NaN           NaN   \n",
       "728  West Germany                 Chile           1      NaN           NaN   \n",
       "733  West Germany               Uruguay           1      NaN           NaN   \n",
       "739  West Germany               England           3      NaN           NaN   \n",
       "744  West Germany                  Peru           3      NaN           NaN   \n",
       "750  West Germany              Bulgaria           5      NaN           NaN   \n",
       "759  West Germany               Morocco           2      NaN           NaN   \n",
       "767  West Germany          Soviet Union           2      NaN           NaN   \n",
       "771  West Germany               Uruguay           4      NaN           NaN   \n",
       "774  West Germany                 Spain           2      NaN           NaN   \n",
       "780  West Germany             Argentina           0      NaN           NaN   \n",
       "794  West Germany           Switzerland           5      NaN           NaN   \n",
       "808  West Germany                 Chile           2      NaN           NaN   \n",
       "815  West Germany           Switzerland           2      NaN           NaN   \n",
       "820  West Germany                 Italy           0      NaN           NaN   \n",
       "833  West Germany            Yugoslavia           1      NaN           NaN   \n",
       "841  West Germany      Northern Ireland           2      NaN           NaN   \n",
       "849  West Germany        Czechoslovakia           2      NaN           NaN   \n",
       "\n",
       "     away_score  away_xg  away_penalty       home_manager  \\\n",
       "500           0      NaN           NaN  Franz Beckenbauer   \n",
       "502           1      NaN           3.0  Franz Beckenbauer   \n",
       "504           0      NaN           NaN  Franz Beckenbauer   \n",
       "513           1      NaN           NaN  Franz Beckenbauer   \n",
       "522           1      NaN           NaN  Franz Beckenbauer   \n",
       "535           1      NaN           NaN  Franz Beckenbauer   \n",
       "546           1      NaN           NaN  Franz Beckenbauer   \n",
       "559           0      NaN           1.0  Franz Beckenbauer   \n",
       "580           1      NaN           NaN  Franz Beckenbauer   \n",
       "607           3      NaN           4.0       Jupp Derwall   \n",
       "613           1      NaN           NaN       Jupp Derwall   \n",
       "617           0      NaN           NaN       Jupp Derwall   \n",
       "621           0      NaN           NaN       Jupp Derwall   \n",
       "635           1      NaN           NaN       Jupp Derwall   \n",
       "648           2      NaN           NaN       Jupp Derwall   \n",
       "663           2      NaN           NaN      Helmut Schoen   \n",
       "667           0      NaN           NaN      Helmut Schoen   \n",
       "676           0      NaN           NaN      Helmut Schoen   \n",
       "683           0      NaN           NaN      Helmut Schoen   \n",
       "693           0      NaN           NaN      Helmut Schoen   \n",
       "703           2      NaN           NaN      Helmut Schoen   \n",
       "728           0      NaN           NaN      Helmut Schoen   \n",
       "733           0      NaN           NaN      Helmut Schoen   \n",
       "739           2      NaN           NaN      Helmut Schoen   \n",
       "744           1      NaN           NaN      Helmut Schoen   \n",
       "750           2      NaN           NaN      Helmut Schoen   \n",
       "759           1      NaN           NaN      Helmut Schoen   \n",
       "767           1      NaN           NaN      Helmut Schoen   \n",
       "771           0      NaN           NaN      Helmut Schoen   \n",
       "774           1      NaN           NaN      Helmut Schoen   \n",
       "780           0      NaN           NaN      Helmut Schoen   \n",
       "794           0      NaN           NaN      Helmut Schoen   \n",
       "808           0      NaN           NaN     Sepp Herberger   \n",
       "815           1      NaN           NaN     Sepp Herberger   \n",
       "820           0      NaN           NaN     Sepp Herberger   \n",
       "833           0      NaN           NaN     Sepp Herberger   \n",
       "841           2      NaN           NaN     Sepp Herberger   \n",
       "849           2      NaN           NaN     Sepp Herberger   \n",
       "\n",
       "              home_captain  ... home_penalty_shootout_miss_long  \\\n",
       "500        Lothar Matthäus  ...                             NaN   \n",
       "502        Lothar Matthäus  ...                             NaN   \n",
       "504        Lothar Matthäus  ...                             NaN   \n",
       "513        Lothar Matthäus  ...                             NaN   \n",
       "522        Lothar Matthäus  ...                             NaN   \n",
       "535        Lothar Matthäus  ...                             NaN   \n",
       "546        Lothar Matthäus  ...                             NaN   \n",
       "559  Karl-Heinz Rummenigge  ...                             NaN   \n",
       "580      Harald Schumacher  ...                             NaN   \n",
       "607          Manfred Kaltz  ...          ['6|2:3|Uli Stielike']   \n",
       "613  Karl-Heinz Rummenigge  ...                             NaN   \n",
       "617  Karl-Heinz Rummenigge  ...                             NaN   \n",
       "621  Karl-Heinz Rummenigge  ...                             NaN   \n",
       "635  Karl-Heinz Rummenigge  ...                             NaN   \n",
       "648  Karl-Heinz Rummenigge  ...                             NaN   \n",
       "663            Berti Vogts  ...                             NaN   \n",
       "667            Berti Vogts  ...                             NaN   \n",
       "676            Berti Vogts  ...                             NaN   \n",
       "683            Berti Vogts  ...                             NaN   \n",
       "693            Berti Vogts  ...                             NaN   \n",
       "703      Franz Beckenbauer  ...                             NaN   \n",
       "728      Franz Beckenbauer  ...                             NaN   \n",
       "733             Uwe Seeler  ...                             NaN   \n",
       "739             Uwe Seeler  ...                             NaN   \n",
       "744             Uwe Seeler  ...                             NaN   \n",
       "750             Uwe Seeler  ...                             NaN   \n",
       "759             Uwe Seeler  ...                             NaN   \n",
       "767             Uwe Seeler  ...                             NaN   \n",
       "771             Uwe Seeler  ...                             NaN   \n",
       "774             Uwe Seeler  ...                             NaN   \n",
       "780             Uwe Seeler  ...                             NaN   \n",
       "794             Uwe Seeler  ...                             NaN   \n",
       "808           Hans Schäfer  ...                             NaN   \n",
       "815           Hans Schäfer  ...                             NaN   \n",
       "820           Hans Schäfer  ...                             NaN   \n",
       "833           Hans Schäfer  ...                             NaN   \n",
       "841           Hans Schäfer  ...                             NaN   \n",
       "849           Hans Schäfer  ...                             NaN   \n",
       "\n",
       "                      away_penalty_shootout_miss_long         home_red_card  \\\n",
       "500                                               NaN                   NaN   \n",
       "502     ['7|3:3|Stuart Pearce', '9|4:3|Chris Waddle']                   NaN   \n",
       "504                                               NaN                   NaN   \n",
       "513                                               NaN      Rudi Völler · 22   \n",
       "522                                               NaN                   NaN   \n",
       "535                                               NaN                   NaN   \n",
       "546                                               NaN                   NaN   \n",
       "559  ['4|2:1|Fernando Quirarte', '6|3:1|Raúl Servín']  Thomas Berthold · 65   \n",
       "580                                               NaN                   NaN   \n",
       "607      ['7|2:3|Didier Six', '11|4:4|Maxime Bossis']                   NaN   \n",
       "613                                               NaN                   NaN   \n",
       "617                                               NaN                   NaN   \n",
       "621                                               NaN                   NaN   \n",
       "635                                               NaN                   NaN   \n",
       "648                                               NaN                   NaN   \n",
       "663                                               NaN                   NaN   \n",
       "667                                               NaN                   NaN   \n",
       "676                                               NaN                   NaN   \n",
       "683                                               NaN                   NaN   \n",
       "693                                               NaN                   NaN   \n",
       "703                                               NaN                   NaN   \n",
       "728                                               NaN                   NaN   \n",
       "733                                               NaN                   NaN   \n",
       "739                                               NaN                   NaN   \n",
       "744                                               NaN                   NaN   \n",
       "750                                               NaN                   NaN   \n",
       "759                                               NaN                   NaN   \n",
       "767                                               NaN                   NaN   \n",
       "771                                               NaN                   NaN   \n",
       "774                                               NaN                   NaN   \n",
       "780                                               NaN                   NaN   \n",
       "794                                               NaN                   NaN   \n",
       "808                                               NaN                   NaN   \n",
       "815                                               NaN                   NaN   \n",
       "820                                               NaN                   NaN   \n",
       "833                                               NaN                   NaN   \n",
       "841                                               NaN                   NaN   \n",
       "849                                               NaN                   NaN   \n",
       "\n",
       "                              away_red_card home_yellow_red_card  \\\n",
       "500  Pedro Monzón · 65|Gustavo Dezotti · 87                  NaN   \n",
       "502                                     NaN                  NaN   \n",
       "504                   Ľubomír Moravčík · 70                  NaN   \n",
       "513                     Frank Rijkaard · 22                  NaN   \n",
       "522                                     NaN                  NaN   \n",
       "535                                     NaN                  NaN   \n",
       "546                                     NaN                  NaN   \n",
       "559                    Javier Aguirre · 100                  NaN   \n",
       "580                                     NaN                  NaN   \n",
       "607                                     NaN                  NaN   \n",
       "613                                     NaN                  NaN   \n",
       "617                                     NaN                  NaN   \n",
       "621                                     NaN                  NaN   \n",
       "635                                     NaN                  NaN   \n",
       "648                                     NaN                  NaN   \n",
       "663                      Dick Nanninga · 88                  NaN   \n",
       "667                                     NaN                  NaN   \n",
       "676                                     NaN                  NaN   \n",
       "683                                     NaN                  NaN   \n",
       "693                                     NaN                  NaN   \n",
       "703                                     NaN                  NaN   \n",
       "728                     Carlos Caszely · 67                  NaN   \n",
       "733                                     NaN                  NaN   \n",
       "739                                     NaN                  NaN   \n",
       "744                                     NaN                  NaN   \n",
       "750                                     NaN                  NaN   \n",
       "759                                     NaN                  NaN   \n",
       "767                     Igor Chislenko · 44                  NaN   \n",
       "771   Horacio Troche · 49|Héctor Silva · 54                  NaN   \n",
       "774                                     NaN                  NaN   \n",
       "780                    Rafael Albrecht · 65                  NaN   \n",
       "794                                     NaN                  NaN   \n",
       "808                                     NaN                  NaN   \n",
       "815                                     NaN                  NaN   \n",
       "820                                     NaN                  NaN   \n",
       "833                                     NaN                  NaN   \n",
       "841                                     NaN                  NaN   \n",
       "849                                     NaN                  NaN   \n",
       "\n",
       "    away_yellow_red_card                              home_yellow_card_long  \\\n",
       "500                  NaN                     ['52&rsquor;|0:0|Rudi Völler']   \n",
       "502                  NaN                 ['110&rsquor;|1:1|Andreas Brehme']   \n",
       "504                  NaN                ['28&rsquor;|1:0|Jürgen Klinsmann']   \n",
       "513                  NaN  ['21&rsquor;|0:0|Rudi Völler', '77&rsquor;|1:0...   \n",
       "522                  NaN                 ['63&rsquor;|0:0|Thomas Berthold']   \n",
       "535                  NaN                  ['30&rsquor;|0:0|Andreas Brehme']   \n",
       "546                  NaN                   ['6&rsquor;|0:0|Andreas Brehme']   \n",
       "559                  NaN  ['27&rsquor;|0:0|Klaus Allofs', '56&rsquor;|0:...   \n",
       "580                  NaN                                                NaN   \n",
       "607                  NaN                   ['46&rsquor;|1:1|Bernd Förster']   \n",
       "613                  NaN  ['1&rsquor;|0:0|Klaus Fischer', '84&rsquor;|2:...   \n",
       "617                  NaN                    ['68&rsquor;|0:0|Uli Stielike']   \n",
       "621                  NaN                                                NaN   \n",
       "635                  NaN                                                NaN   \n",
       "648                  NaN                  ['57&rsquor;|0:1|Horst Hrubesch']   \n",
       "663                  NaN                       ['1&rsquor;|0:0|Sepp Maier']   \n",
       "667                  NaN                                                NaN   \n",
       "676                  NaN                     ['1&rsquor;|0:0|Hansi Müller']   \n",
       "683                  NaN                    ['1&rsquor;|0:0|Rainer Bonhof']   \n",
       "693                  NaN                                                NaN   \n",
       "703                  NaN                                                NaN   \n",
       "728                  NaN                                                NaN   \n",
       "733                  NaN  ['1&rsquor;|0:0|Max Lorenz', '1&rsquor;|0:0|Ha...   \n",
       "739                  NaN                      ['1&rsquor;|0:0|Gerd Müller']   \n",
       "744                  NaN                                                NaN   \n",
       "750                  NaN                                                NaN   \n",
       "759                  NaN                                                NaN   \n",
       "767                  NaN                ['1&rsquor;|0:0|Franz Beckenbauer']   \n",
       "771                  NaN                   ['1&rsquor;|0:0|Wolfgang Weber']   \n",
       "774                  NaN                 ['1&rsquor;|0:0|Wolfgang Overath']   \n",
       "780                  NaN                ['1&rsquor;|0:0|Franz Beckenbauer']   \n",
       "794                  NaN                                                NaN   \n",
       "808                  NaN                                                NaN   \n",
       "815                  NaN                                                NaN   \n",
       "820                  NaN                                                NaN   \n",
       "833                  NaN                                                NaN   \n",
       "841                  NaN                                                NaN   \n",
       "849                  NaN                                                NaN   \n",
       "\n",
       "                                 away_yellow_card_long  \\\n",
       "500  ['5&rsquor;|0:0|Gustavo Dezotti', '84&rsquor;|...   \n",
       "502  ['65&rsquor;|1:0|Paul Parker', '98&rsquor;|1:1...   \n",
       "504  ['11&rsquor;|0:0|Ľubomír Moravčík', '14&rsquor...   \n",
       "513  ['20&rsquor;|0:0|Frank Rijkaard', '32&rsquor;|...   \n",
       "522  ['15&rsquor;|0:0|Luis Fernando Herrera', '30&r...   \n",
       "535  ['26&rsquor;|0:0|Yousuf Hussain', '30&rsquor;|...   \n",
       "546                                                NaN   \n",
       "559  ['20&rsquor;|0:0|Javier Aguirre', '27&rsquor;|...   \n",
       "580  ['30&rsquor;|1:1|Steve Archibald', '44&rsquor;...   \n",
       "607  ['35&rsquor;|1:1|Alain Giresse', '40&rsquor;|1...   \n",
       "613  ['9&rsquor;|0:0|José Ramón Alexanko', '83&rsqu...   \n",
       "617                                                NaN   \n",
       "621  ['32&rsquor;|1:0|Walter Schachner', '32&rsquor...   \n",
       "635  ['11&rsquor;|1:0|Rodolfo Dubó', '29&rsquor;|1:...   \n",
       "648                    ['83&rsquor;|1:2|Rabah Madjer']   \n",
       "663  ['1&rsquor;|0:0|Dick Nanninga', '6&rsquor;|1:0...   \n",
       "667                                                NaN   \n",
       "676                      ['1&rsquor;|0:0|Tarak Dhiab']   \n",
       "683             ['1&rsquor;|0:0|Arturo Vázquez Ayala']   \n",
       "693                                                NaN   \n",
       "703                        ['1&rsquor;|0:0|Ove Grahn']   \n",
       "728  ['1&rsquor;|0:0|Rolando García', '1&rsquor;|0:...   \n",
       "733  ['1&rsquor;|0:0|Dagoberto Fontes', '1&rsquor;|...   \n",
       "739                      ['1&rsquor;|0:0|Francis Lee']   \n",
       "744                                                NaN   \n",
       "750                                                NaN   \n",
       "759                                                NaN   \n",
       "767                   ['1&rsquor;|0:0|Valery Voronin']   \n",
       "771                     ['1&rsquor;|0:0|Héctor Silva']   \n",
       "774                     ['1&rsquor;|0:0|Jesús Glaría']   \n",
       "780                                                NaN   \n",
       "794                                                NaN   \n",
       "808                                                NaN   \n",
       "815                                                NaN   \n",
       "820                                                NaN   \n",
       "833                                                NaN   \n",
       "841                                                NaN   \n",
       "849                                                NaN   \n",
       "\n",
       "                               home_substitute_in_long  \\\n",
       "500  ['73&rsquor;|0:0|Stefan Reuter|for Thomas Bert...   \n",
       "502  ['38&rsquor;|0:0|Karl-Heinz Riedle|for Rudi Vö...   \n",
       "504     ['82&rsquor;|1:0|Andreas Möller|for Uwe Bein']   \n",
       "513  ['77&rsquor;|1:0|Karl-Heinz Riedle|for Jürgen ...   \n",
       "522  ['46&rsquor;|0:0|Pierre Littbarski|for Uwe Bei...   \n",
       "535  ['46&rsquor;|2:1|Pierre Littbarski|for Thomas ...   \n",
       "546  ['75&rsquor;|4:1|Pierre Littbarski|for Uwe Bei...   \n",
       "559  ['58&rsquor;|0:0|Dieter Hoeneß|for Karl-Heinz ...   \n",
       "580  ['63&rsquor;|2:1|Ditmar Jakobs|for Hans-Peter ...   \n",
       "607  ['73&rsquor;|1:1|Horst Hrubesch|for Felix Maga...   \n",
       "613  ['46&rsquor;|0:0|Uwe Reinders|for Karl-Heinz R...   \n",
       "617  ['63&rsquor;|0:0|Pierre Littbarski|for Uwe Rei...   \n",
       "621  ['66&rsquor;|1:0|Lothar Matthäus|for Karl-Hein...   \n",
       "635  ['61&rsquor;|2:0|Lothar Matthäus|for Paul Brei...   \n",
       "648  ['83&rsquor;|1:2|Klaus Fischer|for Felix Magath']   \n",
       "663                                                NaN   \n",
       "667  ['53&rsquor;|0:0|Harald Konopka|for Herbert Zi...   \n",
       "676                                                NaN   \n",
       "683                                                NaN   \n",
       "693                                                NaN   \n",
       "703  ['64&rsquor;|2:2|Jürgen Grabowski|for Dieter H...   \n",
       "728  ['75&rsquor;|1:0|Bernd Hölzenbein|for Wolfgang...   \n",
       "733  ['46&rsquor;|1:0|Max Lorenz', '73&rsquor;|1:0|...   \n",
       "739  ['45&rsquor;|0:1|Willi Schulz|for Horst-Dieter...   \n",
       "744  ['46&rsquor;|3:1|Bernd Patzke|for Horst-Dieter...   \n",
       "750  ['58&rsquor;|3:1|Jürgen Grabowski', '72&rsquor...   \n",
       "759  ['45&rsquor;|0:1|Jürgen Grabowski|for Helmut H...   \n",
       "767                                                NaN   \n",
       "771                                                NaN   \n",
       "774                                                NaN   \n",
       "780                                                NaN   \n",
       "794                                                NaN   \n",
       "808                                                NaN   \n",
       "815                                                NaN   \n",
       "820                                                NaN   \n",
       "833                                                NaN   \n",
       "841                                                NaN   \n",
       "849                                                NaN   \n",
       "\n",
       "                               away_substitute_in_long  \n",
       "500  ['46&rsquor;|0:0|Pedro Monzón|for Oscar Rugger...  \n",
       "502  ['70&rsquor;|1:0|Trevor Steven|for Terry Butch...  \n",
       "504  ['67&rsquor;|1:0|Václav Němeček|for Michal Bíl...  \n",
       "513  ['66&rsquor;|1:0|Wim Kieft|for Berry van Aerle...  \n",
       "522                                                NaN  \n",
       "535  ['82&rsquor;|5:1|Hassan Mohamed|for Khalid Ism...  \n",
       "546  ['55&rsquor;|2:1|Dragoljub Brnović|for Dejan S...  \n",
       "559  ['32&rsquor;|0:0|Carlos de los Cobos|for Tomás...  \n",
       "580  ['60&rsquor;|2:1|Frank McAvennie|for Steve Nic...  \n",
       "607  ['50&rsquor;|1:1|Patrick Battiston|for Bernard...  \n",
       "613  ['46&rsquor;|0:0|Roberto López Ufarte|for Juan...  \n",
       "617  ['77&rsquor;|0:0|Tony Woodcock|for Trevor Fran...  \n",
       "621                                                NaN  \n",
       "635  ['46&rsquor;|1:0|Juan Carlos Letelier|for Mari...  \n",
       "648  ['64&rsquor;|0:1|Tedj Bensaoula|for Djamel Zid...  \n",
       "663  ['79&rsquor;|2:1|Dick Nanninga|for Piet Wildsc...  \n",
       "667  ['46&rsquor;|0:0|Renato Zaccarelli|for Giancar...  \n",
       "676  ['82&rsquor;|0:0|Abderraouf Ben Aziza|for Moha...  \n",
       "683  ['39&rsquor;|3:0|Pedro Soto|for José Pilar Rey...  \n",
       "693  ['79&rsquor;|0:0|Zbigniew Boniek|for Włodzimie...  \n",
       "703  ['32&rsquor;|0:1|Inge Ejderstedt|for Bo Larsson']  \n",
       "728  ['76&rsquor;|1:0|Leonardo Véliz|for Francisco ...  \n",
       "733  ['46&rsquor;|1:0|Víctor Espárrago|for Dagobert...  \n",
       "739  ['70&rsquor;|1:2|Colin Bell|for Bobby Charlton...  \n",
       "744  ['56&rsquor;|3:1|Oswaldo Ramírez|for Pedro Pab...  \n",
       "750  ['46&rsquor;|2:1|Vasil Mitkov|for Dinko Dermen...  \n",
       "759  ['56&rsquor;|1:1|Abdelkader El Khiati|for Maou...  \n",
       "767                                                NaN  \n",
       "771                                                NaN  \n",
       "774                                                NaN  \n",
       "780                                                NaN  \n",
       "794                                                NaN  \n",
       "808                                                NaN  \n",
       "815                                                NaN  \n",
       "820                                                NaN  \n",
       "833                                                NaN  \n",
       "841                                                NaN  \n",
       "849                                                NaN  \n",
       "\n",
       "[38 rows x 44 columns]"
      ]
     },
     "execution_count": 2546,
     "metadata": {},
     "output_type": "execute_result"
    }
   ],
   "source": [
    "matches[matches['home_team']=='West Germany']"
   ]
  },
  {
   "cell_type": "markdown",
   "metadata": {},
   "source": [
    "# As we see that there are 3 teams of germany(Germany , Germany DR(democratic republic) , West Germany )\n",
    "1949 gemany split in to tree parts  , but later on the 1990 they merge each other  , we will set both as germany"
   ]
  },
  {
   "cell_type": "code",
   "execution_count": 2547,
   "metadata": {},
   "outputs": [],
   "source": [
    "matches['home_team'] = matches['home_team'].apply(lambda x : x.replace('Dr Germany' , 'West Germany'))\n",
    "matches['away_team'] = matches['away_team'].apply(lambda x : x.replace('Dr Germany' , 'West Germany'))"
   ]
  },
  {
   "cell_type": "code",
   "execution_count": 2548,
   "metadata": {},
   "outputs": [
    {
     "data": {
      "text/plain": [
       "array(['Argentina', 'Croatia', 'France', 'Morocco', 'England',\n",
       "       'Netherlands', 'Portugal', 'Japan', 'Brazil', 'Korea Republic',\n",
       "       'Ghana', 'Cameroon', 'Serbia', 'Canada', 'Costa Rica', 'Australia',\n",
       "       'Tunisia', 'Saudi Arabia', 'Poland', 'Ecuador', 'IR Iran', 'Wales',\n",
       "       'Belgium', 'Spain', 'Qatar', 'Switzerland', 'Uruguay', 'Germany',\n",
       "       'Denmark', 'Mexico', 'Senegal', 'United States', 'Sweden',\n",
       "       'Russia', 'Colombia', 'Panama', 'Iceland', 'Nigeria', 'Peru',\n",
       "       'Egypt', 'Algeria', 'Bosnia and Herzegovina', 'Honduras', 'Italy',\n",
       "       'Greece', \"Côte d'Ivoire\", 'Chile', 'Paraguay', 'Korea DPR',\n",
       "       'Slovakia', 'Slovenia', 'South Africa', 'New Zealand', 'Ukraine',\n",
       "       'Togo', 'Czech Republic', 'Serbia and Montenegro', 'Angola',\n",
       "       'Trinidad and Tobago', 'Türkiye', 'China PR',\n",
       "       'Republic of Ireland', 'Romania', 'Scotland', 'FR Yugoslavia',\n",
       "       'Jamaica', 'Bulgaria', 'Bolivia', 'Norway', 'West Germany',\n",
       "       'Yugoslavia', 'Czechoslovakia', 'Austria', 'United Arab Emirates',\n",
       "       'Soviet Union', 'Northern Ireland', 'Iraq', 'Hungary',\n",
       "       'Germany DR', 'Zaire', 'Haiti', 'Cuba'], dtype=object)"
      ]
     },
     "execution_count": 2548,
     "metadata": {},
     "output_type": "execute_result"
    }
   ],
   "source": [
    "matches['home_team'].unique()"
   ]
  },
  {
   "cell_type": "markdown",
   "metadata": {},
   "source": [
    "# EDA starts  here"
   ]
  },
  {
   "cell_type": "code",
   "execution_count": 2549,
   "metadata": {},
   "outputs": [
    {
     "name": "stdout",
     "output_type": "stream",
     "text": [
      "<class 'pandas.core.frame.DataFrame'>\n",
      "RangeIndex: 964 entries, 0 to 963\n",
      "Data columns (total 44 columns):\n",
      " #   Column                           Non-Null Count  Dtype  \n",
      "---  ------                           --------------  -----  \n",
      " 0   home_team                        964 non-null    object \n",
      " 1   away_team                        964 non-null    object \n",
      " 2   home_score                       964 non-null    int64  \n",
      " 3   home_xg                          128 non-null    float64\n",
      " 4   home_penalty                     35 non-null     float64\n",
      " 5   away_score                       964 non-null    int64  \n",
      " 6   away_xg                          128 non-null    float64\n",
      " 7   away_penalty                     35 non-null     float64\n",
      " 8   home_manager                     964 non-null    object \n",
      " 9   home_captain                     644 non-null    object \n",
      " 10  away_manager                     964 non-null    object \n",
      " 11  away_captain                     644 non-null    object \n",
      " 12  Attendance                       964 non-null    int64  \n",
      " 13  Venue                            964 non-null    object \n",
      " 14  Officials                        709 non-null    object \n",
      " 15  Round                            964 non-null    object \n",
      " 16  Date                             964 non-null    object \n",
      " 17  Score                            964 non-null    object \n",
      " 18  Referee                          709 non-null    object \n",
      " 19  Notes                            73 non-null     object \n",
      " 20  Host                             964 non-null    object \n",
      " 21  Year                             964 non-null    int64  \n",
      " 22  home_goal                        718 non-null    object \n",
      " 23  away_goal                        571 non-null    object \n",
      " 24  home_goal_long                   718 non-null    object \n",
      " 25  away_goal_long                   571 non-null    object \n",
      " 26  home_own_goal                    39 non-null     object \n",
      " 27  away_own_goal                    17 non-null     object \n",
      " 28  home_penalty_goal                116 non-null    object \n",
      " 29  away_penalty_goal                84 non-null     object \n",
      " 30  home_penalty_miss_long           6 non-null      object \n",
      " 31  away_penalty_miss_long           9 non-null      object \n",
      " 32  home_penalty_shootout_goal_long  34 non-null     object \n",
      " 33  away_penalty_shootout_goal_long  34 non-null     object \n",
      " 34  home_penalty_shootout_miss_long  24 non-null     object \n",
      " 35  away_penalty_shootout_miss_long  30 non-null     object \n",
      " 36  home_red_card                    51 non-null     object \n",
      " 37  away_red_card                    54 non-null     object \n",
      " 38  home_yellow_red_card             23 non-null     object \n",
      " 39  away_yellow_red_card             31 non-null     object \n",
      " 40  home_yellow_card_long            621 non-null    object \n",
      " 41  away_yellow_card_long            627 non-null    object \n",
      " 42  home_substitute_in_long          740 non-null    object \n",
      " 43  away_substitute_in_long          747 non-null    object \n",
      "dtypes: float64(4), int64(4), object(36)\n",
      "memory usage: 331.5+ KB\n"
     ]
    }
   ],
   "source": [
    "matches.info()"
   ]
  },
  {
   "cell_type": "code",
   "execution_count": 2550,
   "metadata": {},
   "outputs": [
    {
     "name": "stdout",
     "output_type": "stream",
     "text": [
      "Total number of  matches  : 964 \n",
      "Total number of goals  : 2720\n",
      "Total number of goals  : 3\n",
      "Total number of attendane : 44048413\n",
      "Total number of attendane : 45693.3744813278\n"
     ]
    }
   ],
   "source": [
    "# check the total numbr of matches\n",
    "\n",
    "print(f'Total number of  matches  : {matches.shape[0]} ')\n",
    "\n",
    "# check the total number of goals\n",
    "\n",
    "total_goals = matches['home_score'].sum() + matches['away_score'].sum()\n",
    "\n",
    "print(f\"Total number of goals  : {total_goals}\")\n",
    "\n",
    "# Average goals scored per match\n",
    "\n",
    "print(f\"Total number of goals  : {round(total_goals/len(matches))}\")\n",
    "\n",
    "# Total number of  atendance over time\n",
    "\n",
    "print(f'Total number of attendane : {sum(matches['Attendance'])}')\n",
    "\n",
    "# average of Attendance\n",
    "\n",
    "print(f'Total number of attendane : {sum(matches['Attendance']) / len(matches)}')\n",
    "\n",
    " \n"
   ]
  },
  {
   "cell_type": "markdown",
   "metadata": {},
   "source": [
    "## The above mentioned basic stats "
   ]
  },
  {
   "cell_type": "markdown",
   "metadata": {},
   "source": [
    "### now we see that how many times the team the win world cup"
   ]
  },
  {
   "cell_type": "code",
   "execution_count": 2551,
   "metadata": {},
   "outputs": [
    {
     "data": {
      "text/html": [
       "<div>\n",
       "<style scoped>\n",
       "    .dataframe tbody tr th:only-of-type {\n",
       "        vertical-align: middle;\n",
       "    }\n",
       "\n",
       "    .dataframe tbody tr th {\n",
       "        vertical-align: top;\n",
       "    }\n",
       "\n",
       "    .dataframe thead th {\n",
       "        text-align: right;\n",
       "    }\n",
       "</style>\n",
       "<table border=\"1\" class=\"dataframe\">\n",
       "  <thead>\n",
       "    <tr style=\"text-align: right;\">\n",
       "      <th></th>\n",
       "      <th>Year</th>\n",
       "      <th>Host</th>\n",
       "      <th>Teams</th>\n",
       "      <th>Champion</th>\n",
       "      <th>Runner-Up</th>\n",
       "      <th>TopScorrer</th>\n",
       "      <th>Attendance</th>\n",
       "      <th>AttendanceAvg</th>\n",
       "      <th>Matches</th>\n",
       "    </tr>\n",
       "  </thead>\n",
       "  <tbody>\n",
       "    <tr>\n",
       "      <th>0</th>\n",
       "      <td>2022</td>\n",
       "      <td>Qatar</td>\n",
       "      <td>32</td>\n",
       "      <td>Argentina</td>\n",
       "      <td>France</td>\n",
       "      <td>Kylian Mbappé - 8</td>\n",
       "      <td>3404252</td>\n",
       "      <td>53191</td>\n",
       "      <td>64</td>\n",
       "    </tr>\n",
       "    <tr>\n",
       "      <th>1</th>\n",
       "      <td>2018</td>\n",
       "      <td>Russia</td>\n",
       "      <td>32</td>\n",
       "      <td>France</td>\n",
       "      <td>Croatia</td>\n",
       "      <td>Harry Kane - 6</td>\n",
       "      <td>3031768</td>\n",
       "      <td>47371</td>\n",
       "      <td>64</td>\n",
       "    </tr>\n",
       "    <tr>\n",
       "      <th>2</th>\n",
       "      <td>2014</td>\n",
       "      <td>Brazil</td>\n",
       "      <td>32</td>\n",
       "      <td>Germany</td>\n",
       "      <td>Argentina</td>\n",
       "      <td>James Rodríguez - 6</td>\n",
       "      <td>3429873</td>\n",
       "      <td>53592</td>\n",
       "      <td>64</td>\n",
       "    </tr>\n",
       "    <tr>\n",
       "      <th>3</th>\n",
       "      <td>2010</td>\n",
       "      <td>South Africa</td>\n",
       "      <td>32</td>\n",
       "      <td>Spain</td>\n",
       "      <td>Netherlands</td>\n",
       "      <td>Wesley Sneijder, Thomas Müller... - 5</td>\n",
       "      <td>3178856</td>\n",
       "      <td>49670</td>\n",
       "      <td>64</td>\n",
       "    </tr>\n",
       "    <tr>\n",
       "      <th>4</th>\n",
       "      <td>2006</td>\n",
       "      <td>Germany</td>\n",
       "      <td>32</td>\n",
       "      <td>Italy</td>\n",
       "      <td>France</td>\n",
       "      <td>Miroslav Klose - 5</td>\n",
       "      <td>3352605</td>\n",
       "      <td>52384</td>\n",
       "      <td>64</td>\n",
       "    </tr>\n",
       "    <tr>\n",
       "      <th>5</th>\n",
       "      <td>2002</td>\n",
       "      <td>Korea Republic, Japan</td>\n",
       "      <td>32</td>\n",
       "      <td>Brazil</td>\n",
       "      <td>Germany</td>\n",
       "      <td>Ronaldo - 8</td>\n",
       "      <td>2705337</td>\n",
       "      <td>42271</td>\n",
       "      <td>64</td>\n",
       "    </tr>\n",
       "    <tr>\n",
       "      <th>6</th>\n",
       "      <td>1998</td>\n",
       "      <td>France</td>\n",
       "      <td>32</td>\n",
       "      <td>France</td>\n",
       "      <td>Brazil</td>\n",
       "      <td>Davor Šuker - 6</td>\n",
       "      <td>2903477</td>\n",
       "      <td>45367</td>\n",
       "      <td>64</td>\n",
       "    </tr>\n",
       "    <tr>\n",
       "      <th>7</th>\n",
       "      <td>1994</td>\n",
       "      <td>United States</td>\n",
       "      <td>24</td>\n",
       "      <td>Brazil</td>\n",
       "      <td>Italy</td>\n",
       "      <td>Hristo Stoichkov, Oleg Salenko - 6</td>\n",
       "      <td>3587538</td>\n",
       "      <td>68991</td>\n",
       "      <td>52</td>\n",
       "    </tr>\n",
       "    <tr>\n",
       "      <th>8</th>\n",
       "      <td>1990</td>\n",
       "      <td>Italy</td>\n",
       "      <td>24</td>\n",
       "      <td>West Germany</td>\n",
       "      <td>Argentina</td>\n",
       "      <td>Salvatore Schillaci - 6</td>\n",
       "      <td>2516215</td>\n",
       "      <td>48389</td>\n",
       "      <td>52</td>\n",
       "    </tr>\n",
       "    <tr>\n",
       "      <th>9</th>\n",
       "      <td>1986</td>\n",
       "      <td>Mexico</td>\n",
       "      <td>24</td>\n",
       "      <td>Argentina</td>\n",
       "      <td>West Germany</td>\n",
       "      <td>Gary Lineker - 6</td>\n",
       "      <td>2394031</td>\n",
       "      <td>46039</td>\n",
       "      <td>52</td>\n",
       "    </tr>\n",
       "    <tr>\n",
       "      <th>10</th>\n",
       "      <td>1982</td>\n",
       "      <td>Spain</td>\n",
       "      <td>24</td>\n",
       "      <td>Italy</td>\n",
       "      <td>West Germany</td>\n",
       "      <td>Paolo Rossi - 6</td>\n",
       "      <td>2109723</td>\n",
       "      <td>40572</td>\n",
       "      <td>52</td>\n",
       "    </tr>\n",
       "    <tr>\n",
       "      <th>11</th>\n",
       "      <td>1978</td>\n",
       "      <td>Argentina</td>\n",
       "      <td>16</td>\n",
       "      <td>Argentina</td>\n",
       "      <td>Netherlands</td>\n",
       "      <td>Mario Kempes - 6</td>\n",
       "      <td>1545791</td>\n",
       "      <td>40679</td>\n",
       "      <td>38</td>\n",
       "    </tr>\n",
       "    <tr>\n",
       "      <th>12</th>\n",
       "      <td>1974</td>\n",
       "      <td>Germany</td>\n",
       "      <td>16</td>\n",
       "      <td>West Germany</td>\n",
       "      <td>Netherlands</td>\n",
       "      <td>Grzegorz Lato - 7</td>\n",
       "      <td>1865753</td>\n",
       "      <td>49099</td>\n",
       "      <td>38</td>\n",
       "    </tr>\n",
       "    <tr>\n",
       "      <th>13</th>\n",
       "      <td>1970</td>\n",
       "      <td>Mexico</td>\n",
       "      <td>16</td>\n",
       "      <td>Brazil</td>\n",
       "      <td>Italy</td>\n",
       "      <td>Gerd Müller - 10</td>\n",
       "      <td>1603975</td>\n",
       "      <td>50124</td>\n",
       "      <td>32</td>\n",
       "    </tr>\n",
       "    <tr>\n",
       "      <th>14</th>\n",
       "      <td>1966</td>\n",
       "      <td>England</td>\n",
       "      <td>16</td>\n",
       "      <td>England</td>\n",
       "      <td>West Germany</td>\n",
       "      <td>Eusébio - 9</td>\n",
       "      <td>1563135</td>\n",
       "      <td>48848</td>\n",
       "      <td>32</td>\n",
       "    </tr>\n",
       "    <tr>\n",
       "      <th>15</th>\n",
       "      <td>1962</td>\n",
       "      <td>Chile</td>\n",
       "      <td>16</td>\n",
       "      <td>Brazil</td>\n",
       "      <td>Czechoslovakia</td>\n",
       "      <td>Leonel Sánchez, Flórián Albert... - 4</td>\n",
       "      <td>893172</td>\n",
       "      <td>27912</td>\n",
       "      <td>32</td>\n",
       "    </tr>\n",
       "    <tr>\n",
       "      <th>16</th>\n",
       "      <td>1958</td>\n",
       "      <td>Sweden</td>\n",
       "      <td>16</td>\n",
       "      <td>Brazil</td>\n",
       "      <td>Sweden</td>\n",
       "      <td>Just Fontaine - 13</td>\n",
       "      <td>819810</td>\n",
       "      <td>23423</td>\n",
       "      <td>35</td>\n",
       "    </tr>\n",
       "    <tr>\n",
       "      <th>17</th>\n",
       "      <td>1954</td>\n",
       "      <td>Switzerland</td>\n",
       "      <td>16</td>\n",
       "      <td>Germany</td>\n",
       "      <td>Hungary</td>\n",
       "      <td>Sándor Kocsis - 11</td>\n",
       "      <td>768607</td>\n",
       "      <td>29562</td>\n",
       "      <td>26</td>\n",
       "    </tr>\n",
       "    <tr>\n",
       "      <th>18</th>\n",
       "      <td>1950</td>\n",
       "      <td>Brazil</td>\n",
       "      <td>15</td>\n",
       "      <td>Uruguay</td>\n",
       "      <td>Brazil</td>\n",
       "      <td>Ademir - 8</td>\n",
       "      <td>1045246</td>\n",
       "      <td>47511</td>\n",
       "      <td>22</td>\n",
       "    </tr>\n",
       "    <tr>\n",
       "      <th>19</th>\n",
       "      <td>1938</td>\n",
       "      <td>France</td>\n",
       "      <td>16</td>\n",
       "      <td>Italy</td>\n",
       "      <td>Hungary</td>\n",
       "      <td>Leônidas - 7</td>\n",
       "      <td>375700</td>\n",
       "      <td>20872</td>\n",
       "      <td>18</td>\n",
       "    </tr>\n",
       "    <tr>\n",
       "      <th>20</th>\n",
       "      <td>1934</td>\n",
       "      <td>Italy</td>\n",
       "      <td>16</td>\n",
       "      <td>Italy</td>\n",
       "      <td>Czechoslovakia</td>\n",
       "      <td>Oldřich Nejedlý - 5</td>\n",
       "      <td>363000</td>\n",
       "      <td>21353</td>\n",
       "      <td>17</td>\n",
       "    </tr>\n",
       "    <tr>\n",
       "      <th>21</th>\n",
       "      <td>1930</td>\n",
       "      <td>Uruguay</td>\n",
       "      <td>13</td>\n",
       "      <td>Uruguay</td>\n",
       "      <td>Argentina</td>\n",
       "      <td>Guillermo Stábile - 8</td>\n",
       "      <td>590549</td>\n",
       "      <td>32808</td>\n",
       "      <td>18</td>\n",
       "    </tr>\n",
       "  </tbody>\n",
       "</table>\n",
       "</div>"
      ],
      "text/plain": [
       "    Year                   Host  Teams      Champion       Runner-Up  \\\n",
       "0   2022                  Qatar     32     Argentina          France   \n",
       "1   2018                 Russia     32        France         Croatia   \n",
       "2   2014                 Brazil     32       Germany       Argentina   \n",
       "3   2010           South Africa     32         Spain     Netherlands   \n",
       "4   2006                Germany     32         Italy          France   \n",
       "5   2002  Korea Republic, Japan     32        Brazil         Germany   \n",
       "6   1998                 France     32        France          Brazil   \n",
       "7   1994          United States     24        Brazil           Italy   \n",
       "8   1990                  Italy     24  West Germany       Argentina   \n",
       "9   1986                 Mexico     24     Argentina    West Germany   \n",
       "10  1982                  Spain     24         Italy    West Germany   \n",
       "11  1978              Argentina     16     Argentina     Netherlands   \n",
       "12  1974                Germany     16  West Germany     Netherlands   \n",
       "13  1970                 Mexico     16        Brazil           Italy   \n",
       "14  1966                England     16       England    West Germany   \n",
       "15  1962                  Chile     16        Brazil  Czechoslovakia   \n",
       "16  1958                 Sweden     16        Brazil          Sweden   \n",
       "17  1954            Switzerland     16       Germany         Hungary   \n",
       "18  1950                 Brazil     15       Uruguay          Brazil   \n",
       "19  1938                 France     16         Italy         Hungary   \n",
       "20  1934                  Italy     16         Italy  Czechoslovakia   \n",
       "21  1930                Uruguay     13       Uruguay       Argentina   \n",
       "\n",
       "                               TopScorrer  Attendance  AttendanceAvg  Matches  \n",
       "0                       Kylian Mbappé - 8     3404252          53191       64  \n",
       "1                          Harry Kane - 6     3031768          47371       64  \n",
       "2                     James Rodríguez - 6     3429873          53592       64  \n",
       "3   Wesley Sneijder, Thomas Müller... - 5     3178856          49670       64  \n",
       "4                      Miroslav Klose - 5     3352605          52384       64  \n",
       "5                             Ronaldo - 8     2705337          42271       64  \n",
       "6                         Davor Šuker - 6     2903477          45367       64  \n",
       "7      Hristo Stoichkov, Oleg Salenko - 6     3587538          68991       52  \n",
       "8                 Salvatore Schillaci - 6     2516215          48389       52  \n",
       "9                        Gary Lineker - 6     2394031          46039       52  \n",
       "10                        Paolo Rossi - 6     2109723          40572       52  \n",
       "11                       Mario Kempes - 6     1545791          40679       38  \n",
       "12                      Grzegorz Lato - 7     1865753          49099       38  \n",
       "13                       Gerd Müller - 10     1603975          50124       32  \n",
       "14                            Eusébio - 9     1563135          48848       32  \n",
       "15  Leonel Sánchez, Flórián Albert... - 4      893172          27912       32  \n",
       "16                     Just Fontaine - 13      819810          23423       35  \n",
       "17                     Sándor Kocsis - 11      768607          29562       26  \n",
       "18                             Ademir - 8     1045246          47511       22  \n",
       "19                           Leônidas - 7      375700          20872       18  \n",
       "20                    Oldřich Nejedlý - 5      363000          21353       17  \n",
       "21                  Guillermo Stábile - 8      590549          32808       18  "
      ]
     },
     "execution_count": 2551,
     "metadata": {},
     "output_type": "execute_result"
    }
   ],
   "source": [
    "world_cup"
   ]
  },
  {
   "cell_type": "code",
   "execution_count": 2552,
   "metadata": {},
   "outputs": [],
   "source": [
    "winner = world_cup['Champion'].value_counts().reset_index()"
   ]
  },
  {
   "cell_type": "code",
   "execution_count": 2553,
   "metadata": {},
   "outputs": [
    {
     "data": {
      "application/vnd.plotly.v1+json": {
       "config": {
        "plotlyServerURL": "https://plot.ly"
       },
       "data": [
        {
         "domain": {
          "x": [
           0,
           1
          ],
          "y": [
           0,
           1
          ]
         },
         "hovertemplate": "Champion=%{label}<br>count=%{value}<extra></extra>",
         "labels": [
          "Brazil",
          "Italy",
          "Argentina",
          "France",
          "Germany",
          "West Germany",
          "Uruguay",
          "Spain",
          "England"
         ],
         "legendgroup": "",
         "name": "",
         "showlegend": true,
         "textinfo": "label+value",
         "type": "pie",
         "values": [
          5,
          4,
          3,
          2,
          2,
          2,
          2,
          1,
          1
         ]
        }
       ],
       "layout": {
        "legend": {
         "tracegroupgap": 0
        },
        "template": {
         "data": {
          "bar": [
           {
            "error_x": {
             "color": "#2a3f5f"
            },
            "error_y": {
             "color": "#2a3f5f"
            },
            "marker": {
             "line": {
              "color": "#E5ECF6",
              "width": 0.5
             },
             "pattern": {
              "fillmode": "overlay",
              "size": 10,
              "solidity": 0.2
             }
            },
            "type": "bar"
           }
          ],
          "barpolar": [
           {
            "marker": {
             "line": {
              "color": "#E5ECF6",
              "width": 0.5
             },
             "pattern": {
              "fillmode": "overlay",
              "size": 10,
              "solidity": 0.2
             }
            },
            "type": "barpolar"
           }
          ],
          "carpet": [
           {
            "aaxis": {
             "endlinecolor": "#2a3f5f",
             "gridcolor": "white",
             "linecolor": "white",
             "minorgridcolor": "white",
             "startlinecolor": "#2a3f5f"
            },
            "baxis": {
             "endlinecolor": "#2a3f5f",
             "gridcolor": "white",
             "linecolor": "white",
             "minorgridcolor": "white",
             "startlinecolor": "#2a3f5f"
            },
            "type": "carpet"
           }
          ],
          "choropleth": [
           {
            "colorbar": {
             "outlinewidth": 0,
             "ticks": ""
            },
            "type": "choropleth"
           }
          ],
          "contour": [
           {
            "colorbar": {
             "outlinewidth": 0,
             "ticks": ""
            },
            "colorscale": [
             [
              0,
              "#0d0887"
             ],
             [
              0.1111111111111111,
              "#46039f"
             ],
             [
              0.2222222222222222,
              "#7201a8"
             ],
             [
              0.3333333333333333,
              "#9c179e"
             ],
             [
              0.4444444444444444,
              "#bd3786"
             ],
             [
              0.5555555555555556,
              "#d8576b"
             ],
             [
              0.6666666666666666,
              "#ed7953"
             ],
             [
              0.7777777777777778,
              "#fb9f3a"
             ],
             [
              0.8888888888888888,
              "#fdca26"
             ],
             [
              1,
              "#f0f921"
             ]
            ],
            "type": "contour"
           }
          ],
          "contourcarpet": [
           {
            "colorbar": {
             "outlinewidth": 0,
             "ticks": ""
            },
            "type": "contourcarpet"
           }
          ],
          "heatmap": [
           {
            "colorbar": {
             "outlinewidth": 0,
             "ticks": ""
            },
            "colorscale": [
             [
              0,
              "#0d0887"
             ],
             [
              0.1111111111111111,
              "#46039f"
             ],
             [
              0.2222222222222222,
              "#7201a8"
             ],
             [
              0.3333333333333333,
              "#9c179e"
             ],
             [
              0.4444444444444444,
              "#bd3786"
             ],
             [
              0.5555555555555556,
              "#d8576b"
             ],
             [
              0.6666666666666666,
              "#ed7953"
             ],
             [
              0.7777777777777778,
              "#fb9f3a"
             ],
             [
              0.8888888888888888,
              "#fdca26"
             ],
             [
              1,
              "#f0f921"
             ]
            ],
            "type": "heatmap"
           }
          ],
          "heatmapgl": [
           {
            "colorbar": {
             "outlinewidth": 0,
             "ticks": ""
            },
            "colorscale": [
             [
              0,
              "#0d0887"
             ],
             [
              0.1111111111111111,
              "#46039f"
             ],
             [
              0.2222222222222222,
              "#7201a8"
             ],
             [
              0.3333333333333333,
              "#9c179e"
             ],
             [
              0.4444444444444444,
              "#bd3786"
             ],
             [
              0.5555555555555556,
              "#d8576b"
             ],
             [
              0.6666666666666666,
              "#ed7953"
             ],
             [
              0.7777777777777778,
              "#fb9f3a"
             ],
             [
              0.8888888888888888,
              "#fdca26"
             ],
             [
              1,
              "#f0f921"
             ]
            ],
            "type": "heatmapgl"
           }
          ],
          "histogram": [
           {
            "marker": {
             "pattern": {
              "fillmode": "overlay",
              "size": 10,
              "solidity": 0.2
             }
            },
            "type": "histogram"
           }
          ],
          "histogram2d": [
           {
            "colorbar": {
             "outlinewidth": 0,
             "ticks": ""
            },
            "colorscale": [
             [
              0,
              "#0d0887"
             ],
             [
              0.1111111111111111,
              "#46039f"
             ],
             [
              0.2222222222222222,
              "#7201a8"
             ],
             [
              0.3333333333333333,
              "#9c179e"
             ],
             [
              0.4444444444444444,
              "#bd3786"
             ],
             [
              0.5555555555555556,
              "#d8576b"
             ],
             [
              0.6666666666666666,
              "#ed7953"
             ],
             [
              0.7777777777777778,
              "#fb9f3a"
             ],
             [
              0.8888888888888888,
              "#fdca26"
             ],
             [
              1,
              "#f0f921"
             ]
            ],
            "type": "histogram2d"
           }
          ],
          "histogram2dcontour": [
           {
            "colorbar": {
             "outlinewidth": 0,
             "ticks": ""
            },
            "colorscale": [
             [
              0,
              "#0d0887"
             ],
             [
              0.1111111111111111,
              "#46039f"
             ],
             [
              0.2222222222222222,
              "#7201a8"
             ],
             [
              0.3333333333333333,
              "#9c179e"
             ],
             [
              0.4444444444444444,
              "#bd3786"
             ],
             [
              0.5555555555555556,
              "#d8576b"
             ],
             [
              0.6666666666666666,
              "#ed7953"
             ],
             [
              0.7777777777777778,
              "#fb9f3a"
             ],
             [
              0.8888888888888888,
              "#fdca26"
             ],
             [
              1,
              "#f0f921"
             ]
            ],
            "type": "histogram2dcontour"
           }
          ],
          "mesh3d": [
           {
            "colorbar": {
             "outlinewidth": 0,
             "ticks": ""
            },
            "type": "mesh3d"
           }
          ],
          "parcoords": [
           {
            "line": {
             "colorbar": {
              "outlinewidth": 0,
              "ticks": ""
             }
            },
            "type": "parcoords"
           }
          ],
          "pie": [
           {
            "automargin": true,
            "type": "pie"
           }
          ],
          "scatter": [
           {
            "fillpattern": {
             "fillmode": "overlay",
             "size": 10,
             "solidity": 0.2
            },
            "type": "scatter"
           }
          ],
          "scatter3d": [
           {
            "line": {
             "colorbar": {
              "outlinewidth": 0,
              "ticks": ""
             }
            },
            "marker": {
             "colorbar": {
              "outlinewidth": 0,
              "ticks": ""
             }
            },
            "type": "scatter3d"
           }
          ],
          "scattercarpet": [
           {
            "marker": {
             "colorbar": {
              "outlinewidth": 0,
              "ticks": ""
             }
            },
            "type": "scattercarpet"
           }
          ],
          "scattergeo": [
           {
            "marker": {
             "colorbar": {
              "outlinewidth": 0,
              "ticks": ""
             }
            },
            "type": "scattergeo"
           }
          ],
          "scattergl": [
           {
            "marker": {
             "colorbar": {
              "outlinewidth": 0,
              "ticks": ""
             }
            },
            "type": "scattergl"
           }
          ],
          "scattermapbox": [
           {
            "marker": {
             "colorbar": {
              "outlinewidth": 0,
              "ticks": ""
             }
            },
            "type": "scattermapbox"
           }
          ],
          "scatterpolar": [
           {
            "marker": {
             "colorbar": {
              "outlinewidth": 0,
              "ticks": ""
             }
            },
            "type": "scatterpolar"
           }
          ],
          "scatterpolargl": [
           {
            "marker": {
             "colorbar": {
              "outlinewidth": 0,
              "ticks": ""
             }
            },
            "type": "scatterpolargl"
           }
          ],
          "scatterternary": [
           {
            "marker": {
             "colorbar": {
              "outlinewidth": 0,
              "ticks": ""
             }
            },
            "type": "scatterternary"
           }
          ],
          "surface": [
           {
            "colorbar": {
             "outlinewidth": 0,
             "ticks": ""
            },
            "colorscale": [
             [
              0,
              "#0d0887"
             ],
             [
              0.1111111111111111,
              "#46039f"
             ],
             [
              0.2222222222222222,
              "#7201a8"
             ],
             [
              0.3333333333333333,
              "#9c179e"
             ],
             [
              0.4444444444444444,
              "#bd3786"
             ],
             [
              0.5555555555555556,
              "#d8576b"
             ],
             [
              0.6666666666666666,
              "#ed7953"
             ],
             [
              0.7777777777777778,
              "#fb9f3a"
             ],
             [
              0.8888888888888888,
              "#fdca26"
             ],
             [
              1,
              "#f0f921"
             ]
            ],
            "type": "surface"
           }
          ],
          "table": [
           {
            "cells": {
             "fill": {
              "color": "#EBF0F8"
             },
             "line": {
              "color": "white"
             }
            },
            "header": {
             "fill": {
              "color": "#C8D4E3"
             },
             "line": {
              "color": "white"
             }
            },
            "type": "table"
           }
          ]
         },
         "layout": {
          "annotationdefaults": {
           "arrowcolor": "#2a3f5f",
           "arrowhead": 0,
           "arrowwidth": 1
          },
          "autotypenumbers": "strict",
          "coloraxis": {
           "colorbar": {
            "outlinewidth": 0,
            "ticks": ""
           }
          },
          "colorscale": {
           "diverging": [
            [
             0,
             "#8e0152"
            ],
            [
             0.1,
             "#c51b7d"
            ],
            [
             0.2,
             "#de77ae"
            ],
            [
             0.3,
             "#f1b6da"
            ],
            [
             0.4,
             "#fde0ef"
            ],
            [
             0.5,
             "#f7f7f7"
            ],
            [
             0.6,
             "#e6f5d0"
            ],
            [
             0.7,
             "#b8e186"
            ],
            [
             0.8,
             "#7fbc41"
            ],
            [
             0.9,
             "#4d9221"
            ],
            [
             1,
             "#276419"
            ]
           ],
           "sequential": [
            [
             0,
             "#0d0887"
            ],
            [
             0.1111111111111111,
             "#46039f"
            ],
            [
             0.2222222222222222,
             "#7201a8"
            ],
            [
             0.3333333333333333,
             "#9c179e"
            ],
            [
             0.4444444444444444,
             "#bd3786"
            ],
            [
             0.5555555555555556,
             "#d8576b"
            ],
            [
             0.6666666666666666,
             "#ed7953"
            ],
            [
             0.7777777777777778,
             "#fb9f3a"
            ],
            [
             0.8888888888888888,
             "#fdca26"
            ],
            [
             1,
             "#f0f921"
            ]
           ],
           "sequentialminus": [
            [
             0,
             "#0d0887"
            ],
            [
             0.1111111111111111,
             "#46039f"
            ],
            [
             0.2222222222222222,
             "#7201a8"
            ],
            [
             0.3333333333333333,
             "#9c179e"
            ],
            [
             0.4444444444444444,
             "#bd3786"
            ],
            [
             0.5555555555555556,
             "#d8576b"
            ],
            [
             0.6666666666666666,
             "#ed7953"
            ],
            [
             0.7777777777777778,
             "#fb9f3a"
            ],
            [
             0.8888888888888888,
             "#fdca26"
            ],
            [
             1,
             "#f0f921"
            ]
           ]
          },
          "colorway": [
           "#636efa",
           "#EF553B",
           "#00cc96",
           "#ab63fa",
           "#FFA15A",
           "#19d3f3",
           "#FF6692",
           "#B6E880",
           "#FF97FF",
           "#FECB52"
          ],
          "font": {
           "color": "#2a3f5f"
          },
          "geo": {
           "bgcolor": "white",
           "lakecolor": "white",
           "landcolor": "#E5ECF6",
           "showlakes": true,
           "showland": true,
           "subunitcolor": "white"
          },
          "hoverlabel": {
           "align": "left"
          },
          "hovermode": "closest",
          "mapbox": {
           "style": "light"
          },
          "paper_bgcolor": "white",
          "plot_bgcolor": "#E5ECF6",
          "polar": {
           "angularaxis": {
            "gridcolor": "white",
            "linecolor": "white",
            "ticks": ""
           },
           "bgcolor": "#E5ECF6",
           "radialaxis": {
            "gridcolor": "white",
            "linecolor": "white",
            "ticks": ""
           }
          },
          "scene": {
           "xaxis": {
            "backgroundcolor": "#E5ECF6",
            "gridcolor": "white",
            "gridwidth": 2,
            "linecolor": "white",
            "showbackground": true,
            "ticks": "",
            "zerolinecolor": "white"
           },
           "yaxis": {
            "backgroundcolor": "#E5ECF6",
            "gridcolor": "white",
            "gridwidth": 2,
            "linecolor": "white",
            "showbackground": true,
            "ticks": "",
            "zerolinecolor": "white"
           },
           "zaxis": {
            "backgroundcolor": "#E5ECF6",
            "gridcolor": "white",
            "gridwidth": 2,
            "linecolor": "white",
            "showbackground": true,
            "ticks": "",
            "zerolinecolor": "white"
           }
          },
          "shapedefaults": {
           "line": {
            "color": "#2a3f5f"
           }
          },
          "ternary": {
           "aaxis": {
            "gridcolor": "white",
            "linecolor": "white",
            "ticks": ""
           },
           "baxis": {
            "gridcolor": "white",
            "linecolor": "white",
            "ticks": ""
           },
           "bgcolor": "#E5ECF6",
           "caxis": {
            "gridcolor": "white",
            "linecolor": "white",
            "ticks": ""
           }
          },
          "title": {
           "x": 0.05
          },
          "xaxis": {
           "automargin": true,
           "gridcolor": "white",
           "linecolor": "white",
           "ticks": "",
           "title": {
            "standoff": 15
           },
           "zerolinecolor": "white",
           "zerolinewidth": 2
          },
          "yaxis": {
           "automargin": true,
           "gridcolor": "white",
           "linecolor": "white",
           "ticks": "",
           "title": {
            "standoff": 15
           },
           "zerolinecolor": "white",
           "zerolinewidth": 2
          }
         }
        },
        "title": {
         "text": " Number of times a country won FIFA"
        }
       }
      }
     },
     "metadata": {},
     "output_type": "display_data"
    },
    {
     "data": {
      "text/plain": [
       "22"
      ]
     },
     "execution_count": 2553,
     "metadata": {},
     "output_type": "execute_result"
    }
   ],
   "source": [
    "# make a pie chart for better visulaization\n",
    "fig = ex.pie(winner , values = 'count' , names='Champion',title = ' Number of times a country won FIFA')\n",
    "# customize the pie chart for seeing the values instead of prcetanges \n",
    "fig.update_traces(textinfo = 'label + value')\n",
    "fig.show()\n",
    "sum(winner['count'])"
   ]
  },
  {
   "cell_type": "markdown",
   "metadata": {},
   "source": [
    "## now here we find the runner up and 2nd runner up "
   ]
  },
  {
   "cell_type": "code",
   "execution_count": 2554,
   "metadata": {},
   "outputs": [
    {
     "data": {
      "text/html": [
       "<div>\n",
       "<style scoped>\n",
       "    .dataframe tbody tr th:only-of-type {\n",
       "        vertical-align: middle;\n",
       "    }\n",
       "\n",
       "    .dataframe tbody tr th {\n",
       "        vertical-align: top;\n",
       "    }\n",
       "\n",
       "    .dataframe thead th {\n",
       "        text-align: right;\n",
       "    }\n",
       "</style>\n",
       "<table border=\"1\" class=\"dataframe\">\n",
       "  <thead>\n",
       "    <tr style=\"text-align: right;\">\n",
       "      <th></th>\n",
       "      <th>Year</th>\n",
       "      <th>Host</th>\n",
       "      <th>Teams</th>\n",
       "      <th>Champion</th>\n",
       "      <th>Runner-Up</th>\n",
       "      <th>TopScorrer</th>\n",
       "      <th>Attendance</th>\n",
       "      <th>AttendanceAvg</th>\n",
       "      <th>Matches</th>\n",
       "    </tr>\n",
       "  </thead>\n",
       "  <tbody>\n",
       "    <tr>\n",
       "      <th>0</th>\n",
       "      <td>2022</td>\n",
       "      <td>Qatar</td>\n",
       "      <td>32</td>\n",
       "      <td>Argentina</td>\n",
       "      <td>France</td>\n",
       "      <td>Kylian Mbappé - 8</td>\n",
       "      <td>3404252</td>\n",
       "      <td>53191</td>\n",
       "      <td>64</td>\n",
       "    </tr>\n",
       "    <tr>\n",
       "      <th>1</th>\n",
       "      <td>2018</td>\n",
       "      <td>Russia</td>\n",
       "      <td>32</td>\n",
       "      <td>France</td>\n",
       "      <td>Croatia</td>\n",
       "      <td>Harry Kane - 6</td>\n",
       "      <td>3031768</td>\n",
       "      <td>47371</td>\n",
       "      <td>64</td>\n",
       "    </tr>\n",
       "    <tr>\n",
       "      <th>2</th>\n",
       "      <td>2014</td>\n",
       "      <td>Brazil</td>\n",
       "      <td>32</td>\n",
       "      <td>Germany</td>\n",
       "      <td>Argentina</td>\n",
       "      <td>James Rodríguez - 6</td>\n",
       "      <td>3429873</td>\n",
       "      <td>53592</td>\n",
       "      <td>64</td>\n",
       "    </tr>\n",
       "    <tr>\n",
       "      <th>3</th>\n",
       "      <td>2010</td>\n",
       "      <td>South Africa</td>\n",
       "      <td>32</td>\n",
       "      <td>Spain</td>\n",
       "      <td>Netherlands</td>\n",
       "      <td>Wesley Sneijder, Thomas Müller... - 5</td>\n",
       "      <td>3178856</td>\n",
       "      <td>49670</td>\n",
       "      <td>64</td>\n",
       "    </tr>\n",
       "    <tr>\n",
       "      <th>4</th>\n",
       "      <td>2006</td>\n",
       "      <td>Germany</td>\n",
       "      <td>32</td>\n",
       "      <td>Italy</td>\n",
       "      <td>France</td>\n",
       "      <td>Miroslav Klose - 5</td>\n",
       "      <td>3352605</td>\n",
       "      <td>52384</td>\n",
       "      <td>64</td>\n",
       "    </tr>\n",
       "  </tbody>\n",
       "</table>\n",
       "</div>"
      ],
      "text/plain": [
       "   Year          Host  Teams   Champion    Runner-Up  \\\n",
       "0  2022         Qatar     32  Argentina       France   \n",
       "1  2018        Russia     32     France      Croatia   \n",
       "2  2014        Brazil     32    Germany    Argentina   \n",
       "3  2010  South Africa     32      Spain  Netherlands   \n",
       "4  2006       Germany     32      Italy       France   \n",
       "\n",
       "                              TopScorrer  Attendance  AttendanceAvg  Matches  \n",
       "0                      Kylian Mbappé - 8     3404252          53191       64  \n",
       "1                         Harry Kane - 6     3031768          47371       64  \n",
       "2                    James Rodríguez - 6     3429873          53592       64  \n",
       "3  Wesley Sneijder, Thomas Müller... - 5     3178856          49670       64  \n",
       "4                     Miroslav Klose - 5     3352605          52384       64  "
      ]
     },
     "execution_count": 2554,
     "metadata": {},
     "output_type": "execute_result"
    }
   ],
   "source": [
    "world_cup.head()"
   ]
  },
  {
   "cell_type": "code",
   "execution_count": 2555,
   "metadata": {},
   "outputs": [],
   "source": [
    "Runner_up = world_cup['Runner-Up'].value_counts().reset_index()"
   ]
  },
  {
   "cell_type": "code",
   "execution_count": 2556,
   "metadata": {},
   "outputs": [
    {
     "data": {
      "application/vnd.plotly.v1+json": {
       "config": {
        "plotlyServerURL": "https://plot.ly"
       },
       "data": [
        {
         "domain": {
          "x": [
           0,
           1
          ],
          "y": [
           0,
           1
          ]
         },
         "hovertemplate": "Runner-Up=%{label}<br>count=%{value}<extra></extra>",
         "labels": [
          "Argentina",
          "Netherlands",
          "West Germany",
          "France",
          "Brazil",
          "Italy",
          "Czechoslovakia",
          "Hungary",
          "Croatia",
          "Germany",
          "Sweden"
         ],
         "legendgroup": "",
         "name": "",
         "showlegend": true,
         "textinfo": "label+value",
         "type": "pie",
         "values": [
          3,
          3,
          3,
          2,
          2,
          2,
          2,
          2,
          1,
          1,
          1
         ]
        }
       ],
       "layout": {
        "legend": {
         "tracegroupgap": 0
        },
        "template": {
         "data": {
          "bar": [
           {
            "error_x": {
             "color": "#2a3f5f"
            },
            "error_y": {
             "color": "#2a3f5f"
            },
            "marker": {
             "line": {
              "color": "#E5ECF6",
              "width": 0.5
             },
             "pattern": {
              "fillmode": "overlay",
              "size": 10,
              "solidity": 0.2
             }
            },
            "type": "bar"
           }
          ],
          "barpolar": [
           {
            "marker": {
             "line": {
              "color": "#E5ECF6",
              "width": 0.5
             },
             "pattern": {
              "fillmode": "overlay",
              "size": 10,
              "solidity": 0.2
             }
            },
            "type": "barpolar"
           }
          ],
          "carpet": [
           {
            "aaxis": {
             "endlinecolor": "#2a3f5f",
             "gridcolor": "white",
             "linecolor": "white",
             "minorgridcolor": "white",
             "startlinecolor": "#2a3f5f"
            },
            "baxis": {
             "endlinecolor": "#2a3f5f",
             "gridcolor": "white",
             "linecolor": "white",
             "minorgridcolor": "white",
             "startlinecolor": "#2a3f5f"
            },
            "type": "carpet"
           }
          ],
          "choropleth": [
           {
            "colorbar": {
             "outlinewidth": 0,
             "ticks": ""
            },
            "type": "choropleth"
           }
          ],
          "contour": [
           {
            "colorbar": {
             "outlinewidth": 0,
             "ticks": ""
            },
            "colorscale": [
             [
              0,
              "#0d0887"
             ],
             [
              0.1111111111111111,
              "#46039f"
             ],
             [
              0.2222222222222222,
              "#7201a8"
             ],
             [
              0.3333333333333333,
              "#9c179e"
             ],
             [
              0.4444444444444444,
              "#bd3786"
             ],
             [
              0.5555555555555556,
              "#d8576b"
             ],
             [
              0.6666666666666666,
              "#ed7953"
             ],
             [
              0.7777777777777778,
              "#fb9f3a"
             ],
             [
              0.8888888888888888,
              "#fdca26"
             ],
             [
              1,
              "#f0f921"
             ]
            ],
            "type": "contour"
           }
          ],
          "contourcarpet": [
           {
            "colorbar": {
             "outlinewidth": 0,
             "ticks": ""
            },
            "type": "contourcarpet"
           }
          ],
          "heatmap": [
           {
            "colorbar": {
             "outlinewidth": 0,
             "ticks": ""
            },
            "colorscale": [
             [
              0,
              "#0d0887"
             ],
             [
              0.1111111111111111,
              "#46039f"
             ],
             [
              0.2222222222222222,
              "#7201a8"
             ],
             [
              0.3333333333333333,
              "#9c179e"
             ],
             [
              0.4444444444444444,
              "#bd3786"
             ],
             [
              0.5555555555555556,
              "#d8576b"
             ],
             [
              0.6666666666666666,
              "#ed7953"
             ],
             [
              0.7777777777777778,
              "#fb9f3a"
             ],
             [
              0.8888888888888888,
              "#fdca26"
             ],
             [
              1,
              "#f0f921"
             ]
            ],
            "type": "heatmap"
           }
          ],
          "heatmapgl": [
           {
            "colorbar": {
             "outlinewidth": 0,
             "ticks": ""
            },
            "colorscale": [
             [
              0,
              "#0d0887"
             ],
             [
              0.1111111111111111,
              "#46039f"
             ],
             [
              0.2222222222222222,
              "#7201a8"
             ],
             [
              0.3333333333333333,
              "#9c179e"
             ],
             [
              0.4444444444444444,
              "#bd3786"
             ],
             [
              0.5555555555555556,
              "#d8576b"
             ],
             [
              0.6666666666666666,
              "#ed7953"
             ],
             [
              0.7777777777777778,
              "#fb9f3a"
             ],
             [
              0.8888888888888888,
              "#fdca26"
             ],
             [
              1,
              "#f0f921"
             ]
            ],
            "type": "heatmapgl"
           }
          ],
          "histogram": [
           {
            "marker": {
             "pattern": {
              "fillmode": "overlay",
              "size": 10,
              "solidity": 0.2
             }
            },
            "type": "histogram"
           }
          ],
          "histogram2d": [
           {
            "colorbar": {
             "outlinewidth": 0,
             "ticks": ""
            },
            "colorscale": [
             [
              0,
              "#0d0887"
             ],
             [
              0.1111111111111111,
              "#46039f"
             ],
             [
              0.2222222222222222,
              "#7201a8"
             ],
             [
              0.3333333333333333,
              "#9c179e"
             ],
             [
              0.4444444444444444,
              "#bd3786"
             ],
             [
              0.5555555555555556,
              "#d8576b"
             ],
             [
              0.6666666666666666,
              "#ed7953"
             ],
             [
              0.7777777777777778,
              "#fb9f3a"
             ],
             [
              0.8888888888888888,
              "#fdca26"
             ],
             [
              1,
              "#f0f921"
             ]
            ],
            "type": "histogram2d"
           }
          ],
          "histogram2dcontour": [
           {
            "colorbar": {
             "outlinewidth": 0,
             "ticks": ""
            },
            "colorscale": [
             [
              0,
              "#0d0887"
             ],
             [
              0.1111111111111111,
              "#46039f"
             ],
             [
              0.2222222222222222,
              "#7201a8"
             ],
             [
              0.3333333333333333,
              "#9c179e"
             ],
             [
              0.4444444444444444,
              "#bd3786"
             ],
             [
              0.5555555555555556,
              "#d8576b"
             ],
             [
              0.6666666666666666,
              "#ed7953"
             ],
             [
              0.7777777777777778,
              "#fb9f3a"
             ],
             [
              0.8888888888888888,
              "#fdca26"
             ],
             [
              1,
              "#f0f921"
             ]
            ],
            "type": "histogram2dcontour"
           }
          ],
          "mesh3d": [
           {
            "colorbar": {
             "outlinewidth": 0,
             "ticks": ""
            },
            "type": "mesh3d"
           }
          ],
          "parcoords": [
           {
            "line": {
             "colorbar": {
              "outlinewidth": 0,
              "ticks": ""
             }
            },
            "type": "parcoords"
           }
          ],
          "pie": [
           {
            "automargin": true,
            "type": "pie"
           }
          ],
          "scatter": [
           {
            "fillpattern": {
             "fillmode": "overlay",
             "size": 10,
             "solidity": 0.2
            },
            "type": "scatter"
           }
          ],
          "scatter3d": [
           {
            "line": {
             "colorbar": {
              "outlinewidth": 0,
              "ticks": ""
             }
            },
            "marker": {
             "colorbar": {
              "outlinewidth": 0,
              "ticks": ""
             }
            },
            "type": "scatter3d"
           }
          ],
          "scattercarpet": [
           {
            "marker": {
             "colorbar": {
              "outlinewidth": 0,
              "ticks": ""
             }
            },
            "type": "scattercarpet"
           }
          ],
          "scattergeo": [
           {
            "marker": {
             "colorbar": {
              "outlinewidth": 0,
              "ticks": ""
             }
            },
            "type": "scattergeo"
           }
          ],
          "scattergl": [
           {
            "marker": {
             "colorbar": {
              "outlinewidth": 0,
              "ticks": ""
             }
            },
            "type": "scattergl"
           }
          ],
          "scattermapbox": [
           {
            "marker": {
             "colorbar": {
              "outlinewidth": 0,
              "ticks": ""
             }
            },
            "type": "scattermapbox"
           }
          ],
          "scatterpolar": [
           {
            "marker": {
             "colorbar": {
              "outlinewidth": 0,
              "ticks": ""
             }
            },
            "type": "scatterpolar"
           }
          ],
          "scatterpolargl": [
           {
            "marker": {
             "colorbar": {
              "outlinewidth": 0,
              "ticks": ""
             }
            },
            "type": "scatterpolargl"
           }
          ],
          "scatterternary": [
           {
            "marker": {
             "colorbar": {
              "outlinewidth": 0,
              "ticks": ""
             }
            },
            "type": "scatterternary"
           }
          ],
          "surface": [
           {
            "colorbar": {
             "outlinewidth": 0,
             "ticks": ""
            },
            "colorscale": [
             [
              0,
              "#0d0887"
             ],
             [
              0.1111111111111111,
              "#46039f"
             ],
             [
              0.2222222222222222,
              "#7201a8"
             ],
             [
              0.3333333333333333,
              "#9c179e"
             ],
             [
              0.4444444444444444,
              "#bd3786"
             ],
             [
              0.5555555555555556,
              "#d8576b"
             ],
             [
              0.6666666666666666,
              "#ed7953"
             ],
             [
              0.7777777777777778,
              "#fb9f3a"
             ],
             [
              0.8888888888888888,
              "#fdca26"
             ],
             [
              1,
              "#f0f921"
             ]
            ],
            "type": "surface"
           }
          ],
          "table": [
           {
            "cells": {
             "fill": {
              "color": "#EBF0F8"
             },
             "line": {
              "color": "white"
             }
            },
            "header": {
             "fill": {
              "color": "#C8D4E3"
             },
             "line": {
              "color": "white"
             }
            },
            "type": "table"
           }
          ]
         },
         "layout": {
          "annotationdefaults": {
           "arrowcolor": "#2a3f5f",
           "arrowhead": 0,
           "arrowwidth": 1
          },
          "autotypenumbers": "strict",
          "coloraxis": {
           "colorbar": {
            "outlinewidth": 0,
            "ticks": ""
           }
          },
          "colorscale": {
           "diverging": [
            [
             0,
             "#8e0152"
            ],
            [
             0.1,
             "#c51b7d"
            ],
            [
             0.2,
             "#de77ae"
            ],
            [
             0.3,
             "#f1b6da"
            ],
            [
             0.4,
             "#fde0ef"
            ],
            [
             0.5,
             "#f7f7f7"
            ],
            [
             0.6,
             "#e6f5d0"
            ],
            [
             0.7,
             "#b8e186"
            ],
            [
             0.8,
             "#7fbc41"
            ],
            [
             0.9,
             "#4d9221"
            ],
            [
             1,
             "#276419"
            ]
           ],
           "sequential": [
            [
             0,
             "#0d0887"
            ],
            [
             0.1111111111111111,
             "#46039f"
            ],
            [
             0.2222222222222222,
             "#7201a8"
            ],
            [
             0.3333333333333333,
             "#9c179e"
            ],
            [
             0.4444444444444444,
             "#bd3786"
            ],
            [
             0.5555555555555556,
             "#d8576b"
            ],
            [
             0.6666666666666666,
             "#ed7953"
            ],
            [
             0.7777777777777778,
             "#fb9f3a"
            ],
            [
             0.8888888888888888,
             "#fdca26"
            ],
            [
             1,
             "#f0f921"
            ]
           ],
           "sequentialminus": [
            [
             0,
             "#0d0887"
            ],
            [
             0.1111111111111111,
             "#46039f"
            ],
            [
             0.2222222222222222,
             "#7201a8"
            ],
            [
             0.3333333333333333,
             "#9c179e"
            ],
            [
             0.4444444444444444,
             "#bd3786"
            ],
            [
             0.5555555555555556,
             "#d8576b"
            ],
            [
             0.6666666666666666,
             "#ed7953"
            ],
            [
             0.7777777777777778,
             "#fb9f3a"
            ],
            [
             0.8888888888888888,
             "#fdca26"
            ],
            [
             1,
             "#f0f921"
            ]
           ]
          },
          "colorway": [
           "#636efa",
           "#EF553B",
           "#00cc96",
           "#ab63fa",
           "#FFA15A",
           "#19d3f3",
           "#FF6692",
           "#B6E880",
           "#FF97FF",
           "#FECB52"
          ],
          "font": {
           "color": "#2a3f5f"
          },
          "geo": {
           "bgcolor": "white",
           "lakecolor": "white",
           "landcolor": "#E5ECF6",
           "showlakes": true,
           "showland": true,
           "subunitcolor": "white"
          },
          "hoverlabel": {
           "align": "left"
          },
          "hovermode": "closest",
          "mapbox": {
           "style": "light"
          },
          "paper_bgcolor": "white",
          "plot_bgcolor": "#E5ECF6",
          "polar": {
           "angularaxis": {
            "gridcolor": "white",
            "linecolor": "white",
            "ticks": ""
           },
           "bgcolor": "#E5ECF6",
           "radialaxis": {
            "gridcolor": "white",
            "linecolor": "white",
            "ticks": ""
           }
          },
          "scene": {
           "xaxis": {
            "backgroundcolor": "#E5ECF6",
            "gridcolor": "white",
            "gridwidth": 2,
            "linecolor": "white",
            "showbackground": true,
            "ticks": "",
            "zerolinecolor": "white"
           },
           "yaxis": {
            "backgroundcolor": "#E5ECF6",
            "gridcolor": "white",
            "gridwidth": 2,
            "linecolor": "white",
            "showbackground": true,
            "ticks": "",
            "zerolinecolor": "white"
           },
           "zaxis": {
            "backgroundcolor": "#E5ECF6",
            "gridcolor": "white",
            "gridwidth": 2,
            "linecolor": "white",
            "showbackground": true,
            "ticks": "",
            "zerolinecolor": "white"
           }
          },
          "shapedefaults": {
           "line": {
            "color": "#2a3f5f"
           }
          },
          "ternary": {
           "aaxis": {
            "gridcolor": "white",
            "linecolor": "white",
            "ticks": ""
           },
           "baxis": {
            "gridcolor": "white",
            "linecolor": "white",
            "ticks": ""
           },
           "bgcolor": "#E5ECF6",
           "caxis": {
            "gridcolor": "white",
            "linecolor": "white",
            "ticks": ""
           }
          },
          "title": {
           "x": 0.05
          },
          "xaxis": {
           "automargin": true,
           "gridcolor": "white",
           "linecolor": "white",
           "ticks": "",
           "title": {
            "standoff": 15
           },
           "zerolinecolor": "white",
           "zerolinewidth": 2
          },
          "yaxis": {
           "automargin": true,
           "gridcolor": "white",
           "linecolor": "white",
           "ticks": "",
           "title": {
            "standoff": 15
           },
           "zerolinecolor": "white",
           "zerolinewidth": 2
          }
         }
        },
        "title": {
         "text": " Number of times a country lose the final"
        }
       }
      }
     },
     "metadata": {},
     "output_type": "display_data"
    },
    {
     "data": {
      "text/plain": [
       "22"
      ]
     },
     "execution_count": 2556,
     "metadata": {},
     "output_type": "execute_result"
    }
   ],
   "source": [
    "# make a pie chart for better visulaization\n",
    "fig = ex.pie(Runner_up , values = 'count' , names='Runner-Up',title = ' Number of times a country lose the final')\n",
    "# customize the pie chart for seeing the values instead of prcetanges \n",
    "fig.update_traces(textinfo = 'label + value')\n",
    "fig.show()\n",
    "sum(Runner_up['count'])"
   ]
  },
  {
   "cell_type": "code",
   "execution_count": 2557,
   "metadata": {},
   "outputs": [],
   "source": [
    "second_runner_up =  matches[matches['Round'] =='Third-place match'].reset_index()"
   ]
  },
  {
   "cell_type": "code",
   "execution_count": 2558,
   "metadata": {},
   "outputs": [],
   "source": [
    "second_runner_up['home_penalty'].fillna(0 , inplace = True)\n",
    "second_runner_up['away_penalty'].fillna(0 , inplace = True)\n"
   ]
  },
  {
   "cell_type": "code",
   "execution_count": 2559,
   "metadata": {},
   "outputs": [
    {
     "data": {
      "text/html": [
       "<div>\n",
       "<style scoped>\n",
       "    .dataframe tbody tr th:only-of-type {\n",
       "        vertical-align: middle;\n",
       "    }\n",
       "\n",
       "    .dataframe tbody tr th {\n",
       "        vertical-align: top;\n",
       "    }\n",
       "\n",
       "    .dataframe thead th {\n",
       "        text-align: right;\n",
       "    }\n",
       "</style>\n",
       "<table border=\"1\" class=\"dataframe\">\n",
       "  <thead>\n",
       "    <tr style=\"text-align: right;\">\n",
       "      <th></th>\n",
       "      <th>index</th>\n",
       "      <th>home_team</th>\n",
       "      <th>away_team</th>\n",
       "      <th>home_score</th>\n",
       "      <th>home_xg</th>\n",
       "      <th>home_penalty</th>\n",
       "      <th>away_score</th>\n",
       "      <th>away_xg</th>\n",
       "      <th>away_penalty</th>\n",
       "      <th>home_manager</th>\n",
       "      <th>...</th>\n",
       "      <th>home_penalty_shootout_miss_long</th>\n",
       "      <th>away_penalty_shootout_miss_long</th>\n",
       "      <th>home_red_card</th>\n",
       "      <th>away_red_card</th>\n",
       "      <th>home_yellow_red_card</th>\n",
       "      <th>away_yellow_red_card</th>\n",
       "      <th>home_yellow_card_long</th>\n",
       "      <th>away_yellow_card_long</th>\n",
       "      <th>home_substitute_in_long</th>\n",
       "      <th>away_substitute_in_long</th>\n",
       "    </tr>\n",
       "  </thead>\n",
       "  <tbody>\n",
       "    <tr>\n",
       "      <th>0</th>\n",
       "      <td>1</td>\n",
       "      <td>Croatia</td>\n",
       "      <td>Morocco</td>\n",
       "      <td>2</td>\n",
       "      <td>0.7</td>\n",
       "      <td>0.0</td>\n",
       "      <td>1</td>\n",
       "      <td>1.2</td>\n",
       "      <td>0.0</td>\n",
       "      <td>Zlatko Dalić</td>\n",
       "      <td>...</td>\n",
       "      <td>NaN</td>\n",
       "      <td>NaN</td>\n",
       "      <td>NaN</td>\n",
       "      <td>NaN</td>\n",
       "      <td>NaN</td>\n",
       "      <td>NaN</td>\n",
       "      <td>NaN</td>\n",
       "      <td>['69&amp;rsquor;|2:1|Azzedine Ounahi', '84&amp;rsquor;...</td>\n",
       "      <td>['61&amp;rsquor;|2:1|Nikola Vlašić|for Andrej Kram...</td>\n",
       "      <td>['46&amp;rsquor;|2:1|Ilias Chair|for Abdelhamid Sa...</td>\n",
       "    </tr>\n",
       "    <tr>\n",
       "      <th>1</th>\n",
       "      <td>65</td>\n",
       "      <td>Belgium</td>\n",
       "      <td>England</td>\n",
       "      <td>2</td>\n",
       "      <td>1.5</td>\n",
       "      <td>0.0</td>\n",
       "      <td>0</td>\n",
       "      <td>1.0</td>\n",
       "      <td>0.0</td>\n",
       "      <td>Roberto Martínez</td>\n",
       "      <td>...</td>\n",
       "      <td>NaN</td>\n",
       "      <td>NaN</td>\n",
       "      <td>NaN</td>\n",
       "      <td>NaN</td>\n",
       "      <td>NaN</td>\n",
       "      <td>NaN</td>\n",
       "      <td>['90+3&amp;rsquor;|2:0|Axel Witsel']</td>\n",
       "      <td>['52&amp;rsquor;|1:0|John Stones', '77&amp;rsquor;|1:0...</td>\n",
       "      <td>['39&amp;rsquor;|1:0|Thomas Vermaelen|for Nacer Ch...</td>\n",
       "      <td>['46&amp;rsquor;|1:0|Jesse Lingard|for Danny Rose'...</td>\n",
       "    </tr>\n",
       "    <tr>\n",
       "      <th>2</th>\n",
       "      <td>129</td>\n",
       "      <td>Brazil</td>\n",
       "      <td>Netherlands</td>\n",
       "      <td>0</td>\n",
       "      <td>NaN</td>\n",
       "      <td>0.0</td>\n",
       "      <td>3</td>\n",
       "      <td>NaN</td>\n",
       "      <td>0.0</td>\n",
       "      <td>Luiz Felipe Scolari</td>\n",
       "      <td>...</td>\n",
       "      <td>NaN</td>\n",
       "      <td>NaN</td>\n",
       "      <td>NaN</td>\n",
       "      <td>NaN</td>\n",
       "      <td>NaN</td>\n",
       "      <td>NaN</td>\n",
       "      <td>['2&amp;rsquor;|0:0|Thiago Silva', '54&amp;rsquor;|0:2...</td>\n",
       "      <td>['9&amp;rsquor;|0:1|Arjen Robben', '36&amp;rsquor;|0:2...</td>\n",
       "      <td>['46&amp;rsquor;|0:2|Fernandinho|for Luiz Gustavo'...</td>\n",
       "      <td>['70&amp;rsquor;|0:2|Daryl Janmaat|for Daley Blind...</td>\n",
       "    </tr>\n",
       "    <tr>\n",
       "      <th>3</th>\n",
       "      <td>193</td>\n",
       "      <td>Uruguay</td>\n",
       "      <td>Germany</td>\n",
       "      <td>2</td>\n",
       "      <td>NaN</td>\n",
       "      <td>0.0</td>\n",
       "      <td>3</td>\n",
       "      <td>NaN</td>\n",
       "      <td>0.0</td>\n",
       "      <td>Óscar Tabárez</td>\n",
       "      <td>...</td>\n",
       "      <td>NaN</td>\n",
       "      <td>NaN</td>\n",
       "      <td>NaN</td>\n",
       "      <td>NaN</td>\n",
       "      <td>NaN</td>\n",
       "      <td>NaN</td>\n",
       "      <td>['61&amp;rsquor;|2:2|Diego Pérez']</td>\n",
       "      <td>['5&amp;rsquor;|0:0|Dennis Aogo', '90+2&amp;rsquor;|2:...</td>\n",
       "      <td>['77&amp;rsquor;|2:2|Walter Gargano|for Diego Pére...</td>\n",
       "      <td>['73&amp;rsquor;|2:2|Stefan Kießling|for Cacau', '...</td>\n",
       "    </tr>\n",
       "    <tr>\n",
       "      <th>4</th>\n",
       "      <td>257</td>\n",
       "      <td>Germany</td>\n",
       "      <td>Portugal</td>\n",
       "      <td>3</td>\n",
       "      <td>NaN</td>\n",
       "      <td>0.0</td>\n",
       "      <td>1</td>\n",
       "      <td>NaN</td>\n",
       "      <td>0.0</td>\n",
       "      <td>Jürgen Klinsmann</td>\n",
       "      <td>...</td>\n",
       "      <td>NaN</td>\n",
       "      <td>NaN</td>\n",
       "      <td>NaN</td>\n",
       "      <td>NaN</td>\n",
       "      <td>NaN</td>\n",
       "      <td>NaN</td>\n",
       "      <td>['7&amp;rsquor;|0:0|Torsten Frings', '78&amp;rsquor;|2...</td>\n",
       "      <td>['24&amp;rsquor;|0:0|Ricardo Costa', '33&amp;rsquor;|0...</td>\n",
       "      <td>['65&amp;rsquor;|2:0|Oliver Neuville|for Miroslav ...</td>\n",
       "      <td>['46&amp;rsquor;|0:0|Petit|for Costinha', '69&amp;rsqu...</td>\n",
       "    </tr>\n",
       "  </tbody>\n",
       "</table>\n",
       "<p>5 rows × 45 columns</p>\n",
       "</div>"
      ],
      "text/plain": [
       "   index home_team    away_team  home_score  home_xg  home_penalty  \\\n",
       "0      1   Croatia      Morocco           2      0.7           0.0   \n",
       "1     65   Belgium      England           2      1.5           0.0   \n",
       "2    129    Brazil  Netherlands           0      NaN           0.0   \n",
       "3    193   Uruguay      Germany           2      NaN           0.0   \n",
       "4    257   Germany     Portugal           3      NaN           0.0   \n",
       "\n",
       "   away_score  away_xg  away_penalty         home_manager  ...  \\\n",
       "0           1      1.2           0.0         Zlatko Dalić  ...   \n",
       "1           0      1.0           0.0     Roberto Martínez  ...   \n",
       "2           3      NaN           0.0  Luiz Felipe Scolari  ...   \n",
       "3           3      NaN           0.0        Óscar Tabárez  ...   \n",
       "4           1      NaN           0.0     Jürgen Klinsmann  ...   \n",
       "\n",
       "  home_penalty_shootout_miss_long away_penalty_shootout_miss_long  \\\n",
       "0                             NaN                             NaN   \n",
       "1                             NaN                             NaN   \n",
       "2                             NaN                             NaN   \n",
       "3                             NaN                             NaN   \n",
       "4                             NaN                             NaN   \n",
       "\n",
       "  home_red_card  away_red_card home_yellow_red_card away_yellow_red_card  \\\n",
       "0           NaN            NaN                  NaN                  NaN   \n",
       "1           NaN            NaN                  NaN                  NaN   \n",
       "2           NaN            NaN                  NaN                  NaN   \n",
       "3           NaN            NaN                  NaN                  NaN   \n",
       "4           NaN            NaN                  NaN                  NaN   \n",
       "\n",
       "                               home_yellow_card_long  \\\n",
       "0                                                NaN   \n",
       "1                   ['90+3&rsquor;|2:0|Axel Witsel']   \n",
       "2  ['2&rsquor;|0:0|Thiago Silva', '54&rsquor;|0:2...   \n",
       "3                     ['61&rsquor;|2:2|Diego Pérez']   \n",
       "4  ['7&rsquor;|0:0|Torsten Frings', '78&rsquor;|2...   \n",
       "\n",
       "                               away_yellow_card_long  \\\n",
       "0  ['69&rsquor;|2:1|Azzedine Ounahi', '84&rsquor;...   \n",
       "1  ['52&rsquor;|1:0|John Stones', '77&rsquor;|1:0...   \n",
       "2  ['9&rsquor;|0:1|Arjen Robben', '36&rsquor;|0:2...   \n",
       "3  ['5&rsquor;|0:0|Dennis Aogo', '90+2&rsquor;|2:...   \n",
       "4  ['24&rsquor;|0:0|Ricardo Costa', '33&rsquor;|0...   \n",
       "\n",
       "                             home_substitute_in_long  \\\n",
       "0  ['61&rsquor;|2:1|Nikola Vlašić|for Andrej Kram...   \n",
       "1  ['39&rsquor;|1:0|Thomas Vermaelen|for Nacer Ch...   \n",
       "2  ['46&rsquor;|0:2|Fernandinho|for Luiz Gustavo'...   \n",
       "3  ['77&rsquor;|2:2|Walter Gargano|for Diego Pére...   \n",
       "4  ['65&rsquor;|2:0|Oliver Neuville|for Miroslav ...   \n",
       "\n",
       "                             away_substitute_in_long  \n",
       "0  ['46&rsquor;|2:1|Ilias Chair|for Abdelhamid Sa...  \n",
       "1  ['46&rsquor;|1:0|Jesse Lingard|for Danny Rose'...  \n",
       "2  ['70&rsquor;|0:2|Daryl Janmaat|for Daley Blind...  \n",
       "3  ['73&rsquor;|2:2|Stefan Kießling|for Cacau', '...  \n",
       "4  ['46&rsquor;|0:0|Petit|for Costinha', '69&rsqu...  \n",
       "\n",
       "[5 rows x 45 columns]"
      ]
     },
     "execution_count": 2559,
     "metadata": {},
     "output_type": "execute_result"
    }
   ],
   "source": [
    "second_runner_up.head()"
   ]
  },
  {
   "cell_type": "code",
   "execution_count": 2560,
   "metadata": {},
   "outputs": [],
   "source": [
    "second_runner_up['H_total_score'] = second_runner_up['home_score'] + second_runner_up['home_penalty']\n",
    "second_runner_up['A_total_score'] = second_runner_up['away_score'] + second_runner_up['away_penalty']"
   ]
  },
  {
   "cell_type": "code",
   "execution_count": 2561,
   "metadata": {},
   "outputs": [
    {
     "data": {
      "text/html": [
       "<div>\n",
       "<style scoped>\n",
       "    .dataframe tbody tr th:only-of-type {\n",
       "        vertical-align: middle;\n",
       "    }\n",
       "\n",
       "    .dataframe tbody tr th {\n",
       "        vertical-align: top;\n",
       "    }\n",
       "\n",
       "    .dataframe thead th {\n",
       "        text-align: right;\n",
       "    }\n",
       "</style>\n",
       "<table border=\"1\" class=\"dataframe\">\n",
       "  <thead>\n",
       "    <tr style=\"text-align: right;\">\n",
       "      <th></th>\n",
       "      <th>index</th>\n",
       "      <th>home_team</th>\n",
       "      <th>away_team</th>\n",
       "      <th>home_score</th>\n",
       "      <th>home_xg</th>\n",
       "      <th>home_penalty</th>\n",
       "      <th>away_score</th>\n",
       "      <th>away_xg</th>\n",
       "      <th>away_penalty</th>\n",
       "      <th>home_manager</th>\n",
       "      <th>...</th>\n",
       "      <th>home_red_card</th>\n",
       "      <th>away_red_card</th>\n",
       "      <th>home_yellow_red_card</th>\n",
       "      <th>away_yellow_red_card</th>\n",
       "      <th>home_yellow_card_long</th>\n",
       "      <th>away_yellow_card_long</th>\n",
       "      <th>home_substitute_in_long</th>\n",
       "      <th>away_substitute_in_long</th>\n",
       "      <th>H_total_score</th>\n",
       "      <th>A_total_score</th>\n",
       "    </tr>\n",
       "  </thead>\n",
       "  <tbody>\n",
       "    <tr>\n",
       "      <th>0</th>\n",
       "      <td>1</td>\n",
       "      <td>Croatia</td>\n",
       "      <td>Morocco</td>\n",
       "      <td>2</td>\n",
       "      <td>0.7</td>\n",
       "      <td>0.0</td>\n",
       "      <td>1</td>\n",
       "      <td>1.2</td>\n",
       "      <td>0.0</td>\n",
       "      <td>Zlatko Dalić</td>\n",
       "      <td>...</td>\n",
       "      <td>NaN</td>\n",
       "      <td>NaN</td>\n",
       "      <td>NaN</td>\n",
       "      <td>NaN</td>\n",
       "      <td>NaN</td>\n",
       "      <td>['69&amp;rsquor;|2:1|Azzedine Ounahi', '84&amp;rsquor;...</td>\n",
       "      <td>['61&amp;rsquor;|2:1|Nikola Vlašić|for Andrej Kram...</td>\n",
       "      <td>['46&amp;rsquor;|2:1|Ilias Chair|for Abdelhamid Sa...</td>\n",
       "      <td>2.0</td>\n",
       "      <td>1.0</td>\n",
       "    </tr>\n",
       "    <tr>\n",
       "      <th>1</th>\n",
       "      <td>65</td>\n",
       "      <td>Belgium</td>\n",
       "      <td>England</td>\n",
       "      <td>2</td>\n",
       "      <td>1.5</td>\n",
       "      <td>0.0</td>\n",
       "      <td>0</td>\n",
       "      <td>1.0</td>\n",
       "      <td>0.0</td>\n",
       "      <td>Roberto Martínez</td>\n",
       "      <td>...</td>\n",
       "      <td>NaN</td>\n",
       "      <td>NaN</td>\n",
       "      <td>NaN</td>\n",
       "      <td>NaN</td>\n",
       "      <td>['90+3&amp;rsquor;|2:0|Axel Witsel']</td>\n",
       "      <td>['52&amp;rsquor;|1:0|John Stones', '77&amp;rsquor;|1:0...</td>\n",
       "      <td>['39&amp;rsquor;|1:0|Thomas Vermaelen|for Nacer Ch...</td>\n",
       "      <td>['46&amp;rsquor;|1:0|Jesse Lingard|for Danny Rose'...</td>\n",
       "      <td>2.0</td>\n",
       "      <td>0.0</td>\n",
       "    </tr>\n",
       "    <tr>\n",
       "      <th>2</th>\n",
       "      <td>129</td>\n",
       "      <td>Brazil</td>\n",
       "      <td>Netherlands</td>\n",
       "      <td>0</td>\n",
       "      <td>NaN</td>\n",
       "      <td>0.0</td>\n",
       "      <td>3</td>\n",
       "      <td>NaN</td>\n",
       "      <td>0.0</td>\n",
       "      <td>Luiz Felipe Scolari</td>\n",
       "      <td>...</td>\n",
       "      <td>NaN</td>\n",
       "      <td>NaN</td>\n",
       "      <td>NaN</td>\n",
       "      <td>NaN</td>\n",
       "      <td>['2&amp;rsquor;|0:0|Thiago Silva', '54&amp;rsquor;|0:2...</td>\n",
       "      <td>['9&amp;rsquor;|0:1|Arjen Robben', '36&amp;rsquor;|0:2...</td>\n",
       "      <td>['46&amp;rsquor;|0:2|Fernandinho|for Luiz Gustavo'...</td>\n",
       "      <td>['70&amp;rsquor;|0:2|Daryl Janmaat|for Daley Blind...</td>\n",
       "      <td>0.0</td>\n",
       "      <td>3.0</td>\n",
       "    </tr>\n",
       "    <tr>\n",
       "      <th>3</th>\n",
       "      <td>193</td>\n",
       "      <td>Uruguay</td>\n",
       "      <td>Germany</td>\n",
       "      <td>2</td>\n",
       "      <td>NaN</td>\n",
       "      <td>0.0</td>\n",
       "      <td>3</td>\n",
       "      <td>NaN</td>\n",
       "      <td>0.0</td>\n",
       "      <td>Óscar Tabárez</td>\n",
       "      <td>...</td>\n",
       "      <td>NaN</td>\n",
       "      <td>NaN</td>\n",
       "      <td>NaN</td>\n",
       "      <td>NaN</td>\n",
       "      <td>['61&amp;rsquor;|2:2|Diego Pérez']</td>\n",
       "      <td>['5&amp;rsquor;|0:0|Dennis Aogo', '90+2&amp;rsquor;|2:...</td>\n",
       "      <td>['77&amp;rsquor;|2:2|Walter Gargano|for Diego Pére...</td>\n",
       "      <td>['73&amp;rsquor;|2:2|Stefan Kießling|for Cacau', '...</td>\n",
       "      <td>2.0</td>\n",
       "      <td>3.0</td>\n",
       "    </tr>\n",
       "    <tr>\n",
       "      <th>4</th>\n",
       "      <td>257</td>\n",
       "      <td>Germany</td>\n",
       "      <td>Portugal</td>\n",
       "      <td>3</td>\n",
       "      <td>NaN</td>\n",
       "      <td>0.0</td>\n",
       "      <td>1</td>\n",
       "      <td>NaN</td>\n",
       "      <td>0.0</td>\n",
       "      <td>Jürgen Klinsmann</td>\n",
       "      <td>...</td>\n",
       "      <td>NaN</td>\n",
       "      <td>NaN</td>\n",
       "      <td>NaN</td>\n",
       "      <td>NaN</td>\n",
       "      <td>['7&amp;rsquor;|0:0|Torsten Frings', '78&amp;rsquor;|2...</td>\n",
       "      <td>['24&amp;rsquor;|0:0|Ricardo Costa', '33&amp;rsquor;|0...</td>\n",
       "      <td>['65&amp;rsquor;|2:0|Oliver Neuville|for Miroslav ...</td>\n",
       "      <td>['46&amp;rsquor;|0:0|Petit|for Costinha', '69&amp;rsqu...</td>\n",
       "      <td>3.0</td>\n",
       "      <td>1.0</td>\n",
       "    </tr>\n",
       "  </tbody>\n",
       "</table>\n",
       "<p>5 rows × 47 columns</p>\n",
       "</div>"
      ],
      "text/plain": [
       "   index home_team    away_team  home_score  home_xg  home_penalty  \\\n",
       "0      1   Croatia      Morocco           2      0.7           0.0   \n",
       "1     65   Belgium      England           2      1.5           0.0   \n",
       "2    129    Brazil  Netherlands           0      NaN           0.0   \n",
       "3    193   Uruguay      Germany           2      NaN           0.0   \n",
       "4    257   Germany     Portugal           3      NaN           0.0   \n",
       "\n",
       "   away_score  away_xg  away_penalty         home_manager  ... home_red_card  \\\n",
       "0           1      1.2           0.0         Zlatko Dalić  ...           NaN   \n",
       "1           0      1.0           0.0     Roberto Martínez  ...           NaN   \n",
       "2           3      NaN           0.0  Luiz Felipe Scolari  ...           NaN   \n",
       "3           3      NaN           0.0        Óscar Tabárez  ...           NaN   \n",
       "4           1      NaN           0.0     Jürgen Klinsmann  ...           NaN   \n",
       "\n",
       "  away_red_card home_yellow_red_card  away_yellow_red_card  \\\n",
       "0           NaN                  NaN                   NaN   \n",
       "1           NaN                  NaN                   NaN   \n",
       "2           NaN                  NaN                   NaN   \n",
       "3           NaN                  NaN                   NaN   \n",
       "4           NaN                  NaN                   NaN   \n",
       "\n",
       "                               home_yellow_card_long  \\\n",
       "0                                                NaN   \n",
       "1                   ['90+3&rsquor;|2:0|Axel Witsel']   \n",
       "2  ['2&rsquor;|0:0|Thiago Silva', '54&rsquor;|0:2...   \n",
       "3                     ['61&rsquor;|2:2|Diego Pérez']   \n",
       "4  ['7&rsquor;|0:0|Torsten Frings', '78&rsquor;|2...   \n",
       "\n",
       "                               away_yellow_card_long  \\\n",
       "0  ['69&rsquor;|2:1|Azzedine Ounahi', '84&rsquor;...   \n",
       "1  ['52&rsquor;|1:0|John Stones', '77&rsquor;|1:0...   \n",
       "2  ['9&rsquor;|0:1|Arjen Robben', '36&rsquor;|0:2...   \n",
       "3  ['5&rsquor;|0:0|Dennis Aogo', '90+2&rsquor;|2:...   \n",
       "4  ['24&rsquor;|0:0|Ricardo Costa', '33&rsquor;|0...   \n",
       "\n",
       "                             home_substitute_in_long  \\\n",
       "0  ['61&rsquor;|2:1|Nikola Vlašić|for Andrej Kram...   \n",
       "1  ['39&rsquor;|1:0|Thomas Vermaelen|for Nacer Ch...   \n",
       "2  ['46&rsquor;|0:2|Fernandinho|for Luiz Gustavo'...   \n",
       "3  ['77&rsquor;|2:2|Walter Gargano|for Diego Pére...   \n",
       "4  ['65&rsquor;|2:0|Oliver Neuville|for Miroslav ...   \n",
       "\n",
       "                             away_substitute_in_long H_total_score  \\\n",
       "0  ['46&rsquor;|2:1|Ilias Chair|for Abdelhamid Sa...           2.0   \n",
       "1  ['46&rsquor;|1:0|Jesse Lingard|for Danny Rose'...           2.0   \n",
       "2  ['70&rsquor;|0:2|Daryl Janmaat|for Daley Blind...           0.0   \n",
       "3  ['73&rsquor;|2:2|Stefan Kießling|for Cacau', '...           2.0   \n",
       "4  ['46&rsquor;|0:0|Petit|for Costinha', '69&rsqu...           3.0   \n",
       "\n",
       "  A_total_score  \n",
       "0           1.0  \n",
       "1           0.0  \n",
       "2           3.0  \n",
       "3           3.0  \n",
       "4           1.0  \n",
       "\n",
       "[5 rows x 47 columns]"
      ]
     },
     "execution_count": 2561,
     "metadata": {},
     "output_type": "execute_result"
    }
   ],
   "source": [
    "second_runner_up.head()"
   ]
  },
  {
   "cell_type": "code",
   "execution_count": 2562,
   "metadata": {},
   "outputs": [],
   "source": [
    "def second_runner(row):\n",
    "  if (row['H_total_score'] > row['A_total_score']):\n",
    "    return row['home_team']\n",
    "  else:\n",
    "    return row['away_team']\n",
    "\n",
    "\n"
   ]
  },
  {
   "cell_type": "code",
   "execution_count": 2563,
   "metadata": {},
   "outputs": [],
   "source": [
    "second_runner_up['second_runner'] = second_runner_up.apply(second_runner , axis=1)"
   ]
  },
  {
   "cell_type": "code",
   "execution_count": 2564,
   "metadata": {},
   "outputs": [],
   "source": [
    "second_run = second_runner_up['second_runner'].value_counts().reset_index()"
   ]
  },
  {
   "cell_type": "code",
   "execution_count": 2565,
   "metadata": {},
   "outputs": [
    {
     "data": {
      "text/html": [
       "<div>\n",
       "<style scoped>\n",
       "    .dataframe tbody tr th:only-of-type {\n",
       "        vertical-align: middle;\n",
       "    }\n",
       "\n",
       "    .dataframe tbody tr th {\n",
       "        vertical-align: top;\n",
       "    }\n",
       "\n",
       "    .dataframe thead th {\n",
       "        text-align: right;\n",
       "    }\n",
       "</style>\n",
       "<table border=\"1\" class=\"dataframe\">\n",
       "  <thead>\n",
       "    <tr style=\"text-align: right;\">\n",
       "      <th></th>\n",
       "      <th>second_runner</th>\n",
       "      <th>count</th>\n",
       "    </tr>\n",
       "  </thead>\n",
       "  <tbody>\n",
       "    <tr>\n",
       "      <th>0</th>\n",
       "      <td>Germany</td>\n",
       "      <td>3</td>\n",
       "    </tr>\n",
       "    <tr>\n",
       "      <th>1</th>\n",
       "      <td>Croatia</td>\n",
       "      <td>2</td>\n",
       "    </tr>\n",
       "    <tr>\n",
       "      <th>2</th>\n",
       "      <td>France</td>\n",
       "      <td>2</td>\n",
       "    </tr>\n",
       "    <tr>\n",
       "      <th>3</th>\n",
       "      <td>Poland</td>\n",
       "      <td>2</td>\n",
       "    </tr>\n",
       "    <tr>\n",
       "      <th>4</th>\n",
       "      <td>Brazil</td>\n",
       "      <td>2</td>\n",
       "    </tr>\n",
       "    <tr>\n",
       "      <th>5</th>\n",
       "      <td>Belgium</td>\n",
       "      <td>1</td>\n",
       "    </tr>\n",
       "    <tr>\n",
       "      <th>6</th>\n",
       "      <td>Netherlands</td>\n",
       "      <td>1</td>\n",
       "    </tr>\n",
       "    <tr>\n",
       "      <th>7</th>\n",
       "      <td>Türkiye</td>\n",
       "      <td>1</td>\n",
       "    </tr>\n",
       "    <tr>\n",
       "      <th>8</th>\n",
       "      <td>Sweden</td>\n",
       "      <td>1</td>\n",
       "    </tr>\n",
       "    <tr>\n",
       "      <th>9</th>\n",
       "      <td>Italy</td>\n",
       "      <td>1</td>\n",
       "    </tr>\n",
       "    <tr>\n",
       "      <th>10</th>\n",
       "      <td>West Germany</td>\n",
       "      <td>1</td>\n",
       "    </tr>\n",
       "    <tr>\n",
       "      <th>11</th>\n",
       "      <td>Portugal</td>\n",
       "      <td>1</td>\n",
       "    </tr>\n",
       "    <tr>\n",
       "      <th>12</th>\n",
       "      <td>Chile</td>\n",
       "      <td>1</td>\n",
       "    </tr>\n",
       "    <tr>\n",
       "      <th>13</th>\n",
       "      <td>Austria</td>\n",
       "      <td>1</td>\n",
       "    </tr>\n",
       "  </tbody>\n",
       "</table>\n",
       "</div>"
      ],
      "text/plain": [
       "   second_runner  count\n",
       "0        Germany      3\n",
       "1        Croatia      2\n",
       "2         France      2\n",
       "3         Poland      2\n",
       "4         Brazil      2\n",
       "5        Belgium      1\n",
       "6    Netherlands      1\n",
       "7        Türkiye      1\n",
       "8         Sweden      1\n",
       "9          Italy      1\n",
       "10  West Germany      1\n",
       "11      Portugal      1\n",
       "12         Chile      1\n",
       "13       Austria      1"
      ]
     },
     "execution_count": 2565,
     "metadata": {},
     "output_type": "execute_result"
    }
   ],
   "source": [
    "second_run"
   ]
  },
  {
   "cell_type": "code",
   "execution_count": 2566,
   "metadata": {},
   "outputs": [
    {
     "data": {
      "application/vnd.plotly.v1+json": {
       "config": {
        "plotlyServerURL": "https://plot.ly"
       },
       "data": [
        {
         "domain": {
          "x": [
           0,
           1
          ],
          "y": [
           0,
           1
          ]
         },
         "hovertemplate": "second_runner=%{label}<br>count=%{value}<extra></extra>",
         "labels": [
          "Germany",
          "Croatia",
          "France",
          "Poland",
          "Brazil",
          "Belgium",
          "Netherlands",
          "Türkiye",
          "Sweden",
          "Italy",
          "West Germany",
          "Portugal",
          "Chile",
          "Austria"
         ],
         "legendgroup": "",
         "name": "",
         "showlegend": true,
         "textinfo": "label+value",
         "type": "pie",
         "values": [
          3,
          2,
          2,
          2,
          2,
          1,
          1,
          1,
          1,
          1,
          1,
          1,
          1,
          1
         ]
        }
       ],
       "layout": {
        "legend": {
         "tracegroupgap": 0
        },
        "template": {
         "data": {
          "bar": [
           {
            "error_x": {
             "color": "#2a3f5f"
            },
            "error_y": {
             "color": "#2a3f5f"
            },
            "marker": {
             "line": {
              "color": "#E5ECF6",
              "width": 0.5
             },
             "pattern": {
              "fillmode": "overlay",
              "size": 10,
              "solidity": 0.2
             }
            },
            "type": "bar"
           }
          ],
          "barpolar": [
           {
            "marker": {
             "line": {
              "color": "#E5ECF6",
              "width": 0.5
             },
             "pattern": {
              "fillmode": "overlay",
              "size": 10,
              "solidity": 0.2
             }
            },
            "type": "barpolar"
           }
          ],
          "carpet": [
           {
            "aaxis": {
             "endlinecolor": "#2a3f5f",
             "gridcolor": "white",
             "linecolor": "white",
             "minorgridcolor": "white",
             "startlinecolor": "#2a3f5f"
            },
            "baxis": {
             "endlinecolor": "#2a3f5f",
             "gridcolor": "white",
             "linecolor": "white",
             "minorgridcolor": "white",
             "startlinecolor": "#2a3f5f"
            },
            "type": "carpet"
           }
          ],
          "choropleth": [
           {
            "colorbar": {
             "outlinewidth": 0,
             "ticks": ""
            },
            "type": "choropleth"
           }
          ],
          "contour": [
           {
            "colorbar": {
             "outlinewidth": 0,
             "ticks": ""
            },
            "colorscale": [
             [
              0,
              "#0d0887"
             ],
             [
              0.1111111111111111,
              "#46039f"
             ],
             [
              0.2222222222222222,
              "#7201a8"
             ],
             [
              0.3333333333333333,
              "#9c179e"
             ],
             [
              0.4444444444444444,
              "#bd3786"
             ],
             [
              0.5555555555555556,
              "#d8576b"
             ],
             [
              0.6666666666666666,
              "#ed7953"
             ],
             [
              0.7777777777777778,
              "#fb9f3a"
             ],
             [
              0.8888888888888888,
              "#fdca26"
             ],
             [
              1,
              "#f0f921"
             ]
            ],
            "type": "contour"
           }
          ],
          "contourcarpet": [
           {
            "colorbar": {
             "outlinewidth": 0,
             "ticks": ""
            },
            "type": "contourcarpet"
           }
          ],
          "heatmap": [
           {
            "colorbar": {
             "outlinewidth": 0,
             "ticks": ""
            },
            "colorscale": [
             [
              0,
              "#0d0887"
             ],
             [
              0.1111111111111111,
              "#46039f"
             ],
             [
              0.2222222222222222,
              "#7201a8"
             ],
             [
              0.3333333333333333,
              "#9c179e"
             ],
             [
              0.4444444444444444,
              "#bd3786"
             ],
             [
              0.5555555555555556,
              "#d8576b"
             ],
             [
              0.6666666666666666,
              "#ed7953"
             ],
             [
              0.7777777777777778,
              "#fb9f3a"
             ],
             [
              0.8888888888888888,
              "#fdca26"
             ],
             [
              1,
              "#f0f921"
             ]
            ],
            "type": "heatmap"
           }
          ],
          "heatmapgl": [
           {
            "colorbar": {
             "outlinewidth": 0,
             "ticks": ""
            },
            "colorscale": [
             [
              0,
              "#0d0887"
             ],
             [
              0.1111111111111111,
              "#46039f"
             ],
             [
              0.2222222222222222,
              "#7201a8"
             ],
             [
              0.3333333333333333,
              "#9c179e"
             ],
             [
              0.4444444444444444,
              "#bd3786"
             ],
             [
              0.5555555555555556,
              "#d8576b"
             ],
             [
              0.6666666666666666,
              "#ed7953"
             ],
             [
              0.7777777777777778,
              "#fb9f3a"
             ],
             [
              0.8888888888888888,
              "#fdca26"
             ],
             [
              1,
              "#f0f921"
             ]
            ],
            "type": "heatmapgl"
           }
          ],
          "histogram": [
           {
            "marker": {
             "pattern": {
              "fillmode": "overlay",
              "size": 10,
              "solidity": 0.2
             }
            },
            "type": "histogram"
           }
          ],
          "histogram2d": [
           {
            "colorbar": {
             "outlinewidth": 0,
             "ticks": ""
            },
            "colorscale": [
             [
              0,
              "#0d0887"
             ],
             [
              0.1111111111111111,
              "#46039f"
             ],
             [
              0.2222222222222222,
              "#7201a8"
             ],
             [
              0.3333333333333333,
              "#9c179e"
             ],
             [
              0.4444444444444444,
              "#bd3786"
             ],
             [
              0.5555555555555556,
              "#d8576b"
             ],
             [
              0.6666666666666666,
              "#ed7953"
             ],
             [
              0.7777777777777778,
              "#fb9f3a"
             ],
             [
              0.8888888888888888,
              "#fdca26"
             ],
             [
              1,
              "#f0f921"
             ]
            ],
            "type": "histogram2d"
           }
          ],
          "histogram2dcontour": [
           {
            "colorbar": {
             "outlinewidth": 0,
             "ticks": ""
            },
            "colorscale": [
             [
              0,
              "#0d0887"
             ],
             [
              0.1111111111111111,
              "#46039f"
             ],
             [
              0.2222222222222222,
              "#7201a8"
             ],
             [
              0.3333333333333333,
              "#9c179e"
             ],
             [
              0.4444444444444444,
              "#bd3786"
             ],
             [
              0.5555555555555556,
              "#d8576b"
             ],
             [
              0.6666666666666666,
              "#ed7953"
             ],
             [
              0.7777777777777778,
              "#fb9f3a"
             ],
             [
              0.8888888888888888,
              "#fdca26"
             ],
             [
              1,
              "#f0f921"
             ]
            ],
            "type": "histogram2dcontour"
           }
          ],
          "mesh3d": [
           {
            "colorbar": {
             "outlinewidth": 0,
             "ticks": ""
            },
            "type": "mesh3d"
           }
          ],
          "parcoords": [
           {
            "line": {
             "colorbar": {
              "outlinewidth": 0,
              "ticks": ""
             }
            },
            "type": "parcoords"
           }
          ],
          "pie": [
           {
            "automargin": true,
            "type": "pie"
           }
          ],
          "scatter": [
           {
            "fillpattern": {
             "fillmode": "overlay",
             "size": 10,
             "solidity": 0.2
            },
            "type": "scatter"
           }
          ],
          "scatter3d": [
           {
            "line": {
             "colorbar": {
              "outlinewidth": 0,
              "ticks": ""
             }
            },
            "marker": {
             "colorbar": {
              "outlinewidth": 0,
              "ticks": ""
             }
            },
            "type": "scatter3d"
           }
          ],
          "scattercarpet": [
           {
            "marker": {
             "colorbar": {
              "outlinewidth": 0,
              "ticks": ""
             }
            },
            "type": "scattercarpet"
           }
          ],
          "scattergeo": [
           {
            "marker": {
             "colorbar": {
              "outlinewidth": 0,
              "ticks": ""
             }
            },
            "type": "scattergeo"
           }
          ],
          "scattergl": [
           {
            "marker": {
             "colorbar": {
              "outlinewidth": 0,
              "ticks": ""
             }
            },
            "type": "scattergl"
           }
          ],
          "scattermapbox": [
           {
            "marker": {
             "colorbar": {
              "outlinewidth": 0,
              "ticks": ""
             }
            },
            "type": "scattermapbox"
           }
          ],
          "scatterpolar": [
           {
            "marker": {
             "colorbar": {
              "outlinewidth": 0,
              "ticks": ""
             }
            },
            "type": "scatterpolar"
           }
          ],
          "scatterpolargl": [
           {
            "marker": {
             "colorbar": {
              "outlinewidth": 0,
              "ticks": ""
             }
            },
            "type": "scatterpolargl"
           }
          ],
          "scatterternary": [
           {
            "marker": {
             "colorbar": {
              "outlinewidth": 0,
              "ticks": ""
             }
            },
            "type": "scatterternary"
           }
          ],
          "surface": [
           {
            "colorbar": {
             "outlinewidth": 0,
             "ticks": ""
            },
            "colorscale": [
             [
              0,
              "#0d0887"
             ],
             [
              0.1111111111111111,
              "#46039f"
             ],
             [
              0.2222222222222222,
              "#7201a8"
             ],
             [
              0.3333333333333333,
              "#9c179e"
             ],
             [
              0.4444444444444444,
              "#bd3786"
             ],
             [
              0.5555555555555556,
              "#d8576b"
             ],
             [
              0.6666666666666666,
              "#ed7953"
             ],
             [
              0.7777777777777778,
              "#fb9f3a"
             ],
             [
              0.8888888888888888,
              "#fdca26"
             ],
             [
              1,
              "#f0f921"
             ]
            ],
            "type": "surface"
           }
          ],
          "table": [
           {
            "cells": {
             "fill": {
              "color": "#EBF0F8"
             },
             "line": {
              "color": "white"
             }
            },
            "header": {
             "fill": {
              "color": "#C8D4E3"
             },
             "line": {
              "color": "white"
             }
            },
            "type": "table"
           }
          ]
         },
         "layout": {
          "annotationdefaults": {
           "arrowcolor": "#2a3f5f",
           "arrowhead": 0,
           "arrowwidth": 1
          },
          "autotypenumbers": "strict",
          "coloraxis": {
           "colorbar": {
            "outlinewidth": 0,
            "ticks": ""
           }
          },
          "colorscale": {
           "diverging": [
            [
             0,
             "#8e0152"
            ],
            [
             0.1,
             "#c51b7d"
            ],
            [
             0.2,
             "#de77ae"
            ],
            [
             0.3,
             "#f1b6da"
            ],
            [
             0.4,
             "#fde0ef"
            ],
            [
             0.5,
             "#f7f7f7"
            ],
            [
             0.6,
             "#e6f5d0"
            ],
            [
             0.7,
             "#b8e186"
            ],
            [
             0.8,
             "#7fbc41"
            ],
            [
             0.9,
             "#4d9221"
            ],
            [
             1,
             "#276419"
            ]
           ],
           "sequential": [
            [
             0,
             "#0d0887"
            ],
            [
             0.1111111111111111,
             "#46039f"
            ],
            [
             0.2222222222222222,
             "#7201a8"
            ],
            [
             0.3333333333333333,
             "#9c179e"
            ],
            [
             0.4444444444444444,
             "#bd3786"
            ],
            [
             0.5555555555555556,
             "#d8576b"
            ],
            [
             0.6666666666666666,
             "#ed7953"
            ],
            [
             0.7777777777777778,
             "#fb9f3a"
            ],
            [
             0.8888888888888888,
             "#fdca26"
            ],
            [
             1,
             "#f0f921"
            ]
           ],
           "sequentialminus": [
            [
             0,
             "#0d0887"
            ],
            [
             0.1111111111111111,
             "#46039f"
            ],
            [
             0.2222222222222222,
             "#7201a8"
            ],
            [
             0.3333333333333333,
             "#9c179e"
            ],
            [
             0.4444444444444444,
             "#bd3786"
            ],
            [
             0.5555555555555556,
             "#d8576b"
            ],
            [
             0.6666666666666666,
             "#ed7953"
            ],
            [
             0.7777777777777778,
             "#fb9f3a"
            ],
            [
             0.8888888888888888,
             "#fdca26"
            ],
            [
             1,
             "#f0f921"
            ]
           ]
          },
          "colorway": [
           "#636efa",
           "#EF553B",
           "#00cc96",
           "#ab63fa",
           "#FFA15A",
           "#19d3f3",
           "#FF6692",
           "#B6E880",
           "#FF97FF",
           "#FECB52"
          ],
          "font": {
           "color": "#2a3f5f"
          },
          "geo": {
           "bgcolor": "white",
           "lakecolor": "white",
           "landcolor": "#E5ECF6",
           "showlakes": true,
           "showland": true,
           "subunitcolor": "white"
          },
          "hoverlabel": {
           "align": "left"
          },
          "hovermode": "closest",
          "mapbox": {
           "style": "light"
          },
          "paper_bgcolor": "white",
          "plot_bgcolor": "#E5ECF6",
          "polar": {
           "angularaxis": {
            "gridcolor": "white",
            "linecolor": "white",
            "ticks": ""
           },
           "bgcolor": "#E5ECF6",
           "radialaxis": {
            "gridcolor": "white",
            "linecolor": "white",
            "ticks": ""
           }
          },
          "scene": {
           "xaxis": {
            "backgroundcolor": "#E5ECF6",
            "gridcolor": "white",
            "gridwidth": 2,
            "linecolor": "white",
            "showbackground": true,
            "ticks": "",
            "zerolinecolor": "white"
           },
           "yaxis": {
            "backgroundcolor": "#E5ECF6",
            "gridcolor": "white",
            "gridwidth": 2,
            "linecolor": "white",
            "showbackground": true,
            "ticks": "",
            "zerolinecolor": "white"
           },
           "zaxis": {
            "backgroundcolor": "#E5ECF6",
            "gridcolor": "white",
            "gridwidth": 2,
            "linecolor": "white",
            "showbackground": true,
            "ticks": "",
            "zerolinecolor": "white"
           }
          },
          "shapedefaults": {
           "line": {
            "color": "#2a3f5f"
           }
          },
          "ternary": {
           "aaxis": {
            "gridcolor": "white",
            "linecolor": "white",
            "ticks": ""
           },
           "baxis": {
            "gridcolor": "white",
            "linecolor": "white",
            "ticks": ""
           },
           "bgcolor": "#E5ECF6",
           "caxis": {
            "gridcolor": "white",
            "linecolor": "white",
            "ticks": ""
           }
          },
          "title": {
           "x": 0.05
          },
          "xaxis": {
           "automargin": true,
           "gridcolor": "white",
           "linecolor": "white",
           "ticks": "",
           "title": {
            "standoff": 15
           },
           "zerolinecolor": "white",
           "zerolinewidth": 2
          },
          "yaxis": {
           "automargin": true,
           "gridcolor": "white",
           "linecolor": "white",
           "ticks": "",
           "title": {
            "standoff": 15
           },
           "zerolinecolor": "white",
           "zerolinewidth": 2
          }
         }
        },
        "title": {
         "text": "Third_place teams"
        }
       }
      }
     },
     "metadata": {},
     "output_type": "display_data"
    }
   ],
   "source": [
    "fig = ex.pie(second_run, values='count' , names= 'second_runner' , title=\"Third_place teams\")\n",
    "fig.update_traces(textinfo = 'label + value')\n",
    "fig.show()\n"
   ]
  },
  {
   "cell_type": "markdown",
   "metadata": {},
   "source": [
    "# now we will make the some bar subplots"
   ]
  },
  {
   "cell_type": "code",
   "execution_count": 2567,
   "metadata": {},
   "outputs": [],
   "source": [
    "trace1 = go.Bar(\n",
    "    x=second_runner_up['second_runner'].value_counts().index,  # Categories on the x-axis\n",
    "    y=second_runner_up['second_runner'].value_counts().values, # Counts on the y-axis\n",
    "    name = 'first_ruuner_up'\n",
    ")\n",
    "trace2 = go.Bar(\n",
    "    x=world_cup['Runner-Up'].value_counts().index,  # Categories on the x-axis\n",
    "    y=world_cup['Runner-Up'].value_counts().values , # Counts on the y-axis\n",
    "    name = 'second_ruuner_up'\n",
    ")\n"
   ]
  },
  {
   "cell_type": "code",
   "execution_count": 2568,
   "metadata": {},
   "outputs": [
    {
     "data": {
      "application/vnd.plotly.v1+json": {
       "config": {
        "plotlyServerURL": "https://plot.ly"
       },
       "data": [
        {
         "name": "first_ruuner_up",
         "type": "bar",
         "x": [
          "Germany",
          "Croatia",
          "France",
          "Poland",
          "Brazil",
          "Belgium",
          "Netherlands",
          "Türkiye",
          "Sweden",
          "Italy",
          "West Germany",
          "Portugal",
          "Chile",
          "Austria"
         ],
         "xaxis": "x",
         "y": [
          3,
          2,
          2,
          2,
          2,
          1,
          1,
          1,
          1,
          1,
          1,
          1,
          1,
          1
         ],
         "yaxis": "y"
        },
        {
         "name": "second_ruuner_up",
         "type": "bar",
         "x": [
          "Argentina",
          "Netherlands",
          "West Germany",
          "France",
          "Brazil",
          "Italy",
          "Czechoslovakia",
          "Hungary",
          "Croatia",
          "Germany",
          "Sweden"
         ],
         "xaxis": "x2",
         "y": [
          3,
          3,
          3,
          2,
          2,
          2,
          2,
          2,
          1,
          1,
          1
         ],
         "yaxis": "y2"
        }
       ],
       "layout": {
        "annotations": [
         {
          "font": {
           "size": 16
          },
          "showarrow": false,
          "text": "first_runner_up",
          "x": 0.225,
          "xanchor": "center",
          "xref": "paper",
          "y": 1,
          "yanchor": "bottom",
          "yref": "paper"
         },
         {
          "font": {
           "size": 16
          },
          "showarrow": false,
          "text": "Second_runner_up",
          "x": 0.775,
          "xanchor": "center",
          "xref": "paper",
          "y": 1,
          "yanchor": "bottom",
          "yref": "paper"
         }
        ],
        "template": {
         "data": {
          "bar": [
           {
            "error_x": {
             "color": "#2a3f5f"
            },
            "error_y": {
             "color": "#2a3f5f"
            },
            "marker": {
             "line": {
              "color": "#E5ECF6",
              "width": 0.5
             },
             "pattern": {
              "fillmode": "overlay",
              "size": 10,
              "solidity": 0.2
             }
            },
            "type": "bar"
           }
          ],
          "barpolar": [
           {
            "marker": {
             "line": {
              "color": "#E5ECF6",
              "width": 0.5
             },
             "pattern": {
              "fillmode": "overlay",
              "size": 10,
              "solidity": 0.2
             }
            },
            "type": "barpolar"
           }
          ],
          "carpet": [
           {
            "aaxis": {
             "endlinecolor": "#2a3f5f",
             "gridcolor": "white",
             "linecolor": "white",
             "minorgridcolor": "white",
             "startlinecolor": "#2a3f5f"
            },
            "baxis": {
             "endlinecolor": "#2a3f5f",
             "gridcolor": "white",
             "linecolor": "white",
             "minorgridcolor": "white",
             "startlinecolor": "#2a3f5f"
            },
            "type": "carpet"
           }
          ],
          "choropleth": [
           {
            "colorbar": {
             "outlinewidth": 0,
             "ticks": ""
            },
            "type": "choropleth"
           }
          ],
          "contour": [
           {
            "colorbar": {
             "outlinewidth": 0,
             "ticks": ""
            },
            "colorscale": [
             [
              0,
              "#0d0887"
             ],
             [
              0.1111111111111111,
              "#46039f"
             ],
             [
              0.2222222222222222,
              "#7201a8"
             ],
             [
              0.3333333333333333,
              "#9c179e"
             ],
             [
              0.4444444444444444,
              "#bd3786"
             ],
             [
              0.5555555555555556,
              "#d8576b"
             ],
             [
              0.6666666666666666,
              "#ed7953"
             ],
             [
              0.7777777777777778,
              "#fb9f3a"
             ],
             [
              0.8888888888888888,
              "#fdca26"
             ],
             [
              1,
              "#f0f921"
             ]
            ],
            "type": "contour"
           }
          ],
          "contourcarpet": [
           {
            "colorbar": {
             "outlinewidth": 0,
             "ticks": ""
            },
            "type": "contourcarpet"
           }
          ],
          "heatmap": [
           {
            "colorbar": {
             "outlinewidth": 0,
             "ticks": ""
            },
            "colorscale": [
             [
              0,
              "#0d0887"
             ],
             [
              0.1111111111111111,
              "#46039f"
             ],
             [
              0.2222222222222222,
              "#7201a8"
             ],
             [
              0.3333333333333333,
              "#9c179e"
             ],
             [
              0.4444444444444444,
              "#bd3786"
             ],
             [
              0.5555555555555556,
              "#d8576b"
             ],
             [
              0.6666666666666666,
              "#ed7953"
             ],
             [
              0.7777777777777778,
              "#fb9f3a"
             ],
             [
              0.8888888888888888,
              "#fdca26"
             ],
             [
              1,
              "#f0f921"
             ]
            ],
            "type": "heatmap"
           }
          ],
          "heatmapgl": [
           {
            "colorbar": {
             "outlinewidth": 0,
             "ticks": ""
            },
            "colorscale": [
             [
              0,
              "#0d0887"
             ],
             [
              0.1111111111111111,
              "#46039f"
             ],
             [
              0.2222222222222222,
              "#7201a8"
             ],
             [
              0.3333333333333333,
              "#9c179e"
             ],
             [
              0.4444444444444444,
              "#bd3786"
             ],
             [
              0.5555555555555556,
              "#d8576b"
             ],
             [
              0.6666666666666666,
              "#ed7953"
             ],
             [
              0.7777777777777778,
              "#fb9f3a"
             ],
             [
              0.8888888888888888,
              "#fdca26"
             ],
             [
              1,
              "#f0f921"
             ]
            ],
            "type": "heatmapgl"
           }
          ],
          "histogram": [
           {
            "marker": {
             "pattern": {
              "fillmode": "overlay",
              "size": 10,
              "solidity": 0.2
             }
            },
            "type": "histogram"
           }
          ],
          "histogram2d": [
           {
            "colorbar": {
             "outlinewidth": 0,
             "ticks": ""
            },
            "colorscale": [
             [
              0,
              "#0d0887"
             ],
             [
              0.1111111111111111,
              "#46039f"
             ],
             [
              0.2222222222222222,
              "#7201a8"
             ],
             [
              0.3333333333333333,
              "#9c179e"
             ],
             [
              0.4444444444444444,
              "#bd3786"
             ],
             [
              0.5555555555555556,
              "#d8576b"
             ],
             [
              0.6666666666666666,
              "#ed7953"
             ],
             [
              0.7777777777777778,
              "#fb9f3a"
             ],
             [
              0.8888888888888888,
              "#fdca26"
             ],
             [
              1,
              "#f0f921"
             ]
            ],
            "type": "histogram2d"
           }
          ],
          "histogram2dcontour": [
           {
            "colorbar": {
             "outlinewidth": 0,
             "ticks": ""
            },
            "colorscale": [
             [
              0,
              "#0d0887"
             ],
             [
              0.1111111111111111,
              "#46039f"
             ],
             [
              0.2222222222222222,
              "#7201a8"
             ],
             [
              0.3333333333333333,
              "#9c179e"
             ],
             [
              0.4444444444444444,
              "#bd3786"
             ],
             [
              0.5555555555555556,
              "#d8576b"
             ],
             [
              0.6666666666666666,
              "#ed7953"
             ],
             [
              0.7777777777777778,
              "#fb9f3a"
             ],
             [
              0.8888888888888888,
              "#fdca26"
             ],
             [
              1,
              "#f0f921"
             ]
            ],
            "type": "histogram2dcontour"
           }
          ],
          "mesh3d": [
           {
            "colorbar": {
             "outlinewidth": 0,
             "ticks": ""
            },
            "type": "mesh3d"
           }
          ],
          "parcoords": [
           {
            "line": {
             "colorbar": {
              "outlinewidth": 0,
              "ticks": ""
             }
            },
            "type": "parcoords"
           }
          ],
          "pie": [
           {
            "automargin": true,
            "type": "pie"
           }
          ],
          "scatter": [
           {
            "fillpattern": {
             "fillmode": "overlay",
             "size": 10,
             "solidity": 0.2
            },
            "type": "scatter"
           }
          ],
          "scatter3d": [
           {
            "line": {
             "colorbar": {
              "outlinewidth": 0,
              "ticks": ""
             }
            },
            "marker": {
             "colorbar": {
              "outlinewidth": 0,
              "ticks": ""
             }
            },
            "type": "scatter3d"
           }
          ],
          "scattercarpet": [
           {
            "marker": {
             "colorbar": {
              "outlinewidth": 0,
              "ticks": ""
             }
            },
            "type": "scattercarpet"
           }
          ],
          "scattergeo": [
           {
            "marker": {
             "colorbar": {
              "outlinewidth": 0,
              "ticks": ""
             }
            },
            "type": "scattergeo"
           }
          ],
          "scattergl": [
           {
            "marker": {
             "colorbar": {
              "outlinewidth": 0,
              "ticks": ""
             }
            },
            "type": "scattergl"
           }
          ],
          "scattermapbox": [
           {
            "marker": {
             "colorbar": {
              "outlinewidth": 0,
              "ticks": ""
             }
            },
            "type": "scattermapbox"
           }
          ],
          "scatterpolar": [
           {
            "marker": {
             "colorbar": {
              "outlinewidth": 0,
              "ticks": ""
             }
            },
            "type": "scatterpolar"
           }
          ],
          "scatterpolargl": [
           {
            "marker": {
             "colorbar": {
              "outlinewidth": 0,
              "ticks": ""
             }
            },
            "type": "scatterpolargl"
           }
          ],
          "scatterternary": [
           {
            "marker": {
             "colorbar": {
              "outlinewidth": 0,
              "ticks": ""
             }
            },
            "type": "scatterternary"
           }
          ],
          "surface": [
           {
            "colorbar": {
             "outlinewidth": 0,
             "ticks": ""
            },
            "colorscale": [
             [
              0,
              "#0d0887"
             ],
             [
              0.1111111111111111,
              "#46039f"
             ],
             [
              0.2222222222222222,
              "#7201a8"
             ],
             [
              0.3333333333333333,
              "#9c179e"
             ],
             [
              0.4444444444444444,
              "#bd3786"
             ],
             [
              0.5555555555555556,
              "#d8576b"
             ],
             [
              0.6666666666666666,
              "#ed7953"
             ],
             [
              0.7777777777777778,
              "#fb9f3a"
             ],
             [
              0.8888888888888888,
              "#fdca26"
             ],
             [
              1,
              "#f0f921"
             ]
            ],
            "type": "surface"
           }
          ],
          "table": [
           {
            "cells": {
             "fill": {
              "color": "#EBF0F8"
             },
             "line": {
              "color": "white"
             }
            },
            "header": {
             "fill": {
              "color": "#C8D4E3"
             },
             "line": {
              "color": "white"
             }
            },
            "type": "table"
           }
          ]
         },
         "layout": {
          "annotationdefaults": {
           "arrowcolor": "#2a3f5f",
           "arrowhead": 0,
           "arrowwidth": 1
          },
          "autotypenumbers": "strict",
          "coloraxis": {
           "colorbar": {
            "outlinewidth": 0,
            "ticks": ""
           }
          },
          "colorscale": {
           "diverging": [
            [
             0,
             "#8e0152"
            ],
            [
             0.1,
             "#c51b7d"
            ],
            [
             0.2,
             "#de77ae"
            ],
            [
             0.3,
             "#f1b6da"
            ],
            [
             0.4,
             "#fde0ef"
            ],
            [
             0.5,
             "#f7f7f7"
            ],
            [
             0.6,
             "#e6f5d0"
            ],
            [
             0.7,
             "#b8e186"
            ],
            [
             0.8,
             "#7fbc41"
            ],
            [
             0.9,
             "#4d9221"
            ],
            [
             1,
             "#276419"
            ]
           ],
           "sequential": [
            [
             0,
             "#0d0887"
            ],
            [
             0.1111111111111111,
             "#46039f"
            ],
            [
             0.2222222222222222,
             "#7201a8"
            ],
            [
             0.3333333333333333,
             "#9c179e"
            ],
            [
             0.4444444444444444,
             "#bd3786"
            ],
            [
             0.5555555555555556,
             "#d8576b"
            ],
            [
             0.6666666666666666,
             "#ed7953"
            ],
            [
             0.7777777777777778,
             "#fb9f3a"
            ],
            [
             0.8888888888888888,
             "#fdca26"
            ],
            [
             1,
             "#f0f921"
            ]
           ],
           "sequentialminus": [
            [
             0,
             "#0d0887"
            ],
            [
             0.1111111111111111,
             "#46039f"
            ],
            [
             0.2222222222222222,
             "#7201a8"
            ],
            [
             0.3333333333333333,
             "#9c179e"
            ],
            [
             0.4444444444444444,
             "#bd3786"
            ],
            [
             0.5555555555555556,
             "#d8576b"
            ],
            [
             0.6666666666666666,
             "#ed7953"
            ],
            [
             0.7777777777777778,
             "#fb9f3a"
            ],
            [
             0.8888888888888888,
             "#fdca26"
            ],
            [
             1,
             "#f0f921"
            ]
           ]
          },
          "colorway": [
           "#636efa",
           "#EF553B",
           "#00cc96",
           "#ab63fa",
           "#FFA15A",
           "#19d3f3",
           "#FF6692",
           "#B6E880",
           "#FF97FF",
           "#FECB52"
          ],
          "font": {
           "color": "#2a3f5f"
          },
          "geo": {
           "bgcolor": "white",
           "lakecolor": "white",
           "landcolor": "#E5ECF6",
           "showlakes": true,
           "showland": true,
           "subunitcolor": "white"
          },
          "hoverlabel": {
           "align": "left"
          },
          "hovermode": "closest",
          "mapbox": {
           "style": "light"
          },
          "paper_bgcolor": "white",
          "plot_bgcolor": "#E5ECF6",
          "polar": {
           "angularaxis": {
            "gridcolor": "white",
            "linecolor": "white",
            "ticks": ""
           },
           "bgcolor": "#E5ECF6",
           "radialaxis": {
            "gridcolor": "white",
            "linecolor": "white",
            "ticks": ""
           }
          },
          "scene": {
           "xaxis": {
            "backgroundcolor": "#E5ECF6",
            "gridcolor": "white",
            "gridwidth": 2,
            "linecolor": "white",
            "showbackground": true,
            "ticks": "",
            "zerolinecolor": "white"
           },
           "yaxis": {
            "backgroundcolor": "#E5ECF6",
            "gridcolor": "white",
            "gridwidth": 2,
            "linecolor": "white",
            "showbackground": true,
            "ticks": "",
            "zerolinecolor": "white"
           },
           "zaxis": {
            "backgroundcolor": "#E5ECF6",
            "gridcolor": "white",
            "gridwidth": 2,
            "linecolor": "white",
            "showbackground": true,
            "ticks": "",
            "zerolinecolor": "white"
           }
          },
          "shapedefaults": {
           "line": {
            "color": "#2a3f5f"
           }
          },
          "ternary": {
           "aaxis": {
            "gridcolor": "white",
            "linecolor": "white",
            "ticks": ""
           },
           "baxis": {
            "gridcolor": "white",
            "linecolor": "white",
            "ticks": ""
           },
           "bgcolor": "#E5ECF6",
           "caxis": {
            "gridcolor": "white",
            "linecolor": "white",
            "ticks": ""
           }
          },
          "title": {
           "x": 0.05
          },
          "xaxis": {
           "automargin": true,
           "gridcolor": "white",
           "linecolor": "white",
           "ticks": "",
           "title": {
            "standoff": 15
           },
           "zerolinecolor": "white",
           "zerolinewidth": 2
          },
          "yaxis": {
           "automargin": true,
           "gridcolor": "white",
           "linecolor": "white",
           "ticks": "",
           "title": {
            "standoff": 15
           },
           "zerolinecolor": "white",
           "zerolinewidth": 2
          }
         }
        },
        "xaxis": {
         "anchor": "y",
         "domain": [
          0,
          0.45
         ]
        },
        "xaxis2": {
         "anchor": "y2",
         "domain": [
          0.55,
          1
         ]
        },
        "yaxis": {
         "anchor": "x",
         "domain": [
          0,
          1
         ]
        },
        "yaxis2": {
         "anchor": "x2",
         "domain": [
          0,
          1
         ]
        }
       }
      }
     },
     "metadata": {},
     "output_type": "display_data"
    }
   ],
   "source": [
    "fig = make_subplots(rows=1 , cols=2 , subplot_titles=('first_runner_up' , 'Second_runner_up'))\n",
    "fig.append_trace(trace1 , row= 1, col = 1)\n",
    "fig.append_trace(trace2 , row= 1, col = 2)\n",
    "fig.show()\n"
   ]
  },
  {
   "cell_type": "markdown",
   "metadata": {},
   "source": [
    "# conclutions :\n",
    "  1-> germany  is the team which is  qualify for final more of time.\n",
    "\n",
    "  \n"
   ]
  },
  {
   "cell_type": "markdown",
   "metadata": {},
   "source": [
    "  2-> Argentina . netherland  , west-germany is the team which is qualify for 2nd runner up"
   ]
  },
  {
   "cell_type": "code",
   "execution_count": 2569,
   "metadata": {},
   "outputs": [
    {
     "name": "stdout",
     "output_type": "stream",
     "text": [
      "<class 'pandas.core.frame.DataFrame'>\n",
      "RangeIndex: 964 entries, 0 to 963\n",
      "Data columns (total 44 columns):\n",
      " #   Column                           Non-Null Count  Dtype  \n",
      "---  ------                           --------------  -----  \n",
      " 0   home_team                        964 non-null    object \n",
      " 1   away_team                        964 non-null    object \n",
      " 2   home_score                       964 non-null    int64  \n",
      " 3   home_xg                          128 non-null    float64\n",
      " 4   home_penalty                     35 non-null     float64\n",
      " 5   away_score                       964 non-null    int64  \n",
      " 6   away_xg                          128 non-null    float64\n",
      " 7   away_penalty                     35 non-null     float64\n",
      " 8   home_manager                     964 non-null    object \n",
      " 9   home_captain                     644 non-null    object \n",
      " 10  away_manager                     964 non-null    object \n",
      " 11  away_captain                     644 non-null    object \n",
      " 12  Attendance                       964 non-null    int64  \n",
      " 13  Venue                            964 non-null    object \n",
      " 14  Officials                        709 non-null    object \n",
      " 15  Round                            964 non-null    object \n",
      " 16  Date                             964 non-null    object \n",
      " 17  Score                            964 non-null    object \n",
      " 18  Referee                          709 non-null    object \n",
      " 19  Notes                            73 non-null     object \n",
      " 20  Host                             964 non-null    object \n",
      " 21  Year                             964 non-null    int64  \n",
      " 22  home_goal                        718 non-null    object \n",
      " 23  away_goal                        571 non-null    object \n",
      " 24  home_goal_long                   718 non-null    object \n",
      " 25  away_goal_long                   571 non-null    object \n",
      " 26  home_own_goal                    39 non-null     object \n",
      " 27  away_own_goal                    17 non-null     object \n",
      " 28  home_penalty_goal                116 non-null    object \n",
      " 29  away_penalty_goal                84 non-null     object \n",
      " 30  home_penalty_miss_long           6 non-null      object \n",
      " 31  away_penalty_miss_long           9 non-null      object \n",
      " 32  home_penalty_shootout_goal_long  34 non-null     object \n",
      " 33  away_penalty_shootout_goal_long  34 non-null     object \n",
      " 34  home_penalty_shootout_miss_long  24 non-null     object \n",
      " 35  away_penalty_shootout_miss_long  30 non-null     object \n",
      " 36  home_red_card                    51 non-null     object \n",
      " 37  away_red_card                    54 non-null     object \n",
      " 38  home_yellow_red_card             23 non-null     object \n",
      " 39  away_yellow_red_card             31 non-null     object \n",
      " 40  home_yellow_card_long            621 non-null    object \n",
      " 41  away_yellow_card_long            627 non-null    object \n",
      " 42  home_substitute_in_long          740 non-null    object \n",
      " 43  away_substitute_in_long          747 non-null    object \n",
      "dtypes: float64(4), int64(4), object(36)\n",
      "memory usage: 331.5+ KB\n"
     ]
    }
   ],
   "source": [
    "matches.info()"
   ]
  },
  {
   "cell_type": "code",
   "execution_count": 2570,
   "metadata": {},
   "outputs": [
    {
     "data": {
      "text/html": [
       "<div>\n",
       "<style scoped>\n",
       "    .dataframe tbody tr th:only-of-type {\n",
       "        vertical-align: middle;\n",
       "    }\n",
       "\n",
       "    .dataframe tbody tr th {\n",
       "        vertical-align: top;\n",
       "    }\n",
       "\n",
       "    .dataframe thead th {\n",
       "        text-align: right;\n",
       "    }\n",
       "</style>\n",
       "<table border=\"1\" class=\"dataframe\">\n",
       "  <thead>\n",
       "    <tr style=\"text-align: right;\">\n",
       "      <th></th>\n",
       "      <th>home_team</th>\n",
       "      <th>away_team</th>\n",
       "      <th>home_score</th>\n",
       "      <th>home_xg</th>\n",
       "      <th>home_penalty</th>\n",
       "      <th>away_score</th>\n",
       "      <th>away_xg</th>\n",
       "      <th>away_penalty</th>\n",
       "      <th>home_manager</th>\n",
       "      <th>home_captain</th>\n",
       "      <th>...</th>\n",
       "      <th>home_penalty_shootout_miss_long</th>\n",
       "      <th>away_penalty_shootout_miss_long</th>\n",
       "      <th>home_red_card</th>\n",
       "      <th>away_red_card</th>\n",
       "      <th>home_yellow_red_card</th>\n",
       "      <th>away_yellow_red_card</th>\n",
       "      <th>home_yellow_card_long</th>\n",
       "      <th>away_yellow_card_long</th>\n",
       "      <th>home_substitute_in_long</th>\n",
       "      <th>away_substitute_in_long</th>\n",
       "    </tr>\n",
       "  </thead>\n",
       "  <tbody>\n",
       "    <tr>\n",
       "      <th>0</th>\n",
       "      <td>Argentina</td>\n",
       "      <td>France</td>\n",
       "      <td>3</td>\n",
       "      <td>3.3</td>\n",
       "      <td>4.0</td>\n",
       "      <td>3</td>\n",
       "      <td>2.2</td>\n",
       "      <td>2.0</td>\n",
       "      <td>Lionel Scaloni</td>\n",
       "      <td>Lionel Messi</td>\n",
       "      <td>...</td>\n",
       "      <td>NaN</td>\n",
       "      <td>['3|1:1|Kingsley Coman', '5|2:1|Aurélien Tchou...</td>\n",
       "      <td>NaN</td>\n",
       "      <td>NaN</td>\n",
       "      <td>NaN</td>\n",
       "      <td>NaN</td>\n",
       "      <td>['45+7&amp;rsquor;|2:0|Enzo Fernández', '90+8&amp;rsqu...</td>\n",
       "      <td>['55&amp;rsquor;|2:0|Adrien Rabiot', '87&amp;rsquor;|2...</td>\n",
       "      <td>['64&amp;rsquor;|2:0|Marcos Acuña|for Ángel Di Mar...</td>\n",
       "      <td>['41&amp;rsquor;|2:0|Randal Kolo Muani|for Ousmane...</td>\n",
       "    </tr>\n",
       "    <tr>\n",
       "      <th>1</th>\n",
       "      <td>Croatia</td>\n",
       "      <td>Morocco</td>\n",
       "      <td>2</td>\n",
       "      <td>0.7</td>\n",
       "      <td>NaN</td>\n",
       "      <td>1</td>\n",
       "      <td>1.2</td>\n",
       "      <td>NaN</td>\n",
       "      <td>Zlatko Dalić</td>\n",
       "      <td>Luka Modrić</td>\n",
       "      <td>...</td>\n",
       "      <td>NaN</td>\n",
       "      <td>NaN</td>\n",
       "      <td>NaN</td>\n",
       "      <td>NaN</td>\n",
       "      <td>NaN</td>\n",
       "      <td>NaN</td>\n",
       "      <td>NaN</td>\n",
       "      <td>['69&amp;rsquor;|2:1|Azzedine Ounahi', '84&amp;rsquor;...</td>\n",
       "      <td>['61&amp;rsquor;|2:1|Nikola Vlašić|for Andrej Kram...</td>\n",
       "      <td>['46&amp;rsquor;|2:1|Ilias Chair|for Abdelhamid Sa...</td>\n",
       "    </tr>\n",
       "    <tr>\n",
       "      <th>2</th>\n",
       "      <td>France</td>\n",
       "      <td>Morocco</td>\n",
       "      <td>2</td>\n",
       "      <td>2.0</td>\n",
       "      <td>NaN</td>\n",
       "      <td>0</td>\n",
       "      <td>0.9</td>\n",
       "      <td>NaN</td>\n",
       "      <td>Didier Deschamps</td>\n",
       "      <td>Hugo Lloris</td>\n",
       "      <td>...</td>\n",
       "      <td>NaN</td>\n",
       "      <td>NaN</td>\n",
       "      <td>NaN</td>\n",
       "      <td>NaN</td>\n",
       "      <td>NaN</td>\n",
       "      <td>NaN</td>\n",
       "      <td>NaN</td>\n",
       "      <td>['27&amp;rsquor;|1:0|Sofiane Boufal']</td>\n",
       "      <td>['65&amp;rsquor;|1:0|Marcus Thuram|for Olivier Gir...</td>\n",
       "      <td>['21&amp;rsquor;|1:0|Selim Amallah|for Romain Saïs...</td>\n",
       "    </tr>\n",
       "    <tr>\n",
       "      <th>3</th>\n",
       "      <td>Argentina</td>\n",
       "      <td>Croatia</td>\n",
       "      <td>3</td>\n",
       "      <td>2.3</td>\n",
       "      <td>NaN</td>\n",
       "      <td>0</td>\n",
       "      <td>0.5</td>\n",
       "      <td>NaN</td>\n",
       "      <td>Lionel Scaloni</td>\n",
       "      <td>Lionel Messi</td>\n",
       "      <td>...</td>\n",
       "      <td>NaN</td>\n",
       "      <td>NaN</td>\n",
       "      <td>NaN</td>\n",
       "      <td>NaN</td>\n",
       "      <td>NaN</td>\n",
       "      <td>NaN</td>\n",
       "      <td>['68&amp;rsquor;|2:0|Cristian Romero', '71&amp;rsquor;...</td>\n",
       "      <td>['32&amp;rsquor;|0:0|Mateo Kovačić', '32&amp;rsquor;|0...</td>\n",
       "      <td>['62&amp;rsquor;|2:0|Lisandro Martínez|for Leandro...</td>\n",
       "      <td>['46&amp;rsquor;|2:0|Mislav Oršić|for Borna Sosa',...</td>\n",
       "    </tr>\n",
       "    <tr>\n",
       "      <th>4</th>\n",
       "      <td>Morocco</td>\n",
       "      <td>Portugal</td>\n",
       "      <td>1</td>\n",
       "      <td>1.4</td>\n",
       "      <td>NaN</td>\n",
       "      <td>0</td>\n",
       "      <td>0.9</td>\n",
       "      <td>NaN</td>\n",
       "      <td>Hoalid Regragui</td>\n",
       "      <td>Romain Saïss</td>\n",
       "      <td>...</td>\n",
       "      <td>NaN</td>\n",
       "      <td>NaN</td>\n",
       "      <td>NaN</td>\n",
       "      <td>NaN</td>\n",
       "      <td>Walid Cheddira · 90+3</td>\n",
       "      <td>NaN</td>\n",
       "      <td>['70&amp;rsquor;|1:0|Achraf Dari', '90+1&amp;rsquor;|1...</td>\n",
       "      <td>['87&amp;rsquor;|1:0|Vitinha']</td>\n",
       "      <td>['57&amp;rsquor;|1:0|Achraf Dari|for Romain Saïss'...</td>\n",
       "      <td>['51&amp;rsquor;|1:0|João Cancelo|for Raphaël Guer...</td>\n",
       "    </tr>\n",
       "  </tbody>\n",
       "</table>\n",
       "<p>5 rows × 44 columns</p>\n",
       "</div>"
      ],
      "text/plain": [
       "   home_team away_team  home_score  home_xg  home_penalty  away_score  \\\n",
       "0  Argentina    France           3      3.3           4.0           3   \n",
       "1    Croatia   Morocco           2      0.7           NaN           1   \n",
       "2     France   Morocco           2      2.0           NaN           0   \n",
       "3  Argentina   Croatia           3      2.3           NaN           0   \n",
       "4    Morocco  Portugal           1      1.4           NaN           0   \n",
       "\n",
       "   away_xg  away_penalty      home_manager  home_captain  ...  \\\n",
       "0      2.2           2.0    Lionel Scaloni  Lionel Messi  ...   \n",
       "1      1.2           NaN      Zlatko Dalić   Luka Modrić  ...   \n",
       "2      0.9           NaN  Didier Deschamps   Hugo Lloris  ...   \n",
       "3      0.5           NaN    Lionel Scaloni  Lionel Messi  ...   \n",
       "4      0.9           NaN   Hoalid Regragui  Romain Saïss  ...   \n",
       "\n",
       "  home_penalty_shootout_miss_long  \\\n",
       "0                             NaN   \n",
       "1                             NaN   \n",
       "2                             NaN   \n",
       "3                             NaN   \n",
       "4                             NaN   \n",
       "\n",
       "                     away_penalty_shootout_miss_long  home_red_card  \\\n",
       "0  ['3|1:1|Kingsley Coman', '5|2:1|Aurélien Tchou...            NaN   \n",
       "1                                                NaN            NaN   \n",
       "2                                                NaN            NaN   \n",
       "3                                                NaN            NaN   \n",
       "4                                                NaN            NaN   \n",
       "\n",
       "  away_red_card   home_yellow_red_card away_yellow_red_card  \\\n",
       "0           NaN                    NaN                  NaN   \n",
       "1           NaN                    NaN                  NaN   \n",
       "2           NaN                    NaN                  NaN   \n",
       "3           NaN                    NaN                  NaN   \n",
       "4           NaN  Walid Cheddira · 90+3                  NaN   \n",
       "\n",
       "                               home_yellow_card_long  \\\n",
       "0  ['45+7&rsquor;|2:0|Enzo Fernández', '90+8&rsqu...   \n",
       "1                                                NaN   \n",
       "2                                                NaN   \n",
       "3  ['68&rsquor;|2:0|Cristian Romero', '71&rsquor;...   \n",
       "4  ['70&rsquor;|1:0|Achraf Dari', '90+1&rsquor;|1...   \n",
       "\n",
       "                               away_yellow_card_long  \\\n",
       "0  ['55&rsquor;|2:0|Adrien Rabiot', '87&rsquor;|2...   \n",
       "1  ['69&rsquor;|2:1|Azzedine Ounahi', '84&rsquor;...   \n",
       "2                  ['27&rsquor;|1:0|Sofiane Boufal']   \n",
       "3  ['32&rsquor;|0:0|Mateo Kovačić', '32&rsquor;|0...   \n",
       "4                         ['87&rsquor;|1:0|Vitinha']   \n",
       "\n",
       "                             home_substitute_in_long  \\\n",
       "0  ['64&rsquor;|2:0|Marcos Acuña|for Ángel Di Mar...   \n",
       "1  ['61&rsquor;|2:1|Nikola Vlašić|for Andrej Kram...   \n",
       "2  ['65&rsquor;|1:0|Marcus Thuram|for Olivier Gir...   \n",
       "3  ['62&rsquor;|2:0|Lisandro Martínez|for Leandro...   \n",
       "4  ['57&rsquor;|1:0|Achraf Dari|for Romain Saïss'...   \n",
       "\n",
       "                             away_substitute_in_long  \n",
       "0  ['41&rsquor;|2:0|Randal Kolo Muani|for Ousmane...  \n",
       "1  ['46&rsquor;|2:1|Ilias Chair|for Abdelhamid Sa...  \n",
       "2  ['21&rsquor;|1:0|Selim Amallah|for Romain Saïs...  \n",
       "3  ['46&rsquor;|2:0|Mislav Oršić|for Borna Sosa',...  \n",
       "4  ['51&rsquor;|1:0|João Cancelo|for Raphaël Guer...  \n",
       "\n",
       "[5 rows x 44 columns]"
      ]
     },
     "execution_count": 2570,
     "metadata": {},
     "output_type": "execute_result"
    }
   ],
   "source": [
    "matches.head()"
   ]
  },
  {
   "cell_type": "code",
   "execution_count": 2571,
   "metadata": {},
   "outputs": [],
   "source": [
    "# which team qualify in which year\n",
    "data = matches.groupby('Year').agg(home = ('home_team',list) , away = ('away_team',list))"
   ]
  },
  {
   "cell_type": "code",
   "execution_count": 2572,
   "metadata": {},
   "outputs": [
    {
     "data": {
      "text/html": [
       "<div>\n",
       "<style scoped>\n",
       "    .dataframe tbody tr th:only-of-type {\n",
       "        vertical-align: middle;\n",
       "    }\n",
       "\n",
       "    .dataframe tbody tr th {\n",
       "        vertical-align: top;\n",
       "    }\n",
       "\n",
       "    .dataframe thead th {\n",
       "        text-align: right;\n",
       "    }\n",
       "</style>\n",
       "<table border=\"1\" class=\"dataframe\">\n",
       "  <thead>\n",
       "    <tr style=\"text-align: right;\">\n",
       "      <th></th>\n",
       "      <th>home</th>\n",
       "      <th>away</th>\n",
       "    </tr>\n",
       "    <tr>\n",
       "      <th>Year</th>\n",
       "      <th></th>\n",
       "      <th></th>\n",
       "    </tr>\n",
       "  </thead>\n",
       "  <tbody>\n",
       "    <tr>\n",
       "      <th>1930</th>\n",
       "      <td>[Uruguay, Uruguay, Argentina, Argentina, Urugu...</td>\n",
       "      <td>[Argentina, Yugoslavia, United States, Chile, ...</td>\n",
       "    </tr>\n",
       "    <tr>\n",
       "      <th>1934</th>\n",
       "      <td>[Italy, Germany, Czechoslovakia, Italy, Italy,...</td>\n",
       "      <td>[Czechoslovakia, Austria, Germany, Austria, Sp...</td>\n",
       "    </tr>\n",
       "    <tr>\n",
       "      <th>1938</th>\n",
       "      <td>[Brazil, Italy, Hungary, Italy, Brazil, Sweden...</td>\n",
       "      <td>[Sweden, Hungary, Sweden, Brazil, Czechoslovak...</td>\n",
       "    </tr>\n",
       "    <tr>\n",
       "      <th>1950</th>\n",
       "      <td>[Sweden, Uruguay, Brazil, Uruguay, Brazil, Uru...</td>\n",
       "      <td>[Spain, Brazil, Spain, Sweden, Sweden, Spain, ...</td>\n",
       "    </tr>\n",
       "    <tr>\n",
       "      <th>1954</th>\n",
       "      <td>[Germany, Austria, Hungary, Germany, Germany, ...</td>\n",
       "      <td>[Hungary, Uruguay, Uruguay, Austria, Yugoslavi...</td>\n",
       "    </tr>\n",
       "  </tbody>\n",
       "</table>\n",
       "</div>"
      ],
      "text/plain": [
       "                                                   home  \\\n",
       "Year                                                      \n",
       "1930  [Uruguay, Uruguay, Argentina, Argentina, Urugu...   \n",
       "1934  [Italy, Germany, Czechoslovakia, Italy, Italy,...   \n",
       "1938  [Brazil, Italy, Hungary, Italy, Brazil, Sweden...   \n",
       "1950  [Sweden, Uruguay, Brazil, Uruguay, Brazil, Uru...   \n",
       "1954  [Germany, Austria, Hungary, Germany, Germany, ...   \n",
       "\n",
       "                                                   away  \n",
       "Year                                                     \n",
       "1930  [Argentina, Yugoslavia, United States, Chile, ...  \n",
       "1934  [Czechoslovakia, Austria, Germany, Austria, Sp...  \n",
       "1938  [Sweden, Hungary, Sweden, Brazil, Czechoslovak...  \n",
       "1950  [Spain, Brazil, Spain, Sweden, Sweden, Spain, ...  \n",
       "1954  [Hungary, Uruguay, Uruguay, Austria, Yugoslavi...  "
      ]
     },
     "execution_count": 2572,
     "metadata": {},
     "output_type": "execute_result"
    }
   ],
   "source": [
    "data.head()"
   ]
  },
  {
   "cell_type": "code",
   "execution_count": 2573,
   "metadata": {},
   "outputs": [],
   "source": [
    "data['teams'] = data.apply(lambda x : list(set(x['home'] + x['away'])), axis=1)\n",
    "# Concatenate \n",
    "# make a list of set (remove duplicate)\n"
   ]
  },
  {
   "cell_type": "code",
   "execution_count": 2574,
   "metadata": {},
   "outputs": [],
   "source": [
    "data['#'] = data['teams'].apply(len)"
   ]
  },
  {
   "cell_type": "code",
   "execution_count": 2575,
   "metadata": {},
   "outputs": [
    {
     "data": {
      "text/html": [
       "<div>\n",
       "<style scoped>\n",
       "    .dataframe tbody tr th:only-of-type {\n",
       "        vertical-align: middle;\n",
       "    }\n",
       "\n",
       "    .dataframe tbody tr th {\n",
       "        vertical-align: top;\n",
       "    }\n",
       "\n",
       "    .dataframe thead th {\n",
       "        text-align: right;\n",
       "    }\n",
       "</style>\n",
       "<table border=\"1\" class=\"dataframe\">\n",
       "  <thead>\n",
       "    <tr style=\"text-align: right;\">\n",
       "      <th></th>\n",
       "      <th>home</th>\n",
       "      <th>away</th>\n",
       "      <th>teams</th>\n",
       "      <th>#</th>\n",
       "    </tr>\n",
       "    <tr>\n",
       "      <th>Year</th>\n",
       "      <th></th>\n",
       "      <th></th>\n",
       "      <th></th>\n",
       "      <th></th>\n",
       "    </tr>\n",
       "  </thead>\n",
       "  <tbody>\n",
       "    <tr>\n",
       "      <th>1930</th>\n",
       "      <td>[Uruguay, Uruguay, Argentina, Argentina, Urugu...</td>\n",
       "      <td>[Argentina, Yugoslavia, United States, Chile, ...</td>\n",
       "      <td>[Uruguay, Argentina, United States, Yugoslavia...</td>\n",
       "      <td>13</td>\n",
       "    </tr>\n",
       "    <tr>\n",
       "      <th>1934</th>\n",
       "      <td>[Italy, Germany, Czechoslovakia, Italy, Italy,...</td>\n",
       "      <td>[Czechoslovakia, Austria, Germany, Austria, Sp...</td>\n",
       "      <td>[Austria, Italy, France, Netherlands, Switzerl...</td>\n",
       "      <td>16</td>\n",
       "    </tr>\n",
       "    <tr>\n",
       "      <th>1938</th>\n",
       "      <td>[Brazil, Italy, Hungary, Italy, Brazil, Sweden...</td>\n",
       "      <td>[Sweden, Hungary, Sweden, Brazil, Czechoslovak...</td>\n",
       "      <td>[Italy, Netherlands, Switzerland, Cuba, Romani...</td>\n",
       "      <td>15</td>\n",
       "    </tr>\n",
       "    <tr>\n",
       "      <th>1950</th>\n",
       "      <td>[Sweden, Uruguay, Brazil, Uruguay, Brazil, Uru...</td>\n",
       "      <td>[Spain, Brazil, Spain, Sweden, Sweden, Spain, ...</td>\n",
       "      <td>[Uruguay, Italy, United States, Switzerland, Y...</td>\n",
       "      <td>13</td>\n",
       "    </tr>\n",
       "    <tr>\n",
       "      <th>1954</th>\n",
       "      <td>[Germany, Austria, Hungary, Germany, Germany, ...</td>\n",
       "      <td>[Hungary, Uruguay, Uruguay, Austria, Yugoslavi...</td>\n",
       "      <td>[Scotland, Austria, Uruguay, Türkiye, Italy, K...</td>\n",
       "      <td>16</td>\n",
       "    </tr>\n",
       "    <tr>\n",
       "      <th>1958</th>\n",
       "      <td>[Brazil, France, Sweden, Brazil, France, West ...</td>\n",
       "      <td>[Sweden, West Germany, West Germany, France, N...</td>\n",
       "      <td>[Scotland, Austria, Soviet Union, Argentina, Y...</td>\n",
       "      <td>16</td>\n",
       "    </tr>\n",
       "    <tr>\n",
       "      <th>1962</th>\n",
       "      <td>[Brazil, Chile, Brazil, Czechoslovakia, Chile,...</td>\n",
       "      <td>[Czechoslovakia, Yugoslavia, Chile, Yugoslavia...</td>\n",
       "      <td>[Soviet Union, Italy, Uruguay, Argentina, Yugo...</td>\n",
       "      <td>16</td>\n",
       "    </tr>\n",
       "    <tr>\n",
       "      <th>1966</th>\n",
       "      <td>[England, Portugal, England, West Germany, Por...</td>\n",
       "      <td>[West Germany, Soviet Union, Portugal, Soviet ...</td>\n",
       "      <td>[Soviet Union, Uruguay, Argentina, Korea DPR, ...</td>\n",
       "      <td>16</td>\n",
       "    </tr>\n",
       "    <tr>\n",
       "      <th>1970</th>\n",
       "      <td>[Brazil, West Germany, Italy, Brazil, Brazil, ...</td>\n",
       "      <td>[Italy, Uruguay, West Germany, Uruguay, Peru, ...</td>\n",
       "      <td>[Israel, Uruguay, Italy, Soviet Union, El Salv...</td>\n",
       "      <td>16</td>\n",
       "    </tr>\n",
       "    <tr>\n",
       "      <th>1974</th>\n",
       "      <td>[Netherlands, Brazil, Poland, Netherlands, Arg...</td>\n",
       "      <td>[West Germany, Poland, West Germany, Brazil, G...</td>\n",
       "      <td>[Scotland, Uruguay, Netherlands, Argentina, It...</td>\n",
       "      <td>16</td>\n",
       "    </tr>\n",
       "    <tr>\n",
       "      <th>1978</th>\n",
       "      <td>[Argentina, Brazil, Netherlands, Austria, Braz...</td>\n",
       "      <td>[Netherlands, Italy, Italy, West Germany, Pola...</td>\n",
       "      <td>[Scotland, Austria, Netherlands, Argentina, It...</td>\n",
       "      <td>16</td>\n",
       "    </tr>\n",
       "    <tr>\n",
       "      <th>1982</th>\n",
       "      <td>[Italy, Poland, Poland, West Germany, Italy, S...</td>\n",
       "      <td>[West Germany, France, Italy, France, Brazil, ...</td>\n",
       "      <td>[Algeria, Austria, Argentina, Yugoslavia, Belg...</td>\n",
       "      <td>24</td>\n",
       "    </tr>\n",
       "    <tr>\n",
       "      <th>1986</th>\n",
       "      <td>[Argentina, France, France, Argentina, Argenti...</td>\n",
       "      <td>[West Germany, Belgium, West Germany, Belgium,...</td>\n",
       "      <td>[Algeria, Argentina, Hungary, England, Belgium...</td>\n",
       "      <td>24</td>\n",
       "    </tr>\n",
       "    <tr>\n",
       "      <th>1990</th>\n",
       "      <td>[West Germany, Italy, West Germany, Italy, Wes...</td>\n",
       "      <td>[Argentina, England, England, Argentina, Czech...</td>\n",
       "      <td>[Austria, Argentina, Yugoslavia, Belgium, Engl...</td>\n",
       "      <td>24</td>\n",
       "    </tr>\n",
       "    <tr>\n",
       "      <th>1994</th>\n",
       "      <td>[Brazil, Sweden, Bulgaria, Sweden, Bulgaria, R...</td>\n",
       "      <td>[Italy, Bulgaria, Italy, Brazil, Germany, Swed...</td>\n",
       "      <td>[Nigeria, Argentina, Switzerland, Belgium, Bol...</td>\n",
       "      <td>24</td>\n",
       "    </tr>\n",
       "    <tr>\n",
       "      <th>1998</th>\n",
       "      <td>[Brazil, Netherlands, France, Brazil, Netherla...</td>\n",
       "      <td>[France, Croatia, Croatia, Netherlands, Argent...</td>\n",
       "      <td>[Nigeria, Austria, Argentina, Belgium, England...</td>\n",
       "      <td>32</td>\n",
       "    </tr>\n",
       "    <tr>\n",
       "      <th>2002</th>\n",
       "      <td>[Germany, Korea Republic, Brazil, Germany, Spa...</td>\n",
       "      <td>[Brazil, Türkiye, Türkiye, Korea Republic, Kor...</td>\n",
       "      <td>[Nigeria, Argentina, Belgium, England, China P...</td>\n",
       "      <td>32</td>\n",
       "    </tr>\n",
       "    <tr>\n",
       "      <th>2006</th>\n",
       "      <td>[Italy, Germany, Portugal, Germany, England, B...</td>\n",
       "      <td>[France, Portugal, France, Italy, Portugal, Fr...</td>\n",
       "      <td>[Argentina, Switzerland, Australia, England, S...</td>\n",
       "      <td>32</td>\n",
       "    </tr>\n",
       "    <tr>\n",
       "      <th>2010</th>\n",
       "      <td>[Netherlands, Uruguay, Germany, Uruguay, Argen...</td>\n",
       "      <td>[Spain, Germany, Spain, Netherlands, Germany, ...</td>\n",
       "      <td>[Algeria, Nigeria, Argentina, Switzerland, Aus...</td>\n",
       "      <td>32</td>\n",
       "    </tr>\n",
       "    <tr>\n",
       "      <th>2014</th>\n",
       "      <td>[Germany, Brazil, Netherlands, Brazil, Argenti...</td>\n",
       "      <td>[Argentina, Netherlands, Argentina, Germany, B...</td>\n",
       "      <td>[Algeria, Nigeria, Argentina, Switzerland, Aus...</td>\n",
       "      <td>32</td>\n",
       "    </tr>\n",
       "    <tr>\n",
       "      <th>2018</th>\n",
       "      <td>[France, Belgium, Croatia, France, Sweden, Rus...</td>\n",
       "      <td>[Croatia, England, England, Belgium, England, ...</td>\n",
       "      <td>[Nigeria, Argentina, Switzerland, Australia, B...</td>\n",
       "      <td>32</td>\n",
       "    </tr>\n",
       "    <tr>\n",
       "      <th>2022</th>\n",
       "      <td>[Argentina, Croatia, France, Argentina, Morocc...</td>\n",
       "      <td>[France, Morocco, Morocco, Croatia, Portugal, ...</td>\n",
       "      <td>[Argentina, Switzerland, Australia, Belgium, E...</td>\n",
       "      <td>32</td>\n",
       "    </tr>\n",
       "  </tbody>\n",
       "</table>\n",
       "</div>"
      ],
      "text/plain": [
       "                                                   home  \\\n",
       "Year                                                      \n",
       "1930  [Uruguay, Uruguay, Argentina, Argentina, Urugu...   \n",
       "1934  [Italy, Germany, Czechoslovakia, Italy, Italy,...   \n",
       "1938  [Brazil, Italy, Hungary, Italy, Brazil, Sweden...   \n",
       "1950  [Sweden, Uruguay, Brazil, Uruguay, Brazil, Uru...   \n",
       "1954  [Germany, Austria, Hungary, Germany, Germany, ...   \n",
       "1958  [Brazil, France, Sweden, Brazil, France, West ...   \n",
       "1962  [Brazil, Chile, Brazil, Czechoslovakia, Chile,...   \n",
       "1966  [England, Portugal, England, West Germany, Por...   \n",
       "1970  [Brazil, West Germany, Italy, Brazil, Brazil, ...   \n",
       "1974  [Netherlands, Brazil, Poland, Netherlands, Arg...   \n",
       "1978  [Argentina, Brazil, Netherlands, Austria, Braz...   \n",
       "1982  [Italy, Poland, Poland, West Germany, Italy, S...   \n",
       "1986  [Argentina, France, France, Argentina, Argenti...   \n",
       "1990  [West Germany, Italy, West Germany, Italy, Wes...   \n",
       "1994  [Brazil, Sweden, Bulgaria, Sweden, Bulgaria, R...   \n",
       "1998  [Brazil, Netherlands, France, Brazil, Netherla...   \n",
       "2002  [Germany, Korea Republic, Brazil, Germany, Spa...   \n",
       "2006  [Italy, Germany, Portugal, Germany, England, B...   \n",
       "2010  [Netherlands, Uruguay, Germany, Uruguay, Argen...   \n",
       "2014  [Germany, Brazil, Netherlands, Brazil, Argenti...   \n",
       "2018  [France, Belgium, Croatia, France, Sweden, Rus...   \n",
       "2022  [Argentina, Croatia, France, Argentina, Morocc...   \n",
       "\n",
       "                                                   away  \\\n",
       "Year                                                      \n",
       "1930  [Argentina, Yugoslavia, United States, Chile, ...   \n",
       "1934  [Czechoslovakia, Austria, Germany, Austria, Sp...   \n",
       "1938  [Sweden, Hungary, Sweden, Brazil, Czechoslovak...   \n",
       "1950  [Spain, Brazil, Spain, Sweden, Sweden, Spain, ...   \n",
       "1954  [Hungary, Uruguay, Uruguay, Austria, Yugoslavi...   \n",
       "1958  [Sweden, West Germany, West Germany, France, N...   \n",
       "1962  [Czechoslovakia, Yugoslavia, Chile, Yugoslavia...   \n",
       "1966  [West Germany, Soviet Union, Portugal, Soviet ...   \n",
       "1970  [Italy, Uruguay, West Germany, Uruguay, Peru, ...   \n",
       "1974  [West Germany, Poland, West Germany, Brazil, G...   \n",
       "1978  [Netherlands, Italy, Italy, West Germany, Pola...   \n",
       "1982  [West Germany, France, Italy, France, Brazil, ...   \n",
       "1986  [West Germany, Belgium, West Germany, Belgium,...   \n",
       "1990  [Argentina, England, England, Argentina, Czech...   \n",
       "1994  [Italy, Bulgaria, Italy, Brazil, Germany, Swed...   \n",
       "1998  [France, Croatia, Croatia, Netherlands, Argent...   \n",
       "2002  [Brazil, Türkiye, Türkiye, Korea Republic, Kor...   \n",
       "2006  [France, Portugal, France, Italy, Portugal, Fr...   \n",
       "2010  [Spain, Germany, Spain, Netherlands, Germany, ...   \n",
       "2014  [Argentina, Netherlands, Argentina, Germany, B...   \n",
       "2018  [Croatia, England, England, Belgium, England, ...   \n",
       "2022  [France, Morocco, Morocco, Croatia, Portugal, ...   \n",
       "\n",
       "                                                  teams   #  \n",
       "Year                                                         \n",
       "1930  [Uruguay, Argentina, United States, Yugoslavia...  13  \n",
       "1934  [Austria, Italy, France, Netherlands, Switzerl...  16  \n",
       "1938  [Italy, Netherlands, Switzerland, Cuba, Romani...  15  \n",
       "1950  [Uruguay, Italy, United States, Switzerland, Y...  13  \n",
       "1954  [Scotland, Austria, Uruguay, Türkiye, Italy, K...  16  \n",
       "1958  [Scotland, Austria, Soviet Union, Argentina, Y...  16  \n",
       "1962  [Soviet Union, Italy, Uruguay, Argentina, Yugo...  16  \n",
       "1966  [Soviet Union, Uruguay, Argentina, Korea DPR, ...  16  \n",
       "1970  [Israel, Uruguay, Italy, Soviet Union, El Salv...  16  \n",
       "1974  [Scotland, Uruguay, Netherlands, Argentina, It...  16  \n",
       "1978  [Scotland, Austria, Netherlands, Argentina, It...  16  \n",
       "1982  [Algeria, Austria, Argentina, Yugoslavia, Belg...  24  \n",
       "1986  [Algeria, Argentina, Hungary, England, Belgium...  24  \n",
       "1990  [Austria, Argentina, Yugoslavia, Belgium, Engl...  24  \n",
       "1994  [Nigeria, Argentina, Switzerland, Belgium, Bol...  24  \n",
       "1998  [Nigeria, Austria, Argentina, Belgium, England...  32  \n",
       "2002  [Nigeria, Argentina, Belgium, England, China P...  32  \n",
       "2006  [Argentina, Switzerland, Australia, England, S...  32  \n",
       "2010  [Algeria, Nigeria, Argentina, Switzerland, Aus...  32  \n",
       "2014  [Algeria, Nigeria, Argentina, Switzerland, Aus...  32  \n",
       "2018  [Nigeria, Argentina, Switzerland, Australia, B...  32  \n",
       "2022  [Argentina, Switzerland, Australia, Belgium, E...  32  "
      ]
     },
     "execution_count": 2575,
     "metadata": {},
     "output_type": "execute_result"
    }
   ],
   "source": [
    "data"
   ]
  },
  {
   "cell_type": "code",
   "execution_count": 2576,
   "metadata": {},
   "outputs": [],
   "source": [
    "pivot_data = data['teams'].explode().reset_index().pivot(index= 'teams', columns='Year'  , values = 'Year')\n",
    "pivot_data.fillna(0 , inplace = True)"
   ]
  },
  {
   "cell_type": "code",
   "execution_count": 2577,
   "metadata": {},
   "outputs": [],
   "source": [
    "pivot_data = pivot_data.map(lambda x : 1 if x>0 else 0  )\n"
   ]
  },
  {
   "cell_type": "code",
   "execution_count": 2578,
   "metadata": {},
   "outputs": [
    {
     "data": {
      "text/html": [
       "<div>\n",
       "<style scoped>\n",
       "    .dataframe tbody tr th:only-of-type {\n",
       "        vertical-align: middle;\n",
       "    }\n",
       "\n",
       "    .dataframe tbody tr th {\n",
       "        vertical-align: top;\n",
       "    }\n",
       "\n",
       "    .dataframe thead th {\n",
       "        text-align: right;\n",
       "    }\n",
       "</style>\n",
       "<table border=\"1\" class=\"dataframe\">\n",
       "  <thead>\n",
       "    <tr style=\"text-align: right;\">\n",
       "      <th>Year</th>\n",
       "      <th>1930</th>\n",
       "      <th>1934</th>\n",
       "      <th>1938</th>\n",
       "      <th>1950</th>\n",
       "      <th>1954</th>\n",
       "      <th>1958</th>\n",
       "      <th>1962</th>\n",
       "      <th>1966</th>\n",
       "      <th>1970</th>\n",
       "      <th>1974</th>\n",
       "      <th>...</th>\n",
       "      <th>1986</th>\n",
       "      <th>1990</th>\n",
       "      <th>1994</th>\n",
       "      <th>1998</th>\n",
       "      <th>2002</th>\n",
       "      <th>2006</th>\n",
       "      <th>2010</th>\n",
       "      <th>2014</th>\n",
       "      <th>2018</th>\n",
       "      <th>2022</th>\n",
       "    </tr>\n",
       "    <tr>\n",
       "      <th>teams</th>\n",
       "      <th></th>\n",
       "      <th></th>\n",
       "      <th></th>\n",
       "      <th></th>\n",
       "      <th></th>\n",
       "      <th></th>\n",
       "      <th></th>\n",
       "      <th></th>\n",
       "      <th></th>\n",
       "      <th></th>\n",
       "      <th></th>\n",
       "      <th></th>\n",
       "      <th></th>\n",
       "      <th></th>\n",
       "      <th></th>\n",
       "      <th></th>\n",
       "      <th></th>\n",
       "      <th></th>\n",
       "      <th></th>\n",
       "      <th></th>\n",
       "      <th></th>\n",
       "    </tr>\n",
       "  </thead>\n",
       "  <tbody>\n",
       "    <tr>\n",
       "      <th>Algeria</th>\n",
       "      <td>0</td>\n",
       "      <td>0</td>\n",
       "      <td>0</td>\n",
       "      <td>0</td>\n",
       "      <td>0</td>\n",
       "      <td>0</td>\n",
       "      <td>0</td>\n",
       "      <td>0</td>\n",
       "      <td>0</td>\n",
       "      <td>0</td>\n",
       "      <td>...</td>\n",
       "      <td>1</td>\n",
       "      <td>0</td>\n",
       "      <td>0</td>\n",
       "      <td>0</td>\n",
       "      <td>0</td>\n",
       "      <td>0</td>\n",
       "      <td>1</td>\n",
       "      <td>1</td>\n",
       "      <td>0</td>\n",
       "      <td>0</td>\n",
       "    </tr>\n",
       "    <tr>\n",
       "      <th>Angola</th>\n",
       "      <td>0</td>\n",
       "      <td>0</td>\n",
       "      <td>0</td>\n",
       "      <td>0</td>\n",
       "      <td>0</td>\n",
       "      <td>0</td>\n",
       "      <td>0</td>\n",
       "      <td>0</td>\n",
       "      <td>0</td>\n",
       "      <td>0</td>\n",
       "      <td>...</td>\n",
       "      <td>0</td>\n",
       "      <td>0</td>\n",
       "      <td>0</td>\n",
       "      <td>0</td>\n",
       "      <td>0</td>\n",
       "      <td>1</td>\n",
       "      <td>0</td>\n",
       "      <td>0</td>\n",
       "      <td>0</td>\n",
       "      <td>0</td>\n",
       "    </tr>\n",
       "    <tr>\n",
       "      <th>Argentina</th>\n",
       "      <td>1</td>\n",
       "      <td>1</td>\n",
       "      <td>0</td>\n",
       "      <td>0</td>\n",
       "      <td>0</td>\n",
       "      <td>1</td>\n",
       "      <td>1</td>\n",
       "      <td>1</td>\n",
       "      <td>0</td>\n",
       "      <td>1</td>\n",
       "      <td>...</td>\n",
       "      <td>1</td>\n",
       "      <td>1</td>\n",
       "      <td>1</td>\n",
       "      <td>1</td>\n",
       "      <td>1</td>\n",
       "      <td>1</td>\n",
       "      <td>1</td>\n",
       "      <td>1</td>\n",
       "      <td>1</td>\n",
       "      <td>1</td>\n",
       "    </tr>\n",
       "    <tr>\n",
       "      <th>Australia</th>\n",
       "      <td>0</td>\n",
       "      <td>0</td>\n",
       "      <td>0</td>\n",
       "      <td>0</td>\n",
       "      <td>0</td>\n",
       "      <td>0</td>\n",
       "      <td>0</td>\n",
       "      <td>0</td>\n",
       "      <td>0</td>\n",
       "      <td>1</td>\n",
       "      <td>...</td>\n",
       "      <td>0</td>\n",
       "      <td>0</td>\n",
       "      <td>0</td>\n",
       "      <td>0</td>\n",
       "      <td>0</td>\n",
       "      <td>1</td>\n",
       "      <td>1</td>\n",
       "      <td>1</td>\n",
       "      <td>1</td>\n",
       "      <td>1</td>\n",
       "    </tr>\n",
       "    <tr>\n",
       "      <th>Austria</th>\n",
       "      <td>0</td>\n",
       "      <td>1</td>\n",
       "      <td>0</td>\n",
       "      <td>0</td>\n",
       "      <td>1</td>\n",
       "      <td>1</td>\n",
       "      <td>0</td>\n",
       "      <td>0</td>\n",
       "      <td>0</td>\n",
       "      <td>0</td>\n",
       "      <td>...</td>\n",
       "      <td>0</td>\n",
       "      <td>1</td>\n",
       "      <td>0</td>\n",
       "      <td>1</td>\n",
       "      <td>0</td>\n",
       "      <td>0</td>\n",
       "      <td>0</td>\n",
       "      <td>0</td>\n",
       "      <td>0</td>\n",
       "      <td>0</td>\n",
       "    </tr>\n",
       "    <tr>\n",
       "      <th>...</th>\n",
       "      <td>...</td>\n",
       "      <td>...</td>\n",
       "      <td>...</td>\n",
       "      <td>...</td>\n",
       "      <td>...</td>\n",
       "      <td>...</td>\n",
       "      <td>...</td>\n",
       "      <td>...</td>\n",
       "      <td>...</td>\n",
       "      <td>...</td>\n",
       "      <td>...</td>\n",
       "      <td>...</td>\n",
       "      <td>...</td>\n",
       "      <td>...</td>\n",
       "      <td>...</td>\n",
       "      <td>...</td>\n",
       "      <td>...</td>\n",
       "      <td>...</td>\n",
       "      <td>...</td>\n",
       "      <td>...</td>\n",
       "      <td>...</td>\n",
       "    </tr>\n",
       "    <tr>\n",
       "      <th>Uruguay</th>\n",
       "      <td>1</td>\n",
       "      <td>0</td>\n",
       "      <td>0</td>\n",
       "      <td>1</td>\n",
       "      <td>1</td>\n",
       "      <td>0</td>\n",
       "      <td>1</td>\n",
       "      <td>1</td>\n",
       "      <td>1</td>\n",
       "      <td>1</td>\n",
       "      <td>...</td>\n",
       "      <td>1</td>\n",
       "      <td>1</td>\n",
       "      <td>0</td>\n",
       "      <td>0</td>\n",
       "      <td>1</td>\n",
       "      <td>0</td>\n",
       "      <td>1</td>\n",
       "      <td>1</td>\n",
       "      <td>1</td>\n",
       "      <td>1</td>\n",
       "    </tr>\n",
       "    <tr>\n",
       "      <th>Wales</th>\n",
       "      <td>0</td>\n",
       "      <td>0</td>\n",
       "      <td>0</td>\n",
       "      <td>0</td>\n",
       "      <td>0</td>\n",
       "      <td>1</td>\n",
       "      <td>0</td>\n",
       "      <td>0</td>\n",
       "      <td>0</td>\n",
       "      <td>0</td>\n",
       "      <td>...</td>\n",
       "      <td>0</td>\n",
       "      <td>0</td>\n",
       "      <td>0</td>\n",
       "      <td>0</td>\n",
       "      <td>0</td>\n",
       "      <td>0</td>\n",
       "      <td>0</td>\n",
       "      <td>0</td>\n",
       "      <td>0</td>\n",
       "      <td>1</td>\n",
       "    </tr>\n",
       "    <tr>\n",
       "      <th>West Germany</th>\n",
       "      <td>0</td>\n",
       "      <td>0</td>\n",
       "      <td>0</td>\n",
       "      <td>0</td>\n",
       "      <td>0</td>\n",
       "      <td>1</td>\n",
       "      <td>1</td>\n",
       "      <td>1</td>\n",
       "      <td>1</td>\n",
       "      <td>1</td>\n",
       "      <td>...</td>\n",
       "      <td>1</td>\n",
       "      <td>1</td>\n",
       "      <td>0</td>\n",
       "      <td>0</td>\n",
       "      <td>0</td>\n",
       "      <td>0</td>\n",
       "      <td>0</td>\n",
       "      <td>0</td>\n",
       "      <td>0</td>\n",
       "      <td>0</td>\n",
       "    </tr>\n",
       "    <tr>\n",
       "      <th>Yugoslavia</th>\n",
       "      <td>1</td>\n",
       "      <td>0</td>\n",
       "      <td>0</td>\n",
       "      <td>1</td>\n",
       "      <td>1</td>\n",
       "      <td>1</td>\n",
       "      <td>1</td>\n",
       "      <td>0</td>\n",
       "      <td>0</td>\n",
       "      <td>1</td>\n",
       "      <td>...</td>\n",
       "      <td>0</td>\n",
       "      <td>1</td>\n",
       "      <td>0</td>\n",
       "      <td>0</td>\n",
       "      <td>0</td>\n",
       "      <td>0</td>\n",
       "      <td>0</td>\n",
       "      <td>0</td>\n",
       "      <td>0</td>\n",
       "      <td>0</td>\n",
       "    </tr>\n",
       "    <tr>\n",
       "      <th>Zaire</th>\n",
       "      <td>0</td>\n",
       "      <td>0</td>\n",
       "      <td>0</td>\n",
       "      <td>0</td>\n",
       "      <td>0</td>\n",
       "      <td>0</td>\n",
       "      <td>0</td>\n",
       "      <td>0</td>\n",
       "      <td>0</td>\n",
       "      <td>1</td>\n",
       "      <td>...</td>\n",
       "      <td>0</td>\n",
       "      <td>0</td>\n",
       "      <td>0</td>\n",
       "      <td>0</td>\n",
       "      <td>0</td>\n",
       "      <td>0</td>\n",
       "      <td>0</td>\n",
       "      <td>0</td>\n",
       "      <td>0</td>\n",
       "      <td>0</td>\n",
       "    </tr>\n",
       "  </tbody>\n",
       "</table>\n",
       "<p>86 rows × 22 columns</p>\n",
       "</div>"
      ],
      "text/plain": [
       "Year          1930  1934  1938  1950  1954  1958  1962  1966  1970  1974  ...  \\\n",
       "teams                                                                     ...   \n",
       "Algeria          0     0     0     0     0     0     0     0     0     0  ...   \n",
       "Angola           0     0     0     0     0     0     0     0     0     0  ...   \n",
       "Argentina        1     1     0     0     0     1     1     1     0     1  ...   \n",
       "Australia        0     0     0     0     0     0     0     0     0     1  ...   \n",
       "Austria          0     1     0     0     1     1     0     0     0     0  ...   \n",
       "...            ...   ...   ...   ...   ...   ...   ...   ...   ...   ...  ...   \n",
       "Uruguay          1     0     0     1     1     0     1     1     1     1  ...   \n",
       "Wales            0     0     0     0     0     1     0     0     0     0  ...   \n",
       "West Germany     0     0     0     0     0     1     1     1     1     1  ...   \n",
       "Yugoslavia       1     0     0     1     1     1     1     0     0     1  ...   \n",
       "Zaire            0     0     0     0     0     0     0     0     0     1  ...   \n",
       "\n",
       "Year          1986  1990  1994  1998  2002  2006  2010  2014  2018  2022  \n",
       "teams                                                                     \n",
       "Algeria          1     0     0     0     0     0     1     1     0     0  \n",
       "Angola           0     0     0     0     0     1     0     0     0     0  \n",
       "Argentina        1     1     1     1     1     1     1     1     1     1  \n",
       "Australia        0     0     0     0     0     1     1     1     1     1  \n",
       "Austria          0     1     0     1     0     0     0     0     0     0  \n",
       "...            ...   ...   ...   ...   ...   ...   ...   ...   ...   ...  \n",
       "Uruguay          1     1     0     0     1     0     1     1     1     1  \n",
       "Wales            0     0     0     0     0     0     0     0     0     1  \n",
       "West Germany     1     1     0     0     0     0     0     0     0     0  \n",
       "Yugoslavia       0     1     0     0     0     0     0     0     0     0  \n",
       "Zaire            0     0     0     0     0     0     0     0     0     0  \n",
       "\n",
       "[86 rows x 22 columns]"
      ]
     },
     "execution_count": 2578,
     "metadata": {},
     "output_type": "execute_result"
    }
   ],
   "source": [
    "pivot_data"
   ]
  },
  {
   "cell_type": "code",
   "execution_count": 2579,
   "metadata": {},
   "outputs": [
    {
     "data": {
      "image/png": "[encoded data removed]",
      "text/plain": [
       "<Figure size 1200x2000 with 2 Axes>"
      ]
     },
     "metadata": {},
     "output_type": "display_data"
    }
   ],
   "source": [
    "plt.figure(figsize=(12, 20))\n",
    "sns.heatmap(pivot_data, linecolor='white', linewidths=.5)\n",
    "plt.title(\"Teams Qualify Years\")\n",
    "plt.xlabel(\"Years\")  \n",
    "plt.ylabel(\"Teams\")  \n",
    "plt.show()"
   ]
  },
  {
   "cell_type": "markdown",
   "metadata": {},
   "source": [
    "## OBSERVATIONS\n",
    "\n",
    "Brazil is the only country to play all editions of the FIFA cup.\n",
    "\n",
    "Countries are Qatar , Canada , Wales are new to the tournament.\n",
    "\n",
    "Countires like Cuba, Israel , Kuwait , jamaica, Ukrain , Tongo etc. participated in only 1 edition of FIFA."
   ]
  },
  {
   "cell_type": "markdown",
   "metadata": {},
   "source": [
    "### Now here we check the whic country have ranked increased and which country have the ranked decreased and which have the same"
   ]
  },
  {
   "cell_type": "code",
   "execution_count": 2580,
   "metadata": {},
   "outputs": [
    {
     "data": {
      "text/html": [
       "<div>\n",
       "<style scoped>\n",
       "    .dataframe tbody tr th:only-of-type {\n",
       "        vertical-align: middle;\n",
       "    }\n",
       "\n",
       "    .dataframe tbody tr th {\n",
       "        vertical-align: top;\n",
       "    }\n",
       "\n",
       "    .dataframe thead th {\n",
       "        text-align: right;\n",
       "    }\n",
       "</style>\n",
       "<table border=\"1\" class=\"dataframe\">\n",
       "  <thead>\n",
       "    <tr style=\"text-align: right;\">\n",
       "      <th></th>\n",
       "      <th>team</th>\n",
       "      <th>team_code</th>\n",
       "      <th>association</th>\n",
       "      <th>rank</th>\n",
       "      <th>previous_rank</th>\n",
       "      <th>points</th>\n",
       "      <th>previous_points</th>\n",
       "    </tr>\n",
       "  </thead>\n",
       "  <tbody>\n",
       "    <tr>\n",
       "      <th>0</th>\n",
       "      <td>Brazil</td>\n",
       "      <td>BRA</td>\n",
       "      <td>CONMEBOL</td>\n",
       "      <td>1</td>\n",
       "      <td>1</td>\n",
       "      <td>1841.30</td>\n",
       "      <td>1837.56</td>\n",
       "    </tr>\n",
       "    <tr>\n",
       "      <th>1</th>\n",
       "      <td>Belgium</td>\n",
       "      <td>BEL</td>\n",
       "      <td>UEFA</td>\n",
       "      <td>2</td>\n",
       "      <td>2</td>\n",
       "      <td>1816.71</td>\n",
       "      <td>1821.92</td>\n",
       "    </tr>\n",
       "    <tr>\n",
       "      <th>2</th>\n",
       "      <td>Argentina</td>\n",
       "      <td>ARG</td>\n",
       "      <td>CONMEBOL</td>\n",
       "      <td>3</td>\n",
       "      <td>3</td>\n",
       "      <td>1773.88</td>\n",
       "      <td>1770.65</td>\n",
       "    </tr>\n",
       "    <tr>\n",
       "      <th>3</th>\n",
       "      <td>France</td>\n",
       "      <td>FRA</td>\n",
       "      <td>UEFA</td>\n",
       "      <td>4</td>\n",
       "      <td>4</td>\n",
       "      <td>1759.78</td>\n",
       "      <td>1764.85</td>\n",
       "    </tr>\n",
       "    <tr>\n",
       "      <th>4</th>\n",
       "      <td>England</td>\n",
       "      <td>ENG</td>\n",
       "      <td>UEFA</td>\n",
       "      <td>5</td>\n",
       "      <td>5</td>\n",
       "      <td>1728.47</td>\n",
       "      <td>1737.46</td>\n",
       "    </tr>\n",
       "    <tr>\n",
       "      <th>...</th>\n",
       "      <td>...</td>\n",
       "      <td>...</td>\n",
       "      <td>...</td>\n",
       "      <td>...</td>\n",
       "      <td>...</td>\n",
       "      <td>...</td>\n",
       "      <td>...</td>\n",
       "    </tr>\n",
       "    <tr>\n",
       "      <th>206</th>\n",
       "      <td>Sri Lanka</td>\n",
       "      <td>SRI</td>\n",
       "      <td>AFC</td>\n",
       "      <td>207</td>\n",
       "      <td>207</td>\n",
       "      <td>825.25</td>\n",
       "      <td>825.25</td>\n",
       "    </tr>\n",
       "    <tr>\n",
       "      <th>207</th>\n",
       "      <td>US Virgin Islands</td>\n",
       "      <td>VIR</td>\n",
       "      <td>CONCACAF</td>\n",
       "      <td>208</td>\n",
       "      <td>208</td>\n",
       "      <td>823.97</td>\n",
       "      <td>823.97</td>\n",
       "    </tr>\n",
       "    <tr>\n",
       "      <th>208</th>\n",
       "      <td>British Virgin Islands</td>\n",
       "      <td>VGB</td>\n",
       "      <td>CONCACAF</td>\n",
       "      <td>209</td>\n",
       "      <td>209</td>\n",
       "      <td>809.32</td>\n",
       "      <td>809.32</td>\n",
       "    </tr>\n",
       "    <tr>\n",
       "      <th>209</th>\n",
       "      <td>Anguilla</td>\n",
       "      <td>AIA</td>\n",
       "      <td>CONCACAF</td>\n",
       "      <td>210</td>\n",
       "      <td>210</td>\n",
       "      <td>790.74</td>\n",
       "      <td>790.74</td>\n",
       "    </tr>\n",
       "    <tr>\n",
       "      <th>210</th>\n",
       "      <td>San Marino</td>\n",
       "      <td>SMR</td>\n",
       "      <td>UEFA</td>\n",
       "      <td>211</td>\n",
       "      <td>211</td>\n",
       "      <td>762.22</td>\n",
       "      <td>763.82</td>\n",
       "    </tr>\n",
       "  </tbody>\n",
       "</table>\n",
       "<p>211 rows × 7 columns</p>\n",
       "</div>"
      ],
      "text/plain": [
       "                       team team_code association  rank  previous_rank  \\\n",
       "0                    Brazil       BRA    CONMEBOL     1              1   \n",
       "1                   Belgium       BEL        UEFA     2              2   \n",
       "2                 Argentina       ARG    CONMEBOL     3              3   \n",
       "3                    France       FRA        UEFA     4              4   \n",
       "4                   England       ENG        UEFA     5              5   \n",
       "..                      ...       ...         ...   ...            ...   \n",
       "206               Sri Lanka       SRI         AFC   207            207   \n",
       "207       US Virgin Islands       VIR    CONCACAF   208            208   \n",
       "208  British Virgin Islands       VGB    CONCACAF   209            209   \n",
       "209                Anguilla       AIA    CONCACAF   210            210   \n",
       "210              San Marino       SMR        UEFA   211            211   \n",
       "\n",
       "      points  previous_points  \n",
       "0    1841.30          1837.56  \n",
       "1    1816.71          1821.92  \n",
       "2    1773.88          1770.65  \n",
       "3    1759.78          1764.85  \n",
       "4    1728.47          1737.46  \n",
       "..       ...              ...  \n",
       "206   825.25           825.25  \n",
       "207   823.97           823.97  \n",
       "208   809.32           809.32  \n",
       "209   790.74           790.74  \n",
       "210   762.22           763.82  \n",
       "\n",
       "[211 rows x 7 columns]"
      ]
     },
     "execution_count": 2580,
     "metadata": {},
     "output_type": "execute_result"
    }
   ],
   "source": [
    "fifa_ranking"
   ]
  },
  {
   "cell_type": "code",
   "execution_count": 2581,
   "metadata": {},
   "outputs": [],
   "source": [
    "same_rank = fifa_ranking[(fifa_ranking['rank']==fifa_ranking['previous_rank'])]['team'].tolist()\n",
    "increased_rank = fifa_ranking[(fifa_ranking['rank']>fifa_ranking['previous_rank'])]['team'].tolist()\n",
    "decreased_rank = fifa_ranking[(fifa_ranking['rank']<fifa_ranking['previous_rank'])]['team'].tolist()"
   ]
  },
  {
   "cell_type": "code",
   "execution_count": 2582,
   "metadata": {},
   "outputs": [
    {
     "name": "stdout",
     "output_type": "stream",
     "text": [
      "66\n",
      "68\n",
      "77\n"
     ]
    }
   ],
   "source": [
    "print(len(same_rank))\n",
    "print(len(increased_rank))\n",
    "print(len(decreased_rank))"
   ]
  },
  {
   "cell_type": "code",
   "execution_count": 2583,
   "metadata": {},
   "outputs": [],
   "source": [
    "max_length = max(len(same_rank) , len(increased_rank) , len(decreased_rank))"
   ]
  },
  {
   "cell_type": "code",
   "execution_count": 2584,
   "metadata": {},
   "outputs": [],
   "source": [
    "same_rank += [''] * (max_length - len(same_rank))\n",
    "increased_rank += [''] * (max_length - len(increased_rank))\n",
    "decreased_rank += [''] * (max_length - len(decreased_rank))"
   ]
  },
  {
   "cell_type": "code",
   "execution_count": 2585,
   "metadata": {},
   "outputs": [],
   "source": [
    "df = pd.DataFrame({\n",
    "  'same_rank' : same_rank ,\n",
    "  'increased_rank': increased_rank ,\n",
    "  'decreased_rank' : decreased_rank\n",
    "})"
   ]
  },
  {
   "cell_type": "code",
   "execution_count": 2586,
   "metadata": {},
   "outputs": [
    {
     "data": {
      "text/html": [
       "<div>\n",
       "<style scoped>\n",
       "    .dataframe tbody tr th:only-of-type {\n",
       "        vertical-align: middle;\n",
       "    }\n",
       "\n",
       "    .dataframe tbody tr th {\n",
       "        vertical-align: top;\n",
       "    }\n",
       "\n",
       "    .dataframe thead th {\n",
       "        text-align: right;\n",
       "    }\n",
       "</style>\n",
       "<table border=\"1\" class=\"dataframe\">\n",
       "  <thead>\n",
       "    <tr style=\"text-align: right;\">\n",
       "      <th></th>\n",
       "      <th>same_rank</th>\n",
       "      <th>increased_rank</th>\n",
       "      <th>decreased_rank</th>\n",
       "    </tr>\n",
       "  </thead>\n",
       "  <tbody>\n",
       "    <tr>\n",
       "      <th>0</th>\n",
       "      <td>Brazil</td>\n",
       "      <td>Spain</td>\n",
       "      <td>Italy</td>\n",
       "    </tr>\n",
       "    <tr>\n",
       "      <th>1</th>\n",
       "      <td>Belgium</td>\n",
       "      <td>Mexico</td>\n",
       "      <td>Croatia</td>\n",
       "    </tr>\n",
       "    <tr>\n",
       "      <th>2</th>\n",
       "      <td>Argentina</td>\n",
       "      <td>Uruguay</td>\n",
       "      <td>Switzerland</td>\n",
       "    </tr>\n",
       "    <tr>\n",
       "      <th>3</th>\n",
       "      <td>France</td>\n",
       "      <td>USA</td>\n",
       "      <td>IR Iran</td>\n",
       "    </tr>\n",
       "    <tr>\n",
       "      <th>4</th>\n",
       "      <td>England</td>\n",
       "      <td>Peru</td>\n",
       "      <td>Serbia</td>\n",
       "    </tr>\n",
       "    <tr>\n",
       "      <th>...</th>\n",
       "      <td>...</td>\n",
       "      <td>...</td>\n",
       "      <td>...</td>\n",
       "    </tr>\n",
       "    <tr>\n",
       "      <th>72</th>\n",
       "      <td></td>\n",
       "      <td></td>\n",
       "      <td>Timor-Leste</td>\n",
       "    </tr>\n",
       "    <tr>\n",
       "      <th>73</th>\n",
       "      <td></td>\n",
       "      <td></td>\n",
       "      <td>Eritrea</td>\n",
       "    </tr>\n",
       "    <tr>\n",
       "      <th>74</th>\n",
       "      <td></td>\n",
       "      <td></td>\n",
       "      <td>Aruba</td>\n",
       "    </tr>\n",
       "    <tr>\n",
       "      <th>75</th>\n",
       "      <td></td>\n",
       "      <td></td>\n",
       "      <td>Bahamas</td>\n",
       "    </tr>\n",
       "    <tr>\n",
       "      <th>76</th>\n",
       "      <td></td>\n",
       "      <td></td>\n",
       "      <td>Somalia</td>\n",
       "    </tr>\n",
       "  </tbody>\n",
       "</table>\n",
       "<p>77 rows × 3 columns</p>\n",
       "</div>"
      ],
      "text/plain": [
       "    same_rank increased_rank decreased_rank\n",
       "0      Brazil          Spain          Italy\n",
       "1     Belgium         Mexico        Croatia\n",
       "2   Argentina        Uruguay    Switzerland\n",
       "3      France            USA        IR Iran\n",
       "4     England           Peru         Serbia\n",
       "..        ...            ...            ...\n",
       "72                              Timor-Leste\n",
       "73                                  Eritrea\n",
       "74                                    Aruba\n",
       "75                                  Bahamas\n",
       "76                                  Somalia\n",
       "\n",
       "[77 rows x 3 columns]"
      ]
     },
     "execution_count": 2586,
     "metadata": {},
     "output_type": "execute_result"
    }
   ],
   "source": [
    "df"
   ]
  },
  {
   "cell_type": "code",
   "execution_count": 2587,
   "metadata": {},
   "outputs": [
    {
     "data": {
      "text/html": [
       "<div>\n",
       "<style scoped>\n",
       "    .dataframe tbody tr th:only-of-type {\n",
       "        vertical-align: middle;\n",
       "    }\n",
       "\n",
       "    .dataframe tbody tr th {\n",
       "        vertical-align: top;\n",
       "    }\n",
       "\n",
       "    .dataframe thead th {\n",
       "        text-align: right;\n",
       "    }\n",
       "</style>\n",
       "<table border=\"1\" class=\"dataframe\">\n",
       "  <thead>\n",
       "    <tr style=\"text-align: right;\">\n",
       "      <th></th>\n",
       "      <th>same_rank</th>\n",
       "      <th>increased_rank</th>\n",
       "      <th>decreased_rank</th>\n",
       "    </tr>\n",
       "  </thead>\n",
       "  <tbody>\n",
       "  </tbody>\n",
       "</table>\n",
       "</div>"
      ],
      "text/plain": [
       "Empty DataFrame\n",
       "Columns: [same_rank, increased_rank, decreased_rank]\n",
       "Index: []"
      ]
     },
     "execution_count": 2587,
     "metadata": {},
     "output_type": "execute_result"
    }
   ],
   "source": [
    "df[(df['increased_rank'] == 'Spain') & (df['same_rank'] == 'Spain')]\n"
   ]
  },
  {
   "cell_type": "markdown",
   "metadata": {},
   "source": [
    "# This is the buildin function to check the rank(same , inc , dec)"
   ]
  },
  {
   "cell_type": "code",
   "execution_count": 2588,
   "metadata": {},
   "outputs": [],
   "source": [
    "def country_rank(country):\n",
    "    result = []\n",
    "    for i in df.columns:\n",
    "        matches = df[i] == country  # Corrected the assignment to comparison (==)\n",
    "        if matches.any():\n",
    "            result.append(i)\n",
    "    return result\n",
    "\n",
    "\n",
    "    \n"
   ]
  },
  {
   "cell_type": "code",
   "execution_count": 2589,
   "metadata": {},
   "outputs": [
    {
     "data": {
      "text/plain": [
       "['increased_rank']"
      ]
     },
     "execution_count": 2589,
     "metadata": {},
     "output_type": "execute_result"
    }
   ],
   "source": [
    "country_rank('Spain')"
   ]
  },
  {
   "cell_type": "markdown",
   "metadata": {},
   "source": [
    "# ADVANCE EDA"
   ]
  },
  {
   "cell_type": "markdown",
   "metadata": {},
   "source": [
    "## Here we find the probability of team win in knockout matches\n",
    "\n"
   ]
  },
  {
   "cell_type": "code",
   "execution_count": 2590,
   "metadata": {},
   "outputs": [],
   "source": [
    "matches['home_penalty'].fillna(0 , inplace = True)\n",
    "matches['away_penalty'].fillna(0 , inplace = True)\n",
    "matches['H_total_score'] = matches['home_score'] + matches['home_penalty']\n",
    "matches['A_total_score'] = matches['away_score'] + matches['away_penalty']"
   ]
  },
  {
   "cell_type": "code",
   "execution_count": 2591,
   "metadata": {},
   "outputs": [],
   "source": [
    "country = 'Spain'"
   ]
  },
  {
   "cell_type": "code",
   "execution_count": 2592,
   "metadata": {},
   "outputs": [],
   "source": [
    "df1 = matches[\n",
    "    ((matches['home_team'] == country) | (matches['away_team'] == country)) & \n",
    "    ((matches['Round'] == 'Final') | \n",
    "     (matches['Round'] == 'Semi-finals') | \n",
    "     (matches['Round'] == 'Quarter-finals'))\n",
    "]\n",
    "\n"
   ]
  },
  {
   "cell_type": "code",
   "execution_count": 2593,
   "metadata": {},
   "outputs": [
    {
     "data": {
      "text/html": [
       "<div>\n",
       "<style scoped>\n",
       "    .dataframe tbody tr th:only-of-type {\n",
       "        vertical-align: middle;\n",
       "    }\n",
       "\n",
       "    .dataframe tbody tr th {\n",
       "        vertical-align: top;\n",
       "    }\n",
       "\n",
       "    .dataframe thead th {\n",
       "        text-align: right;\n",
       "    }\n",
       "</style>\n",
       "<table border=\"1\" class=\"dataframe\">\n",
       "  <thead>\n",
       "    <tr style=\"text-align: right;\">\n",
       "      <th></th>\n",
       "      <th>home_team</th>\n",
       "      <th>away_team</th>\n",
       "      <th>home_score</th>\n",
       "      <th>home_xg</th>\n",
       "      <th>home_penalty</th>\n",
       "      <th>away_score</th>\n",
       "      <th>away_xg</th>\n",
       "      <th>away_penalty</th>\n",
       "      <th>home_manager</th>\n",
       "      <th>home_captain</th>\n",
       "      <th>...</th>\n",
       "      <th>home_red_card</th>\n",
       "      <th>away_red_card</th>\n",
       "      <th>home_yellow_red_card</th>\n",
       "      <th>away_yellow_red_card</th>\n",
       "      <th>home_yellow_card_long</th>\n",
       "      <th>away_yellow_card_long</th>\n",
       "      <th>home_substitute_in_long</th>\n",
       "      <th>away_substitute_in_long</th>\n",
       "      <th>H_total_score</th>\n",
       "      <th>A_total_score</th>\n",
       "    </tr>\n",
       "  </thead>\n",
       "  <tbody>\n",
       "    <tr>\n",
       "      <th>192</th>\n",
       "      <td>Netherlands</td>\n",
       "      <td>Spain</td>\n",
       "      <td>0</td>\n",
       "      <td>NaN</td>\n",
       "      <td>0.0</td>\n",
       "      <td>1</td>\n",
       "      <td>NaN</td>\n",
       "      <td>0.0</td>\n",
       "      <td>Bert van Marwijk</td>\n",
       "      <td>NaN</td>\n",
       "      <td>...</td>\n",
       "      <td>NaN</td>\n",
       "      <td>NaN</td>\n",
       "      <td>John Heitinga · 109</td>\n",
       "      <td>NaN</td>\n",
       "      <td>['15&amp;rsquor;|0:0|Robin van Persie', '22&amp;rsquor...</td>\n",
       "      <td>['17&amp;rsquor;|0:0|Carles Puyol', '23&amp;rsquor;|0:...</td>\n",
       "      <td>['71&amp;rsquor;|0:0|Eljero Elia|for Dirk Kuyt', '...</td>\n",
       "      <td>['60&amp;rsquor;|0:0|Jesús Navas|for Pedro', '87&amp;r...</td>\n",
       "      <td>0.0</td>\n",
       "      <td>1.0</td>\n",
       "    </tr>\n",
       "    <tr>\n",
       "      <th>194</th>\n",
       "      <td>Germany</td>\n",
       "      <td>Spain</td>\n",
       "      <td>0</td>\n",
       "      <td>NaN</td>\n",
       "      <td>0.0</td>\n",
       "      <td>1</td>\n",
       "      <td>NaN</td>\n",
       "      <td>0.0</td>\n",
       "      <td>Joachim Löw</td>\n",
       "      <td>NaN</td>\n",
       "      <td>...</td>\n",
       "      <td>NaN</td>\n",
       "      <td>NaN</td>\n",
       "      <td>NaN</td>\n",
       "      <td>NaN</td>\n",
       "      <td>NaN</td>\n",
       "      <td>NaN</td>\n",
       "      <td>['52&amp;rsquor;|0:0|Marcell Jansen|for Jérôme Boa...</td>\n",
       "      <td>['81&amp;rsquor;|0:1|Fernando Torres|for David Vil...</td>\n",
       "      <td>0.0</td>\n",
       "      <td>1.0</td>\n",
       "    </tr>\n",
       "    <tr>\n",
       "      <th>197</th>\n",
       "      <td>Paraguay</td>\n",
       "      <td>Spain</td>\n",
       "      <td>0</td>\n",
       "      <td>NaN</td>\n",
       "      <td>0.0</td>\n",
       "      <td>1</td>\n",
       "      <td>NaN</td>\n",
       "      <td>0.0</td>\n",
       "      <td>Gerardo Martino</td>\n",
       "      <td>NaN</td>\n",
       "      <td>...</td>\n",
       "      <td>NaN</td>\n",
       "      <td>NaN</td>\n",
       "      <td>NaN</td>\n",
       "      <td>NaN</td>\n",
       "      <td>['59&amp;rsquor;|0:0|Víctor Cáceres', '59&amp;rsquor;|...</td>\n",
       "      <td>['57&amp;rsquor;|0:0|Gerard Piqué', '63&amp;rsquor;|0:...</td>\n",
       "      <td>['64&amp;rsquor;|0:0|Enrique Vera|for Édgar Barret...</td>\n",
       "      <td>['56&amp;rsquor;|0:0|Cesc Fàbregas|for Fernando To...</td>\n",
       "      <td>0.0</td>\n",
       "      <td>1.0</td>\n",
       "    </tr>\n",
       "    <tr>\n",
       "      <th>324</th>\n",
       "      <td>Spain</td>\n",
       "      <td>Korea Republic</td>\n",
       "      <td>0</td>\n",
       "      <td>NaN</td>\n",
       "      <td>3.0</td>\n",
       "      <td>0</td>\n",
       "      <td>NaN</td>\n",
       "      <td>5.0</td>\n",
       "      <td>José Antonio Camacho</td>\n",
       "      <td>NaN</td>\n",
       "      <td>...</td>\n",
       "      <td>NaN</td>\n",
       "      <td>NaN</td>\n",
       "      <td>NaN</td>\n",
       "      <td>NaN</td>\n",
       "      <td>['53&amp;rsquor;|0:0|Javier de Pedro', '111&amp;rsquor...</td>\n",
       "      <td>['52&amp;rsquor;|0:0|Yoo Sang-chul']</td>\n",
       "      <td>['70&amp;rsquor;|0:0|Gaizka Mendieta|for Javier de...</td>\n",
       "      <td>['32&amp;rsquor;|0:0|Lee Eul-yong|for Kim Nam-il',...</td>\n",
       "      <td>3.0</td>\n",
       "      <td>5.0</td>\n",
       "    </tr>\n",
       "    <tr>\n",
       "      <th>454</th>\n",
       "      <td>Italy</td>\n",
       "      <td>Spain</td>\n",
       "      <td>2</td>\n",
       "      <td>NaN</td>\n",
       "      <td>0.0</td>\n",
       "      <td>1</td>\n",
       "      <td>NaN</td>\n",
       "      <td>0.0</td>\n",
       "      <td>Arrigo Sacchi</td>\n",
       "      <td>Paolo Maldini</td>\n",
       "      <td>...</td>\n",
       "      <td>NaN</td>\n",
       "      <td>NaN</td>\n",
       "      <td>NaN</td>\n",
       "      <td>NaN</td>\n",
       "      <td>NaN</td>\n",
       "      <td>['3&amp;rsquor;|0:0|Abelardo Fernández', '19&amp;rsquo...</td>\n",
       "      <td>['46&amp;rsquor;|1:0|Giuseppe Signori|for Demetrio...</td>\n",
       "      <td>['60&amp;rsquor;|1:1|Julio Salinas|for Sergi Barju...</td>\n",
       "      <td>2.0</td>\n",
       "      <td>1.0</td>\n",
       "    </tr>\n",
       "    <tr>\n",
       "      <th>557</th>\n",
       "      <td>Spain</td>\n",
       "      <td>Belgium</td>\n",
       "      <td>1</td>\n",
       "      <td>NaN</td>\n",
       "      <td>4.0</td>\n",
       "      <td>1</td>\n",
       "      <td>NaN</td>\n",
       "      <td>5.0</td>\n",
       "      <td>Miguel Munoz</td>\n",
       "      <td>José Antonio Camacho</td>\n",
       "      <td>...</td>\n",
       "      <td>NaN</td>\n",
       "      <td>NaN</td>\n",
       "      <td>NaN</td>\n",
       "      <td>NaN</td>\n",
       "      <td>['39&amp;rsquor;|0:1|Tomás Reñones', '44&amp;rsquor;|0...</td>\n",
       "      <td>['24&amp;rsquor;|0:0|Stéphane Demol', '115&amp;rsquor;...</td>\n",
       "      <td>['46&amp;rsquor;|0:1|Juan Antonio Señor|for Tomás ...</td>\n",
       "      <td>['82&amp;rsquor;|0:1|Hugo Broos', '105&amp;rsquor;|1:1...</td>\n",
       "      <td>5.0</td>\n",
       "      <td>6.0</td>\n",
       "    </tr>\n",
       "    <tr>\n",
       "      <th>933</th>\n",
       "      <td>Italy</td>\n",
       "      <td>Spain</td>\n",
       "      <td>1</td>\n",
       "      <td>NaN</td>\n",
       "      <td>0.0</td>\n",
       "      <td>0</td>\n",
       "      <td>NaN</td>\n",
       "      <td>0.0</td>\n",
       "      <td>Vittorio Pozzo</td>\n",
       "      <td>Gianpiero Combi</td>\n",
       "      <td>...</td>\n",
       "      <td>NaN</td>\n",
       "      <td>NaN</td>\n",
       "      <td>NaN</td>\n",
       "      <td>NaN</td>\n",
       "      <td>NaN</td>\n",
       "      <td>NaN</td>\n",
       "      <td>NaN</td>\n",
       "      <td>NaN</td>\n",
       "      <td>1.0</td>\n",
       "      <td>0.0</td>\n",
       "    </tr>\n",
       "    <tr>\n",
       "      <th>936</th>\n",
       "      <td>Italy</td>\n",
       "      <td>Spain</td>\n",
       "      <td>1</td>\n",
       "      <td>NaN</td>\n",
       "      <td>0.0</td>\n",
       "      <td>1</td>\n",
       "      <td>NaN</td>\n",
       "      <td>0.0</td>\n",
       "      <td>Vittorio Pozzo</td>\n",
       "      <td>Gianpiero Combi</td>\n",
       "      <td>...</td>\n",
       "      <td>NaN</td>\n",
       "      <td>NaN</td>\n",
       "      <td>NaN</td>\n",
       "      <td>NaN</td>\n",
       "      <td>NaN</td>\n",
       "      <td>NaN</td>\n",
       "      <td>NaN</td>\n",
       "      <td>NaN</td>\n",
       "      <td>1.0</td>\n",
       "      <td>1.0</td>\n",
       "    </tr>\n",
       "  </tbody>\n",
       "</table>\n",
       "<p>8 rows × 46 columns</p>\n",
       "</div>"
      ],
      "text/plain": [
       "       home_team       away_team  home_score  home_xg  home_penalty  \\\n",
       "192  Netherlands           Spain           0      NaN           0.0   \n",
       "194      Germany           Spain           0      NaN           0.0   \n",
       "197     Paraguay           Spain           0      NaN           0.0   \n",
       "324        Spain  Korea Republic           0      NaN           3.0   \n",
       "454        Italy           Spain           2      NaN           0.0   \n",
       "557        Spain         Belgium           1      NaN           4.0   \n",
       "933        Italy           Spain           1      NaN           0.0   \n",
       "936        Italy           Spain           1      NaN           0.0   \n",
       "\n",
       "     away_score  away_xg  away_penalty          home_manager  \\\n",
       "192           1      NaN           0.0      Bert van Marwijk   \n",
       "194           1      NaN           0.0           Joachim Löw   \n",
       "197           1      NaN           0.0       Gerardo Martino   \n",
       "324           0      NaN           5.0  José Antonio Camacho   \n",
       "454           1      NaN           0.0         Arrigo Sacchi   \n",
       "557           1      NaN           5.0          Miguel Munoz   \n",
       "933           0      NaN           0.0        Vittorio Pozzo   \n",
       "936           1      NaN           0.0        Vittorio Pozzo   \n",
       "\n",
       "             home_captain  ... home_red_card away_red_card  \\\n",
       "192                   NaN  ...           NaN           NaN   \n",
       "194                   NaN  ...           NaN           NaN   \n",
       "197                   NaN  ...           NaN           NaN   \n",
       "324                   NaN  ...           NaN           NaN   \n",
       "454         Paolo Maldini  ...           NaN           NaN   \n",
       "557  José Antonio Camacho  ...           NaN           NaN   \n",
       "933       Gianpiero Combi  ...           NaN           NaN   \n",
       "936       Gianpiero Combi  ...           NaN           NaN   \n",
       "\n",
       "     home_yellow_red_card away_yellow_red_card  \\\n",
       "192   John Heitinga · 109                  NaN   \n",
       "194                   NaN                  NaN   \n",
       "197                   NaN                  NaN   \n",
       "324                   NaN                  NaN   \n",
       "454                   NaN                  NaN   \n",
       "557                   NaN                  NaN   \n",
       "933                   NaN                  NaN   \n",
       "936                   NaN                  NaN   \n",
       "\n",
       "                                 home_yellow_card_long  \\\n",
       "192  ['15&rsquor;|0:0|Robin van Persie', '22&rsquor...   \n",
       "194                                                NaN   \n",
       "197  ['59&rsquor;|0:0|Víctor Cáceres', '59&rsquor;|...   \n",
       "324  ['53&rsquor;|0:0|Javier de Pedro', '111&rsquor...   \n",
       "454                                                NaN   \n",
       "557  ['39&rsquor;|0:1|Tomás Reñones', '44&rsquor;|0...   \n",
       "933                                                NaN   \n",
       "936                                                NaN   \n",
       "\n",
       "                                 away_yellow_card_long  \\\n",
       "192  ['17&rsquor;|0:0|Carles Puyol', '23&rsquor;|0:...   \n",
       "194                                                NaN   \n",
       "197  ['57&rsquor;|0:0|Gerard Piqué', '63&rsquor;|0:...   \n",
       "324                   ['52&rsquor;|0:0|Yoo Sang-chul']   \n",
       "454  ['3&rsquor;|0:0|Abelardo Fernández', '19&rsquo...   \n",
       "557  ['24&rsquor;|0:0|Stéphane Demol', '115&rsquor;...   \n",
       "933                                                NaN   \n",
       "936                                                NaN   \n",
       "\n",
       "                               home_substitute_in_long  \\\n",
       "192  ['71&rsquor;|0:0|Eljero Elia|for Dirk Kuyt', '...   \n",
       "194  ['52&rsquor;|0:0|Marcell Jansen|for Jérôme Boa...   \n",
       "197  ['64&rsquor;|0:0|Enrique Vera|for Édgar Barret...   \n",
       "324  ['70&rsquor;|0:0|Gaizka Mendieta|for Javier de...   \n",
       "454  ['46&rsquor;|1:0|Giuseppe Signori|for Demetrio...   \n",
       "557  ['46&rsquor;|0:1|Juan Antonio Señor|for Tomás ...   \n",
       "933                                                NaN   \n",
       "936                                                NaN   \n",
       "\n",
       "                               away_substitute_in_long H_total_score  \\\n",
       "192  ['60&rsquor;|0:0|Jesús Navas|for Pedro', '87&r...           0.0   \n",
       "194  ['81&rsquor;|0:1|Fernando Torres|for David Vil...           0.0   \n",
       "197  ['56&rsquor;|0:0|Cesc Fàbregas|for Fernando To...           0.0   \n",
       "324  ['32&rsquor;|0:0|Lee Eul-yong|for Kim Nam-il',...           3.0   \n",
       "454  ['60&rsquor;|1:1|Julio Salinas|for Sergi Barju...           2.0   \n",
       "557  ['82&rsquor;|0:1|Hugo Broos', '105&rsquor;|1:1...           5.0   \n",
       "933                                                NaN           1.0   \n",
       "936                                                NaN           1.0   \n",
       "\n",
       "    A_total_score  \n",
       "192           1.0  \n",
       "194           1.0  \n",
       "197           1.0  \n",
       "324           5.0  \n",
       "454           1.0  \n",
       "557           6.0  \n",
       "933           0.0  \n",
       "936           1.0  \n",
       "\n",
       "[8 rows x 46 columns]"
      ]
     },
     "execution_count": 2593,
     "metadata": {},
     "output_type": "execute_result"
    }
   ],
   "source": [
    "df1"
   ]
  },
  {
   "cell_type": "code",
   "execution_count": 2594,
   "metadata": {},
   "outputs": [
    {
     "data": {
      "text/plain": [
       "192    2010\n",
       "Name: Year, dtype: int64"
      ]
     },
     "execution_count": 2594,
     "metadata": {},
     "output_type": "execute_result"
    }
   ],
   "source": [
    "# This is simple check the how many times spain qualify the final and in which year\n",
    "df1[(df1['Round']=='Final') ]['Year']"
   ]
  },
  {
   "cell_type": "code",
   "execution_count": 2595,
   "metadata": {},
   "outputs": [],
   "source": [
    "country_df = df1['Round'].value_counts().reset_index()\n",
    "country_df.columns = ['Round' , 'matches']"
   ]
  },
  {
   "cell_type": "code",
   "execution_count": 2596,
   "metadata": {},
   "outputs": [
    {
     "data": {
      "text/html": [
       "<div>\n",
       "<style scoped>\n",
       "    .dataframe tbody tr th:only-of-type {\n",
       "        vertical-align: middle;\n",
       "    }\n",
       "\n",
       "    .dataframe tbody tr th {\n",
       "        vertical-align: top;\n",
       "    }\n",
       "\n",
       "    .dataframe thead th {\n",
       "        text-align: right;\n",
       "    }\n",
       "</style>\n",
       "<table border=\"1\" class=\"dataframe\">\n",
       "  <thead>\n",
       "    <tr style=\"text-align: right;\">\n",
       "      <th></th>\n",
       "      <th>Round</th>\n",
       "      <th>matches</th>\n",
       "    </tr>\n",
       "  </thead>\n",
       "  <tbody>\n",
       "    <tr>\n",
       "      <th>0</th>\n",
       "      <td>Quarter-finals</td>\n",
       "      <td>6</td>\n",
       "    </tr>\n",
       "    <tr>\n",
       "      <th>1</th>\n",
       "      <td>Final</td>\n",
       "      <td>1</td>\n",
       "    </tr>\n",
       "    <tr>\n",
       "      <th>2</th>\n",
       "      <td>Semi-finals</td>\n",
       "      <td>1</td>\n",
       "    </tr>\n",
       "  </tbody>\n",
       "</table>\n",
       "</div>"
      ],
      "text/plain": [
       "            Round  matches\n",
       "0  Quarter-finals        6\n",
       "1           Final        1\n",
       "2     Semi-finals        1"
      ]
     },
     "execution_count": 2596,
     "metadata": {},
     "output_type": "execute_result"
    }
   ],
   "source": [
    "country_df\n"
   ]
  },
  {
   "cell_type": "code",
   "execution_count": 2597,
   "metadata": {},
   "outputs": [
    {
     "data": {
      "text/html": [
       "<div>\n",
       "<style scoped>\n",
       "    .dataframe tbody tr th:only-of-type {\n",
       "        vertical-align: middle;\n",
       "    }\n",
       "\n",
       "    .dataframe tbody tr th {\n",
       "        vertical-align: top;\n",
       "    }\n",
       "\n",
       "    .dataframe thead th {\n",
       "        text-align: right;\n",
       "    }\n",
       "</style>\n",
       "<table border=\"1\" class=\"dataframe\">\n",
       "  <thead>\n",
       "    <tr style=\"text-align: right;\">\n",
       "      <th></th>\n",
       "      <th>home_team</th>\n",
       "      <th>away_team</th>\n",
       "      <th>home_score</th>\n",
       "      <th>home_xg</th>\n",
       "      <th>home_penalty</th>\n",
       "      <th>away_score</th>\n",
       "      <th>away_xg</th>\n",
       "      <th>away_penalty</th>\n",
       "      <th>home_manager</th>\n",
       "      <th>home_captain</th>\n",
       "      <th>...</th>\n",
       "      <th>home_red_card</th>\n",
       "      <th>away_red_card</th>\n",
       "      <th>home_yellow_red_card</th>\n",
       "      <th>away_yellow_red_card</th>\n",
       "      <th>home_yellow_card_long</th>\n",
       "      <th>away_yellow_card_long</th>\n",
       "      <th>home_substitute_in_long</th>\n",
       "      <th>away_substitute_in_long</th>\n",
       "      <th>H_total_score</th>\n",
       "      <th>A_total_score</th>\n",
       "    </tr>\n",
       "  </thead>\n",
       "  <tbody>\n",
       "    <tr>\n",
       "      <th>0</th>\n",
       "      <td>Argentina</td>\n",
       "      <td>France</td>\n",
       "      <td>3</td>\n",
       "      <td>3.3</td>\n",
       "      <td>4.0</td>\n",
       "      <td>3</td>\n",
       "      <td>2.2</td>\n",
       "      <td>2.0</td>\n",
       "      <td>Lionel Scaloni</td>\n",
       "      <td>Lionel Messi</td>\n",
       "      <td>...</td>\n",
       "      <td>NaN</td>\n",
       "      <td>NaN</td>\n",
       "      <td>NaN</td>\n",
       "      <td>NaN</td>\n",
       "      <td>['45+7&amp;rsquor;|2:0|Enzo Fernández', '90+8&amp;rsqu...</td>\n",
       "      <td>['55&amp;rsquor;|2:0|Adrien Rabiot', '87&amp;rsquor;|2...</td>\n",
       "      <td>['64&amp;rsquor;|2:0|Marcos Acuña|for Ángel Di Mar...</td>\n",
       "      <td>['41&amp;rsquor;|2:0|Randal Kolo Muani|for Ousmane...</td>\n",
       "      <td>7.0</td>\n",
       "      <td>5.0</td>\n",
       "    </tr>\n",
       "    <tr>\n",
       "      <th>1</th>\n",
       "      <td>Croatia</td>\n",
       "      <td>Morocco</td>\n",
       "      <td>2</td>\n",
       "      <td>0.7</td>\n",
       "      <td>0.0</td>\n",
       "      <td>1</td>\n",
       "      <td>1.2</td>\n",
       "      <td>0.0</td>\n",
       "      <td>Zlatko Dalić</td>\n",
       "      <td>Luka Modrić</td>\n",
       "      <td>...</td>\n",
       "      <td>NaN</td>\n",
       "      <td>NaN</td>\n",
       "      <td>NaN</td>\n",
       "      <td>NaN</td>\n",
       "      <td>NaN</td>\n",
       "      <td>['69&amp;rsquor;|2:1|Azzedine Ounahi', '84&amp;rsquor;...</td>\n",
       "      <td>['61&amp;rsquor;|2:1|Nikola Vlašić|for Andrej Kram...</td>\n",
       "      <td>['46&amp;rsquor;|2:1|Ilias Chair|for Abdelhamid Sa...</td>\n",
       "      <td>2.0</td>\n",
       "      <td>1.0</td>\n",
       "    </tr>\n",
       "    <tr>\n",
       "      <th>2</th>\n",
       "      <td>France</td>\n",
       "      <td>Morocco</td>\n",
       "      <td>2</td>\n",
       "      <td>2.0</td>\n",
       "      <td>0.0</td>\n",
       "      <td>0</td>\n",
       "      <td>0.9</td>\n",
       "      <td>0.0</td>\n",
       "      <td>Didier Deschamps</td>\n",
       "      <td>Hugo Lloris</td>\n",
       "      <td>...</td>\n",
       "      <td>NaN</td>\n",
       "      <td>NaN</td>\n",
       "      <td>NaN</td>\n",
       "      <td>NaN</td>\n",
       "      <td>NaN</td>\n",
       "      <td>['27&amp;rsquor;|1:0|Sofiane Boufal']</td>\n",
       "      <td>['65&amp;rsquor;|1:0|Marcus Thuram|for Olivier Gir...</td>\n",
       "      <td>['21&amp;rsquor;|1:0|Selim Amallah|for Romain Saïs...</td>\n",
       "      <td>2.0</td>\n",
       "      <td>0.0</td>\n",
       "    </tr>\n",
       "    <tr>\n",
       "      <th>3</th>\n",
       "      <td>Argentina</td>\n",
       "      <td>Croatia</td>\n",
       "      <td>3</td>\n",
       "      <td>2.3</td>\n",
       "      <td>0.0</td>\n",
       "      <td>0</td>\n",
       "      <td>0.5</td>\n",
       "      <td>0.0</td>\n",
       "      <td>Lionel Scaloni</td>\n",
       "      <td>Lionel Messi</td>\n",
       "      <td>...</td>\n",
       "      <td>NaN</td>\n",
       "      <td>NaN</td>\n",
       "      <td>NaN</td>\n",
       "      <td>NaN</td>\n",
       "      <td>['68&amp;rsquor;|2:0|Cristian Romero', '71&amp;rsquor;...</td>\n",
       "      <td>['32&amp;rsquor;|0:0|Mateo Kovačić', '32&amp;rsquor;|0...</td>\n",
       "      <td>['62&amp;rsquor;|2:0|Lisandro Martínez|for Leandro...</td>\n",
       "      <td>['46&amp;rsquor;|2:0|Mislav Oršić|for Borna Sosa',...</td>\n",
       "      <td>3.0</td>\n",
       "      <td>0.0</td>\n",
       "    </tr>\n",
       "    <tr>\n",
       "      <th>4</th>\n",
       "      <td>Morocco</td>\n",
       "      <td>Portugal</td>\n",
       "      <td>1</td>\n",
       "      <td>1.4</td>\n",
       "      <td>0.0</td>\n",
       "      <td>0</td>\n",
       "      <td>0.9</td>\n",
       "      <td>0.0</td>\n",
       "      <td>Hoalid Regragui</td>\n",
       "      <td>Romain Saïss</td>\n",
       "      <td>...</td>\n",
       "      <td>NaN</td>\n",
       "      <td>NaN</td>\n",
       "      <td>Walid Cheddira · 90+3</td>\n",
       "      <td>NaN</td>\n",
       "      <td>['70&amp;rsquor;|1:0|Achraf Dari', '90+1&amp;rsquor;|1...</td>\n",
       "      <td>['87&amp;rsquor;|1:0|Vitinha']</td>\n",
       "      <td>['57&amp;rsquor;|1:0|Achraf Dari|for Romain Saïss'...</td>\n",
       "      <td>['51&amp;rsquor;|1:0|João Cancelo|for Raphaël Guer...</td>\n",
       "      <td>1.0</td>\n",
       "      <td>0.0</td>\n",
       "    </tr>\n",
       "    <tr>\n",
       "      <th>...</th>\n",
       "      <td>...</td>\n",
       "      <td>...</td>\n",
       "      <td>...</td>\n",
       "      <td>...</td>\n",
       "      <td>...</td>\n",
       "      <td>...</td>\n",
       "      <td>...</td>\n",
       "      <td>...</td>\n",
       "      <td>...</td>\n",
       "      <td>...</td>\n",
       "      <td>...</td>\n",
       "      <td>...</td>\n",
       "      <td>...</td>\n",
       "      <td>...</td>\n",
       "      <td>...</td>\n",
       "      <td>...</td>\n",
       "      <td>...</td>\n",
       "      <td>...</td>\n",
       "      <td>...</td>\n",
       "      <td>...</td>\n",
       "      <td>...</td>\n",
       "    </tr>\n",
       "    <tr>\n",
       "      <th>959</th>\n",
       "      <td>Argentina</td>\n",
       "      <td>France</td>\n",
       "      <td>1</td>\n",
       "      <td>NaN</td>\n",
       "      <td>0.0</td>\n",
       "      <td>0</td>\n",
       "      <td>NaN</td>\n",
       "      <td>0.0</td>\n",
       "      <td>Francisco Olazar</td>\n",
       "      <td>Manuel Ferreira</td>\n",
       "      <td>...</td>\n",
       "      <td>NaN</td>\n",
       "      <td>NaN</td>\n",
       "      <td>NaN</td>\n",
       "      <td>NaN</td>\n",
       "      <td>NaN</td>\n",
       "      <td>NaN</td>\n",
       "      <td>NaN</td>\n",
       "      <td>NaN</td>\n",
       "      <td>1.0</td>\n",
       "      <td>0.0</td>\n",
       "    </tr>\n",
       "    <tr>\n",
       "      <th>960</th>\n",
       "      <td>Yugoslavia</td>\n",
       "      <td>Brazil</td>\n",
       "      <td>2</td>\n",
       "      <td>NaN</td>\n",
       "      <td>0.0</td>\n",
       "      <td>1</td>\n",
       "      <td>NaN</td>\n",
       "      <td>0.0</td>\n",
       "      <td>Bosko Simonovic</td>\n",
       "      <td>Milutin Ivković</td>\n",
       "      <td>...</td>\n",
       "      <td>NaN</td>\n",
       "      <td>NaN</td>\n",
       "      <td>NaN</td>\n",
       "      <td>NaN</td>\n",
       "      <td>NaN</td>\n",
       "      <td>NaN</td>\n",
       "      <td>NaN</td>\n",
       "      <td>NaN</td>\n",
       "      <td>2.0</td>\n",
       "      <td>1.0</td>\n",
       "    </tr>\n",
       "    <tr>\n",
       "      <th>961</th>\n",
       "      <td>Romania</td>\n",
       "      <td>Peru</td>\n",
       "      <td>3</td>\n",
       "      <td>NaN</td>\n",
       "      <td>0.0</td>\n",
       "      <td>1</td>\n",
       "      <td>NaN</td>\n",
       "      <td>0.0</td>\n",
       "      <td>Octav Luchide</td>\n",
       "      <td>Emerich Vogl</td>\n",
       "      <td>...</td>\n",
       "      <td>NaN</td>\n",
       "      <td>Plácido Galindo · 70</td>\n",
       "      <td>NaN</td>\n",
       "      <td>NaN</td>\n",
       "      <td>NaN</td>\n",
       "      <td>NaN</td>\n",
       "      <td>NaN</td>\n",
       "      <td>NaN</td>\n",
       "      <td>3.0</td>\n",
       "      <td>1.0</td>\n",
       "    </tr>\n",
       "    <tr>\n",
       "      <th>962</th>\n",
       "      <td>United States</td>\n",
       "      <td>Belgium</td>\n",
       "      <td>3</td>\n",
       "      <td>NaN</td>\n",
       "      <td>0.0</td>\n",
       "      <td>0</td>\n",
       "      <td>NaN</td>\n",
       "      <td>0.0</td>\n",
       "      <td>Bob Millar</td>\n",
       "      <td>Tom Florie</td>\n",
       "      <td>...</td>\n",
       "      <td>NaN</td>\n",
       "      <td>NaN</td>\n",
       "      <td>NaN</td>\n",
       "      <td>NaN</td>\n",
       "      <td>NaN</td>\n",
       "      <td>NaN</td>\n",
       "      <td>NaN</td>\n",
       "      <td>NaN</td>\n",
       "      <td>3.0</td>\n",
       "      <td>0.0</td>\n",
       "    </tr>\n",
       "    <tr>\n",
       "      <th>963</th>\n",
       "      <td>France</td>\n",
       "      <td>Mexico</td>\n",
       "      <td>4</td>\n",
       "      <td>NaN</td>\n",
       "      <td>0.0</td>\n",
       "      <td>1</td>\n",
       "      <td>NaN</td>\n",
       "      <td>0.0</td>\n",
       "      <td>Raoul Caudron</td>\n",
       "      <td>Alexandre Villaplane</td>\n",
       "      <td>...</td>\n",
       "      <td>NaN</td>\n",
       "      <td>NaN</td>\n",
       "      <td>NaN</td>\n",
       "      <td>NaN</td>\n",
       "      <td>NaN</td>\n",
       "      <td>NaN</td>\n",
       "      <td>NaN</td>\n",
       "      <td>NaN</td>\n",
       "      <td>4.0</td>\n",
       "      <td>1.0</td>\n",
       "    </tr>\n",
       "  </tbody>\n",
       "</table>\n",
       "<p>964 rows × 46 columns</p>\n",
       "</div>"
      ],
      "text/plain": [
       "         home_team away_team  home_score  home_xg  home_penalty  away_score  \\\n",
       "0        Argentina    France           3      3.3           4.0           3   \n",
       "1          Croatia   Morocco           2      0.7           0.0           1   \n",
       "2           France   Morocco           2      2.0           0.0           0   \n",
       "3        Argentina   Croatia           3      2.3           0.0           0   \n",
       "4          Morocco  Portugal           1      1.4           0.0           0   \n",
       "..             ...       ...         ...      ...           ...         ...   \n",
       "959      Argentina    France           1      NaN           0.0           0   \n",
       "960     Yugoslavia    Brazil           2      NaN           0.0           1   \n",
       "961        Romania      Peru           3      NaN           0.0           1   \n",
       "962  United States   Belgium           3      NaN           0.0           0   \n",
       "963         France    Mexico           4      NaN           0.0           1   \n",
       "\n",
       "     away_xg  away_penalty      home_manager          home_captain  ...  \\\n",
       "0        2.2           2.0    Lionel Scaloni          Lionel Messi  ...   \n",
       "1        1.2           0.0      Zlatko Dalić           Luka Modrić  ...   \n",
       "2        0.9           0.0  Didier Deschamps           Hugo Lloris  ...   \n",
       "3        0.5           0.0    Lionel Scaloni          Lionel Messi  ...   \n",
       "4        0.9           0.0   Hoalid Regragui          Romain Saïss  ...   \n",
       "..       ...           ...               ...                   ...  ...   \n",
       "959      NaN           0.0  Francisco Olazar       Manuel Ferreira  ...   \n",
       "960      NaN           0.0   Bosko Simonovic       Milutin Ivković  ...   \n",
       "961      NaN           0.0     Octav Luchide          Emerich Vogl  ...   \n",
       "962      NaN           0.0        Bob Millar            Tom Florie  ...   \n",
       "963      NaN           0.0     Raoul Caudron  Alexandre Villaplane  ...   \n",
       "\n",
       "    home_red_card         away_red_card   home_yellow_red_card  \\\n",
       "0             NaN                   NaN                    NaN   \n",
       "1             NaN                   NaN                    NaN   \n",
       "2             NaN                   NaN                    NaN   \n",
       "3             NaN                   NaN                    NaN   \n",
       "4             NaN                   NaN  Walid Cheddira · 90+3   \n",
       "..            ...                   ...                    ...   \n",
       "959           NaN                   NaN                    NaN   \n",
       "960           NaN                   NaN                    NaN   \n",
       "961           NaN  Plácido Galindo · 70                    NaN   \n",
       "962           NaN                   NaN                    NaN   \n",
       "963           NaN                   NaN                    NaN   \n",
       "\n",
       "    away_yellow_red_card                              home_yellow_card_long  \\\n",
       "0                    NaN  ['45+7&rsquor;|2:0|Enzo Fernández', '90+8&rsqu...   \n",
       "1                    NaN                                                NaN   \n",
       "2                    NaN                                                NaN   \n",
       "3                    NaN  ['68&rsquor;|2:0|Cristian Romero', '71&rsquor;...   \n",
       "4                    NaN  ['70&rsquor;|1:0|Achraf Dari', '90+1&rsquor;|1...   \n",
       "..                   ...                                                ...   \n",
       "959                  NaN                                                NaN   \n",
       "960                  NaN                                                NaN   \n",
       "961                  NaN                                                NaN   \n",
       "962                  NaN                                                NaN   \n",
       "963                  NaN                                                NaN   \n",
       "\n",
       "                                 away_yellow_card_long  \\\n",
       "0    ['55&rsquor;|2:0|Adrien Rabiot', '87&rsquor;|2...   \n",
       "1    ['69&rsquor;|2:1|Azzedine Ounahi', '84&rsquor;...   \n",
       "2                    ['27&rsquor;|1:0|Sofiane Boufal']   \n",
       "3    ['32&rsquor;|0:0|Mateo Kovačić', '32&rsquor;|0...   \n",
       "4                           ['87&rsquor;|1:0|Vitinha']   \n",
       "..                                                 ...   \n",
       "959                                                NaN   \n",
       "960                                                NaN   \n",
       "961                                                NaN   \n",
       "962                                                NaN   \n",
       "963                                                NaN   \n",
       "\n",
       "                               home_substitute_in_long  \\\n",
       "0    ['64&rsquor;|2:0|Marcos Acuña|for Ángel Di Mar...   \n",
       "1    ['61&rsquor;|2:1|Nikola Vlašić|for Andrej Kram...   \n",
       "2    ['65&rsquor;|1:0|Marcus Thuram|for Olivier Gir...   \n",
       "3    ['62&rsquor;|2:0|Lisandro Martínez|for Leandro...   \n",
       "4    ['57&rsquor;|1:0|Achraf Dari|for Romain Saïss'...   \n",
       "..                                                 ...   \n",
       "959                                                NaN   \n",
       "960                                                NaN   \n",
       "961                                                NaN   \n",
       "962                                                NaN   \n",
       "963                                                NaN   \n",
       "\n",
       "                               away_substitute_in_long H_total_score  \\\n",
       "0    ['41&rsquor;|2:0|Randal Kolo Muani|for Ousmane...           7.0   \n",
       "1    ['46&rsquor;|2:1|Ilias Chair|for Abdelhamid Sa...           2.0   \n",
       "2    ['21&rsquor;|1:0|Selim Amallah|for Romain Saïs...           2.0   \n",
       "3    ['46&rsquor;|2:0|Mislav Oršić|for Borna Sosa',...           3.0   \n",
       "4    ['51&rsquor;|1:0|João Cancelo|for Raphaël Guer...           1.0   \n",
       "..                                                 ...           ...   \n",
       "959                                                NaN           1.0   \n",
       "960                                                NaN           2.0   \n",
       "961                                                NaN           3.0   \n",
       "962                                                NaN           3.0   \n",
       "963                                                NaN           4.0   \n",
       "\n",
       "    A_total_score  \n",
       "0             5.0  \n",
       "1             1.0  \n",
       "2             0.0  \n",
       "3             0.0  \n",
       "4             0.0  \n",
       "..            ...  \n",
       "959           0.0  \n",
       "960           1.0  \n",
       "961           1.0  \n",
       "962           0.0  \n",
       "963           1.0  \n",
       "\n",
       "[964 rows x 46 columns]"
      ]
     },
     "execution_count": 2597,
     "metadata": {},
     "output_type": "execute_result"
    }
   ],
   "source": [
    "matches"
   ]
  },
  {
   "cell_type": "code",
   "execution_count": null,
   "metadata": {},
   "outputs": [],
   "source": []
  },
  {
   "cell_type": "code",
   "execution_count": 2598,
   "metadata": {},
   "outputs": [],
   "source": [
    "def get_winner(row):\n",
    "    if row['H_total_score'] > row['A_total_score']:\n",
    "        return row['home_team']\n",
    "    else:\n",
    "        return row['away_team']\n",
    "\n",
    "  \n",
    "  \n",
    "  "
   ]
  },
  {
   "cell_type": "code",
   "execution_count": 2599,
   "metadata": {},
   "outputs": [],
   "source": [
    "df1['winner'] = df1.apply(get_winner , axis=1)"
   ]
  },
  {
   "cell_type": "code",
   "execution_count": 2600,
   "metadata": {},
   "outputs": [
    {
     "data": {
      "text/html": [
       "<div>\n",
       "<style scoped>\n",
       "    .dataframe tbody tr th:only-of-type {\n",
       "        vertical-align: middle;\n",
       "    }\n",
       "\n",
       "    .dataframe tbody tr th {\n",
       "        vertical-align: top;\n",
       "    }\n",
       "\n",
       "    .dataframe thead th {\n",
       "        text-align: right;\n",
       "    }\n",
       "</style>\n",
       "<table border=\"1\" class=\"dataframe\">\n",
       "  <thead>\n",
       "    <tr style=\"text-align: right;\">\n",
       "      <th></th>\n",
       "      <th>home_team</th>\n",
       "      <th>away_team</th>\n",
       "      <th>home_score</th>\n",
       "      <th>home_xg</th>\n",
       "      <th>home_penalty</th>\n",
       "      <th>away_score</th>\n",
       "      <th>away_xg</th>\n",
       "      <th>away_penalty</th>\n",
       "      <th>home_manager</th>\n",
       "      <th>home_captain</th>\n",
       "      <th>...</th>\n",
       "      <th>away_red_card</th>\n",
       "      <th>home_yellow_red_card</th>\n",
       "      <th>away_yellow_red_card</th>\n",
       "      <th>home_yellow_card_long</th>\n",
       "      <th>away_yellow_card_long</th>\n",
       "      <th>home_substitute_in_long</th>\n",
       "      <th>away_substitute_in_long</th>\n",
       "      <th>H_total_score</th>\n",
       "      <th>A_total_score</th>\n",
       "      <th>winner</th>\n",
       "    </tr>\n",
       "  </thead>\n",
       "  <tbody>\n",
       "    <tr>\n",
       "      <th>192</th>\n",
       "      <td>Netherlands</td>\n",
       "      <td>Spain</td>\n",
       "      <td>0</td>\n",
       "      <td>NaN</td>\n",
       "      <td>0.0</td>\n",
       "      <td>1</td>\n",
       "      <td>NaN</td>\n",
       "      <td>0.0</td>\n",
       "      <td>Bert van Marwijk</td>\n",
       "      <td>NaN</td>\n",
       "      <td>...</td>\n",
       "      <td>NaN</td>\n",
       "      <td>John Heitinga · 109</td>\n",
       "      <td>NaN</td>\n",
       "      <td>['15&amp;rsquor;|0:0|Robin van Persie', '22&amp;rsquor...</td>\n",
       "      <td>['17&amp;rsquor;|0:0|Carles Puyol', '23&amp;rsquor;|0:...</td>\n",
       "      <td>['71&amp;rsquor;|0:0|Eljero Elia|for Dirk Kuyt', '...</td>\n",
       "      <td>['60&amp;rsquor;|0:0|Jesús Navas|for Pedro', '87&amp;r...</td>\n",
       "      <td>0.0</td>\n",
       "      <td>1.0</td>\n",
       "      <td>Spain</td>\n",
       "    </tr>\n",
       "    <tr>\n",
       "      <th>194</th>\n",
       "      <td>Germany</td>\n",
       "      <td>Spain</td>\n",
       "      <td>0</td>\n",
       "      <td>NaN</td>\n",
       "      <td>0.0</td>\n",
       "      <td>1</td>\n",
       "      <td>NaN</td>\n",
       "      <td>0.0</td>\n",
       "      <td>Joachim Löw</td>\n",
       "      <td>NaN</td>\n",
       "      <td>...</td>\n",
       "      <td>NaN</td>\n",
       "      <td>NaN</td>\n",
       "      <td>NaN</td>\n",
       "      <td>NaN</td>\n",
       "      <td>NaN</td>\n",
       "      <td>['52&amp;rsquor;|0:0|Marcell Jansen|for Jérôme Boa...</td>\n",
       "      <td>['81&amp;rsquor;|0:1|Fernando Torres|for David Vil...</td>\n",
       "      <td>0.0</td>\n",
       "      <td>1.0</td>\n",
       "      <td>Spain</td>\n",
       "    </tr>\n",
       "    <tr>\n",
       "      <th>197</th>\n",
       "      <td>Paraguay</td>\n",
       "      <td>Spain</td>\n",
       "      <td>0</td>\n",
       "      <td>NaN</td>\n",
       "      <td>0.0</td>\n",
       "      <td>1</td>\n",
       "      <td>NaN</td>\n",
       "      <td>0.0</td>\n",
       "      <td>Gerardo Martino</td>\n",
       "      <td>NaN</td>\n",
       "      <td>...</td>\n",
       "      <td>NaN</td>\n",
       "      <td>NaN</td>\n",
       "      <td>NaN</td>\n",
       "      <td>['59&amp;rsquor;|0:0|Víctor Cáceres', '59&amp;rsquor;|...</td>\n",
       "      <td>['57&amp;rsquor;|0:0|Gerard Piqué', '63&amp;rsquor;|0:...</td>\n",
       "      <td>['64&amp;rsquor;|0:0|Enrique Vera|for Édgar Barret...</td>\n",
       "      <td>['56&amp;rsquor;|0:0|Cesc Fàbregas|for Fernando To...</td>\n",
       "      <td>0.0</td>\n",
       "      <td>1.0</td>\n",
       "      <td>Spain</td>\n",
       "    </tr>\n",
       "    <tr>\n",
       "      <th>324</th>\n",
       "      <td>Spain</td>\n",
       "      <td>Korea Republic</td>\n",
       "      <td>0</td>\n",
       "      <td>NaN</td>\n",
       "      <td>3.0</td>\n",
       "      <td>0</td>\n",
       "      <td>NaN</td>\n",
       "      <td>5.0</td>\n",
       "      <td>José Antonio Camacho</td>\n",
       "      <td>NaN</td>\n",
       "      <td>...</td>\n",
       "      <td>NaN</td>\n",
       "      <td>NaN</td>\n",
       "      <td>NaN</td>\n",
       "      <td>['53&amp;rsquor;|0:0|Javier de Pedro', '111&amp;rsquor...</td>\n",
       "      <td>['52&amp;rsquor;|0:0|Yoo Sang-chul']</td>\n",
       "      <td>['70&amp;rsquor;|0:0|Gaizka Mendieta|for Javier de...</td>\n",
       "      <td>['32&amp;rsquor;|0:0|Lee Eul-yong|for Kim Nam-il',...</td>\n",
       "      <td>3.0</td>\n",
       "      <td>5.0</td>\n",
       "      <td>Korea Republic</td>\n",
       "    </tr>\n",
       "    <tr>\n",
       "      <th>454</th>\n",
       "      <td>Italy</td>\n",
       "      <td>Spain</td>\n",
       "      <td>2</td>\n",
       "      <td>NaN</td>\n",
       "      <td>0.0</td>\n",
       "      <td>1</td>\n",
       "      <td>NaN</td>\n",
       "      <td>0.0</td>\n",
       "      <td>Arrigo Sacchi</td>\n",
       "      <td>Paolo Maldini</td>\n",
       "      <td>...</td>\n",
       "      <td>NaN</td>\n",
       "      <td>NaN</td>\n",
       "      <td>NaN</td>\n",
       "      <td>NaN</td>\n",
       "      <td>['3&amp;rsquor;|0:0|Abelardo Fernández', '19&amp;rsquo...</td>\n",
       "      <td>['46&amp;rsquor;|1:0|Giuseppe Signori|for Demetrio...</td>\n",
       "      <td>['60&amp;rsquor;|1:1|Julio Salinas|for Sergi Barju...</td>\n",
       "      <td>2.0</td>\n",
       "      <td>1.0</td>\n",
       "      <td>Italy</td>\n",
       "    </tr>\n",
       "  </tbody>\n",
       "</table>\n",
       "<p>5 rows × 47 columns</p>\n",
       "</div>"
      ],
      "text/plain": [
       "       home_team       away_team  home_score  home_xg  home_penalty  \\\n",
       "192  Netherlands           Spain           0      NaN           0.0   \n",
       "194      Germany           Spain           0      NaN           0.0   \n",
       "197     Paraguay           Spain           0      NaN           0.0   \n",
       "324        Spain  Korea Republic           0      NaN           3.0   \n",
       "454        Italy           Spain           2      NaN           0.0   \n",
       "\n",
       "     away_score  away_xg  away_penalty          home_manager   home_captain  \\\n",
       "192           1      NaN           0.0      Bert van Marwijk            NaN   \n",
       "194           1      NaN           0.0           Joachim Löw            NaN   \n",
       "197           1      NaN           0.0       Gerardo Martino            NaN   \n",
       "324           0      NaN           5.0  José Antonio Camacho            NaN   \n",
       "454           1      NaN           0.0         Arrigo Sacchi  Paolo Maldini   \n",
       "\n",
       "     ... away_red_card home_yellow_red_card  away_yellow_red_card  \\\n",
       "192  ...           NaN  John Heitinga · 109                   NaN   \n",
       "194  ...           NaN                  NaN                   NaN   \n",
       "197  ...           NaN                  NaN                   NaN   \n",
       "324  ...           NaN                  NaN                   NaN   \n",
       "454  ...           NaN                  NaN                   NaN   \n",
       "\n",
       "                                 home_yellow_card_long  \\\n",
       "192  ['15&rsquor;|0:0|Robin van Persie', '22&rsquor...   \n",
       "194                                                NaN   \n",
       "197  ['59&rsquor;|0:0|Víctor Cáceres', '59&rsquor;|...   \n",
       "324  ['53&rsquor;|0:0|Javier de Pedro', '111&rsquor...   \n",
       "454                                                NaN   \n",
       "\n",
       "                                 away_yellow_card_long  \\\n",
       "192  ['17&rsquor;|0:0|Carles Puyol', '23&rsquor;|0:...   \n",
       "194                                                NaN   \n",
       "197  ['57&rsquor;|0:0|Gerard Piqué', '63&rsquor;|0:...   \n",
       "324                   ['52&rsquor;|0:0|Yoo Sang-chul']   \n",
       "454  ['3&rsquor;|0:0|Abelardo Fernández', '19&rsquo...   \n",
       "\n",
       "                               home_substitute_in_long  \\\n",
       "192  ['71&rsquor;|0:0|Eljero Elia|for Dirk Kuyt', '...   \n",
       "194  ['52&rsquor;|0:0|Marcell Jansen|for Jérôme Boa...   \n",
       "197  ['64&rsquor;|0:0|Enrique Vera|for Édgar Barret...   \n",
       "324  ['70&rsquor;|0:0|Gaizka Mendieta|for Javier de...   \n",
       "454  ['46&rsquor;|1:0|Giuseppe Signori|for Demetrio...   \n",
       "\n",
       "                               away_substitute_in_long H_total_score  \\\n",
       "192  ['60&rsquor;|0:0|Jesús Navas|for Pedro', '87&r...           0.0   \n",
       "194  ['81&rsquor;|0:1|Fernando Torres|for David Vil...           0.0   \n",
       "197  ['56&rsquor;|0:0|Cesc Fàbregas|for Fernando To...           0.0   \n",
       "324  ['32&rsquor;|0:0|Lee Eul-yong|for Kim Nam-il',...           3.0   \n",
       "454  ['60&rsquor;|1:1|Julio Salinas|for Sergi Barju...           2.0   \n",
       "\n",
       "    A_total_score          winner  \n",
       "192           1.0           Spain  \n",
       "194           1.0           Spain  \n",
       "197           1.0           Spain  \n",
       "324           5.0  Korea Republic  \n",
       "454           1.0           Italy  \n",
       "\n",
       "[5 rows x 47 columns]"
      ]
     },
     "execution_count": 2600,
     "metadata": {},
     "output_type": "execute_result"
    }
   ],
   "source": [
    "df1.head()\n"
   ]
  },
  {
   "cell_type": "code",
   "execution_count": 2601,
   "metadata": {},
   "outputs": [],
   "source": [
    "df2 = df1[df1['winner']==country]['Round'].value_counts().reset_index()\n",
    "df2.columns= ['Round' , 'wins']"
   ]
  },
  {
   "cell_type": "code",
   "execution_count": 2602,
   "metadata": {},
   "outputs": [
    {
     "data": {
      "text/html": [
       "<div>\n",
       "<style scoped>\n",
       "    .dataframe tbody tr th:only-of-type {\n",
       "        vertical-align: middle;\n",
       "    }\n",
       "\n",
       "    .dataframe tbody tr th {\n",
       "        vertical-align: top;\n",
       "    }\n",
       "\n",
       "    .dataframe thead th {\n",
       "        text-align: right;\n",
       "    }\n",
       "</style>\n",
       "<table border=\"1\" class=\"dataframe\">\n",
       "  <thead>\n",
       "    <tr style=\"text-align: right;\">\n",
       "      <th></th>\n",
       "      <th>Round</th>\n",
       "      <th>wins</th>\n",
       "    </tr>\n",
       "  </thead>\n",
       "  <tbody>\n",
       "    <tr>\n",
       "      <th>0</th>\n",
       "      <td>Quarter-finals</td>\n",
       "      <td>2</td>\n",
       "    </tr>\n",
       "    <tr>\n",
       "      <th>1</th>\n",
       "      <td>Final</td>\n",
       "      <td>1</td>\n",
       "    </tr>\n",
       "    <tr>\n",
       "      <th>2</th>\n",
       "      <td>Semi-finals</td>\n",
       "      <td>1</td>\n",
       "    </tr>\n",
       "  </tbody>\n",
       "</table>\n",
       "</div>"
      ],
      "text/plain": [
       "            Round  wins\n",
       "0  Quarter-finals     2\n",
       "1           Final     1\n",
       "2     Semi-finals     1"
      ]
     },
     "execution_count": 2602,
     "metadata": {},
     "output_type": "execute_result"
    }
   ],
   "source": [
    "df2"
   ]
  },
  {
   "cell_type": "code",
   "execution_count": 2603,
   "metadata": {},
   "outputs": [
    {
     "data": {
      "text/html": [
       "<div>\n",
       "<style scoped>\n",
       "    .dataframe tbody tr th:only-of-type {\n",
       "        vertical-align: middle;\n",
       "    }\n",
       "\n",
       "    .dataframe tbody tr th {\n",
       "        vertical-align: top;\n",
       "    }\n",
       "\n",
       "    .dataframe thead th {\n",
       "        text-align: right;\n",
       "    }\n",
       "</style>\n",
       "<table border=\"1\" class=\"dataframe\">\n",
       "  <thead>\n",
       "    <tr style=\"text-align: right;\">\n",
       "      <th></th>\n",
       "      <th>Round</th>\n",
       "      <th>matches</th>\n",
       "      <th>wins</th>\n",
       "    </tr>\n",
       "  </thead>\n",
       "  <tbody>\n",
       "    <tr>\n",
       "      <th>0</th>\n",
       "      <td>Quarter-finals</td>\n",
       "      <td>6</td>\n",
       "      <td>2</td>\n",
       "    </tr>\n",
       "    <tr>\n",
       "      <th>1</th>\n",
       "      <td>Final</td>\n",
       "      <td>1</td>\n",
       "      <td>1</td>\n",
       "    </tr>\n",
       "    <tr>\n",
       "      <th>2</th>\n",
       "      <td>Semi-finals</td>\n",
       "      <td>1</td>\n",
       "      <td>1</td>\n",
       "    </tr>\n",
       "  </tbody>\n",
       "</table>\n",
       "</div>"
      ],
      "text/plain": [
       "            Round  matches  wins\n",
       "0  Quarter-finals        6     2\n",
       "1           Final        1     1\n",
       "2     Semi-finals        1     1"
      ]
     },
     "execution_count": 2603,
     "metadata": {},
     "output_type": "execute_result"
    }
   ],
   "source": [
    "main_df = pd.merge(country_df, df2, on='Round', how='inner')\n",
    "main_df"
   ]
  },
  {
   "cell_type": "markdown",
   "metadata": {},
   "source": [
    "### Now we make a function and thats tell directly the performance"
   ]
  },
  {
   "cell_type": "code",
   "execution_count": 2604,
   "metadata": {},
   "outputs": [],
   "source": [
    "def country_performance(country): \n",
    "    # Select knockout matches where the country is either the home or away team\n",
    "    knockout_matches = matches[\n",
    "    ((matches['home_team'] == country) | (matches['away_team'] == country)) & \n",
    "    ((matches['Round'] == 'Final') | \n",
    "     (matches['Round'] == 'Semi-finals') | \n",
    "     (matches['Round'] == 'Quarter-finals'))\n",
    "     ]\n",
    "    # Create a DataFrame for the number of matches per round\n",
    "    df1 = pd.DataFrame(knockout_matches['Round'].value_counts().reset_index())\n",
    "    df1.columns = ['Round', 'Matches']\n",
    "    # Define function to determine the winner\n",
    "    def get_winner(row):\n",
    "        if row['H_total_score'] > row['A_total_score']:\n",
    "            return row['home_team']\n",
    "        else:\n",
    "            return row['away_team']\n",
    "    \n",
    "    # Apply get_winner function to determine the winner for each match\n",
    "    knockout_matches['Winner'] = knockout_matches.apply(get_winner, axis=1)\n",
    "    \n",
    "    # Create a DataFrame for the number of wins per round for the specified country\n",
    "    df2 = pd.DataFrame(knockout_matches[knockout_matches['Winner'] == country]['Round'].value_counts().reset_index())\n",
    "    df2.columns = ['Round', 'Wins']\n",
    "    \n",
    "    \n",
    "    \n",
    "    # Merge the two DataFrames on 'Round'\n",
    "    merged_df = pd.merge(df1, df2, on='Round', how='inner')\n",
    "    \n",
    "    # Calculate win percentage\n",
    "    merged_df['Result'] = (merged_df['Wins'] / merged_df['Matches']) * 100\n",
    "    \n",
    "    return merged_df\n"
   ]
  },
  {
   "cell_type": "code",
   "execution_count": 2605,
   "metadata": {},
   "outputs": [
    {
     "data": {
      "text/html": [
       "<div>\n",
       "<style scoped>\n",
       "    .dataframe tbody tr th:only-of-type {\n",
       "        vertical-align: middle;\n",
       "    }\n",
       "\n",
       "    .dataframe tbody tr th {\n",
       "        vertical-align: top;\n",
       "    }\n",
       "\n",
       "    .dataframe thead th {\n",
       "        text-align: right;\n",
       "    }\n",
       "</style>\n",
       "<table border=\"1\" class=\"dataframe\">\n",
       "  <thead>\n",
       "    <tr style=\"text-align: right;\">\n",
       "      <th></th>\n",
       "      <th>Round</th>\n",
       "      <th>Matches</th>\n",
       "      <th>Wins</th>\n",
       "      <th>Result</th>\n",
       "    </tr>\n",
       "  </thead>\n",
       "  <tbody>\n",
       "    <tr>\n",
       "      <th>0</th>\n",
       "      <td>Quarter-finals</td>\n",
       "      <td>5</td>\n",
       "      <td>3</td>\n",
       "      <td>60.000000</td>\n",
       "    </tr>\n",
       "    <tr>\n",
       "      <th>1</th>\n",
       "      <td>Semi-finals</td>\n",
       "      <td>3</td>\n",
       "      <td>1</td>\n",
       "      <td>33.333333</td>\n",
       "    </tr>\n",
       "  </tbody>\n",
       "</table>\n",
       "</div>"
      ],
      "text/plain": [
       "            Round  Matches  Wins     Result\n",
       "0  Quarter-finals        5     3  60.000000\n",
       "1     Semi-finals        3     1  33.333333"
      ]
     },
     "execution_count": 2605,
     "metadata": {},
     "output_type": "execute_result"
    }
   ],
   "source": [
    "country_performance('Sweden')"
   ]
  },
  {
   "cell_type": "markdown",
   "metadata": {},
   "source": [
    "# CONCLUSIONS\n",
    "\n",
    "\n",
    "Italy: Teams facing Italy in knockout rounds can expect a challenging match. Italy has a 75% probability of winning in the quarter-finals, an 86% probability of advancing from the semi-finals, and a 67% probability of securing victory in the finals.\n",
    "\n",
    "Spain - if it clears QF its wins title.\n",
    "\n",
    "France - they have good record in QF comparatively not that good record in Semi and Finals.\n",
    "\n",
    "Sweden never reaches a final.\n",
    "\n",
    "if Argentina reaches semi final , it will surely win it."
   ]
  },
  {
   "cell_type": "code",
   "execution_count": 2606,
   "metadata": {},
   "outputs": [
    {
     "data": {
      "text/html": [
       "<div>\n",
       "<style scoped>\n",
       "    .dataframe tbody tr th:only-of-type {\n",
       "        vertical-align: middle;\n",
       "    }\n",
       "\n",
       "    .dataframe tbody tr th {\n",
       "        vertical-align: top;\n",
       "    }\n",
       "\n",
       "    .dataframe thead th {\n",
       "        text-align: right;\n",
       "    }\n",
       "</style>\n",
       "<table border=\"1\" class=\"dataframe\">\n",
       "  <thead>\n",
       "    <tr style=\"text-align: right;\">\n",
       "      <th></th>\n",
       "      <th>Year</th>\n",
       "      <th>Host</th>\n",
       "      <th>Teams</th>\n",
       "      <th>Champion</th>\n",
       "      <th>Runner-Up</th>\n",
       "      <th>TopScorrer</th>\n",
       "      <th>Attendance</th>\n",
       "      <th>AttendanceAvg</th>\n",
       "      <th>Matches</th>\n",
       "    </tr>\n",
       "  </thead>\n",
       "  <tbody>\n",
       "    <tr>\n",
       "      <th>0</th>\n",
       "      <td>2022</td>\n",
       "      <td>Qatar</td>\n",
       "      <td>32</td>\n",
       "      <td>Argentina</td>\n",
       "      <td>France</td>\n",
       "      <td>Kylian Mbappé - 8</td>\n",
       "      <td>3404252</td>\n",
       "      <td>53191</td>\n",
       "      <td>64</td>\n",
       "    </tr>\n",
       "    <tr>\n",
       "      <th>1</th>\n",
       "      <td>2018</td>\n",
       "      <td>Russia</td>\n",
       "      <td>32</td>\n",
       "      <td>France</td>\n",
       "      <td>Croatia</td>\n",
       "      <td>Harry Kane - 6</td>\n",
       "      <td>3031768</td>\n",
       "      <td>47371</td>\n",
       "      <td>64</td>\n",
       "    </tr>\n",
       "    <tr>\n",
       "      <th>2</th>\n",
       "      <td>2014</td>\n",
       "      <td>Brazil</td>\n",
       "      <td>32</td>\n",
       "      <td>Germany</td>\n",
       "      <td>Argentina</td>\n",
       "      <td>James Rodríguez - 6</td>\n",
       "      <td>3429873</td>\n",
       "      <td>53592</td>\n",
       "      <td>64</td>\n",
       "    </tr>\n",
       "    <tr>\n",
       "      <th>3</th>\n",
       "      <td>2010</td>\n",
       "      <td>South Africa</td>\n",
       "      <td>32</td>\n",
       "      <td>Spain</td>\n",
       "      <td>Netherlands</td>\n",
       "      <td>Wesley Sneijder, Thomas Müller... - 5</td>\n",
       "      <td>3178856</td>\n",
       "      <td>49670</td>\n",
       "      <td>64</td>\n",
       "    </tr>\n",
       "    <tr>\n",
       "      <th>4</th>\n",
       "      <td>2006</td>\n",
       "      <td>Germany</td>\n",
       "      <td>32</td>\n",
       "      <td>Italy</td>\n",
       "      <td>France</td>\n",
       "      <td>Miroslav Klose - 5</td>\n",
       "      <td>3352605</td>\n",
       "      <td>52384</td>\n",
       "      <td>64</td>\n",
       "    </tr>\n",
       "    <tr>\n",
       "      <th>5</th>\n",
       "      <td>2002</td>\n",
       "      <td>Korea Republic, Japan</td>\n",
       "      <td>32</td>\n",
       "      <td>Brazil</td>\n",
       "      <td>Germany</td>\n",
       "      <td>Ronaldo - 8</td>\n",
       "      <td>2705337</td>\n",
       "      <td>42271</td>\n",
       "      <td>64</td>\n",
       "    </tr>\n",
       "    <tr>\n",
       "      <th>6</th>\n",
       "      <td>1998</td>\n",
       "      <td>France</td>\n",
       "      <td>32</td>\n",
       "      <td>France</td>\n",
       "      <td>Brazil</td>\n",
       "      <td>Davor Šuker - 6</td>\n",
       "      <td>2903477</td>\n",
       "      <td>45367</td>\n",
       "      <td>64</td>\n",
       "    </tr>\n",
       "    <tr>\n",
       "      <th>7</th>\n",
       "      <td>1994</td>\n",
       "      <td>United States</td>\n",
       "      <td>24</td>\n",
       "      <td>Brazil</td>\n",
       "      <td>Italy</td>\n",
       "      <td>Hristo Stoichkov, Oleg Salenko - 6</td>\n",
       "      <td>3587538</td>\n",
       "      <td>68991</td>\n",
       "      <td>52</td>\n",
       "    </tr>\n",
       "    <tr>\n",
       "      <th>8</th>\n",
       "      <td>1990</td>\n",
       "      <td>Italy</td>\n",
       "      <td>24</td>\n",
       "      <td>West Germany</td>\n",
       "      <td>Argentina</td>\n",
       "      <td>Salvatore Schillaci - 6</td>\n",
       "      <td>2516215</td>\n",
       "      <td>48389</td>\n",
       "      <td>52</td>\n",
       "    </tr>\n",
       "    <tr>\n",
       "      <th>9</th>\n",
       "      <td>1986</td>\n",
       "      <td>Mexico</td>\n",
       "      <td>24</td>\n",
       "      <td>Argentina</td>\n",
       "      <td>West Germany</td>\n",
       "      <td>Gary Lineker - 6</td>\n",
       "      <td>2394031</td>\n",
       "      <td>46039</td>\n",
       "      <td>52</td>\n",
       "    </tr>\n",
       "    <tr>\n",
       "      <th>10</th>\n",
       "      <td>1982</td>\n",
       "      <td>Spain</td>\n",
       "      <td>24</td>\n",
       "      <td>Italy</td>\n",
       "      <td>West Germany</td>\n",
       "      <td>Paolo Rossi - 6</td>\n",
       "      <td>2109723</td>\n",
       "      <td>40572</td>\n",
       "      <td>52</td>\n",
       "    </tr>\n",
       "    <tr>\n",
       "      <th>11</th>\n",
       "      <td>1978</td>\n",
       "      <td>Argentina</td>\n",
       "      <td>16</td>\n",
       "      <td>Argentina</td>\n",
       "      <td>Netherlands</td>\n",
       "      <td>Mario Kempes - 6</td>\n",
       "      <td>1545791</td>\n",
       "      <td>40679</td>\n",
       "      <td>38</td>\n",
       "    </tr>\n",
       "    <tr>\n",
       "      <th>12</th>\n",
       "      <td>1974</td>\n",
       "      <td>Germany</td>\n",
       "      <td>16</td>\n",
       "      <td>West Germany</td>\n",
       "      <td>Netherlands</td>\n",
       "      <td>Grzegorz Lato - 7</td>\n",
       "      <td>1865753</td>\n",
       "      <td>49099</td>\n",
       "      <td>38</td>\n",
       "    </tr>\n",
       "    <tr>\n",
       "      <th>13</th>\n",
       "      <td>1970</td>\n",
       "      <td>Mexico</td>\n",
       "      <td>16</td>\n",
       "      <td>Brazil</td>\n",
       "      <td>Italy</td>\n",
       "      <td>Gerd Müller - 10</td>\n",
       "      <td>1603975</td>\n",
       "      <td>50124</td>\n",
       "      <td>32</td>\n",
       "    </tr>\n",
       "    <tr>\n",
       "      <th>14</th>\n",
       "      <td>1966</td>\n",
       "      <td>England</td>\n",
       "      <td>16</td>\n",
       "      <td>England</td>\n",
       "      <td>West Germany</td>\n",
       "      <td>Eusébio - 9</td>\n",
       "      <td>1563135</td>\n",
       "      <td>48848</td>\n",
       "      <td>32</td>\n",
       "    </tr>\n",
       "    <tr>\n",
       "      <th>15</th>\n",
       "      <td>1962</td>\n",
       "      <td>Chile</td>\n",
       "      <td>16</td>\n",
       "      <td>Brazil</td>\n",
       "      <td>Czechoslovakia</td>\n",
       "      <td>Leonel Sánchez, Flórián Albert... - 4</td>\n",
       "      <td>893172</td>\n",
       "      <td>27912</td>\n",
       "      <td>32</td>\n",
       "    </tr>\n",
       "    <tr>\n",
       "      <th>16</th>\n",
       "      <td>1958</td>\n",
       "      <td>Sweden</td>\n",
       "      <td>16</td>\n",
       "      <td>Brazil</td>\n",
       "      <td>Sweden</td>\n",
       "      <td>Just Fontaine - 13</td>\n",
       "      <td>819810</td>\n",
       "      <td>23423</td>\n",
       "      <td>35</td>\n",
       "    </tr>\n",
       "    <tr>\n",
       "      <th>17</th>\n",
       "      <td>1954</td>\n",
       "      <td>Switzerland</td>\n",
       "      <td>16</td>\n",
       "      <td>Germany</td>\n",
       "      <td>Hungary</td>\n",
       "      <td>Sándor Kocsis - 11</td>\n",
       "      <td>768607</td>\n",
       "      <td>29562</td>\n",
       "      <td>26</td>\n",
       "    </tr>\n",
       "    <tr>\n",
       "      <th>18</th>\n",
       "      <td>1950</td>\n",
       "      <td>Brazil</td>\n",
       "      <td>15</td>\n",
       "      <td>Uruguay</td>\n",
       "      <td>Brazil</td>\n",
       "      <td>Ademir - 8</td>\n",
       "      <td>1045246</td>\n",
       "      <td>47511</td>\n",
       "      <td>22</td>\n",
       "    </tr>\n",
       "    <tr>\n",
       "      <th>19</th>\n",
       "      <td>1938</td>\n",
       "      <td>France</td>\n",
       "      <td>16</td>\n",
       "      <td>Italy</td>\n",
       "      <td>Hungary</td>\n",
       "      <td>Leônidas - 7</td>\n",
       "      <td>375700</td>\n",
       "      <td>20872</td>\n",
       "      <td>18</td>\n",
       "    </tr>\n",
       "    <tr>\n",
       "      <th>20</th>\n",
       "      <td>1934</td>\n",
       "      <td>Italy</td>\n",
       "      <td>16</td>\n",
       "      <td>Italy</td>\n",
       "      <td>Czechoslovakia</td>\n",
       "      <td>Oldřich Nejedlý - 5</td>\n",
       "      <td>363000</td>\n",
       "      <td>21353</td>\n",
       "      <td>17</td>\n",
       "    </tr>\n",
       "    <tr>\n",
       "      <th>21</th>\n",
       "      <td>1930</td>\n",
       "      <td>Uruguay</td>\n",
       "      <td>13</td>\n",
       "      <td>Uruguay</td>\n",
       "      <td>Argentina</td>\n",
       "      <td>Guillermo Stábile - 8</td>\n",
       "      <td>590549</td>\n",
       "      <td>32808</td>\n",
       "      <td>18</td>\n",
       "    </tr>\n",
       "  </tbody>\n",
       "</table>\n",
       "</div>"
      ],
      "text/plain": [
       "    Year                   Host  Teams      Champion       Runner-Up  \\\n",
       "0   2022                  Qatar     32     Argentina          France   \n",
       "1   2018                 Russia     32        France         Croatia   \n",
       "2   2014                 Brazil     32       Germany       Argentina   \n",
       "3   2010           South Africa     32         Spain     Netherlands   \n",
       "4   2006                Germany     32         Italy          France   \n",
       "5   2002  Korea Republic, Japan     32        Brazil         Germany   \n",
       "6   1998                 France     32        France          Brazil   \n",
       "7   1994          United States     24        Brazil           Italy   \n",
       "8   1990                  Italy     24  West Germany       Argentina   \n",
       "9   1986                 Mexico     24     Argentina    West Germany   \n",
       "10  1982                  Spain     24         Italy    West Germany   \n",
       "11  1978              Argentina     16     Argentina     Netherlands   \n",
       "12  1974                Germany     16  West Germany     Netherlands   \n",
       "13  1970                 Mexico     16        Brazil           Italy   \n",
       "14  1966                England     16       England    West Germany   \n",
       "15  1962                  Chile     16        Brazil  Czechoslovakia   \n",
       "16  1958                 Sweden     16        Brazil          Sweden   \n",
       "17  1954            Switzerland     16       Germany         Hungary   \n",
       "18  1950                 Brazil     15       Uruguay          Brazil   \n",
       "19  1938                 France     16         Italy         Hungary   \n",
       "20  1934                  Italy     16         Italy  Czechoslovakia   \n",
       "21  1930                Uruguay     13       Uruguay       Argentina   \n",
       "\n",
       "                               TopScorrer  Attendance  AttendanceAvg  Matches  \n",
       "0                       Kylian Mbappé - 8     3404252          53191       64  \n",
       "1                          Harry Kane - 6     3031768          47371       64  \n",
       "2                     James Rodríguez - 6     3429873          53592       64  \n",
       "3   Wesley Sneijder, Thomas Müller... - 5     3178856          49670       64  \n",
       "4                      Miroslav Klose - 5     3352605          52384       64  \n",
       "5                             Ronaldo - 8     2705337          42271       64  \n",
       "6                         Davor Šuker - 6     2903477          45367       64  \n",
       "7      Hristo Stoichkov, Oleg Salenko - 6     3587538          68991       52  \n",
       "8                 Salvatore Schillaci - 6     2516215          48389       52  \n",
       "9                        Gary Lineker - 6     2394031          46039       52  \n",
       "10                        Paolo Rossi - 6     2109723          40572       52  \n",
       "11                       Mario Kempes - 6     1545791          40679       38  \n",
       "12                      Grzegorz Lato - 7     1865753          49099       38  \n",
       "13                       Gerd Müller - 10     1603975          50124       32  \n",
       "14                            Eusébio - 9     1563135          48848       32  \n",
       "15  Leonel Sánchez, Flórián Albert... - 4      893172          27912       32  \n",
       "16                     Just Fontaine - 13      819810          23423       35  \n",
       "17                     Sándor Kocsis - 11      768607          29562       26  \n",
       "18                             Ademir - 8     1045246          47511       22  \n",
       "19                           Leônidas - 7      375700          20872       18  \n",
       "20                    Oldřich Nejedlý - 5      363000          21353       17  \n",
       "21                  Guillermo Stábile - 8      590549          32808       18  "
      ]
     },
     "execution_count": 2606,
     "metadata": {},
     "output_type": "execute_result"
    }
   ],
   "source": [
    "world_cup"
   ]
  },
  {
   "cell_type": "code",
   "execution_count": 2607,
   "metadata": {},
   "outputs": [],
   "source": [
    "home_team_stats= matches.groupby(['home_team','Year']).agg({\n",
    "    'home_score':'sum',\n",
    "    'home_xg' :'sum'\n",
    "}).rename(columns={'home_score':'Total_goals'})"
   ]
  },
  {
   "cell_type": "code",
   "execution_count": 2608,
   "metadata": {},
   "outputs": [
    {
     "data": {
      "text/html": [
       "<div>\n",
       "<style scoped>\n",
       "    .dataframe tbody tr th:only-of-type {\n",
       "        vertical-align: middle;\n",
       "    }\n",
       "\n",
       "    .dataframe tbody tr th {\n",
       "        vertical-align: top;\n",
       "    }\n",
       "\n",
       "    .dataframe thead th {\n",
       "        text-align: right;\n",
       "    }\n",
       "</style>\n",
       "<table border=\"1\" class=\"dataframe\">\n",
       "  <thead>\n",
       "    <tr style=\"text-align: right;\">\n",
       "      <th></th>\n",
       "      <th></th>\n",
       "      <th>Total_goals</th>\n",
       "      <th>home_xg</th>\n",
       "    </tr>\n",
       "    <tr>\n",
       "      <th>home_team</th>\n",
       "      <th>Year</th>\n",
       "      <th></th>\n",
       "      <th></th>\n",
       "    </tr>\n",
       "  </thead>\n",
       "  <tbody>\n",
       "    <tr>\n",
       "      <th rowspan=\"4\" valign=\"top\">Algeria</th>\n",
       "      <th>1982</th>\n",
       "      <td>3</td>\n",
       "      <td>0.0</td>\n",
       "    </tr>\n",
       "    <tr>\n",
       "      <th>1986</th>\n",
       "      <td>1</td>\n",
       "      <td>0.0</td>\n",
       "    </tr>\n",
       "    <tr>\n",
       "      <th>2010</th>\n",
       "      <td>0</td>\n",
       "      <td>0.0</td>\n",
       "    </tr>\n",
       "    <tr>\n",
       "      <th>2014</th>\n",
       "      <td>1</td>\n",
       "      <td>0.0</td>\n",
       "    </tr>\n",
       "    <tr>\n",
       "      <th>Angola</th>\n",
       "      <th>2006</th>\n",
       "      <td>0</td>\n",
       "      <td>0.0</td>\n",
       "    </tr>\n",
       "    <tr>\n",
       "      <th>...</th>\n",
       "      <th>...</th>\n",
       "      <td>...</td>\n",
       "      <td>...</td>\n",
       "    </tr>\n",
       "    <tr>\n",
       "      <th rowspan=\"4\" valign=\"top\">Yugoslavia</th>\n",
       "      <th>1962</th>\n",
       "      <td>9</td>\n",
       "      <td>0.0</td>\n",
       "    </tr>\n",
       "    <tr>\n",
       "      <th>1974</th>\n",
       "      <td>9</td>\n",
       "      <td>0.0</td>\n",
       "    </tr>\n",
       "    <tr>\n",
       "      <th>1982</th>\n",
       "      <td>0</td>\n",
       "      <td>0.0</td>\n",
       "    </tr>\n",
       "    <tr>\n",
       "      <th>1990</th>\n",
       "      <td>5</td>\n",
       "      <td>0.0</td>\n",
       "    </tr>\n",
       "    <tr>\n",
       "      <th>Zaire</th>\n",
       "      <th>1974</th>\n",
       "      <td>0</td>\n",
       "      <td>0.0</td>\n",
       "    </tr>\n",
       "  </tbody>\n",
       "</table>\n",
       "<p>430 rows × 2 columns</p>\n",
       "</div>"
      ],
      "text/plain": [
       "                 Total_goals  home_xg\n",
       "home_team  Year                      \n",
       "Algeria    1982            3      0.0\n",
       "           1986            1      0.0\n",
       "           2010            0      0.0\n",
       "           2014            1      0.0\n",
       "Angola     2006            0      0.0\n",
       "...                      ...      ...\n",
       "Yugoslavia 1962            9      0.0\n",
       "           1974            9      0.0\n",
       "           1982            0      0.0\n",
       "           1990            5      0.0\n",
       "Zaire      1974            0      0.0\n",
       "\n",
       "[430 rows x 2 columns]"
      ]
     },
     "execution_count": 2608,
     "metadata": {},
     "output_type": "execute_result"
    }
   ],
   "source": [
    "home_team_stats"
   ]
  },
  {
   "cell_type": "markdown",
   "metadata": {},
   "source": [
    "## Now here we see , what is the plying strategy of teams in knockout and non knockout"
   ]
  },
  {
   "cell_type": "code",
   "execution_count": 2609,
   "metadata": {},
   "outputs": [
    {
     "name": "stdout",
     "output_type": "stream",
     "text": [
      "1\n"
     ]
    }
   ],
   "source": [
    "for i in matches.columns:\n",
    "  if i == 'home_goal':\n",
    "    print('1')\n",
    "   "
   ]
  },
  {
   "cell_type": "code",
   "execution_count": 2610,
   "metadata": {},
   "outputs": [
    {
     "data": {
      "text/plain": [
       "'Ángel Di María · 36|Lionel Messi · 108'"
      ]
     },
     "execution_count": 2610,
     "metadata": {},
     "output_type": "execute_result"
    }
   ],
   "source": [
    "matches['home_goal'][0]"
   ]
  },
  {
   "cell_type": "code",
   "execution_count": 2611,
   "metadata": {},
   "outputs": [],
   "source": [
    "import re"
   ]
  },
  {
   "cell_type": "code",
   "execution_count": 2612,
   "metadata": {},
   "outputs": [],
   "source": [
    "pattern = r'\\d+'"
   ]
  },
  {
   "cell_type": "code",
   "execution_count": 2613,
   "metadata": {},
   "outputs": [],
   "source": [
    "def extract_time(row):\n",
    "  if pd.notna(row['home_goal']):\n",
    "    goal_str = str(row['home_goal'])\n",
    "    times = []\n",
    "    matches = re.findall(pattern , goal_str)\n",
    "    times.extend(matches)\n",
    "    return ',' .join(times)\n",
    "  else:\n",
    "    return ''"
   ]
  },
  {
   "cell_type": "code",
   "execution_count": 2614,
   "metadata": {},
   "outputs": [],
   "source": [
    "matches['home_goals'] = matches.apply(extract_time , axis=1)"
   ]
  },
  {
   "cell_type": "code",
   "execution_count": 2615,
   "metadata": {},
   "outputs": [
    {
     "data": {
      "text/plain": [
       "0           36,108\n",
       "1             7,42\n",
       "2             5,79\n",
       "3            39,69\n",
       "4               42\n",
       "          ...     \n",
       "959             81\n",
       "960          21,30\n",
       "961        1,79,89\n",
       "962       23,45,69\n",
       "963    19,40,43,87\n",
       "Name: home_goals, Length: 964, dtype: object"
      ]
     },
     "execution_count": 2615,
     "metadata": {},
     "output_type": "execute_result"
    }
   ],
   "source": [
    "matches['home_goals']"
   ]
  },
  {
   "cell_type": "code",
   "execution_count": 2616,
   "metadata": {},
   "outputs": [],
   "source": [
    "def extract_time(row):\n",
    "  if pd.notna(row['away_goal']):\n",
    "    goal_str = str(row['away_goal'])\n",
    "    times = []\n",
    "    matches = re.findall(pattern , goal_str)\n",
    "    times.extend(matches)\n",
    "    return ',' .join(times)\n",
    "  else:\n",
    "    return ''"
   ]
  },
  {
   "cell_type": "code",
   "execution_count": 2617,
   "metadata": {},
   "outputs": [],
   "source": [
    "matches['away_goals'] = matches.apply(extract_time , axis=1)"
   ]
  },
  {
   "cell_type": "code",
   "execution_count": 2618,
   "metadata": {},
   "outputs": [
    {
     "data": {
      "text/plain": [
       "0      81\n",
       "1       9\n",
       "2        \n",
       "3        \n",
       "4        \n",
       "       ..\n",
       "959      \n",
       "960    62\n",
       "961    75\n",
       "962      \n",
       "963    70\n",
       "Name: away_goals, Length: 964, dtype: object"
      ]
     },
     "execution_count": 2618,
     "metadata": {},
     "output_type": "execute_result"
    }
   ],
   "source": [
    "matches['away_goals']"
   ]
  },
  {
   "cell_type": "code",
   "execution_count": 2619,
   "metadata": {},
   "outputs": [
    {
     "data": {
      "text/plain": [
       "'Spain'"
      ]
     },
     "execution_count": 2619,
     "metadata": {},
     "output_type": "execute_result"
    }
   ],
   "source": [
    "country"
   ]
  },
  {
   "cell_type": "markdown",
   "metadata": {},
   "source": [
    "# Now searching for the knocouts matches "
   ]
  },
  {
   "cell_type": "code",
   "execution_count": 2620,
   "metadata": {},
   "outputs": [
    {
     "data": {
      "text/plain": [
       "Round\n",
       "Group stage             587\n",
       "Round of 16              97\n",
       "Quarter-finals           70\n",
       "First round              48\n",
       "Semi-finals              38\n",
       "First group stage        36\n",
       "Second round             24\n",
       "Final                    21\n",
       "Third-place match        20\n",
       "Second group stage       12\n",
       "Final stage               6\n",
       "Group stage play-off      5\n",
       "Name: count, dtype: int64"
      ]
     },
     "execution_count": 2620,
     "metadata": {},
     "output_type": "execute_result"
    }
   ],
   "source": [
    "matches['Round'].value_counts()"
   ]
  },
  {
   "cell_type": "code",
   "execution_count": 2621,
   "metadata": {},
   "outputs": [],
   "source": [
    "knockouts= matches[(matches['Round']=='Final') | (matches['Round']=='Semi-finals') | (matches['Round']=='Quarter-finals')]"
   ]
  },
  {
   "cell_type": "code",
   "execution_count": 2622,
   "metadata": {},
   "outputs": [
    {
     "data": {
      "text/plain": [
       "Round\n",
       "Quarter-finals    70\n",
       "Semi-finals       38\n",
       "Final             21\n",
       "Name: count, dtype: int64"
      ]
     },
     "execution_count": 2622,
     "metadata": {},
     "output_type": "execute_result"
    }
   ],
   "source": [
    "knockouts['Round'].value_counts()"
   ]
  },
  {
   "cell_type": "code",
   "execution_count": 2623,
   "metadata": {},
   "outputs": [],
   "source": [
    "knockouts = ['Final' , 'Semi-finals', 'Quarter-finals']\n",
    "def separate_k(row):\n",
    "  if (row['Round'] in knockouts):\n",
    "    return 'knockouts'\n",
    "  else:\n",
    "    return 'Non_knockouts'"
   ]
  },
  {
   "cell_type": "code",
   "execution_count": 2624,
   "metadata": {},
   "outputs": [],
   "source": [
    "matches[\"Knockouts\"] = matches.apply(separate_k , axis= 1)"
   ]
  },
  {
   "cell_type": "code",
   "execution_count": 2625,
   "metadata": {},
   "outputs": [
    {
     "data": {
      "text/plain": [
       "array(['knockouts', 'Non_knockouts'], dtype=object)"
      ]
     },
     "execution_count": 2625,
     "metadata": {},
     "output_type": "execute_result"
    }
   ],
   "source": [
    "matches[\"Knockouts\"].unique()"
   ]
  },
  {
   "cell_type": "code",
   "execution_count": 2626,
   "metadata": {},
   "outputs": [
    {
     "data": {
      "text/html": [
       "<div>\n",
       "<style scoped>\n",
       "    .dataframe tbody tr th:only-of-type {\n",
       "        vertical-align: middle;\n",
       "    }\n",
       "\n",
       "    .dataframe tbody tr th {\n",
       "        vertical-align: top;\n",
       "    }\n",
       "\n",
       "    .dataframe thead th {\n",
       "        text-align: right;\n",
       "    }\n",
       "</style>\n",
       "<table border=\"1\" class=\"dataframe\">\n",
       "  <thead>\n",
       "    <tr style=\"text-align: right;\">\n",
       "      <th></th>\n",
       "      <th>home_team</th>\n",
       "      <th>away_team</th>\n",
       "      <th>home_score</th>\n",
       "      <th>home_xg</th>\n",
       "      <th>home_penalty</th>\n",
       "      <th>away_score</th>\n",
       "      <th>away_xg</th>\n",
       "      <th>away_penalty</th>\n",
       "      <th>home_manager</th>\n",
       "      <th>home_captain</th>\n",
       "      <th>...</th>\n",
       "      <th>away_yellow_red_card</th>\n",
       "      <th>home_yellow_card_long</th>\n",
       "      <th>away_yellow_card_long</th>\n",
       "      <th>home_substitute_in_long</th>\n",
       "      <th>away_substitute_in_long</th>\n",
       "      <th>H_total_score</th>\n",
       "      <th>A_total_score</th>\n",
       "      <th>home_goals</th>\n",
       "      <th>away_goals</th>\n",
       "      <th>Knockouts</th>\n",
       "    </tr>\n",
       "  </thead>\n",
       "  <tbody>\n",
       "    <tr>\n",
       "      <th>0</th>\n",
       "      <td>Argentina</td>\n",
       "      <td>France</td>\n",
       "      <td>3</td>\n",
       "      <td>3.3</td>\n",
       "      <td>4.0</td>\n",
       "      <td>3</td>\n",
       "      <td>2.2</td>\n",
       "      <td>2.0</td>\n",
       "      <td>Lionel Scaloni</td>\n",
       "      <td>Lionel Messi</td>\n",
       "      <td>...</td>\n",
       "      <td>NaN</td>\n",
       "      <td>['45+7&amp;rsquor;|2:0|Enzo Fernández', '90+8&amp;rsqu...</td>\n",
       "      <td>['55&amp;rsquor;|2:0|Adrien Rabiot', '87&amp;rsquor;|2...</td>\n",
       "      <td>['64&amp;rsquor;|2:0|Marcos Acuña|for Ángel Di Mar...</td>\n",
       "      <td>['41&amp;rsquor;|2:0|Randal Kolo Muani|for Ousmane...</td>\n",
       "      <td>7.0</td>\n",
       "      <td>5.0</td>\n",
       "      <td>36,108</td>\n",
       "      <td>81</td>\n",
       "      <td>knockouts</td>\n",
       "    </tr>\n",
       "    <tr>\n",
       "      <th>1</th>\n",
       "      <td>Croatia</td>\n",
       "      <td>Morocco</td>\n",
       "      <td>2</td>\n",
       "      <td>0.7</td>\n",
       "      <td>0.0</td>\n",
       "      <td>1</td>\n",
       "      <td>1.2</td>\n",
       "      <td>0.0</td>\n",
       "      <td>Zlatko Dalić</td>\n",
       "      <td>Luka Modrić</td>\n",
       "      <td>...</td>\n",
       "      <td>NaN</td>\n",
       "      <td>NaN</td>\n",
       "      <td>['69&amp;rsquor;|2:1|Azzedine Ounahi', '84&amp;rsquor;...</td>\n",
       "      <td>['61&amp;rsquor;|2:1|Nikola Vlašić|for Andrej Kram...</td>\n",
       "      <td>['46&amp;rsquor;|2:1|Ilias Chair|for Abdelhamid Sa...</td>\n",
       "      <td>2.0</td>\n",
       "      <td>1.0</td>\n",
       "      <td>7,42</td>\n",
       "      <td>9</td>\n",
       "      <td>Non_knockouts</td>\n",
       "    </tr>\n",
       "    <tr>\n",
       "      <th>2</th>\n",
       "      <td>France</td>\n",
       "      <td>Morocco</td>\n",
       "      <td>2</td>\n",
       "      <td>2.0</td>\n",
       "      <td>0.0</td>\n",
       "      <td>0</td>\n",
       "      <td>0.9</td>\n",
       "      <td>0.0</td>\n",
       "      <td>Didier Deschamps</td>\n",
       "      <td>Hugo Lloris</td>\n",
       "      <td>...</td>\n",
       "      <td>NaN</td>\n",
       "      <td>NaN</td>\n",
       "      <td>['27&amp;rsquor;|1:0|Sofiane Boufal']</td>\n",
       "      <td>['65&amp;rsquor;|1:0|Marcus Thuram|for Olivier Gir...</td>\n",
       "      <td>['21&amp;rsquor;|1:0|Selim Amallah|for Romain Saïs...</td>\n",
       "      <td>2.0</td>\n",
       "      <td>0.0</td>\n",
       "      <td>5,79</td>\n",
       "      <td></td>\n",
       "      <td>knockouts</td>\n",
       "    </tr>\n",
       "    <tr>\n",
       "      <th>3</th>\n",
       "      <td>Argentina</td>\n",
       "      <td>Croatia</td>\n",
       "      <td>3</td>\n",
       "      <td>2.3</td>\n",
       "      <td>0.0</td>\n",
       "      <td>0</td>\n",
       "      <td>0.5</td>\n",
       "      <td>0.0</td>\n",
       "      <td>Lionel Scaloni</td>\n",
       "      <td>Lionel Messi</td>\n",
       "      <td>...</td>\n",
       "      <td>NaN</td>\n",
       "      <td>['68&amp;rsquor;|2:0|Cristian Romero', '71&amp;rsquor;...</td>\n",
       "      <td>['32&amp;rsquor;|0:0|Mateo Kovačić', '32&amp;rsquor;|0...</td>\n",
       "      <td>['62&amp;rsquor;|2:0|Lisandro Martínez|for Leandro...</td>\n",
       "      <td>['46&amp;rsquor;|2:0|Mislav Oršić|for Borna Sosa',...</td>\n",
       "      <td>3.0</td>\n",
       "      <td>0.0</td>\n",
       "      <td>39,69</td>\n",
       "      <td></td>\n",
       "      <td>knockouts</td>\n",
       "    </tr>\n",
       "    <tr>\n",
       "      <th>4</th>\n",
       "      <td>Morocco</td>\n",
       "      <td>Portugal</td>\n",
       "      <td>1</td>\n",
       "      <td>1.4</td>\n",
       "      <td>0.0</td>\n",
       "      <td>0</td>\n",
       "      <td>0.9</td>\n",
       "      <td>0.0</td>\n",
       "      <td>Hoalid Regragui</td>\n",
       "      <td>Romain Saïss</td>\n",
       "      <td>...</td>\n",
       "      <td>NaN</td>\n",
       "      <td>['70&amp;rsquor;|1:0|Achraf Dari', '90+1&amp;rsquor;|1...</td>\n",
       "      <td>['87&amp;rsquor;|1:0|Vitinha']</td>\n",
       "      <td>['57&amp;rsquor;|1:0|Achraf Dari|for Romain Saïss'...</td>\n",
       "      <td>['51&amp;rsquor;|1:0|João Cancelo|for Raphaël Guer...</td>\n",
       "      <td>1.0</td>\n",
       "      <td>0.0</td>\n",
       "      <td>42</td>\n",
       "      <td></td>\n",
       "      <td>knockouts</td>\n",
       "    </tr>\n",
       "    <tr>\n",
       "      <th>...</th>\n",
       "      <td>...</td>\n",
       "      <td>...</td>\n",
       "      <td>...</td>\n",
       "      <td>...</td>\n",
       "      <td>...</td>\n",
       "      <td>...</td>\n",
       "      <td>...</td>\n",
       "      <td>...</td>\n",
       "      <td>...</td>\n",
       "      <td>...</td>\n",
       "      <td>...</td>\n",
       "      <td>...</td>\n",
       "      <td>...</td>\n",
       "      <td>...</td>\n",
       "      <td>...</td>\n",
       "      <td>...</td>\n",
       "      <td>...</td>\n",
       "      <td>...</td>\n",
       "      <td>...</td>\n",
       "      <td>...</td>\n",
       "      <td>...</td>\n",
       "    </tr>\n",
       "    <tr>\n",
       "      <th>959</th>\n",
       "      <td>Argentina</td>\n",
       "      <td>France</td>\n",
       "      <td>1</td>\n",
       "      <td>NaN</td>\n",
       "      <td>0.0</td>\n",
       "      <td>0</td>\n",
       "      <td>NaN</td>\n",
       "      <td>0.0</td>\n",
       "      <td>Francisco Olazar</td>\n",
       "      <td>Manuel Ferreira</td>\n",
       "      <td>...</td>\n",
       "      <td>NaN</td>\n",
       "      <td>NaN</td>\n",
       "      <td>NaN</td>\n",
       "      <td>NaN</td>\n",
       "      <td>NaN</td>\n",
       "      <td>1.0</td>\n",
       "      <td>0.0</td>\n",
       "      <td>81</td>\n",
       "      <td></td>\n",
       "      <td>Non_knockouts</td>\n",
       "    </tr>\n",
       "    <tr>\n",
       "      <th>960</th>\n",
       "      <td>Yugoslavia</td>\n",
       "      <td>Brazil</td>\n",
       "      <td>2</td>\n",
       "      <td>NaN</td>\n",
       "      <td>0.0</td>\n",
       "      <td>1</td>\n",
       "      <td>NaN</td>\n",
       "      <td>0.0</td>\n",
       "      <td>Bosko Simonovic</td>\n",
       "      <td>Milutin Ivković</td>\n",
       "      <td>...</td>\n",
       "      <td>NaN</td>\n",
       "      <td>NaN</td>\n",
       "      <td>NaN</td>\n",
       "      <td>NaN</td>\n",
       "      <td>NaN</td>\n",
       "      <td>2.0</td>\n",
       "      <td>1.0</td>\n",
       "      <td>21,30</td>\n",
       "      <td>62</td>\n",
       "      <td>Non_knockouts</td>\n",
       "    </tr>\n",
       "    <tr>\n",
       "      <th>961</th>\n",
       "      <td>Romania</td>\n",
       "      <td>Peru</td>\n",
       "      <td>3</td>\n",
       "      <td>NaN</td>\n",
       "      <td>0.0</td>\n",
       "      <td>1</td>\n",
       "      <td>NaN</td>\n",
       "      <td>0.0</td>\n",
       "      <td>Octav Luchide</td>\n",
       "      <td>Emerich Vogl</td>\n",
       "      <td>...</td>\n",
       "      <td>NaN</td>\n",
       "      <td>NaN</td>\n",
       "      <td>NaN</td>\n",
       "      <td>NaN</td>\n",
       "      <td>NaN</td>\n",
       "      <td>3.0</td>\n",
       "      <td>1.0</td>\n",
       "      <td>1,79,89</td>\n",
       "      <td>75</td>\n",
       "      <td>Non_knockouts</td>\n",
       "    </tr>\n",
       "    <tr>\n",
       "      <th>962</th>\n",
       "      <td>United States</td>\n",
       "      <td>Belgium</td>\n",
       "      <td>3</td>\n",
       "      <td>NaN</td>\n",
       "      <td>0.0</td>\n",
       "      <td>0</td>\n",
       "      <td>NaN</td>\n",
       "      <td>0.0</td>\n",
       "      <td>Bob Millar</td>\n",
       "      <td>Tom Florie</td>\n",
       "      <td>...</td>\n",
       "      <td>NaN</td>\n",
       "      <td>NaN</td>\n",
       "      <td>NaN</td>\n",
       "      <td>NaN</td>\n",
       "      <td>NaN</td>\n",
       "      <td>3.0</td>\n",
       "      <td>0.0</td>\n",
       "      <td>23,45,69</td>\n",
       "      <td></td>\n",
       "      <td>Non_knockouts</td>\n",
       "    </tr>\n",
       "    <tr>\n",
       "      <th>963</th>\n",
       "      <td>France</td>\n",
       "      <td>Mexico</td>\n",
       "      <td>4</td>\n",
       "      <td>NaN</td>\n",
       "      <td>0.0</td>\n",
       "      <td>1</td>\n",
       "      <td>NaN</td>\n",
       "      <td>0.0</td>\n",
       "      <td>Raoul Caudron</td>\n",
       "      <td>Alexandre Villaplane</td>\n",
       "      <td>...</td>\n",
       "      <td>NaN</td>\n",
       "      <td>NaN</td>\n",
       "      <td>NaN</td>\n",
       "      <td>NaN</td>\n",
       "      <td>NaN</td>\n",
       "      <td>4.0</td>\n",
       "      <td>1.0</td>\n",
       "      <td>19,40,43,87</td>\n",
       "      <td>70</td>\n",
       "      <td>Non_knockouts</td>\n",
       "    </tr>\n",
       "  </tbody>\n",
       "</table>\n",
       "<p>964 rows × 49 columns</p>\n",
       "</div>"
      ],
      "text/plain": [
       "         home_team away_team  home_score  home_xg  home_penalty  away_score  \\\n",
       "0        Argentina    France           3      3.3           4.0           3   \n",
       "1          Croatia   Morocco           2      0.7           0.0           1   \n",
       "2           France   Morocco           2      2.0           0.0           0   \n",
       "3        Argentina   Croatia           3      2.3           0.0           0   \n",
       "4          Morocco  Portugal           1      1.4           0.0           0   \n",
       "..             ...       ...         ...      ...           ...         ...   \n",
       "959      Argentina    France           1      NaN           0.0           0   \n",
       "960     Yugoslavia    Brazil           2      NaN           0.0           1   \n",
       "961        Romania      Peru           3      NaN           0.0           1   \n",
       "962  United States   Belgium           3      NaN           0.0           0   \n",
       "963         France    Mexico           4      NaN           0.0           1   \n",
       "\n",
       "     away_xg  away_penalty      home_manager          home_captain  ...  \\\n",
       "0        2.2           2.0    Lionel Scaloni          Lionel Messi  ...   \n",
       "1        1.2           0.0      Zlatko Dalić           Luka Modrić  ...   \n",
       "2        0.9           0.0  Didier Deschamps           Hugo Lloris  ...   \n",
       "3        0.5           0.0    Lionel Scaloni          Lionel Messi  ...   \n",
       "4        0.9           0.0   Hoalid Regragui          Romain Saïss  ...   \n",
       "..       ...           ...               ...                   ...  ...   \n",
       "959      NaN           0.0  Francisco Olazar       Manuel Ferreira  ...   \n",
       "960      NaN           0.0   Bosko Simonovic       Milutin Ivković  ...   \n",
       "961      NaN           0.0     Octav Luchide          Emerich Vogl  ...   \n",
       "962      NaN           0.0        Bob Millar            Tom Florie  ...   \n",
       "963      NaN           0.0     Raoul Caudron  Alexandre Villaplane  ...   \n",
       "\n",
       "    away_yellow_red_card                              home_yellow_card_long  \\\n",
       "0                    NaN  ['45+7&rsquor;|2:0|Enzo Fernández', '90+8&rsqu...   \n",
       "1                    NaN                                                NaN   \n",
       "2                    NaN                                                NaN   \n",
       "3                    NaN  ['68&rsquor;|2:0|Cristian Romero', '71&rsquor;...   \n",
       "4                    NaN  ['70&rsquor;|1:0|Achraf Dari', '90+1&rsquor;|1...   \n",
       "..                   ...                                                ...   \n",
       "959                  NaN                                                NaN   \n",
       "960                  NaN                                                NaN   \n",
       "961                  NaN                                                NaN   \n",
       "962                  NaN                                                NaN   \n",
       "963                  NaN                                                NaN   \n",
       "\n",
       "                                 away_yellow_card_long  \\\n",
       "0    ['55&rsquor;|2:0|Adrien Rabiot', '87&rsquor;|2...   \n",
       "1    ['69&rsquor;|2:1|Azzedine Ounahi', '84&rsquor;...   \n",
       "2                    ['27&rsquor;|1:0|Sofiane Boufal']   \n",
       "3    ['32&rsquor;|0:0|Mateo Kovačić', '32&rsquor;|0...   \n",
       "4                           ['87&rsquor;|1:0|Vitinha']   \n",
       "..                                                 ...   \n",
       "959                                                NaN   \n",
       "960                                                NaN   \n",
       "961                                                NaN   \n",
       "962                                                NaN   \n",
       "963                                                NaN   \n",
       "\n",
       "                               home_substitute_in_long  \\\n",
       "0    ['64&rsquor;|2:0|Marcos Acuña|for Ángel Di Mar...   \n",
       "1    ['61&rsquor;|2:1|Nikola Vlašić|for Andrej Kram...   \n",
       "2    ['65&rsquor;|1:0|Marcus Thuram|for Olivier Gir...   \n",
       "3    ['62&rsquor;|2:0|Lisandro Martínez|for Leandro...   \n",
       "4    ['57&rsquor;|1:0|Achraf Dari|for Romain Saïss'...   \n",
       "..                                                 ...   \n",
       "959                                                NaN   \n",
       "960                                                NaN   \n",
       "961                                                NaN   \n",
       "962                                                NaN   \n",
       "963                                                NaN   \n",
       "\n",
       "                               away_substitute_in_long H_total_score  \\\n",
       "0    ['41&rsquor;|2:0|Randal Kolo Muani|for Ousmane...           7.0   \n",
       "1    ['46&rsquor;|2:1|Ilias Chair|for Abdelhamid Sa...           2.0   \n",
       "2    ['21&rsquor;|1:0|Selim Amallah|for Romain Saïs...           2.0   \n",
       "3    ['46&rsquor;|2:0|Mislav Oršić|for Borna Sosa',...           3.0   \n",
       "4    ['51&rsquor;|1:0|João Cancelo|for Raphaël Guer...           1.0   \n",
       "..                                                 ...           ...   \n",
       "959                                                NaN           1.0   \n",
       "960                                                NaN           2.0   \n",
       "961                                                NaN           3.0   \n",
       "962                                                NaN           3.0   \n",
       "963                                                NaN           4.0   \n",
       "\n",
       "    A_total_score   home_goals away_goals      Knockouts  \n",
       "0             5.0       36,108         81      knockouts  \n",
       "1             1.0         7,42          9  Non_knockouts  \n",
       "2             0.0         5,79                 knockouts  \n",
       "3             0.0        39,69                 knockouts  \n",
       "4             0.0           42                 knockouts  \n",
       "..            ...          ...        ...            ...  \n",
       "959           0.0           81             Non_knockouts  \n",
       "960           1.0        21,30         62  Non_knockouts  \n",
       "961           1.0      1,79,89         75  Non_knockouts  \n",
       "962           0.0     23,45,69             Non_knockouts  \n",
       "963           1.0  19,40,43,87         70  Non_knockouts  \n",
       "\n",
       "[964 rows x 49 columns]"
      ]
     },
     "execution_count": 2626,
     "metadata": {},
     "output_type": "execute_result"
    }
   ],
   "source": [
    "matches"
   ]
  },
  {
   "cell_type": "code",
   "execution_count": 2627,
   "metadata": {},
   "outputs": [],
   "source": [
    "# Here i change the country again for my convinence\n",
    "country= 'Mexico'"
   ]
  },
  {
   "cell_type": "code",
   "execution_count": 2628,
   "metadata": {},
   "outputs": [],
   "source": [
    "home_team_knockouts = matches[(matches['home_team']==country) & (matches['Knockouts'] == \"knockouts\")]\n",
    "away_team_knockouts = matches[(matches['away_team']==country) & (matches['Knockouts'] == \"knockouts\")]\n",
    "\n",
    "\n",
    "home_team_Non_knockouts = matches[(matches['home_team']==country) & (matches['Knockouts'] == \"Non_knockouts\")]\n",
    "away_team_Non_knockouts = matches[(matches['away_team']==country) & (matches['Knockouts'] == \"Non_knockouts\")]\n"
   ]
  },
  {
   "cell_type": "markdown",
   "metadata": {},
   "source": [
    "# For Knockouts"
   ]
  },
  {
   "cell_type": "code",
   "execution_count": 2629,
   "metadata": {},
   "outputs": [],
   "source": [
    "a = home_team_knockouts['home_goals'].str.split(',').explode().reset_index()\n",
    "b = away_team_knockouts['away_goals'].str.split(',').explode().reset_index()\n",
    "df1 = pd.concat([a,b],axis= 0 , ignore_index = True)\n",
    "df1.replace('' , 0 , regex=True , inplace=True)\n",
    "df1.fillna(0 , inplace=True)\n",
    "\n",
    "\n",
    "df1['home_goals'] = df1['home_goals'].astype(int)\n",
    "df1['away_goals'] = df1['away_goals'].astype(int)\n",
    "df1['Time'] = df1['home_goals'] + df1['away_goals']\n",
    "df1 = df1[df1['Time'] != 0]\n",
    "def half_time(row):\n",
    "  if (row['Time'] < 45 ) :\n",
    "    return \"First_half\"\n",
    "  elif (row['Time'] >= 45 & row['Time'] <= 90 ):\n",
    "    return 'Second_Half'\n",
    "  else :\n",
    "    return 'Extra_Time' \n",
    "\n",
    "  \n",
    "  "
   ]
  },
  {
   "cell_type": "code",
   "execution_count": 2630,
   "metadata": {},
   "outputs": [
    {
     "name": "stdout",
     "output_type": "stream",
     "text": [
      "(1,)\n"
     ]
    }
   ],
   "source": [
    "df12 = df1.apply(half_time , axis = 1) \n",
    "print(df12.shape)"
   ]
  },
  {
   "cell_type": "markdown",
   "metadata": {},
   "source": [
    "# For non_knocOuts"
   ]
  },
  {
   "cell_type": "code",
   "execution_count": 2631,
   "metadata": {},
   "outputs": [],
   "source": [
    "a = home_team_Non_knockouts['home_goals'].str.split(',').explode().reset_index()\n",
    "b = away_team_Non_knockouts['away_goals'].str.split(',').explode().reset_index()\n",
    "df2 = pd.concat([a,b],axis= 0 , ignore_index = True)\n",
    "df2.replace('' , 0 , regex=True , inplace=True)\n",
    "df2.fillna(0 , inplace=True)\n",
    "\n",
    "\n",
    "df2['home_goals'] = df2['home_goals'].astype(int)\n",
    "df2['away_goals'] = df2['away_goals'].astype(int)\n",
    "df2['Time'] = df2['home_goals'] + df2['away_goals']\n",
    "df2 = df2[df2['Time'] != 0]\n",
    "def half_time(row):\n",
    "  if (row['Time'] < 45 ) :\n",
    "    return \"First_half\"\n",
    "  elif (row['Time'] >= 45 & row['Time'] <= 90 ):\n",
    "    return 'Second_Half'\n",
    "  else :\n",
    "    return 'Extra_Time' \n",
    "def half_time(row):\n",
    "  if (row['Time'] < 45 ) :\n",
    "    return \"First_half\"\n",
    "  elif (row['Time'] >= 45 & row['Time'] <= 90 ):\n",
    "    return 'Second_Half'\n",
    "  else :\n",
    "    return 'Extra_Time' \n",
    "\n",
    "  "
   ]
  },
  {
   "cell_type": "code",
   "execution_count": 2632,
   "metadata": {},
   "outputs": [
    {
     "data": {
      "text/plain": [
       "Time\n",
       "Second_Half    74.509804\n",
       "First_half     25.490196\n",
       "Name: count, dtype: float64"
      ]
     },
     "execution_count": 2632,
     "metadata": {},
     "output_type": "execute_result"
    }
   ],
   "source": [
    "df2['Time'] = df2.apply(half_time , axis = 1) \n",
    "df2['Time'].value_counts()/len(df2) * 100"
   ]
  },
  {
   "cell_type": "markdown",
   "metadata": {},
   "source": [
    "# CONCLUSION\n",
    "->Generally teams play more agressive in 2nd half as compared to first half be it knockout or non- knockout tournaments.\n",
    "\n",
    "-> In knockout Tournaments , Mexico only scored in First half, either they are defending in second half and maintaining the lead.\n",
    "-> In knockout Tournaments , Mexico only scored in First half, either they are defending in second half and maintaining the lead.\n",
    "\n",
    "-> In knockout Tournaments countries Romaniya , Pero play with same agression in both the halves of the game.\n",
    "\n",
    "-> Spain have very different strategy they place with almost equal agression in non knockout matches , however in knowckout matches they follow different plan , on first half they are into passive state (not scoring much) , however in second half they retaliate very voilently. Infact goals scored by them in first half and extra time are equal in number.\n",
    "\n",
    "-> Canada never reached a knowckout stage , and even in non knockout stages they never scored a goal in second half. This can be their scope of improvement area , as they not scoring in the second half may be the reason they never made it to knockouts."
   ]
  },
  {
   "cell_type": "markdown",
   "metadata": {},
   "source": [
    "# Does substitution player is fruitefull or not?\n",
    "fruitefull ->  substituition player make score or after team scored in increased"
   ]
  },
  {
   "cell_type": "code",
   "execution_count": 2633,
   "metadata": {},
   "outputs": [],
   "source": [
    "matches_df = pd.read_csv('matches_1930_2022 - matches_1930_2022.csv.csv')"
   ]
  },
  {
   "cell_type": "code",
   "execution_count": 2634,
   "metadata": {},
   "outputs": [],
   "source": [
    "# Parse substituion column function\n",
    "def parse_substitution_data(subs):\n",
    "    if pd.isna(subs):\n",
    "        return []\n",
    "    pattern = r\"(\\d+)&rsquor;\\|(.+?)\\|for (.+?)(?=\\||$)\"\n",
    "    matches = re.findall(pattern, subs)   #return a tuple , of time , player in ,player out.\n",
    "    return [{'minute': int(match[0]), 'player_in': match[1], 'player_out': match[2]} for match in matches]"
   ]
  },
  {
   "cell_type": "code",
   "execution_count": 2635,
   "metadata": {},
   "outputs": [
    {
     "data": {
      "text/plain": [
       "[{'minute': 64,\n",
       "  'player_in': '2:0|Marcos Acuña',\n",
       "  'player_out': \"Ángel Di María', '91&rsquor;\"},\n",
       " {'minute': 102,\n",
       "  'player_in': '2:2|Leandro Paredes',\n",
       "  'player_out': \"Rodrigo De Paul', '103&rsquor;\"},\n",
       " {'minute': 116,\n",
       "  'player_in': '3:2|Germán Pezzella',\n",
       "  'player_out': \"Alexis Mac Allister', '120+1&rsquor;\"}]"
      ]
     },
     "execution_count": 2635,
     "metadata": {},
     "output_type": "execute_result"
    }
   ],
   "source": [
    "matches_df['home_substitute_in_long'].apply(parse_substitution_data)[0]"
   ]
  },
  {
   "cell_type": "code",
   "execution_count": 2636,
   "metadata": {},
   "outputs": [],
   "source": [
    "matches_df['home_substitutions'] = matches_df['home_substitute_in_long'].apply(parse_substitution_data)\n",
    "matches_df['away_substitutions'] = matches_df['away_substitute_in_long'].apply(parse_substitution_data)"
   ]
  },
  {
   "cell_type": "code",
   "execution_count": 2637,
   "metadata": {},
   "outputs": [],
   "source": [
    "# Parsing Goal Data\n",
    "def  parse_goal_data(goals):\n",
    "  if pd.isna(goals):\n",
    "    return []\n",
    "\n",
    "\n",
    "  goal_list = goals.split('|')\n",
    "  parsed_goals=[]\n",
    "  for goal in goal_list:\n",
    "    parts= goal.split('·')   #middle dot or interpunct  (alt+0183)[ number pad]\n",
    "    if(len(parts)==2):\n",
    "        try:\n",
    "           minute = int(parts[1].strip())\n",
    "           scorer= parts[0].strip()\n",
    "           parsed_goals.append({'minute': minute, 'scorer': scorer})\n",
    "        except ValueError:\n",
    "          pass\n",
    "  return parsed_goals\n"
   ]
  },
  {
   "cell_type": "code",
   "execution_count": 2638,
   "metadata": {},
   "outputs": [],
   "source": [
    "matches_df['home_goal_details']=matches['home_goal'].apply(parse_goal_data)\n",
    "matches_df['away_goal_details']=matches['away_goal'].apply(parse_goal_data)"
   ]
  },
  {
   "cell_type": "code",
   "execution_count": 2639,
   "metadata": {},
   "outputs": [],
   "source": [
    "def filter_matches_for_team(df, team_name):\n",
    "  team_matches= df[(df['home_team'] == team_name) | (df['away_team'] == team_name)].copy()\n",
    "  return team_matches"
   ]
  },
  {
   "cell_type": "code",
   "execution_count": 2640,
   "metadata": {},
   "outputs": [],
   "source": [
    "team_name= 'Germany'\n",
    "team_matches_df= filter_matches_for_team(matches_df, team_name)"
   ]
  },
  {
   "cell_type": "code",
   "execution_count": 2641,
   "metadata": {},
   "outputs": [],
   "source": [
    "# if substituted Player scored a goal\n",
    "# we will create two functions.\n",
    "\n",
    "#subs- list {substituions}\n",
    "#goals- list {goals}\n",
    "\n",
    "def check_substitute_goals(subs, goals):\n",
    "    if not subs:\n",
    "        return\n",
    "    for sub in subs:\n",
    "        if any(goal['scorer'] == sub['player_in'] for goal in goals):\n",
    "            return True\n",
    "    return False\n",
    "\n",
    "\n",
    "\n",
    "def check_team_substitute_goals(row, team_name):\n",
    "    if row['home_team'] == team_name:\n",
    "        return check_substitute_goals(row['home_substitutions'], row['home_goal_details'])\n",
    "    elif row['away_team'] == team_name:\n",
    "        return check_substitute_goals(row['away_substitutions'], row['away_goal_details'])\n",
    "    return False"
   ]
  },
  {
   "cell_type": "code",
   "execution_count": 2642,
   "metadata": {},
   "outputs": [],
   "source": [
    "# Determine if substitution improved the score\n",
    "def check_substitution_impact(row, team_name):\n",
    "    if row['home_team'] == team_name:\n",
    "        subs = row['home_substitutions']\n",
    "        goals_before = [goal for goal in row['home_goal_details'] if subs and goal['minute'] <= subs[0]['minute']] if subs else []\n",
    "        goals_after = [goal for goal in row['home_goal_details'] if subs and goal['minute'] > subs[0]['minute']] if subs else []\n",
    "    elif row['away_team'] == team_name:\n",
    "        subs = row['away_substitutions']\n",
    "        goals_before = [goal for goal in row['away_goal_details'] if subs and goal['minute'] <= subs[0]['minute']] if subs else []\n",
    "        goals_after = [goal for goal in row['away_goal_details'] if subs and goal['minute'] > subs[0]['minute']] if subs else []\n",
    "    else:\n",
    "        return False\n",
    "\n",
    "\n",
    "    return len(goals_after) > len(goals_before)"
   ]
  },
  {
   "cell_type": "code",
   "execution_count": 2643,
   "metadata": {},
   "outputs": [],
   "source": [
    "team_matches_df['substitution_impact'] = team_matches_df.apply(lambda row: check_substitution_impact(row, team_name), axis=1)\n",
    "team_matches_df['substitute_goals'] = team_matches_df.apply(lambda row: check_team_substitute_goals(row, team_name), axis=1)"
   ]
  },
  {
   "cell_type": "code",
   "execution_count": 2644,
   "metadata": {},
   "outputs": [],
   "source": [
    "match_summaries = []\n",
    "\n",
    "for index, row in team_matches_df.iterrows():\n",
    "    match_summary = {\n",
    "        'Match': f\"{row['home_team']} vs {row['away_team']}\",\n",
    "        'Date': row['Date'],\n",
    "        'Substitute Scored': row['substitute_goals'],\n",
    "        'Substitution Impact': row['substitution_impact']\n",
    "    }\n",
    "    match_summaries.append(match_summary)"
   ]
  },
  {
   "cell_type": "code",
   "execution_count": 2645,
   "metadata": {},
   "outputs": [],
   "source": [
    "summary_df = pd.DataFrame(match_summaries)"
   ]
  },
  {
   "cell_type": "code",
   "execution_count": 2646,
   "metadata": {},
   "outputs": [
    {
     "name": "stdout",
     "output_type": "stream",
     "text": [
      "Substitute Scored\n",
      "False    44\n",
      "Name: count, dtype: int64\n",
      "***\n",
      "Substitution Impact\n",
      "False    41\n",
      "True     15\n",
      "Name: count, dtype: int64\n"
     ]
    }
   ],
   "source": [
    "print(summary_df['Substitute Scored'].value_counts())\n",
    "print('***')\n",
    "print(summary_df['Substitution Impact'].value_counts())"
   ]
  },
  {
   "cell_type": "markdown",
   "metadata": {},
   "source": [
    "# CONCLUSIONS\n",
    "No Team substituted player scored goal in FIFA.\n",
    "\n",
    "Teams like France , Argentina , Portugal , Australia , Germany , Spain , Netherland have very high or positive impact of subsutituion on overall score of the team.\n",
    "\n",
    "Positive impact of the substituion signifies that these teams have a strong management that act accourdingly , as these teams are also the top teams of FIFA, these effective substution may be one of the reason why these teams are most favourite teams of the world.\n",
    "\n",
    "A team can rely on substituted player for overall improvement of score but not for the goals to be scored by substituted player."
   ]
  },
  {
   "cell_type": "code",
   "execution_count": 2647,
   "metadata": {},
   "outputs": [],
   "source": [
    "# Now we calculate the actual performance vs predicted performance\n",
    "#Calculate expected goals  and total goals for  each team\n",
    "\n",
    "home_team_stats= matches.groupby(['home_team','Year']).agg({\n",
    "    'home_score':'sum',\n",
    "    'home_xg' :'sum'\n",
    "}).rename(columns={'home_score':'Total_goals'})\n",
    "\n",
    "away_team_stats= matches.groupby(['away_team','Year']).agg({\n",
    "    'away_score':'sum',\n",
    "    'away_xg' :'sum'\n",
    "}).rename(columns={'away_score':'Total_goals'})"
   ]
  },
  {
   "cell_type": "code",
   "execution_count": 2648,
   "metadata": {},
   "outputs": [],
   "source": [
    "home_team_stats= home_team_stats.reset_index()\n",
    "away_team_stats= away_team_stats.reset_index()\n",
    "\n",
    "\n",
    "home_team_stats= home_team_stats[(home_team_stats['Year']==2018 )|(home_team_stats['Year']==2022)]\n",
    "away_team_stats= away_team_stats[(away_team_stats['Year']==2018 )|(away_team_stats['Year']==2022)]"
   ]
  },
  {
   "cell_type": "code",
   "execution_count": 2649,
   "metadata": {},
   "outputs": [],
   "source": [
    "away_team_stats.rename(columns={'away_team':'team'} , inplace= True)\n",
    "home_team_stats.rename(columns={'home_team':'team'} , inplace= True)"
   ]
  },
  {
   "cell_type": "code",
   "execution_count": 2650,
   "metadata": {},
   "outputs": [
    {
     "data": {
      "text/html": [
       "<div>\n",
       "<style scoped>\n",
       "    .dataframe tbody tr th:only-of-type {\n",
       "        vertical-align: middle;\n",
       "    }\n",
       "\n",
       "    .dataframe tbody tr th {\n",
       "        vertical-align: top;\n",
       "    }\n",
       "\n",
       "    .dataframe thead th {\n",
       "        text-align: right;\n",
       "    }\n",
       "</style>\n",
       "<table border=\"1\" class=\"dataframe\">\n",
       "  <thead>\n",
       "    <tr style=\"text-align: right;\">\n",
       "      <th></th>\n",
       "      <th>team</th>\n",
       "      <th>Year</th>\n",
       "      <th>Total_goals</th>\n",
       "      <th>home_xg</th>\n",
       "    </tr>\n",
       "  </thead>\n",
       "  <tbody>\n",
       "    <tr>\n",
       "      <th>20</th>\n",
       "      <td>Argentina</td>\n",
       "      <td>2018</td>\n",
       "      <td>1</td>\n",
       "      <td>3.2</td>\n",
       "    </tr>\n",
       "    <tr>\n",
       "      <th>21</th>\n",
       "      <td>Argentina</td>\n",
       "      <td>2022</td>\n",
       "      <td>11</td>\n",
       "      <td>9.7</td>\n",
       "    </tr>\n",
       "    <tr>\n",
       "      <th>26</th>\n",
       "      <td>Australia</td>\n",
       "      <td>2018</td>\n",
       "      <td>0</td>\n",
       "      <td>0.9</td>\n",
       "    </tr>\n",
       "    <tr>\n",
       "      <th>27</th>\n",
       "      <td>Australia</td>\n",
       "      <td>2022</td>\n",
       "      <td>1</td>\n",
       "      <td>0.6</td>\n",
       "    </tr>\n",
       "    <tr>\n",
       "      <th>41</th>\n",
       "      <td>Belgium</td>\n",
       "      <td>2018</td>\n",
       "      <td>13</td>\n",
       "      <td>11.2</td>\n",
       "    </tr>\n",
       "    <tr>\n",
       "      <th>...</th>\n",
       "      <td>...</td>\n",
       "      <td>...</td>\n",
       "      <td>...</td>\n",
       "      <td>...</td>\n",
       "    </tr>\n",
       "    <tr>\n",
       "      <th>381</th>\n",
       "      <td>Tunisia</td>\n",
       "      <td>2022</td>\n",
       "      <td>1</td>\n",
       "      <td>1.4</td>\n",
       "    </tr>\n",
       "    <tr>\n",
       "      <th>395</th>\n",
       "      <td>United States</td>\n",
       "      <td>2022</td>\n",
       "      <td>1</td>\n",
       "      <td>0.8</td>\n",
       "    </tr>\n",
       "    <tr>\n",
       "      <th>408</th>\n",
       "      <td>Uruguay</td>\n",
       "      <td>2018</td>\n",
       "      <td>6</td>\n",
       "      <td>5.6</td>\n",
       "    </tr>\n",
       "    <tr>\n",
       "      <th>409</th>\n",
       "      <td>Uruguay</td>\n",
       "      <td>2022</td>\n",
       "      <td>0</td>\n",
       "      <td>0.6</td>\n",
       "    </tr>\n",
       "    <tr>\n",
       "      <th>411</th>\n",
       "      <td>Wales</td>\n",
       "      <td>2022</td>\n",
       "      <td>0</td>\n",
       "      <td>1.2</td>\n",
       "    </tr>\n",
       "  </tbody>\n",
       "</table>\n",
       "<p>64 rows × 4 columns</p>\n",
       "</div>"
      ],
      "text/plain": [
       "              team  Year  Total_goals  home_xg\n",
       "20       Argentina  2018            1      3.2\n",
       "21       Argentina  2022           11      9.7\n",
       "26       Australia  2018            0      0.9\n",
       "27       Australia  2022            1      0.6\n",
       "41         Belgium  2018           13     11.2\n",
       "..             ...   ...          ...      ...\n",
       "381        Tunisia  2022            1      1.4\n",
       "395  United States  2022            1      0.8\n",
       "408        Uruguay  2018            6      5.6\n",
       "409        Uruguay  2022            0      0.6\n",
       "411          Wales  2022            0      1.2\n",
       "\n",
       "[64 rows x 4 columns]"
      ]
     },
     "execution_count": 2650,
     "metadata": {},
     "output_type": "execute_result"
    }
   ],
   "source": [
    "home_team_stats"
   ]
  },
  {
   "cell_type": "code",
   "execution_count": 2651,
   "metadata": {},
   "outputs": [
    {
     "data": {
      "text/html": [
       "<div>\n",
       "<style scoped>\n",
       "    .dataframe tbody tr th:only-of-type {\n",
       "        vertical-align: middle;\n",
       "    }\n",
       "\n",
       "    .dataframe tbody tr th {\n",
       "        vertical-align: top;\n",
       "    }\n",
       "\n",
       "    .dataframe thead th {\n",
       "        text-align: right;\n",
       "    }\n",
       "</style>\n",
       "<table border=\"1\" class=\"dataframe\">\n",
       "  <thead>\n",
       "    <tr style=\"text-align: right;\">\n",
       "      <th></th>\n",
       "      <th>team</th>\n",
       "      <th>Year</th>\n",
       "      <th>Total_goals</th>\n",
       "      <th>away_xg</th>\n",
       "    </tr>\n",
       "  </thead>\n",
       "  <tbody>\n",
       "    <tr>\n",
       "      <th>21</th>\n",
       "      <td>Argentina</td>\n",
       "      <td>2018</td>\n",
       "      <td>5</td>\n",
       "      <td>1.7</td>\n",
       "    </tr>\n",
       "    <tr>\n",
       "      <th>22</th>\n",
       "      <td>Argentina</td>\n",
       "      <td>2022</td>\n",
       "      <td>4</td>\n",
       "      <td>5.4</td>\n",
       "    </tr>\n",
       "    <tr>\n",
       "      <th>27</th>\n",
       "      <td>Australia</td>\n",
       "      <td>2018</td>\n",
       "      <td>2</td>\n",
       "      <td>2.3</td>\n",
       "    </tr>\n",
       "    <tr>\n",
       "      <th>28</th>\n",
       "      <td>Australia</td>\n",
       "      <td>2022</td>\n",
       "      <td>3</td>\n",
       "      <td>1.7</td>\n",
       "    </tr>\n",
       "    <tr>\n",
       "      <th>48</th>\n",
       "      <td>Belgium</td>\n",
       "      <td>2018</td>\n",
       "      <td>3</td>\n",
       "      <td>2.2</td>\n",
       "    </tr>\n",
       "    <tr>\n",
       "      <th>...</th>\n",
       "      <td>...</td>\n",
       "      <td>...</td>\n",
       "      <td>...</td>\n",
       "      <td>...</td>\n",
       "    </tr>\n",
       "    <tr>\n",
       "      <th>425</th>\n",
       "      <td>Tunisia</td>\n",
       "      <td>2022</td>\n",
       "      <td>0</td>\n",
       "      <td>0.9</td>\n",
       "    </tr>\n",
       "    <tr>\n",
       "      <th>440</th>\n",
       "      <td>United States</td>\n",
       "      <td>2022</td>\n",
       "      <td>2</td>\n",
       "      <td>3.3</td>\n",
       "    </tr>\n",
       "    <tr>\n",
       "      <th>451</th>\n",
       "      <td>Uruguay</td>\n",
       "      <td>2018</td>\n",
       "      <td>1</td>\n",
       "      <td>1.6</td>\n",
       "    </tr>\n",
       "    <tr>\n",
       "      <th>452</th>\n",
       "      <td>Uruguay</td>\n",
       "      <td>2022</td>\n",
       "      <td>2</td>\n",
       "      <td>3.1</td>\n",
       "    </tr>\n",
       "    <tr>\n",
       "      <th>454</th>\n",
       "      <td>Wales</td>\n",
       "      <td>2022</td>\n",
       "      <td>1</td>\n",
       "      <td>1.5</td>\n",
       "    </tr>\n",
       "  </tbody>\n",
       "</table>\n",
       "<p>64 rows × 4 columns</p>\n",
       "</div>"
      ],
      "text/plain": [
       "              team  Year  Total_goals  away_xg\n",
       "21       Argentina  2018            5      1.7\n",
       "22       Argentina  2022            4      5.4\n",
       "27       Australia  2018            2      2.3\n",
       "28       Australia  2022            3      1.7\n",
       "48         Belgium  2018            3      2.2\n",
       "..             ...   ...          ...      ...\n",
       "425        Tunisia  2022            0      0.9\n",
       "440  United States  2022            2      3.3\n",
       "451        Uruguay  2018            1      1.6\n",
       "452        Uruguay  2022            2      3.1\n",
       "454          Wales  2022            1      1.5\n",
       "\n",
       "[64 rows x 4 columns]"
      ]
     },
     "execution_count": 2651,
     "metadata": {},
     "output_type": "execute_result"
    }
   ],
   "source": [
    "away_team_stats"
   ]
  },
  {
   "cell_type": "code",
   "execution_count": 2652,
   "metadata": {},
   "outputs": [],
   "source": [
    "merged = pd.merge(home_team_stats , away_team_stats  , on=['team' , 'Year'], how = 'inner')"
   ]
  },
  {
   "cell_type": "code",
   "execution_count": 2653,
   "metadata": {},
   "outputs": [
    {
     "data": {
      "text/html": [
       "<div>\n",
       "<style scoped>\n",
       "    .dataframe tbody tr th:only-of-type {\n",
       "        vertical-align: middle;\n",
       "    }\n",
       "\n",
       "    .dataframe tbody tr th {\n",
       "        vertical-align: top;\n",
       "    }\n",
       "\n",
       "    .dataframe thead th {\n",
       "        text-align: right;\n",
       "    }\n",
       "</style>\n",
       "<table border=\"1\" class=\"dataframe\">\n",
       "  <thead>\n",
       "    <tr style=\"text-align: right;\">\n",
       "      <th></th>\n",
       "      <th>team</th>\n",
       "      <th>Year</th>\n",
       "      <th>Total_goals_x</th>\n",
       "      <th>home_xg</th>\n",
       "      <th>Total_goals_y</th>\n",
       "      <th>away_xg</th>\n",
       "    </tr>\n",
       "  </thead>\n",
       "  <tbody>\n",
       "    <tr>\n",
       "      <th>0</th>\n",
       "      <td>Argentina</td>\n",
       "      <td>2018</td>\n",
       "      <td>1</td>\n",
       "      <td>3.2</td>\n",
       "      <td>5</td>\n",
       "      <td>1.7</td>\n",
       "    </tr>\n",
       "    <tr>\n",
       "      <th>1</th>\n",
       "      <td>Argentina</td>\n",
       "      <td>2022</td>\n",
       "      <td>11</td>\n",
       "      <td>9.7</td>\n",
       "      <td>4</td>\n",
       "      <td>5.4</td>\n",
       "    </tr>\n",
       "    <tr>\n",
       "      <th>2</th>\n",
       "      <td>Australia</td>\n",
       "      <td>2018</td>\n",
       "      <td>0</td>\n",
       "      <td>0.9</td>\n",
       "      <td>2</td>\n",
       "      <td>2.3</td>\n",
       "    </tr>\n",
       "    <tr>\n",
       "      <th>3</th>\n",
       "      <td>Australia</td>\n",
       "      <td>2022</td>\n",
       "      <td>1</td>\n",
       "      <td>0.6</td>\n",
       "      <td>3</td>\n",
       "      <td>1.7</td>\n",
       "    </tr>\n",
       "    <tr>\n",
       "      <th>4</th>\n",
       "      <td>Belgium</td>\n",
       "      <td>2018</td>\n",
       "      <td>13</td>\n",
       "      <td>11.2</td>\n",
       "      <td>3</td>\n",
       "      <td>2.2</td>\n",
       "    </tr>\n",
       "    <tr>\n",
       "      <th>...</th>\n",
       "      <td>...</td>\n",
       "      <td>...</td>\n",
       "      <td>...</td>\n",
       "      <td>...</td>\n",
       "      <td>...</td>\n",
       "      <td>...</td>\n",
       "    </tr>\n",
       "    <tr>\n",
       "      <th>59</th>\n",
       "      <td>Tunisia</td>\n",
       "      <td>2022</td>\n",
       "      <td>1</td>\n",
       "      <td>1.4</td>\n",
       "      <td>0</td>\n",
       "      <td>0.9</td>\n",
       "    </tr>\n",
       "    <tr>\n",
       "      <th>60</th>\n",
       "      <td>United States</td>\n",
       "      <td>2022</td>\n",
       "      <td>1</td>\n",
       "      <td>0.8</td>\n",
       "      <td>2</td>\n",
       "      <td>3.3</td>\n",
       "    </tr>\n",
       "    <tr>\n",
       "      <th>61</th>\n",
       "      <td>Uruguay</td>\n",
       "      <td>2018</td>\n",
       "      <td>6</td>\n",
       "      <td>5.6</td>\n",
       "      <td>1</td>\n",
       "      <td>1.6</td>\n",
       "    </tr>\n",
       "    <tr>\n",
       "      <th>62</th>\n",
       "      <td>Uruguay</td>\n",
       "      <td>2022</td>\n",
       "      <td>0</td>\n",
       "      <td>0.6</td>\n",
       "      <td>2</td>\n",
       "      <td>3.1</td>\n",
       "    </tr>\n",
       "    <tr>\n",
       "      <th>63</th>\n",
       "      <td>Wales</td>\n",
       "      <td>2022</td>\n",
       "      <td>0</td>\n",
       "      <td>1.2</td>\n",
       "      <td>1</td>\n",
       "      <td>1.5</td>\n",
       "    </tr>\n",
       "  </tbody>\n",
       "</table>\n",
       "<p>64 rows × 6 columns</p>\n",
       "</div>"
      ],
      "text/plain": [
       "             team  Year  Total_goals_x  home_xg  Total_goals_y  away_xg\n",
       "0       Argentina  2018              1      3.2              5      1.7\n",
       "1       Argentina  2022             11      9.7              4      5.4\n",
       "2       Australia  2018              0      0.9              2      2.3\n",
       "3       Australia  2022              1      0.6              3      1.7\n",
       "4         Belgium  2018             13     11.2              3      2.2\n",
       "..            ...   ...            ...      ...            ...      ...\n",
       "59        Tunisia  2022              1      1.4              0      0.9\n",
       "60  United States  2022              1      0.8              2      3.3\n",
       "61        Uruguay  2018              6      5.6              1      1.6\n",
       "62        Uruguay  2022              0      0.6              2      3.1\n",
       "63          Wales  2022              0      1.2              1      1.5\n",
       "\n",
       "[64 rows x 6 columns]"
      ]
     },
     "execution_count": 2653,
     "metadata": {},
     "output_type": "execute_result"
    }
   ],
   "source": [
    "merged"
   ]
  },
  {
   "cell_type": "code",
   "execution_count": 2654,
   "metadata": {},
   "outputs": [],
   "source": [
    "merged['Toatal_goals'] = merged['Total_goals_x'] + merged['Total_goals_y']\n",
    "merged['Toatal_expected_goals'] = merged['home_xg'] + merged['away_xg']\n",
    "merged['Deviation']=merged['Toatal_goals']-merged['Toatal_expected_goals']"
   ]
  },
  {
   "cell_type": "code",
   "execution_count": 2655,
   "metadata": {},
   "outputs": [
    {
     "data": {
      "text/html": [
       "<div>\n",
       "<style scoped>\n",
       "    .dataframe tbody tr th:only-of-type {\n",
       "        vertical-align: middle;\n",
       "    }\n",
       "\n",
       "    .dataframe tbody tr th {\n",
       "        vertical-align: top;\n",
       "    }\n",
       "\n",
       "    .dataframe thead th {\n",
       "        text-align: right;\n",
       "    }\n",
       "</style>\n",
       "<table border=\"1\" class=\"dataframe\">\n",
       "  <thead>\n",
       "    <tr style=\"text-align: right;\">\n",
       "      <th></th>\n",
       "      <th>team</th>\n",
       "      <th>Year</th>\n",
       "      <th>Total_goals_x</th>\n",
       "      <th>home_xg</th>\n",
       "      <th>Total_goals_y</th>\n",
       "      <th>away_xg</th>\n",
       "      <th>Toatal_goals</th>\n",
       "      <th>Toatal_expected_goals</th>\n",
       "      <th>Deviation</th>\n",
       "    </tr>\n",
       "  </thead>\n",
       "  <tbody>\n",
       "    <tr>\n",
       "      <th>0</th>\n",
       "      <td>Argentina</td>\n",
       "      <td>2018</td>\n",
       "      <td>1</td>\n",
       "      <td>3.2</td>\n",
       "      <td>5</td>\n",
       "      <td>1.7</td>\n",
       "      <td>6</td>\n",
       "      <td>4.9</td>\n",
       "      <td>1.1</td>\n",
       "    </tr>\n",
       "    <tr>\n",
       "      <th>1</th>\n",
       "      <td>Argentina</td>\n",
       "      <td>2022</td>\n",
       "      <td>11</td>\n",
       "      <td>9.7</td>\n",
       "      <td>4</td>\n",
       "      <td>5.4</td>\n",
       "      <td>15</td>\n",
       "      <td>15.1</td>\n",
       "      <td>-0.1</td>\n",
       "    </tr>\n",
       "    <tr>\n",
       "      <th>2</th>\n",
       "      <td>Australia</td>\n",
       "      <td>2018</td>\n",
       "      <td>0</td>\n",
       "      <td>0.9</td>\n",
       "      <td>2</td>\n",
       "      <td>2.3</td>\n",
       "      <td>2</td>\n",
       "      <td>3.2</td>\n",
       "      <td>-1.2</td>\n",
       "    </tr>\n",
       "    <tr>\n",
       "      <th>3</th>\n",
       "      <td>Australia</td>\n",
       "      <td>2022</td>\n",
       "      <td>1</td>\n",
       "      <td>0.6</td>\n",
       "      <td>3</td>\n",
       "      <td>1.7</td>\n",
       "      <td>4</td>\n",
       "      <td>2.3</td>\n",
       "      <td>1.7</td>\n",
       "    </tr>\n",
       "    <tr>\n",
       "      <th>4</th>\n",
       "      <td>Belgium</td>\n",
       "      <td>2018</td>\n",
       "      <td>13</td>\n",
       "      <td>11.2</td>\n",
       "      <td>3</td>\n",
       "      <td>2.2</td>\n",
       "      <td>16</td>\n",
       "      <td>13.4</td>\n",
       "      <td>2.6</td>\n",
       "    </tr>\n",
       "    <tr>\n",
       "      <th>...</th>\n",
       "      <td>...</td>\n",
       "      <td>...</td>\n",
       "      <td>...</td>\n",
       "      <td>...</td>\n",
       "      <td>...</td>\n",
       "      <td>...</td>\n",
       "      <td>...</td>\n",
       "      <td>...</td>\n",
       "      <td>...</td>\n",
       "    </tr>\n",
       "    <tr>\n",
       "      <th>59</th>\n",
       "      <td>Tunisia</td>\n",
       "      <td>2022</td>\n",
       "      <td>1</td>\n",
       "      <td>1.4</td>\n",
       "      <td>0</td>\n",
       "      <td>0.9</td>\n",
       "      <td>1</td>\n",
       "      <td>2.3</td>\n",
       "      <td>-1.3</td>\n",
       "    </tr>\n",
       "    <tr>\n",
       "      <th>60</th>\n",
       "      <td>United States</td>\n",
       "      <td>2022</td>\n",
       "      <td>1</td>\n",
       "      <td>0.8</td>\n",
       "      <td>2</td>\n",
       "      <td>3.3</td>\n",
       "      <td>3</td>\n",
       "      <td>4.1</td>\n",
       "      <td>-1.1</td>\n",
       "    </tr>\n",
       "    <tr>\n",
       "      <th>61</th>\n",
       "      <td>Uruguay</td>\n",
       "      <td>2018</td>\n",
       "      <td>6</td>\n",
       "      <td>5.6</td>\n",
       "      <td>1</td>\n",
       "      <td>1.6</td>\n",
       "      <td>7</td>\n",
       "      <td>7.2</td>\n",
       "      <td>-0.2</td>\n",
       "    </tr>\n",
       "    <tr>\n",
       "      <th>62</th>\n",
       "      <td>Uruguay</td>\n",
       "      <td>2022</td>\n",
       "      <td>0</td>\n",
       "      <td>0.6</td>\n",
       "      <td>2</td>\n",
       "      <td>3.1</td>\n",
       "      <td>2</td>\n",
       "      <td>3.7</td>\n",
       "      <td>-1.7</td>\n",
       "    </tr>\n",
       "    <tr>\n",
       "      <th>63</th>\n",
       "      <td>Wales</td>\n",
       "      <td>2022</td>\n",
       "      <td>0</td>\n",
       "      <td>1.2</td>\n",
       "      <td>1</td>\n",
       "      <td>1.5</td>\n",
       "      <td>1</td>\n",
       "      <td>2.7</td>\n",
       "      <td>-1.7</td>\n",
       "    </tr>\n",
       "  </tbody>\n",
       "</table>\n",
       "<p>64 rows × 9 columns</p>\n",
       "</div>"
      ],
      "text/plain": [
       "             team  Year  Total_goals_x  home_xg  Total_goals_y  away_xg  \\\n",
       "0       Argentina  2018              1      3.2              5      1.7   \n",
       "1       Argentina  2022             11      9.7              4      5.4   \n",
       "2       Australia  2018              0      0.9              2      2.3   \n",
       "3       Australia  2022              1      0.6              3      1.7   \n",
       "4         Belgium  2018             13     11.2              3      2.2   \n",
       "..            ...   ...            ...      ...            ...      ...   \n",
       "59        Tunisia  2022              1      1.4              0      0.9   \n",
       "60  United States  2022              1      0.8              2      3.3   \n",
       "61        Uruguay  2018              6      5.6              1      1.6   \n",
       "62        Uruguay  2022              0      0.6              2      3.1   \n",
       "63          Wales  2022              0      1.2              1      1.5   \n",
       "\n",
       "    Toatal_goals  Toatal_expected_goals  Deviation  \n",
       "0              6                    4.9        1.1  \n",
       "1             15                   15.1       -0.1  \n",
       "2              2                    3.2       -1.2  \n",
       "3              4                    2.3        1.7  \n",
       "4             16                   13.4        2.6  \n",
       "..           ...                    ...        ...  \n",
       "59             1                    2.3       -1.3  \n",
       "60             3                    4.1       -1.1  \n",
       "61             7                    7.2       -0.2  \n",
       "62             2                    3.7       -1.7  \n",
       "63             1                    2.7       -1.7  \n",
       "\n",
       "[64 rows x 9 columns]"
      ]
     },
     "execution_count": 2655,
     "metadata": {},
     "output_type": "execute_result"
    }
   ],
   "source": [
    "merged"
   ]
  },
  {
   "cell_type": "markdown",
   "metadata": {},
   "source": [
    "# CONCLUSION.\n",
    "IN 2018 , Argentina Failed to take home advantages and underperformed in home games , However they over performed in non home grounds.\n",
    "\n",
    "In 2018 Russia Was the most attacking team , as they scored 60% more goals then they were expected to score , this may be due to home condition advantage as in 2018 FIFA world cup was in Russia.\n",
    "\n",
    "Russia was also the Underdog Team in 2018 , as it performed much more than expected.\n",
    "\n",
    "Netherland was the underdog team of 2022, it scored 52% more goals than expected.\n",
    "\n",
    "Among top teams Portugal scored 40% more than expected goals.\n",
    "\n",
    "Most Overrated team of 2018 and 2022 was Brazil they scored 32% and 40% less goals than expected in 2018 and 2022 respectively."
   ]
  },
  {
   "cell_type": "code",
   "execution_count": 2656,
   "metadata": {},
   "outputs": [
    {
     "name": "stdout",
     "output_type": "stream",
     "text": [
      "zaeem\n"
     ]
    }
   ],
   "source": [
    "print('zaeem')"
   ]
  },
  {
   "cell_type": "code",
   "execution_count": null,
   "metadata": {},
   "outputs": [],
   "source": []
  }
 ],
 "metadata": {
  "kernelspec": {
   "display_name": "Python 3",
   "language": "python",
   "name": "python3"
  },
  "language_info": {
   "codemirror_mode": {
    "name": "ipython",
    "version": 3
   },
   "file_extension": ".py",
   "mimetype": "text/x-python",
   "name": "python",
   "nbconvert_exporter": "python",
   "pygments_lexer": "ipython3",
   "version": "3.12.0"
  }
 },
 "nbformat": 4,
 "nbformat_minor": 2
}
